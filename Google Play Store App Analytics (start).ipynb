{
 "cells": [
  {
   "cell_type": "markdown",
   "metadata": {
    "dc": {
     "key": "4"
    },
    "id": "-Sxae4jbdiT2",
    "run_control": {
     "frozen": true
    },
    "tags": [
     "context"
    ]
   },
   "source": [
    "# Introduction\n",
    "\n",
    "In this notebook, we will do a comprehensive analysis of the Android app market by comparing thousands of apps in the Google Play store."
   ]
  },
  {
   "cell_type": "markdown",
   "metadata": {
    "id": "sDT5lMxadiT3"
   },
   "source": [
    "# About the Dataset of Google Play Store Apps & Reviews"
   ]
  },
  {
   "cell_type": "markdown",
   "metadata": {
    "id": "5CiydsdNdiT3"
   },
   "source": [
    "**Data Source:** <br>\n",
    "App and review data was scraped from the Google Play Store by Lavanya Gupta in 2018. Original files listed [here](\n",
    "https://www.kaggle.com/lava18/google-play-store-apps)."
   ]
  },
  {
   "cell_type": "markdown",
   "metadata": {
    "id": "BBKBNy4UdiT4"
   },
   "source": [
    "# Import Statements"
   ]
  },
  {
   "cell_type": "code",
   "execution_count": 464,
   "metadata": {
    "executionInfo": {
     "elapsed": 594,
     "status": "ok",
     "timestamp": 1602234478794,
     "user": {
      "displayName": "Philipp Muellauer",
      "photoUrl": "https://lh3.googleusercontent.com/a-/AOh14GjjWitgsmZ0M9Wmzf-SRYD005WcMGhejWWHMUiZnFw=s64",
      "userId": "02749974243016517270"
     },
     "user_tz": -60
    },
    "id": "_5mfFH4_diT4"
   },
   "outputs": [],
   "source": [
    "import pandas as pd\n",
    "import plotly.express as px\n"
   ]
  },
  {
   "cell_type": "markdown",
   "metadata": {
    "id": "KegC9nPDdiT7"
   },
   "source": [
    "# Notebook Presentation"
   ]
  },
  {
   "cell_type": "code",
   "execution_count": 465,
   "metadata": {
    "id": "WPL7rhJndiT7"
   },
   "outputs": [],
   "source": [
    "# Show numeric output in decimal format e.g., 2.15\n",
    "pd.options.display.float_format = '{:,.2f}'.format"
   ]
  },
  {
   "cell_type": "markdown",
   "metadata": {
    "id": "Uc9LOZu9diT-"
   },
   "source": [
    "# Read the Dataset"
   ]
  },
  {
   "cell_type": "code",
   "execution_count": 466,
   "metadata": {
    "colab": {
     "base_uri": "https://localhost:8080/",
     "height": 375
    },
    "executionInfo": {
     "elapsed": 441,
     "status": "error",
     "timestamp": 1602234486357,
     "user": {
      "displayName": "Philipp Muellauer",
      "photoUrl": "https://lh3.googleusercontent.com/a-/AOh14GjjWitgsmZ0M9Wmzf-SRYD005WcMGhejWWHMUiZnFw=s64",
      "userId": "02749974243016517270"
     },
     "user_tz": -60
    },
    "id": "zU0Zisv_diT-",
    "outputId": "f88a917e-30a1-45a4-b17a-ab21e557913c"
   },
   "outputs": [],
   "source": [
    "df_apps = pd.read_csv('apps.csv')"
   ]
  },
  {
   "cell_type": "markdown",
   "metadata": {
    "id": "iKvSUwQldiUA"
   },
   "source": [
    "# Data Cleaning"
   ]
  },
  {
   "cell_type": "markdown",
   "metadata": {
    "id": "MWTzYZIds5L9"
   },
   "source": [
    "**Challenge**: How many rows and columns does `df_apps` have? What are the column names? Look at a random sample of 5 different rows with [.sample()](https://pandas.pydata.org/pandas-docs/stable/reference/api/pandas.DataFrame.sample.html)."
   ]
  },
  {
   "cell_type": "code",
   "execution_count": 467,
   "metadata": {
    "id": "HJI7UsPrnuRf"
   },
   "outputs": [
    {
     "data": {
      "text/plain": [
       "(10841, 12)"
      ]
     },
     "execution_count": 467,
     "metadata": {},
     "output_type": "execute_result"
    }
   ],
   "source": [
    "df_apps.shape"
   ]
  },
  {
   "cell_type": "code",
   "execution_count": 468,
   "metadata": {
    "id": "fKXFjPkmnuYA"
   },
   "outputs": [
    {
     "data": {
      "text/plain": [
       "Index(['App', 'Category', 'Rating', 'Reviews', 'Size_MBs', 'Installs', 'Type',\n",
       "       'Price', 'Content_Rating', 'Genres', 'Last_Updated', 'Android_Ver'],\n",
       "      dtype='object')"
      ]
     },
     "execution_count": 468,
     "metadata": {},
     "output_type": "execute_result"
    }
   ],
   "source": [
    "df_apps.columns"
   ]
  },
  {
   "cell_type": "code",
   "execution_count": 469,
   "metadata": {
    "id": "MUluaHF5nueH"
   },
   "outputs": [
    {
     "data": {
      "text/html": [
       "<div>\n",
       "<style scoped>\n",
       "    .dataframe tbody tr th:only-of-type {\n",
       "        vertical-align: middle;\n",
       "    }\n",
       "\n",
       "    .dataframe tbody tr th {\n",
       "        vertical-align: top;\n",
       "    }\n",
       "\n",
       "    .dataframe thead th {\n",
       "        text-align: right;\n",
       "    }\n",
       "</style>\n",
       "<table border=\"1\" class=\"dataframe\">\n",
       "  <thead>\n",
       "    <tr style=\"text-align: right;\">\n",
       "      <th></th>\n",
       "      <th>App</th>\n",
       "      <th>Category</th>\n",
       "      <th>Rating</th>\n",
       "      <th>Reviews</th>\n",
       "      <th>Size_MBs</th>\n",
       "      <th>Installs</th>\n",
       "      <th>Type</th>\n",
       "      <th>Price</th>\n",
       "      <th>Content_Rating</th>\n",
       "      <th>Genres</th>\n",
       "      <th>Last_Updated</th>\n",
       "      <th>Android_Ver</th>\n",
       "    </tr>\n",
       "  </thead>\n",
       "  <tbody>\n",
       "    <tr>\n",
       "      <th>2800</th>\n",
       "      <td>FL Tax-Verify</td>\n",
       "      <td>BUSINESS</td>\n",
       "      <td>3.80</td>\n",
       "      <td>17</td>\n",
       "      <td>6.10</td>\n",
       "      <td>5,000</td>\n",
       "      <td>Free</td>\n",
       "      <td>0</td>\n",
       "      <td>Everyone</td>\n",
       "      <td>Business</td>\n",
       "      <td>November 9, 2016</td>\n",
       "      <td>4.0 and up</td>\n",
       "    </tr>\n",
       "    <tr>\n",
       "      <th>8649</th>\n",
       "      <td>Dungeon Quest</td>\n",
       "      <td>FAMILY</td>\n",
       "      <td>4.50</td>\n",
       "      <td>244039</td>\n",
       "      <td>46.00</td>\n",
       "      <td>5,000,000</td>\n",
       "      <td>Free</td>\n",
       "      <td>0</td>\n",
       "      <td>Everyone 10+</td>\n",
       "      <td>Role Playing</td>\n",
       "      <td>June 4, 2018</td>\n",
       "      <td>4.0 and up</td>\n",
       "    </tr>\n",
       "    <tr>\n",
       "      <th>3837</th>\n",
       "      <td>Dead Zombie Evil Killer:Axe</td>\n",
       "      <td>GAME</td>\n",
       "      <td>3.90</td>\n",
       "      <td>71</td>\n",
       "      <td>52.00</td>\n",
       "      <td>10,000</td>\n",
       "      <td>Free</td>\n",
       "      <td>0</td>\n",
       "      <td>Teen</td>\n",
       "      <td>Action</td>\n",
       "      <td>December 1, 2016</td>\n",
       "      <td>2.3 and up</td>\n",
       "    </tr>\n",
       "    <tr>\n",
       "      <th>5508</th>\n",
       "      <td>How well do you know me?</td>\n",
       "      <td>GAME</td>\n",
       "      <td>3.90</td>\n",
       "      <td>1290</td>\n",
       "      <td>6.40</td>\n",
       "      <td>100,000</td>\n",
       "      <td>Free</td>\n",
       "      <td>0</td>\n",
       "      <td>Everyone</td>\n",
       "      <td>Word</td>\n",
       "      <td>July 26, 2018</td>\n",
       "      <td>4.1 and up</td>\n",
       "    </tr>\n",
       "    <tr>\n",
       "      <th>88</th>\n",
       "      <td>EW PDF</td>\n",
       "      <td>BOOKS_AND_REFERENCE</td>\n",
       "      <td>NaN</td>\n",
       "      <td>0</td>\n",
       "      <td>8.70</td>\n",
       "      <td>5</td>\n",
       "      <td>Free</td>\n",
       "      <td>0</td>\n",
       "      <td>Everyone</td>\n",
       "      <td>Books &amp; Reference</td>\n",
       "      <td>February 14, 2018</td>\n",
       "      <td>4.4 and up</td>\n",
       "    </tr>\n",
       "  </tbody>\n",
       "</table>\n",
       "</div>"
      ],
      "text/plain": [
       "                              App             Category  Rating  Reviews  \\\n",
       "2800                FL Tax-Verify             BUSINESS    3.80       17   \n",
       "8649                Dungeon Quest               FAMILY    4.50   244039   \n",
       "3837  Dead Zombie Evil Killer:Axe                 GAME    3.90       71   \n",
       "5508     How well do you know me?                 GAME    3.90     1290   \n",
       "88                         EW PDF  BOOKS_AND_REFERENCE     NaN        0   \n",
       "\n",
       "      Size_MBs   Installs  Type Price Content_Rating             Genres  \\\n",
       "2800      6.10      5,000  Free     0       Everyone           Business   \n",
       "8649     46.00  5,000,000  Free     0   Everyone 10+       Role Playing   \n",
       "3837     52.00     10,000  Free     0           Teen             Action   \n",
       "5508      6.40    100,000  Free     0       Everyone               Word   \n",
       "88        8.70          5  Free     0       Everyone  Books & Reference   \n",
       "\n",
       "           Last_Updated Android_Ver  \n",
       "2800   November 9, 2016  4.0 and up  \n",
       "8649       June 4, 2018  4.0 and up  \n",
       "3837   December 1, 2016  2.3 and up  \n",
       "5508      July 26, 2018  4.1 and up  \n",
       "88    February 14, 2018  4.4 and up  "
      ]
     },
     "execution_count": 469,
     "metadata": {},
     "output_type": "execute_result"
    }
   ],
   "source": [
    "df_apps.sample(5)"
   ]
  },
  {
   "cell_type": "markdown",
   "metadata": {
    "id": "Hh81sMcvdiUI"
   },
   "source": [
    "### Drop Unused Columns\n",
    "\n",
    "**Challenge**: Remove the columns called `Last_Updated` and `Android_Version` from the DataFrame. We will not use these columns. "
   ]
  },
  {
   "cell_type": "code",
   "execution_count": 470,
   "metadata": {
    "id": "t7EMSKAOnyzI"
   },
   "outputs": [
    {
     "data": {
      "text/plain": [
       "(10841, 10)"
      ]
     },
     "execution_count": 470,
     "metadata": {},
     "output_type": "execute_result"
    }
   ],
   "source": [
    "df_apps.drop(['Last_Updated','Android_Ver'],axis=1,inplace=True)\n",
    "df_apps.shape\n"
   ]
  },
  {
   "cell_type": "markdown",
   "metadata": {
    "id": "YQGe1DIKdiUM"
   },
   "source": [
    "### Find and Remove NaN values in Ratings\n",
    "\n",
    "**Challenge**: How may rows have a NaN value (not-a-number) in the Ratings column? Create DataFrame called `df_apps_clean` that does not include these rows. "
   ]
  },
  {
   "cell_type": "code",
   "execution_count": 471,
   "metadata": {
    "id": "grcP1IOZn1Wv"
   },
   "outputs": [
    {
     "name": "stdout",
     "output_type": "stream",
     "text": [
      "                                               App            Category  \\\n",
      "0                          Ak Parti Yardım Toplama              SOCIAL   \n",
      "1                       Ain Arabic Kids Alif Ba ta              FAMILY   \n",
      "2     Popsicle Launcher for Android P 9.0 launcher     PERSONALIZATION   \n",
      "3                        Command & Conquer: Rivals              FAMILY   \n",
      "4                                       CX Network            BUSINESS   \n",
      "...                                            ...                 ...   \n",
      "5840                                Em Fuga Brasil              FAMILY   \n",
      "5862                    Voice Tables - no internet           PARENTING   \n",
      "6141                                Young Speeches  LIBRARIES_AND_DEMO   \n",
      "7035                                SD card backup               TOOLS   \n",
      "7175                     Android TV Remote Service               TOOLS   \n",
      "\n",
      "      Rating  Reviews  Size_MBs   Installs  Type   Price Content_Rating  \\\n",
      "0        NaN        0      8.70          0  Paid  $13.99           Teen   \n",
      "1        NaN        0     33.00          0  Paid   $2.99       Everyone   \n",
      "2        NaN        0      5.50          0  Paid   $1.49       Everyone   \n",
      "3        NaN        0     19.00          0   NaN       0   Everyone 10+   \n",
      "4        NaN        0     10.00          0  Free       0       Everyone   \n",
      "...      ...      ...       ...        ...   ...     ...            ...   \n",
      "5840     NaN     1317     60.00    100,000  Free       0       Everyone   \n",
      "5862     NaN      970     71.00    100,000  Free       0       Everyone   \n",
      "6141     NaN     2221      2.40    500,000  Free       0       Everyone   \n",
      "7035     NaN      142      3.40  1,000,000  Free       0       Everyone   \n",
      "7175     NaN        1      3.70  1,000,000  Free       0       Everyone   \n",
      "\n",
      "                Genres  \n",
      "0               Social  \n",
      "1            Education  \n",
      "2      Personalization  \n",
      "3             Strategy  \n",
      "4             Business  \n",
      "...                ...  \n",
      "5840        Simulation  \n",
      "5862         Parenting  \n",
      "6141  Libraries & Demo  \n",
      "7035             Tools  \n",
      "7175             Tools  \n",
      "\n",
      "[1474 rows x 10 columns]\n"
     ]
    }
   ],
   "source": [
    "nan_rows = df_apps[df_apps['Rating'].isna()]\n",
    "print(nan_rows)"
   ]
  },
  {
   "cell_type": "code",
   "execution_count": 472,
   "metadata": {
    "id": "IbQnnPaUn1Pw"
   },
   "outputs": [
    {
     "data": {
      "text/plain": [
       "(9367, 10)"
      ]
     },
     "execution_count": 472,
     "metadata": {},
     "output_type": "execute_result"
    }
   ],
   "source": [
    "df_apps_clean= df_apps.dropna()\n",
    "df_apps_clean.shape\n"
   ]
  },
  {
   "cell_type": "markdown",
   "metadata": {
    "id": "pD26SWlxdiUV"
   },
   "source": [
    "### Find and Remove Duplicates\n",
    "\n",
    "**Challenge**: Are there any duplicates in data? Check for duplicates using the [.duplicated()](https://pandas.pydata.org/pandas-docs/stable/reference/api/pandas.DataFrame.duplicated.html) function. How many entries can you find for the \"Instagram\" app? Use [.drop_duplicates()](https://pandas.pydata.org/pandas-docs/stable/reference/api/pandas.DataFrame.drop_duplicates.html) to remove any duplicates from `df_apps_clean`. \n"
   ]
  },
  {
   "cell_type": "code",
   "execution_count": 473,
   "metadata": {
    "id": "lE7X6KG3n5pR"
   },
   "outputs": [
    {
     "data": {
      "text/html": [
       "<div>\n",
       "<style scoped>\n",
       "    .dataframe tbody tr th:only-of-type {\n",
       "        vertical-align: middle;\n",
       "    }\n",
       "\n",
       "    .dataframe tbody tr th {\n",
       "        vertical-align: top;\n",
       "    }\n",
       "\n",
       "    .dataframe thead th {\n",
       "        text-align: right;\n",
       "    }\n",
       "</style>\n",
       "<table border=\"1\" class=\"dataframe\">\n",
       "  <thead>\n",
       "    <tr style=\"text-align: right;\">\n",
       "      <th></th>\n",
       "      <th>App</th>\n",
       "      <th>Category</th>\n",
       "      <th>Rating</th>\n",
       "      <th>Reviews</th>\n",
       "      <th>Size_MBs</th>\n",
       "      <th>Installs</th>\n",
       "      <th>Type</th>\n",
       "      <th>Price</th>\n",
       "      <th>Content_Rating</th>\n",
       "      <th>Genres</th>\n",
       "    </tr>\n",
       "  </thead>\n",
       "  <tbody>\n",
       "    <tr>\n",
       "      <th>946</th>\n",
       "      <td>420 BZ Budeze Delivery</td>\n",
       "      <td>MEDICAL</td>\n",
       "      <td>5.00</td>\n",
       "      <td>2</td>\n",
       "      <td>11.00</td>\n",
       "      <td>100</td>\n",
       "      <td>Free</td>\n",
       "      <td>0</td>\n",
       "      <td>Mature 17+</td>\n",
       "      <td>Medical</td>\n",
       "    </tr>\n",
       "    <tr>\n",
       "      <th>1133</th>\n",
       "      <td>MouseMingle</td>\n",
       "      <td>DATING</td>\n",
       "      <td>2.70</td>\n",
       "      <td>3</td>\n",
       "      <td>3.90</td>\n",
       "      <td>100</td>\n",
       "      <td>Free</td>\n",
       "      <td>0</td>\n",
       "      <td>Mature 17+</td>\n",
       "      <td>Dating</td>\n",
       "    </tr>\n",
       "    <tr>\n",
       "      <th>1196</th>\n",
       "      <td>Cardiac diagnosis (heart rate, arrhythmia)</td>\n",
       "      <td>MEDICAL</td>\n",
       "      <td>4.40</td>\n",
       "      <td>8</td>\n",
       "      <td>6.50</td>\n",
       "      <td>100</td>\n",
       "      <td>Paid</td>\n",
       "      <td>$12.99</td>\n",
       "      <td>Everyone</td>\n",
       "      <td>Medical</td>\n",
       "    </tr>\n",
       "    <tr>\n",
       "      <th>1231</th>\n",
       "      <td>Sway Medical</td>\n",
       "      <td>MEDICAL</td>\n",
       "      <td>5.00</td>\n",
       "      <td>3</td>\n",
       "      <td>22.00</td>\n",
       "      <td>100</td>\n",
       "      <td>Free</td>\n",
       "      <td>0</td>\n",
       "      <td>Everyone</td>\n",
       "      <td>Medical</td>\n",
       "    </tr>\n",
       "    <tr>\n",
       "      <th>1247</th>\n",
       "      <td>Chat Kids - Chat Room For Kids</td>\n",
       "      <td>DATING</td>\n",
       "      <td>4.70</td>\n",
       "      <td>6</td>\n",
       "      <td>4.90</td>\n",
       "      <td>100</td>\n",
       "      <td>Free</td>\n",
       "      <td>0</td>\n",
       "      <td>Mature 17+</td>\n",
       "      <td>Dating</td>\n",
       "    </tr>\n",
       "    <tr>\n",
       "      <th>...</th>\n",
       "      <td>...</td>\n",
       "      <td>...</td>\n",
       "      <td>...</td>\n",
       "      <td>...</td>\n",
       "      <td>...</td>\n",
       "      <td>...</td>\n",
       "      <td>...</td>\n",
       "      <td>...</td>\n",
       "      <td>...</td>\n",
       "      <td>...</td>\n",
       "    </tr>\n",
       "    <tr>\n",
       "      <th>10836</th>\n",
       "      <td>Subway Surfers</td>\n",
       "      <td>GAME</td>\n",
       "      <td>4.50</td>\n",
       "      <td>27723193</td>\n",
       "      <td>76.00</td>\n",
       "      <td>1,000,000,000</td>\n",
       "      <td>Free</td>\n",
       "      <td>0</td>\n",
       "      <td>Everyone 10+</td>\n",
       "      <td>Arcade</td>\n",
       "    </tr>\n",
       "    <tr>\n",
       "      <th>10837</th>\n",
       "      <td>Subway Surfers</td>\n",
       "      <td>GAME</td>\n",
       "      <td>4.50</td>\n",
       "      <td>27724094</td>\n",
       "      <td>76.00</td>\n",
       "      <td>1,000,000,000</td>\n",
       "      <td>Free</td>\n",
       "      <td>0</td>\n",
       "      <td>Everyone 10+</td>\n",
       "      <td>Arcade</td>\n",
       "    </tr>\n",
       "    <tr>\n",
       "      <th>10838</th>\n",
       "      <td>Subway Surfers</td>\n",
       "      <td>GAME</td>\n",
       "      <td>4.50</td>\n",
       "      <td>27725352</td>\n",
       "      <td>76.00</td>\n",
       "      <td>1,000,000,000</td>\n",
       "      <td>Free</td>\n",
       "      <td>0</td>\n",
       "      <td>Everyone 10+</td>\n",
       "      <td>Arcade</td>\n",
       "    </tr>\n",
       "    <tr>\n",
       "      <th>10839</th>\n",
       "      <td>Subway Surfers</td>\n",
       "      <td>GAME</td>\n",
       "      <td>4.50</td>\n",
       "      <td>27725352</td>\n",
       "      <td>76.00</td>\n",
       "      <td>1,000,000,000</td>\n",
       "      <td>Free</td>\n",
       "      <td>0</td>\n",
       "      <td>Everyone 10+</td>\n",
       "      <td>Arcade</td>\n",
       "    </tr>\n",
       "    <tr>\n",
       "      <th>10840</th>\n",
       "      <td>Subway Surfers</td>\n",
       "      <td>GAME</td>\n",
       "      <td>4.50</td>\n",
       "      <td>27711703</td>\n",
       "      <td>76.00</td>\n",
       "      <td>1,000,000,000</td>\n",
       "      <td>Free</td>\n",
       "      <td>0</td>\n",
       "      <td>Everyone 10+</td>\n",
       "      <td>Arcade</td>\n",
       "    </tr>\n",
       "  </tbody>\n",
       "</table>\n",
       "<p>1170 rows × 10 columns</p>\n",
       "</div>"
      ],
      "text/plain": [
       "                                              App Category  Rating   Reviews  \\\n",
       "946                        420 BZ Budeze Delivery  MEDICAL    5.00         2   \n",
       "1133                                  MouseMingle   DATING    2.70         3   \n",
       "1196   Cardiac diagnosis (heart rate, arrhythmia)  MEDICAL    4.40         8   \n",
       "1231                                 Sway Medical  MEDICAL    5.00         3   \n",
       "1247               Chat Kids - Chat Room For Kids   DATING    4.70         6   \n",
       "...                                           ...      ...     ...       ...   \n",
       "10836                              Subway Surfers     GAME    4.50  27723193   \n",
       "10837                              Subway Surfers     GAME    4.50  27724094   \n",
       "10838                              Subway Surfers     GAME    4.50  27725352   \n",
       "10839                              Subway Surfers     GAME    4.50  27725352   \n",
       "10840                              Subway Surfers     GAME    4.50  27711703   \n",
       "\n",
       "       Size_MBs       Installs  Type   Price Content_Rating   Genres  \n",
       "946       11.00            100  Free       0     Mature 17+  Medical  \n",
       "1133       3.90            100  Free       0     Mature 17+   Dating  \n",
       "1196       6.50            100  Paid  $12.99       Everyone  Medical  \n",
       "1231      22.00            100  Free       0       Everyone  Medical  \n",
       "1247       4.90            100  Free       0     Mature 17+   Dating  \n",
       "...         ...            ...   ...     ...            ...      ...  \n",
       "10836     76.00  1,000,000,000  Free       0   Everyone 10+   Arcade  \n",
       "10837     76.00  1,000,000,000  Free       0   Everyone 10+   Arcade  \n",
       "10838     76.00  1,000,000,000  Free       0   Everyone 10+   Arcade  \n",
       "10839     76.00  1,000,000,000  Free       0   Everyone 10+   Arcade  \n",
       "10840     76.00  1,000,000,000  Free       0   Everyone 10+   Arcade  \n",
       "\n",
       "[1170 rows x 10 columns]"
      ]
     },
     "execution_count": 473,
     "metadata": {},
     "output_type": "execute_result"
    }
   ],
   "source": [
    "duplicated_rows = df_apps_clean[df_apps_clean.App.duplicated()]\n",
    "duplicated_rows"
   ]
  },
  {
   "cell_type": "code",
   "execution_count": 474,
   "metadata": {
    "id": "GK2rP7wgn53-"
   },
   "outputs": [
    {
     "data": {
      "text/html": [
       "<div>\n",
       "<style scoped>\n",
       "    .dataframe tbody tr th:only-of-type {\n",
       "        vertical-align: middle;\n",
       "    }\n",
       "\n",
       "    .dataframe tbody tr th {\n",
       "        vertical-align: top;\n",
       "    }\n",
       "\n",
       "    .dataframe thead th {\n",
       "        text-align: right;\n",
       "    }\n",
       "</style>\n",
       "<table border=\"1\" class=\"dataframe\">\n",
       "  <thead>\n",
       "    <tr style=\"text-align: right;\">\n",
       "      <th></th>\n",
       "      <th>App</th>\n",
       "      <th>Category</th>\n",
       "      <th>Rating</th>\n",
       "      <th>Reviews</th>\n",
       "      <th>Size_MBs</th>\n",
       "      <th>Installs</th>\n",
       "      <th>Type</th>\n",
       "      <th>Price</th>\n",
       "      <th>Content_Rating</th>\n",
       "      <th>Genres</th>\n",
       "    </tr>\n",
       "  </thead>\n",
       "  <tbody>\n",
       "    <tr>\n",
       "      <th>10806</th>\n",
       "      <td>Instagram</td>\n",
       "      <td>SOCIAL</td>\n",
       "      <td>4.50</td>\n",
       "      <td>66577313</td>\n",
       "      <td>5.30</td>\n",
       "      <td>1,000,000,000</td>\n",
       "      <td>Free</td>\n",
       "      <td>0</td>\n",
       "      <td>Teen</td>\n",
       "      <td>Social</td>\n",
       "    </tr>\n",
       "    <tr>\n",
       "      <th>10808</th>\n",
       "      <td>Instagram</td>\n",
       "      <td>SOCIAL</td>\n",
       "      <td>4.50</td>\n",
       "      <td>66577446</td>\n",
       "      <td>5.30</td>\n",
       "      <td>1,000,000,000</td>\n",
       "      <td>Free</td>\n",
       "      <td>0</td>\n",
       "      <td>Teen</td>\n",
       "      <td>Social</td>\n",
       "    </tr>\n",
       "    <tr>\n",
       "      <th>10809</th>\n",
       "      <td>Instagram</td>\n",
       "      <td>SOCIAL</td>\n",
       "      <td>4.50</td>\n",
       "      <td>66577313</td>\n",
       "      <td>5.30</td>\n",
       "      <td>1,000,000,000</td>\n",
       "      <td>Free</td>\n",
       "      <td>0</td>\n",
       "      <td>Teen</td>\n",
       "      <td>Social</td>\n",
       "    </tr>\n",
       "    <tr>\n",
       "      <th>10810</th>\n",
       "      <td>Instagram</td>\n",
       "      <td>SOCIAL</td>\n",
       "      <td>4.50</td>\n",
       "      <td>66509917</td>\n",
       "      <td>5.30</td>\n",
       "      <td>1,000,000,000</td>\n",
       "      <td>Free</td>\n",
       "      <td>0</td>\n",
       "      <td>Teen</td>\n",
       "      <td>Social</td>\n",
       "    </tr>\n",
       "  </tbody>\n",
       "</table>\n",
       "</div>"
      ],
      "text/plain": [
       "             App Category  Rating   Reviews  Size_MBs       Installs  Type  \\\n",
       "10806  Instagram   SOCIAL    4.50  66577313      5.30  1,000,000,000  Free   \n",
       "10808  Instagram   SOCIAL    4.50  66577446      5.30  1,000,000,000  Free   \n",
       "10809  Instagram   SOCIAL    4.50  66577313      5.30  1,000,000,000  Free   \n",
       "10810  Instagram   SOCIAL    4.50  66509917      5.30  1,000,000,000  Free   \n",
       "\n",
       "      Price Content_Rating  Genres  \n",
       "10806     0           Teen  Social  \n",
       "10808     0           Teen  Social  \n",
       "10809     0           Teen  Social  \n",
       "10810     0           Teen  Social  "
      ]
     },
     "execution_count": 474,
     "metadata": {},
     "output_type": "execute_result"
    }
   ],
   "source": [
    "df_apps_clean[df_apps_clean.App == 'Instagram']"
   ]
  },
  {
   "cell_type": "code",
   "execution_count": 475,
   "metadata": {
    "id": "Wtt09kiRn6GS"
   },
   "outputs": [
    {
     "name": "stdout",
     "output_type": "stream",
     "text": [
      "(8891, 10)\n"
     ]
    },
    {
     "data": {
      "text/html": [
       "<div>\n",
       "<style scoped>\n",
       "    .dataframe tbody tr th:only-of-type {\n",
       "        vertical-align: middle;\n",
       "    }\n",
       "\n",
       "    .dataframe tbody tr th {\n",
       "        vertical-align: top;\n",
       "    }\n",
       "\n",
       "    .dataframe thead th {\n",
       "        text-align: right;\n",
       "    }\n",
       "</style>\n",
       "<table border=\"1\" class=\"dataframe\">\n",
       "  <thead>\n",
       "    <tr style=\"text-align: right;\">\n",
       "      <th></th>\n",
       "      <th>App</th>\n",
       "      <th>Category</th>\n",
       "      <th>Rating</th>\n",
       "      <th>Reviews</th>\n",
       "      <th>Size_MBs</th>\n",
       "      <th>Installs</th>\n",
       "      <th>Type</th>\n",
       "      <th>Price</th>\n",
       "      <th>Content_Rating</th>\n",
       "      <th>Genres</th>\n",
       "    </tr>\n",
       "  </thead>\n",
       "  <tbody>\n",
       "    <tr>\n",
       "      <th>10806</th>\n",
       "      <td>Instagram</td>\n",
       "      <td>SOCIAL</td>\n",
       "      <td>4.50</td>\n",
       "      <td>66577313</td>\n",
       "      <td>5.30</td>\n",
       "      <td>1,000,000,000</td>\n",
       "      <td>Free</td>\n",
       "      <td>0</td>\n",
       "      <td>Teen</td>\n",
       "      <td>Social</td>\n",
       "    </tr>\n",
       "    <tr>\n",
       "      <th>10808</th>\n",
       "      <td>Instagram</td>\n",
       "      <td>SOCIAL</td>\n",
       "      <td>4.50</td>\n",
       "      <td>66577446</td>\n",
       "      <td>5.30</td>\n",
       "      <td>1,000,000,000</td>\n",
       "      <td>Free</td>\n",
       "      <td>0</td>\n",
       "      <td>Teen</td>\n",
       "      <td>Social</td>\n",
       "    </tr>\n",
       "    <tr>\n",
       "      <th>10810</th>\n",
       "      <td>Instagram</td>\n",
       "      <td>SOCIAL</td>\n",
       "      <td>4.50</td>\n",
       "      <td>66509917</td>\n",
       "      <td>5.30</td>\n",
       "      <td>1,000,000,000</td>\n",
       "      <td>Free</td>\n",
       "      <td>0</td>\n",
       "      <td>Teen</td>\n",
       "      <td>Social</td>\n",
       "    </tr>\n",
       "  </tbody>\n",
       "</table>\n",
       "</div>"
      ],
      "text/plain": [
       "             App Category  Rating   Reviews  Size_MBs       Installs  Type  \\\n",
       "10806  Instagram   SOCIAL    4.50  66577313      5.30  1,000,000,000  Free   \n",
       "10808  Instagram   SOCIAL    4.50  66577446      5.30  1,000,000,000  Free   \n",
       "10810  Instagram   SOCIAL    4.50  66509917      5.30  1,000,000,000  Free   \n",
       "\n",
       "      Price Content_Rating  Genres  \n",
       "10806     0           Teen  Social  \n",
       "10808     0           Teen  Social  \n",
       "10810     0           Teen  Social  "
      ]
     },
     "execution_count": 475,
     "metadata": {},
     "output_type": "execute_result"
    }
   ],
   "source": [
    "df_apps_clean = df_apps_clean.drop_duplicates()\n",
    "print(df_apps_clean.shape)\n",
    "df_apps_clean[df_apps_clean.App =='Instagram']"
   ]
  },
  {
   "cell_type": "code",
   "execution_count": 476,
   "metadata": {
    "id": "30yZCwtKn5xC"
   },
   "outputs": [],
   "source": [
    "df_apps_clean = df_apps_clean.drop_duplicates(['App','Type','Price'])"
   ]
  },
  {
   "cell_type": "code",
   "execution_count": 477,
   "metadata": {
    "id": "AagS_wgWn5ib"
   },
   "outputs": [
    {
     "data": {
      "text/html": [
       "<div>\n",
       "<style scoped>\n",
       "    .dataframe tbody tr th:only-of-type {\n",
       "        vertical-align: middle;\n",
       "    }\n",
       "\n",
       "    .dataframe tbody tr th {\n",
       "        vertical-align: top;\n",
       "    }\n",
       "\n",
       "    .dataframe thead th {\n",
       "        text-align: right;\n",
       "    }\n",
       "</style>\n",
       "<table border=\"1\" class=\"dataframe\">\n",
       "  <thead>\n",
       "    <tr style=\"text-align: right;\">\n",
       "      <th></th>\n",
       "      <th>App</th>\n",
       "      <th>Category</th>\n",
       "      <th>Rating</th>\n",
       "      <th>Reviews</th>\n",
       "      <th>Size_MBs</th>\n",
       "      <th>Installs</th>\n",
       "      <th>Type</th>\n",
       "      <th>Price</th>\n",
       "      <th>Content_Rating</th>\n",
       "      <th>Genres</th>\n",
       "    </tr>\n",
       "  </thead>\n",
       "  <tbody>\n",
       "    <tr>\n",
       "      <th>10806</th>\n",
       "      <td>Instagram</td>\n",
       "      <td>SOCIAL</td>\n",
       "      <td>4.50</td>\n",
       "      <td>66577313</td>\n",
       "      <td>5.30</td>\n",
       "      <td>1,000,000,000</td>\n",
       "      <td>Free</td>\n",
       "      <td>0</td>\n",
       "      <td>Teen</td>\n",
       "      <td>Social</td>\n",
       "    </tr>\n",
       "  </tbody>\n",
       "</table>\n",
       "</div>"
      ],
      "text/plain": [
       "             App Category  Rating   Reviews  Size_MBs       Installs  Type  \\\n",
       "10806  Instagram   SOCIAL    4.50  66577313      5.30  1,000,000,000  Free   \n",
       "\n",
       "      Price Content_Rating  Genres  \n",
       "10806     0           Teen  Social  "
      ]
     },
     "execution_count": 477,
     "metadata": {},
     "output_type": "execute_result"
    }
   ],
   "source": [
    "df_apps_clean[df_apps_clean.App == 'Instagram']"
   ]
  },
  {
   "cell_type": "markdown",
   "metadata": {
    "id": "GJrM69CfdiUh"
   },
   "source": [
    "# Find Highest Rated Apps\n",
    "\n",
    "**Challenge**: Identify which apps are the highest rated. What problem might you encounter if you rely exclusively on ratings alone to determine the quality of an app?"
   ]
  },
  {
   "cell_type": "code",
   "execution_count": 478,
   "metadata": {
    "id": "rp7vFHBMn7st"
   },
   "outputs": [
    {
     "data": {
      "text/html": [
       "<div>\n",
       "<style scoped>\n",
       "    .dataframe tbody tr th:only-of-type {\n",
       "        vertical-align: middle;\n",
       "    }\n",
       "\n",
       "    .dataframe tbody tr th {\n",
       "        vertical-align: top;\n",
       "    }\n",
       "\n",
       "    .dataframe thead th {\n",
       "        text-align: right;\n",
       "    }\n",
       "</style>\n",
       "<table border=\"1\" class=\"dataframe\">\n",
       "  <thead>\n",
       "    <tr style=\"text-align: right;\">\n",
       "      <th></th>\n",
       "      <th>App</th>\n",
       "      <th>Category</th>\n",
       "      <th>Rating</th>\n",
       "      <th>Reviews</th>\n",
       "      <th>Size_MBs</th>\n",
       "      <th>Installs</th>\n",
       "      <th>Type</th>\n",
       "      <th>Price</th>\n",
       "      <th>Content_Rating</th>\n",
       "      <th>Genres</th>\n",
       "    </tr>\n",
       "  </thead>\n",
       "  <tbody>\n",
       "    <tr>\n",
       "      <th>21</th>\n",
       "      <td>KBA-EZ Health Guide</td>\n",
       "      <td>MEDICAL</td>\n",
       "      <td>5.00</td>\n",
       "      <td>4</td>\n",
       "      <td>25.00</td>\n",
       "      <td>1</td>\n",
       "      <td>Free</td>\n",
       "      <td>0</td>\n",
       "      <td>Everyone</td>\n",
       "      <td>Medical</td>\n",
       "    </tr>\n",
       "    <tr>\n",
       "      <th>1230</th>\n",
       "      <td>Sway Medical</td>\n",
       "      <td>MEDICAL</td>\n",
       "      <td>5.00</td>\n",
       "      <td>3</td>\n",
       "      <td>22.00</td>\n",
       "      <td>100</td>\n",
       "      <td>Free</td>\n",
       "      <td>0</td>\n",
       "      <td>Everyone</td>\n",
       "      <td>Medical</td>\n",
       "    </tr>\n",
       "    <tr>\n",
       "      <th>1227</th>\n",
       "      <td>AJ Men's Grooming</td>\n",
       "      <td>LIFESTYLE</td>\n",
       "      <td>5.00</td>\n",
       "      <td>2</td>\n",
       "      <td>22.00</td>\n",
       "      <td>100</td>\n",
       "      <td>Free</td>\n",
       "      <td>0</td>\n",
       "      <td>Everyone</td>\n",
       "      <td>Lifestyle</td>\n",
       "    </tr>\n",
       "    <tr>\n",
       "      <th>1224</th>\n",
       "      <td>FK Dedinje BGD</td>\n",
       "      <td>SPORTS</td>\n",
       "      <td>5.00</td>\n",
       "      <td>36</td>\n",
       "      <td>2.60</td>\n",
       "      <td>100</td>\n",
       "      <td>Free</td>\n",
       "      <td>0</td>\n",
       "      <td>Everyone</td>\n",
       "      <td>Sports</td>\n",
       "    </tr>\n",
       "    <tr>\n",
       "      <th>1223</th>\n",
       "      <td>CB VIDEO VISION</td>\n",
       "      <td>PHOTOGRAPHY</td>\n",
       "      <td>5.00</td>\n",
       "      <td>13</td>\n",
       "      <td>2.60</td>\n",
       "      <td>100</td>\n",
       "      <td>Free</td>\n",
       "      <td>0</td>\n",
       "      <td>Everyone</td>\n",
       "      <td>Photography</td>\n",
       "    </tr>\n",
       "  </tbody>\n",
       "</table>\n",
       "</div>"
      ],
      "text/plain": [
       "                      App     Category  Rating  Reviews  Size_MBs Installs  \\\n",
       "21    KBA-EZ Health Guide      MEDICAL    5.00        4     25.00        1   \n",
       "1230         Sway Medical      MEDICAL    5.00        3     22.00      100   \n",
       "1227    AJ Men's Grooming    LIFESTYLE    5.00        2     22.00      100   \n",
       "1224       FK Dedinje BGD       SPORTS    5.00       36      2.60      100   \n",
       "1223      CB VIDEO VISION  PHOTOGRAPHY    5.00       13      2.60      100   \n",
       "\n",
       "      Type Price Content_Rating       Genres  \n",
       "21    Free     0       Everyone      Medical  \n",
       "1230  Free     0       Everyone      Medical  \n",
       "1227  Free     0       Everyone    Lifestyle  \n",
       "1224  Free     0       Everyone       Sports  \n",
       "1223  Free     0       Everyone  Photography  "
      ]
     },
     "execution_count": 478,
     "metadata": {},
     "output_type": "execute_result"
    }
   ],
   "source": [
    "df_apps_clean.sort_values('Rating',ascending=False).head()"
   ]
  },
  {
   "cell_type": "markdown",
   "metadata": {
    "id": "28o1Tro4diUi"
   },
   "source": [
    "# Find 5 Largest Apps in terms of Size (MBs)\n",
    "\n",
    "**Challenge**: What's the size in megabytes (MB) of the largest Android apps in the Google Play Store. Based on the data, do you think there could be limit in place or can developers make apps as large as they please? "
   ]
  },
  {
   "cell_type": "code",
   "execution_count": 479,
   "metadata": {
    "id": "n5r0pJCOn9Vu"
   },
   "outputs": [
    {
     "data": {
      "text/html": [
       "<div>\n",
       "<style scoped>\n",
       "    .dataframe tbody tr th:only-of-type {\n",
       "        vertical-align: middle;\n",
       "    }\n",
       "\n",
       "    .dataframe tbody tr th {\n",
       "        vertical-align: top;\n",
       "    }\n",
       "\n",
       "    .dataframe thead th {\n",
       "        text-align: right;\n",
       "    }\n",
       "</style>\n",
       "<table border=\"1\" class=\"dataframe\">\n",
       "  <thead>\n",
       "    <tr style=\"text-align: right;\">\n",
       "      <th></th>\n",
       "      <th>App</th>\n",
       "      <th>Category</th>\n",
       "      <th>Rating</th>\n",
       "      <th>Reviews</th>\n",
       "      <th>Size_MBs</th>\n",
       "      <th>Installs</th>\n",
       "      <th>Type</th>\n",
       "      <th>Price</th>\n",
       "      <th>Content_Rating</th>\n",
       "      <th>Genres</th>\n",
       "    </tr>\n",
       "  </thead>\n",
       "  <tbody>\n",
       "    <tr>\n",
       "      <th>9942</th>\n",
       "      <td>Talking Babsy Baby: Baby Games</td>\n",
       "      <td>LIFESTYLE</td>\n",
       "      <td>4.00</td>\n",
       "      <td>140995</td>\n",
       "      <td>100.00</td>\n",
       "      <td>10,000,000</td>\n",
       "      <td>Free</td>\n",
       "      <td>0</td>\n",
       "      <td>Everyone</td>\n",
       "      <td>Lifestyle;Pretend Play</td>\n",
       "    </tr>\n",
       "    <tr>\n",
       "      <th>10687</th>\n",
       "      <td>Hungry Shark Evolution</td>\n",
       "      <td>GAME</td>\n",
       "      <td>4.50</td>\n",
       "      <td>6074334</td>\n",
       "      <td>100.00</td>\n",
       "      <td>100,000,000</td>\n",
       "      <td>Free</td>\n",
       "      <td>0</td>\n",
       "      <td>Teen</td>\n",
       "      <td>Arcade</td>\n",
       "    </tr>\n",
       "    <tr>\n",
       "      <th>9943</th>\n",
       "      <td>Miami crime simulator</td>\n",
       "      <td>GAME</td>\n",
       "      <td>4.00</td>\n",
       "      <td>254518</td>\n",
       "      <td>100.00</td>\n",
       "      <td>10,000,000</td>\n",
       "      <td>Free</td>\n",
       "      <td>0</td>\n",
       "      <td>Mature 17+</td>\n",
       "      <td>Action</td>\n",
       "    </tr>\n",
       "    <tr>\n",
       "      <th>9944</th>\n",
       "      <td>Gangster Town: Vice District</td>\n",
       "      <td>FAMILY</td>\n",
       "      <td>4.30</td>\n",
       "      <td>65146</td>\n",
       "      <td>100.00</td>\n",
       "      <td>10,000,000</td>\n",
       "      <td>Free</td>\n",
       "      <td>0</td>\n",
       "      <td>Mature 17+</td>\n",
       "      <td>Simulation</td>\n",
       "    </tr>\n",
       "    <tr>\n",
       "      <th>3144</th>\n",
       "      <td>Vi Trainer</td>\n",
       "      <td>HEALTH_AND_FITNESS</td>\n",
       "      <td>3.60</td>\n",
       "      <td>124</td>\n",
       "      <td>100.00</td>\n",
       "      <td>5,000</td>\n",
       "      <td>Free</td>\n",
       "      <td>0</td>\n",
       "      <td>Everyone</td>\n",
       "      <td>Health &amp; Fitness</td>\n",
       "    </tr>\n",
       "  </tbody>\n",
       "</table>\n",
       "</div>"
      ],
      "text/plain": [
       "                                  App            Category  Rating  Reviews  \\\n",
       "9942   Talking Babsy Baby: Baby Games           LIFESTYLE    4.00   140995   \n",
       "10687          Hungry Shark Evolution                GAME    4.50  6074334   \n",
       "9943            Miami crime simulator                GAME    4.00   254518   \n",
       "9944     Gangster Town: Vice District              FAMILY    4.30    65146   \n",
       "3144                       Vi Trainer  HEALTH_AND_FITNESS    3.60      124   \n",
       "\n",
       "       Size_MBs     Installs  Type Price Content_Rating  \\\n",
       "9942     100.00   10,000,000  Free     0       Everyone   \n",
       "10687    100.00  100,000,000  Free     0           Teen   \n",
       "9943     100.00   10,000,000  Free     0     Mature 17+   \n",
       "9944     100.00   10,000,000  Free     0     Mature 17+   \n",
       "3144     100.00        5,000  Free     0       Everyone   \n",
       "\n",
       "                       Genres  \n",
       "9942   Lifestyle;Pretend Play  \n",
       "10687                  Arcade  \n",
       "9943                   Action  \n",
       "9944               Simulation  \n",
       "3144         Health & Fitness  "
      ]
     },
     "execution_count": 479,
     "metadata": {},
     "output_type": "execute_result"
    }
   ],
   "source": [
    "df_apps_clean.sort_values('Size_MBs',ascending=False).head()"
   ]
  },
  {
   "cell_type": "markdown",
   "metadata": {
    "id": "C3gTckh7diUk"
   },
   "source": [
    "# Find the 5 App with Most Reviews\n",
    "\n",
    "**Challenge**: Which apps have the highest number of reviews? Are there any paid apps among the top 50?"
   ]
  },
  {
   "cell_type": "code",
   "execution_count": 480,
   "metadata": {
    "id": "TLt98G0Sn_De"
   },
   "outputs": [
    {
     "data": {
      "text/html": [
       "<div>\n",
       "<style scoped>\n",
       "    .dataframe tbody tr th:only-of-type {\n",
       "        vertical-align: middle;\n",
       "    }\n",
       "\n",
       "    .dataframe tbody tr th {\n",
       "        vertical-align: top;\n",
       "    }\n",
       "\n",
       "    .dataframe thead th {\n",
       "        text-align: right;\n",
       "    }\n",
       "</style>\n",
       "<table border=\"1\" class=\"dataframe\">\n",
       "  <thead>\n",
       "    <tr style=\"text-align: right;\">\n",
       "      <th></th>\n",
       "      <th>App</th>\n",
       "      <th>Category</th>\n",
       "      <th>Rating</th>\n",
       "      <th>Reviews</th>\n",
       "      <th>Size_MBs</th>\n",
       "      <th>Installs</th>\n",
       "      <th>Type</th>\n",
       "      <th>Price</th>\n",
       "      <th>Content_Rating</th>\n",
       "      <th>Genres</th>\n",
       "    </tr>\n",
       "  </thead>\n",
       "  <tbody>\n",
       "    <tr>\n",
       "      <th>10805</th>\n",
       "      <td>Facebook</td>\n",
       "      <td>SOCIAL</td>\n",
       "      <td>4.10</td>\n",
       "      <td>78158306</td>\n",
       "      <td>5.30</td>\n",
       "      <td>1,000,000,000</td>\n",
       "      <td>Free</td>\n",
       "      <td>0</td>\n",
       "      <td>Teen</td>\n",
       "      <td>Social</td>\n",
       "    </tr>\n",
       "    <tr>\n",
       "      <th>10785</th>\n",
       "      <td>WhatsApp Messenger</td>\n",
       "      <td>COMMUNICATION</td>\n",
       "      <td>4.40</td>\n",
       "      <td>69119316</td>\n",
       "      <td>3.50</td>\n",
       "      <td>1,000,000,000</td>\n",
       "      <td>Free</td>\n",
       "      <td>0</td>\n",
       "      <td>Everyone</td>\n",
       "      <td>Communication</td>\n",
       "    </tr>\n",
       "    <tr>\n",
       "      <th>10806</th>\n",
       "      <td>Instagram</td>\n",
       "      <td>SOCIAL</td>\n",
       "      <td>4.50</td>\n",
       "      <td>66577313</td>\n",
       "      <td>5.30</td>\n",
       "      <td>1,000,000,000</td>\n",
       "      <td>Free</td>\n",
       "      <td>0</td>\n",
       "      <td>Teen</td>\n",
       "      <td>Social</td>\n",
       "    </tr>\n",
       "    <tr>\n",
       "      <th>10784</th>\n",
       "      <td>Messenger – Text and Video Chat for Free</td>\n",
       "      <td>COMMUNICATION</td>\n",
       "      <td>4.00</td>\n",
       "      <td>56642847</td>\n",
       "      <td>3.50</td>\n",
       "      <td>1,000,000,000</td>\n",
       "      <td>Free</td>\n",
       "      <td>0</td>\n",
       "      <td>Everyone</td>\n",
       "      <td>Communication</td>\n",
       "    </tr>\n",
       "    <tr>\n",
       "      <th>10650</th>\n",
       "      <td>Clash of Clans</td>\n",
       "      <td>GAME</td>\n",
       "      <td>4.60</td>\n",
       "      <td>44891723</td>\n",
       "      <td>98.00</td>\n",
       "      <td>100,000,000</td>\n",
       "      <td>Free</td>\n",
       "      <td>0</td>\n",
       "      <td>Everyone 10+</td>\n",
       "      <td>Strategy</td>\n",
       "    </tr>\n",
       "    <tr>\n",
       "      <th>...</th>\n",
       "      <td>...</td>\n",
       "      <td>...</td>\n",
       "      <td>...</td>\n",
       "      <td>...</td>\n",
       "      <td>...</td>\n",
       "      <td>...</td>\n",
       "      <td>...</td>\n",
       "      <td>...</td>\n",
       "      <td>...</td>\n",
       "      <td>...</td>\n",
       "    </tr>\n",
       "    <tr>\n",
       "      <th>453</th>\n",
       "      <td>Wowkwis aq Ka'qaquj</td>\n",
       "      <td>FAMILY</td>\n",
       "      <td>5.00</td>\n",
       "      <td>1</td>\n",
       "      <td>49.00</td>\n",
       "      <td>10</td>\n",
       "      <td>Free</td>\n",
       "      <td>0</td>\n",
       "      <td>Everyone</td>\n",
       "      <td>Education;Education</td>\n",
       "    </tr>\n",
       "    <tr>\n",
       "      <th>462</th>\n",
       "      <td>CB Fit</td>\n",
       "      <td>HEALTH_AND_FITNESS</td>\n",
       "      <td>5.00</td>\n",
       "      <td>1</td>\n",
       "      <td>7.80</td>\n",
       "      <td>10</td>\n",
       "      <td>Free</td>\n",
       "      <td>0</td>\n",
       "      <td>Everyone</td>\n",
       "      <td>Health &amp; Fitness</td>\n",
       "    </tr>\n",
       "    <tr>\n",
       "      <th>901</th>\n",
       "      <td>ES Billing System (Offline App)</td>\n",
       "      <td>PRODUCTIVITY</td>\n",
       "      <td>5.00</td>\n",
       "      <td>1</td>\n",
       "      <td>4.20</td>\n",
       "      <td>100</td>\n",
       "      <td>Free</td>\n",
       "      <td>0</td>\n",
       "      <td>Everyone</td>\n",
       "      <td>Productivity</td>\n",
       "    </tr>\n",
       "    <tr>\n",
       "      <th>1416</th>\n",
       "      <td>Ek Kahani Aisi Bhi Season 3 - The Horror Story</td>\n",
       "      <td>FAMILY</td>\n",
       "      <td>3.00</td>\n",
       "      <td>1</td>\n",
       "      <td>5.80</td>\n",
       "      <td>100</td>\n",
       "      <td>Free</td>\n",
       "      <td>0</td>\n",
       "      <td>Teen</td>\n",
       "      <td>Entertainment</td>\n",
       "    </tr>\n",
       "    <tr>\n",
       "      <th>1100</th>\n",
       "      <td>Chenoweth AH</td>\n",
       "      <td>MEDICAL</td>\n",
       "      <td>5.00</td>\n",
       "      <td>1</td>\n",
       "      <td>27.00</td>\n",
       "      <td>100</td>\n",
       "      <td>Free</td>\n",
       "      <td>0</td>\n",
       "      <td>Everyone</td>\n",
       "      <td>Medical</td>\n",
       "    </tr>\n",
       "  </tbody>\n",
       "</table>\n",
       "<p>8199 rows × 10 columns</p>\n",
       "</div>"
      ],
      "text/plain": [
       "                                                  App            Category  \\\n",
       "10805                                        Facebook              SOCIAL   \n",
       "10785                              WhatsApp Messenger       COMMUNICATION   \n",
       "10806                                       Instagram              SOCIAL   \n",
       "10784        Messenger – Text and Video Chat for Free       COMMUNICATION   \n",
       "10650                                  Clash of Clans                GAME   \n",
       "...                                               ...                 ...   \n",
       "453                               Wowkwis aq Ka'qaquj              FAMILY   \n",
       "462                                            CB Fit  HEALTH_AND_FITNESS   \n",
       "901                   ES Billing System (Offline App)        PRODUCTIVITY   \n",
       "1416   Ek Kahani Aisi Bhi Season 3 - The Horror Story              FAMILY   \n",
       "1100                                     Chenoweth AH             MEDICAL   \n",
       "\n",
       "       Rating   Reviews  Size_MBs       Installs  Type Price Content_Rating  \\\n",
       "10805    4.10  78158306      5.30  1,000,000,000  Free     0           Teen   \n",
       "10785    4.40  69119316      3.50  1,000,000,000  Free     0       Everyone   \n",
       "10806    4.50  66577313      5.30  1,000,000,000  Free     0           Teen   \n",
       "10784    4.00  56642847      3.50  1,000,000,000  Free     0       Everyone   \n",
       "10650    4.60  44891723     98.00    100,000,000  Free     0   Everyone 10+   \n",
       "...       ...       ...       ...            ...   ...   ...            ...   \n",
       "453      5.00         1     49.00             10  Free     0       Everyone   \n",
       "462      5.00         1      7.80             10  Free     0       Everyone   \n",
       "901      5.00         1      4.20            100  Free     0       Everyone   \n",
       "1416     3.00         1      5.80            100  Free     0           Teen   \n",
       "1100     5.00         1     27.00            100  Free     0       Everyone   \n",
       "\n",
       "                    Genres  \n",
       "10805               Social  \n",
       "10785        Communication  \n",
       "10806               Social  \n",
       "10784        Communication  \n",
       "10650             Strategy  \n",
       "...                    ...  \n",
       "453    Education;Education  \n",
       "462       Health & Fitness  \n",
       "901           Productivity  \n",
       "1416         Entertainment  \n",
       "1100               Medical  \n",
       "\n",
       "[8199 rows x 10 columns]"
      ]
     },
     "execution_count": 480,
     "metadata": {},
     "output_type": "execute_result"
    }
   ],
   "source": [
    "df_apps_clean.sort_values('Reviews',ascending=False)"
   ]
  },
  {
   "cell_type": "markdown",
   "metadata": {
    "id": "BFoRqpezjebe"
   },
   "source": [
    "# Plotly Pie and Donut Charts - Visualise Categorical Data: Content Ratings"
   ]
  },
  {
   "cell_type": "code",
   "execution_count": 481,
   "metadata": {
    "id": "c0IIxNGnoFKM"
   },
   "outputs": [
    {
     "data": {
      "text/plain": [
       "Content_Rating\n",
       "Everyone           6621\n",
       "Teen                912\n",
       "Mature 17+          357\n",
       "Everyone 10+        305\n",
       "Adults only 18+       3\n",
       "Unrated               1\n",
       "Name: count, dtype: int64"
      ]
     },
     "execution_count": 481,
     "metadata": {},
     "output_type": "execute_result"
    }
   ],
   "source": [
    "ratings = df_apps_clean['Content_Rating'].value_counts()\n",
    "ratings"
   ]
  },
  {
   "cell_type": "code",
   "execution_count": 482,
   "metadata": {
    "id": "TSiV6ZkjoFVg"
   },
   "outputs": [
    {
     "data": {
      "application/vnd.plotly.v1+json": {
       "config": {
        "plotlyServerURL": "https://plot.ly"
       },
       "data": [
        {
         "domain": {
          "x": [
           0,
           1
          ],
          "y": [
           0,
           1
          ]
         },
         "hovertemplate": "value=%{value}<extra></extra>",
         "legendgroup": "",
         "name": "",
         "showlegend": false,
         "type": "pie",
         "values": {
          "bdata": "3RmQA2UBMQEDAAEA",
          "dtype": "i2"
         }
        }
       ],
       "layout": {
        "legend": {
         "tracegroupgap": 0
        },
        "template": {
         "data": {
          "bar": [
           {
            "error_x": {
             "color": "#2a3f5f"
            },
            "error_y": {
             "color": "#2a3f5f"
            },
            "marker": {
             "line": {
              "color": "#E5ECF6",
              "width": 0.5
             },
             "pattern": {
              "fillmode": "overlay",
              "size": 10,
              "solidity": 0.2
             }
            },
            "type": "bar"
           }
          ],
          "barpolar": [
           {
            "marker": {
             "line": {
              "color": "#E5ECF6",
              "width": 0.5
             },
             "pattern": {
              "fillmode": "overlay",
              "size": 10,
              "solidity": 0.2
             }
            },
            "type": "barpolar"
           }
          ],
          "carpet": [
           {
            "aaxis": {
             "endlinecolor": "#2a3f5f",
             "gridcolor": "white",
             "linecolor": "white",
             "minorgridcolor": "white",
             "startlinecolor": "#2a3f5f"
            },
            "baxis": {
             "endlinecolor": "#2a3f5f",
             "gridcolor": "white",
             "linecolor": "white",
             "minorgridcolor": "white",
             "startlinecolor": "#2a3f5f"
            },
            "type": "carpet"
           }
          ],
          "choropleth": [
           {
            "colorbar": {
             "outlinewidth": 0,
             "ticks": ""
            },
            "type": "choropleth"
           }
          ],
          "contour": [
           {
            "colorbar": {
             "outlinewidth": 0,
             "ticks": ""
            },
            "colorscale": [
             [
              0,
              "#0d0887"
             ],
             [
              0.1111111111111111,
              "#46039f"
             ],
             [
              0.2222222222222222,
              "#7201a8"
             ],
             [
              0.3333333333333333,
              "#9c179e"
             ],
             [
              0.4444444444444444,
              "#bd3786"
             ],
             [
              0.5555555555555556,
              "#d8576b"
             ],
             [
              0.6666666666666666,
              "#ed7953"
             ],
             [
              0.7777777777777778,
              "#fb9f3a"
             ],
             [
              0.8888888888888888,
              "#fdca26"
             ],
             [
              1,
              "#f0f921"
             ]
            ],
            "type": "contour"
           }
          ],
          "contourcarpet": [
           {
            "colorbar": {
             "outlinewidth": 0,
             "ticks": ""
            },
            "type": "contourcarpet"
           }
          ],
          "heatmap": [
           {
            "colorbar": {
             "outlinewidth": 0,
             "ticks": ""
            },
            "colorscale": [
             [
              0,
              "#0d0887"
             ],
             [
              0.1111111111111111,
              "#46039f"
             ],
             [
              0.2222222222222222,
              "#7201a8"
             ],
             [
              0.3333333333333333,
              "#9c179e"
             ],
             [
              0.4444444444444444,
              "#bd3786"
             ],
             [
              0.5555555555555556,
              "#d8576b"
             ],
             [
              0.6666666666666666,
              "#ed7953"
             ],
             [
              0.7777777777777778,
              "#fb9f3a"
             ],
             [
              0.8888888888888888,
              "#fdca26"
             ],
             [
              1,
              "#f0f921"
             ]
            ],
            "type": "heatmap"
           }
          ],
          "histogram": [
           {
            "marker": {
             "pattern": {
              "fillmode": "overlay",
              "size": 10,
              "solidity": 0.2
             }
            },
            "type": "histogram"
           }
          ],
          "histogram2d": [
           {
            "colorbar": {
             "outlinewidth": 0,
             "ticks": ""
            },
            "colorscale": [
             [
              0,
              "#0d0887"
             ],
             [
              0.1111111111111111,
              "#46039f"
             ],
             [
              0.2222222222222222,
              "#7201a8"
             ],
             [
              0.3333333333333333,
              "#9c179e"
             ],
             [
              0.4444444444444444,
              "#bd3786"
             ],
             [
              0.5555555555555556,
              "#d8576b"
             ],
             [
              0.6666666666666666,
              "#ed7953"
             ],
             [
              0.7777777777777778,
              "#fb9f3a"
             ],
             [
              0.8888888888888888,
              "#fdca26"
             ],
             [
              1,
              "#f0f921"
             ]
            ],
            "type": "histogram2d"
           }
          ],
          "histogram2dcontour": [
           {
            "colorbar": {
             "outlinewidth": 0,
             "ticks": ""
            },
            "colorscale": [
             [
              0,
              "#0d0887"
             ],
             [
              0.1111111111111111,
              "#46039f"
             ],
             [
              0.2222222222222222,
              "#7201a8"
             ],
             [
              0.3333333333333333,
              "#9c179e"
             ],
             [
              0.4444444444444444,
              "#bd3786"
             ],
             [
              0.5555555555555556,
              "#d8576b"
             ],
             [
              0.6666666666666666,
              "#ed7953"
             ],
             [
              0.7777777777777778,
              "#fb9f3a"
             ],
             [
              0.8888888888888888,
              "#fdca26"
             ],
             [
              1,
              "#f0f921"
             ]
            ],
            "type": "histogram2dcontour"
           }
          ],
          "mesh3d": [
           {
            "colorbar": {
             "outlinewidth": 0,
             "ticks": ""
            },
            "type": "mesh3d"
           }
          ],
          "parcoords": [
           {
            "line": {
             "colorbar": {
              "outlinewidth": 0,
              "ticks": ""
             }
            },
            "type": "parcoords"
           }
          ],
          "pie": [
           {
            "automargin": true,
            "type": "pie"
           }
          ],
          "scatter": [
           {
            "fillpattern": {
             "fillmode": "overlay",
             "size": 10,
             "solidity": 0.2
            },
            "type": "scatter"
           }
          ],
          "scatter3d": [
           {
            "line": {
             "colorbar": {
              "outlinewidth": 0,
              "ticks": ""
             }
            },
            "marker": {
             "colorbar": {
              "outlinewidth": 0,
              "ticks": ""
             }
            },
            "type": "scatter3d"
           }
          ],
          "scattercarpet": [
           {
            "marker": {
             "colorbar": {
              "outlinewidth": 0,
              "ticks": ""
             }
            },
            "type": "scattercarpet"
           }
          ],
          "scattergeo": [
           {
            "marker": {
             "colorbar": {
              "outlinewidth": 0,
              "ticks": ""
             }
            },
            "type": "scattergeo"
           }
          ],
          "scattergl": [
           {
            "marker": {
             "colorbar": {
              "outlinewidth": 0,
              "ticks": ""
             }
            },
            "type": "scattergl"
           }
          ],
          "scattermap": [
           {
            "marker": {
             "colorbar": {
              "outlinewidth": 0,
              "ticks": ""
             }
            },
            "type": "scattermap"
           }
          ],
          "scattermapbox": [
           {
            "marker": {
             "colorbar": {
              "outlinewidth": 0,
              "ticks": ""
             }
            },
            "type": "scattermapbox"
           }
          ],
          "scatterpolar": [
           {
            "marker": {
             "colorbar": {
              "outlinewidth": 0,
              "ticks": ""
             }
            },
            "type": "scatterpolar"
           }
          ],
          "scatterpolargl": [
           {
            "marker": {
             "colorbar": {
              "outlinewidth": 0,
              "ticks": ""
             }
            },
            "type": "scatterpolargl"
           }
          ],
          "scatterternary": [
           {
            "marker": {
             "colorbar": {
              "outlinewidth": 0,
              "ticks": ""
             }
            },
            "type": "scatterternary"
           }
          ],
          "surface": [
           {
            "colorbar": {
             "outlinewidth": 0,
             "ticks": ""
            },
            "colorscale": [
             [
              0,
              "#0d0887"
             ],
             [
              0.1111111111111111,
              "#46039f"
             ],
             [
              0.2222222222222222,
              "#7201a8"
             ],
             [
              0.3333333333333333,
              "#9c179e"
             ],
             [
              0.4444444444444444,
              "#bd3786"
             ],
             [
              0.5555555555555556,
              "#d8576b"
             ],
             [
              0.6666666666666666,
              "#ed7953"
             ],
             [
              0.7777777777777778,
              "#fb9f3a"
             ],
             [
              0.8888888888888888,
              "#fdca26"
             ],
             [
              1,
              "#f0f921"
             ]
            ],
            "type": "surface"
           }
          ],
          "table": [
           {
            "cells": {
             "fill": {
              "color": "#EBF0F8"
             },
             "line": {
              "color": "white"
             }
            },
            "header": {
             "fill": {
              "color": "#C8D4E3"
             },
             "line": {
              "color": "white"
             }
            },
            "type": "table"
           }
          ]
         },
         "layout": {
          "annotationdefaults": {
           "arrowcolor": "#2a3f5f",
           "arrowhead": 0,
           "arrowwidth": 1
          },
          "autotypenumbers": "strict",
          "coloraxis": {
           "colorbar": {
            "outlinewidth": 0,
            "ticks": ""
           }
          },
          "colorscale": {
           "diverging": [
            [
             0,
             "#8e0152"
            ],
            [
             0.1,
             "#c51b7d"
            ],
            [
             0.2,
             "#de77ae"
            ],
            [
             0.3,
             "#f1b6da"
            ],
            [
             0.4,
             "#fde0ef"
            ],
            [
             0.5,
             "#f7f7f7"
            ],
            [
             0.6,
             "#e6f5d0"
            ],
            [
             0.7,
             "#b8e186"
            ],
            [
             0.8,
             "#7fbc41"
            ],
            [
             0.9,
             "#4d9221"
            ],
            [
             1,
             "#276419"
            ]
           ],
           "sequential": [
            [
             0,
             "#0d0887"
            ],
            [
             0.1111111111111111,
             "#46039f"
            ],
            [
             0.2222222222222222,
             "#7201a8"
            ],
            [
             0.3333333333333333,
             "#9c179e"
            ],
            [
             0.4444444444444444,
             "#bd3786"
            ],
            [
             0.5555555555555556,
             "#d8576b"
            ],
            [
             0.6666666666666666,
             "#ed7953"
            ],
            [
             0.7777777777777778,
             "#fb9f3a"
            ],
            [
             0.8888888888888888,
             "#fdca26"
            ],
            [
             1,
             "#f0f921"
            ]
           ],
           "sequentialminus": [
            [
             0,
             "#0d0887"
            ],
            [
             0.1111111111111111,
             "#46039f"
            ],
            [
             0.2222222222222222,
             "#7201a8"
            ],
            [
             0.3333333333333333,
             "#9c179e"
            ],
            [
             0.4444444444444444,
             "#bd3786"
            ],
            [
             0.5555555555555556,
             "#d8576b"
            ],
            [
             0.6666666666666666,
             "#ed7953"
            ],
            [
             0.7777777777777778,
             "#fb9f3a"
            ],
            [
             0.8888888888888888,
             "#fdca26"
            ],
            [
             1,
             "#f0f921"
            ]
           ]
          },
          "colorway": [
           "#636efa",
           "#EF553B",
           "#00cc96",
           "#ab63fa",
           "#FFA15A",
           "#19d3f3",
           "#FF6692",
           "#B6E880",
           "#FF97FF",
           "#FECB52"
          ],
          "font": {
           "color": "#2a3f5f"
          },
          "geo": {
           "bgcolor": "white",
           "lakecolor": "white",
           "landcolor": "#E5ECF6",
           "showlakes": true,
           "showland": true,
           "subunitcolor": "white"
          },
          "hoverlabel": {
           "align": "left"
          },
          "hovermode": "closest",
          "mapbox": {
           "style": "light"
          },
          "paper_bgcolor": "white",
          "plot_bgcolor": "#E5ECF6",
          "polar": {
           "angularaxis": {
            "gridcolor": "white",
            "linecolor": "white",
            "ticks": ""
           },
           "bgcolor": "#E5ECF6",
           "radialaxis": {
            "gridcolor": "white",
            "linecolor": "white",
            "ticks": ""
           }
          },
          "scene": {
           "xaxis": {
            "backgroundcolor": "#E5ECF6",
            "gridcolor": "white",
            "gridwidth": 2,
            "linecolor": "white",
            "showbackground": true,
            "ticks": "",
            "zerolinecolor": "white"
           },
           "yaxis": {
            "backgroundcolor": "#E5ECF6",
            "gridcolor": "white",
            "gridwidth": 2,
            "linecolor": "white",
            "showbackground": true,
            "ticks": "",
            "zerolinecolor": "white"
           },
           "zaxis": {
            "backgroundcolor": "#E5ECF6",
            "gridcolor": "white",
            "gridwidth": 2,
            "linecolor": "white",
            "showbackground": true,
            "ticks": "",
            "zerolinecolor": "white"
           }
          },
          "shapedefaults": {
           "line": {
            "color": "#2a3f5f"
           }
          },
          "ternary": {
           "aaxis": {
            "gridcolor": "white",
            "linecolor": "white",
            "ticks": ""
           },
           "baxis": {
            "gridcolor": "white",
            "linecolor": "white",
            "ticks": ""
           },
           "bgcolor": "#E5ECF6",
           "caxis": {
            "gridcolor": "white",
            "linecolor": "white",
            "ticks": ""
           }
          },
          "title": {
           "x": 0.05
          },
          "xaxis": {
           "automargin": true,
           "gridcolor": "white",
           "linecolor": "white",
           "ticks": "",
           "title": {
            "standoff": 15
           },
           "zerolinecolor": "white",
           "zerolinewidth": 2
          },
          "yaxis": {
           "automargin": true,
           "gridcolor": "white",
           "linecolor": "white",
           "ticks": "",
           "title": {
            "standoff": 15
           },
           "zerolinecolor": "white",
           "zerolinewidth": 2
          }
         }
        },
        "title": {
         "text": "Content Rating"
        }
       }
      }
     },
     "metadata": {},
     "output_type": "display_data"
    }
   ],
   "source": [
    "fig = px.pie(labels=ratings.index, values=ratings.values, title='Content Rating')\n",
    "fig.show()"
   ]
  },
  {
   "cell_type": "code",
   "execution_count": 483,
   "metadata": {
    "id": "7kil2mdfoFOr"
   },
   "outputs": [
    {
     "data": {
      "application/vnd.plotly.v1+json": {
       "config": {
        "plotlyServerURL": "https://plot.ly"
       },
       "data": [
        {
         "domain": {
          "x": [
           0,
           1
          ],
          "y": [
           0,
           1
          ]
         },
         "hovertemplate": "label=%{label}<br>value=%{value}<extra></extra>",
         "labels": [
          "Everyone",
          "Teen",
          "Mature 17+",
          "Everyone 10+",
          "Adults only 18+",
          "Unrated"
         ],
         "legendgroup": "",
         "name": "",
         "showlegend": true,
         "textinfo": "percent+label",
         "textposition": "outside",
         "type": "pie",
         "values": {
          "bdata": "3RmQA2UBMQEDAAEA",
          "dtype": "i2"
         }
        }
       ],
       "layout": {
        "legend": {
         "tracegroupgap": 0
        },
        "template": {
         "data": {
          "bar": [
           {
            "error_x": {
             "color": "#2a3f5f"
            },
            "error_y": {
             "color": "#2a3f5f"
            },
            "marker": {
             "line": {
              "color": "#E5ECF6",
              "width": 0.5
             },
             "pattern": {
              "fillmode": "overlay",
              "size": 10,
              "solidity": 0.2
             }
            },
            "type": "bar"
           }
          ],
          "barpolar": [
           {
            "marker": {
             "line": {
              "color": "#E5ECF6",
              "width": 0.5
             },
             "pattern": {
              "fillmode": "overlay",
              "size": 10,
              "solidity": 0.2
             }
            },
            "type": "barpolar"
           }
          ],
          "carpet": [
           {
            "aaxis": {
             "endlinecolor": "#2a3f5f",
             "gridcolor": "white",
             "linecolor": "white",
             "minorgridcolor": "white",
             "startlinecolor": "#2a3f5f"
            },
            "baxis": {
             "endlinecolor": "#2a3f5f",
             "gridcolor": "white",
             "linecolor": "white",
             "minorgridcolor": "white",
             "startlinecolor": "#2a3f5f"
            },
            "type": "carpet"
           }
          ],
          "choropleth": [
           {
            "colorbar": {
             "outlinewidth": 0,
             "ticks": ""
            },
            "type": "choropleth"
           }
          ],
          "contour": [
           {
            "colorbar": {
             "outlinewidth": 0,
             "ticks": ""
            },
            "colorscale": [
             [
              0,
              "#0d0887"
             ],
             [
              0.1111111111111111,
              "#46039f"
             ],
             [
              0.2222222222222222,
              "#7201a8"
             ],
             [
              0.3333333333333333,
              "#9c179e"
             ],
             [
              0.4444444444444444,
              "#bd3786"
             ],
             [
              0.5555555555555556,
              "#d8576b"
             ],
             [
              0.6666666666666666,
              "#ed7953"
             ],
             [
              0.7777777777777778,
              "#fb9f3a"
             ],
             [
              0.8888888888888888,
              "#fdca26"
             ],
             [
              1,
              "#f0f921"
             ]
            ],
            "type": "contour"
           }
          ],
          "contourcarpet": [
           {
            "colorbar": {
             "outlinewidth": 0,
             "ticks": ""
            },
            "type": "contourcarpet"
           }
          ],
          "heatmap": [
           {
            "colorbar": {
             "outlinewidth": 0,
             "ticks": ""
            },
            "colorscale": [
             [
              0,
              "#0d0887"
             ],
             [
              0.1111111111111111,
              "#46039f"
             ],
             [
              0.2222222222222222,
              "#7201a8"
             ],
             [
              0.3333333333333333,
              "#9c179e"
             ],
             [
              0.4444444444444444,
              "#bd3786"
             ],
             [
              0.5555555555555556,
              "#d8576b"
             ],
             [
              0.6666666666666666,
              "#ed7953"
             ],
             [
              0.7777777777777778,
              "#fb9f3a"
             ],
             [
              0.8888888888888888,
              "#fdca26"
             ],
             [
              1,
              "#f0f921"
             ]
            ],
            "type": "heatmap"
           }
          ],
          "histogram": [
           {
            "marker": {
             "pattern": {
              "fillmode": "overlay",
              "size": 10,
              "solidity": 0.2
             }
            },
            "type": "histogram"
           }
          ],
          "histogram2d": [
           {
            "colorbar": {
             "outlinewidth": 0,
             "ticks": ""
            },
            "colorscale": [
             [
              0,
              "#0d0887"
             ],
             [
              0.1111111111111111,
              "#46039f"
             ],
             [
              0.2222222222222222,
              "#7201a8"
             ],
             [
              0.3333333333333333,
              "#9c179e"
             ],
             [
              0.4444444444444444,
              "#bd3786"
             ],
             [
              0.5555555555555556,
              "#d8576b"
             ],
             [
              0.6666666666666666,
              "#ed7953"
             ],
             [
              0.7777777777777778,
              "#fb9f3a"
             ],
             [
              0.8888888888888888,
              "#fdca26"
             ],
             [
              1,
              "#f0f921"
             ]
            ],
            "type": "histogram2d"
           }
          ],
          "histogram2dcontour": [
           {
            "colorbar": {
             "outlinewidth": 0,
             "ticks": ""
            },
            "colorscale": [
             [
              0,
              "#0d0887"
             ],
             [
              0.1111111111111111,
              "#46039f"
             ],
             [
              0.2222222222222222,
              "#7201a8"
             ],
             [
              0.3333333333333333,
              "#9c179e"
             ],
             [
              0.4444444444444444,
              "#bd3786"
             ],
             [
              0.5555555555555556,
              "#d8576b"
             ],
             [
              0.6666666666666666,
              "#ed7953"
             ],
             [
              0.7777777777777778,
              "#fb9f3a"
             ],
             [
              0.8888888888888888,
              "#fdca26"
             ],
             [
              1,
              "#f0f921"
             ]
            ],
            "type": "histogram2dcontour"
           }
          ],
          "mesh3d": [
           {
            "colorbar": {
             "outlinewidth": 0,
             "ticks": ""
            },
            "type": "mesh3d"
           }
          ],
          "parcoords": [
           {
            "line": {
             "colorbar": {
              "outlinewidth": 0,
              "ticks": ""
             }
            },
            "type": "parcoords"
           }
          ],
          "pie": [
           {
            "automargin": true,
            "type": "pie"
           }
          ],
          "scatter": [
           {
            "fillpattern": {
             "fillmode": "overlay",
             "size": 10,
             "solidity": 0.2
            },
            "type": "scatter"
           }
          ],
          "scatter3d": [
           {
            "line": {
             "colorbar": {
              "outlinewidth": 0,
              "ticks": ""
             }
            },
            "marker": {
             "colorbar": {
              "outlinewidth": 0,
              "ticks": ""
             }
            },
            "type": "scatter3d"
           }
          ],
          "scattercarpet": [
           {
            "marker": {
             "colorbar": {
              "outlinewidth": 0,
              "ticks": ""
             }
            },
            "type": "scattercarpet"
           }
          ],
          "scattergeo": [
           {
            "marker": {
             "colorbar": {
              "outlinewidth": 0,
              "ticks": ""
             }
            },
            "type": "scattergeo"
           }
          ],
          "scattergl": [
           {
            "marker": {
             "colorbar": {
              "outlinewidth": 0,
              "ticks": ""
             }
            },
            "type": "scattergl"
           }
          ],
          "scattermap": [
           {
            "marker": {
             "colorbar": {
              "outlinewidth": 0,
              "ticks": ""
             }
            },
            "type": "scattermap"
           }
          ],
          "scattermapbox": [
           {
            "marker": {
             "colorbar": {
              "outlinewidth": 0,
              "ticks": ""
             }
            },
            "type": "scattermapbox"
           }
          ],
          "scatterpolar": [
           {
            "marker": {
             "colorbar": {
              "outlinewidth": 0,
              "ticks": ""
             }
            },
            "type": "scatterpolar"
           }
          ],
          "scatterpolargl": [
           {
            "marker": {
             "colorbar": {
              "outlinewidth": 0,
              "ticks": ""
             }
            },
            "type": "scatterpolargl"
           }
          ],
          "scatterternary": [
           {
            "marker": {
             "colorbar": {
              "outlinewidth": 0,
              "ticks": ""
             }
            },
            "type": "scatterternary"
           }
          ],
          "surface": [
           {
            "colorbar": {
             "outlinewidth": 0,
             "ticks": ""
            },
            "colorscale": [
             [
              0,
              "#0d0887"
             ],
             [
              0.1111111111111111,
              "#46039f"
             ],
             [
              0.2222222222222222,
              "#7201a8"
             ],
             [
              0.3333333333333333,
              "#9c179e"
             ],
             [
              0.4444444444444444,
              "#bd3786"
             ],
             [
              0.5555555555555556,
              "#d8576b"
             ],
             [
              0.6666666666666666,
              "#ed7953"
             ],
             [
              0.7777777777777778,
              "#fb9f3a"
             ],
             [
              0.8888888888888888,
              "#fdca26"
             ],
             [
              1,
              "#f0f921"
             ]
            ],
            "type": "surface"
           }
          ],
          "table": [
           {
            "cells": {
             "fill": {
              "color": "#EBF0F8"
             },
             "line": {
              "color": "white"
             }
            },
            "header": {
             "fill": {
              "color": "#C8D4E3"
             },
             "line": {
              "color": "white"
             }
            },
            "type": "table"
           }
          ]
         },
         "layout": {
          "annotationdefaults": {
           "arrowcolor": "#2a3f5f",
           "arrowhead": 0,
           "arrowwidth": 1
          },
          "autotypenumbers": "strict",
          "coloraxis": {
           "colorbar": {
            "outlinewidth": 0,
            "ticks": ""
           }
          },
          "colorscale": {
           "diverging": [
            [
             0,
             "#8e0152"
            ],
            [
             0.1,
             "#c51b7d"
            ],
            [
             0.2,
             "#de77ae"
            ],
            [
             0.3,
             "#f1b6da"
            ],
            [
             0.4,
             "#fde0ef"
            ],
            [
             0.5,
             "#f7f7f7"
            ],
            [
             0.6,
             "#e6f5d0"
            ],
            [
             0.7,
             "#b8e186"
            ],
            [
             0.8,
             "#7fbc41"
            ],
            [
             0.9,
             "#4d9221"
            ],
            [
             1,
             "#276419"
            ]
           ],
           "sequential": [
            [
             0,
             "#0d0887"
            ],
            [
             0.1111111111111111,
             "#46039f"
            ],
            [
             0.2222222222222222,
             "#7201a8"
            ],
            [
             0.3333333333333333,
             "#9c179e"
            ],
            [
             0.4444444444444444,
             "#bd3786"
            ],
            [
             0.5555555555555556,
             "#d8576b"
            ],
            [
             0.6666666666666666,
             "#ed7953"
            ],
            [
             0.7777777777777778,
             "#fb9f3a"
            ],
            [
             0.8888888888888888,
             "#fdca26"
            ],
            [
             1,
             "#f0f921"
            ]
           ],
           "sequentialminus": [
            [
             0,
             "#0d0887"
            ],
            [
             0.1111111111111111,
             "#46039f"
            ],
            [
             0.2222222222222222,
             "#7201a8"
            ],
            [
             0.3333333333333333,
             "#9c179e"
            ],
            [
             0.4444444444444444,
             "#bd3786"
            ],
            [
             0.5555555555555556,
             "#d8576b"
            ],
            [
             0.6666666666666666,
             "#ed7953"
            ],
            [
             0.7777777777777778,
             "#fb9f3a"
            ],
            [
             0.8888888888888888,
             "#fdca26"
            ],
            [
             1,
             "#f0f921"
            ]
           ]
          },
          "colorway": [
           "#636efa",
           "#EF553B",
           "#00cc96",
           "#ab63fa",
           "#FFA15A",
           "#19d3f3",
           "#FF6692",
           "#B6E880",
           "#FF97FF",
           "#FECB52"
          ],
          "font": {
           "color": "#2a3f5f"
          },
          "geo": {
           "bgcolor": "white",
           "lakecolor": "white",
           "landcolor": "#E5ECF6",
           "showlakes": true,
           "showland": true,
           "subunitcolor": "white"
          },
          "hoverlabel": {
           "align": "left"
          },
          "hovermode": "closest",
          "mapbox": {
           "style": "light"
          },
          "paper_bgcolor": "white",
          "plot_bgcolor": "#E5ECF6",
          "polar": {
           "angularaxis": {
            "gridcolor": "white",
            "linecolor": "white",
            "ticks": ""
           },
           "bgcolor": "#E5ECF6",
           "radialaxis": {
            "gridcolor": "white",
            "linecolor": "white",
            "ticks": ""
           }
          },
          "scene": {
           "xaxis": {
            "backgroundcolor": "#E5ECF6",
            "gridcolor": "white",
            "gridwidth": 2,
            "linecolor": "white",
            "showbackground": true,
            "ticks": "",
            "zerolinecolor": "white"
           },
           "yaxis": {
            "backgroundcolor": "#E5ECF6",
            "gridcolor": "white",
            "gridwidth": 2,
            "linecolor": "white",
            "showbackground": true,
            "ticks": "",
            "zerolinecolor": "white"
           },
           "zaxis": {
            "backgroundcolor": "#E5ECF6",
            "gridcolor": "white",
            "gridwidth": 2,
            "linecolor": "white",
            "showbackground": true,
            "ticks": "",
            "zerolinecolor": "white"
           }
          },
          "shapedefaults": {
           "line": {
            "color": "#2a3f5f"
           }
          },
          "ternary": {
           "aaxis": {
            "gridcolor": "white",
            "linecolor": "white",
            "ticks": ""
           },
           "baxis": {
            "gridcolor": "white",
            "linecolor": "white",
            "ticks": ""
           },
           "bgcolor": "#E5ECF6",
           "caxis": {
            "gridcolor": "white",
            "linecolor": "white",
            "ticks": ""
           }
          },
          "title": {
           "x": 0.05
          },
          "xaxis": {
           "automargin": true,
           "gridcolor": "white",
           "linecolor": "white",
           "ticks": "",
           "title": {
            "standoff": 15
           },
           "zerolinecolor": "white",
           "zerolinewidth": 2
          },
          "yaxis": {
           "automargin": true,
           "gridcolor": "white",
           "linecolor": "white",
           "ticks": "",
           "title": {
            "standoff": 15
           },
           "zerolinecolor": "white",
           "zerolinewidth": 2
          }
         }
        },
        "title": {
         "text": "Content Rating"
        }
       }
      }
     },
     "metadata": {},
     "output_type": "display_data"
    }
   ],
   "source": [
    "fig = px.pie(labels=ratings.index, values=ratings.values, names= ratings.index, title='Content Rating')\n",
    "fig.update_traces(textposition='outside', textinfo='percent+label')\n",
    "fig.show()"
   ]
  },
  {
   "cell_type": "code",
   "execution_count": 484,
   "metadata": {
    "id": "6ZaHYNy2oFEE"
   },
   "outputs": [
    {
     "data": {
      "application/vnd.plotly.v1+json": {
       "config": {
        "plotlyServerURL": "https://plot.ly"
       },
       "data": [
        {
         "domain": {
          "x": [
           0,
           1
          ],
          "y": [
           0,
           1
          ]
         },
         "hole": 0.5,
         "hovertemplate": "label=%{label}<br>value=%{value}<extra></extra>",
         "labels": [
          "Everyone",
          "Teen",
          "Mature 17+",
          "Everyone 10+",
          "Adults only 18+",
          "Unrated"
         ],
         "legendgroup": "",
         "name": "",
         "showlegend": true,
         "textinfo": "percent+label",
         "textposition": "outside",
         "type": "pie",
         "values": {
          "bdata": "3RmQA2UBMQEDAAEA",
          "dtype": "i2"
         }
        }
       ],
       "layout": {
        "legend": {
         "tracegroupgap": 0
        },
        "template": {
         "data": {
          "bar": [
           {
            "error_x": {
             "color": "#2a3f5f"
            },
            "error_y": {
             "color": "#2a3f5f"
            },
            "marker": {
             "line": {
              "color": "#E5ECF6",
              "width": 0.5
             },
             "pattern": {
              "fillmode": "overlay",
              "size": 10,
              "solidity": 0.2
             }
            },
            "type": "bar"
           }
          ],
          "barpolar": [
           {
            "marker": {
             "line": {
              "color": "#E5ECF6",
              "width": 0.5
             },
             "pattern": {
              "fillmode": "overlay",
              "size": 10,
              "solidity": 0.2
             }
            },
            "type": "barpolar"
           }
          ],
          "carpet": [
           {
            "aaxis": {
             "endlinecolor": "#2a3f5f",
             "gridcolor": "white",
             "linecolor": "white",
             "minorgridcolor": "white",
             "startlinecolor": "#2a3f5f"
            },
            "baxis": {
             "endlinecolor": "#2a3f5f",
             "gridcolor": "white",
             "linecolor": "white",
             "minorgridcolor": "white",
             "startlinecolor": "#2a3f5f"
            },
            "type": "carpet"
           }
          ],
          "choropleth": [
           {
            "colorbar": {
             "outlinewidth": 0,
             "ticks": ""
            },
            "type": "choropleth"
           }
          ],
          "contour": [
           {
            "colorbar": {
             "outlinewidth": 0,
             "ticks": ""
            },
            "colorscale": [
             [
              0,
              "#0d0887"
             ],
             [
              0.1111111111111111,
              "#46039f"
             ],
             [
              0.2222222222222222,
              "#7201a8"
             ],
             [
              0.3333333333333333,
              "#9c179e"
             ],
             [
              0.4444444444444444,
              "#bd3786"
             ],
             [
              0.5555555555555556,
              "#d8576b"
             ],
             [
              0.6666666666666666,
              "#ed7953"
             ],
             [
              0.7777777777777778,
              "#fb9f3a"
             ],
             [
              0.8888888888888888,
              "#fdca26"
             ],
             [
              1,
              "#f0f921"
             ]
            ],
            "type": "contour"
           }
          ],
          "contourcarpet": [
           {
            "colorbar": {
             "outlinewidth": 0,
             "ticks": ""
            },
            "type": "contourcarpet"
           }
          ],
          "heatmap": [
           {
            "colorbar": {
             "outlinewidth": 0,
             "ticks": ""
            },
            "colorscale": [
             [
              0,
              "#0d0887"
             ],
             [
              0.1111111111111111,
              "#46039f"
             ],
             [
              0.2222222222222222,
              "#7201a8"
             ],
             [
              0.3333333333333333,
              "#9c179e"
             ],
             [
              0.4444444444444444,
              "#bd3786"
             ],
             [
              0.5555555555555556,
              "#d8576b"
             ],
             [
              0.6666666666666666,
              "#ed7953"
             ],
             [
              0.7777777777777778,
              "#fb9f3a"
             ],
             [
              0.8888888888888888,
              "#fdca26"
             ],
             [
              1,
              "#f0f921"
             ]
            ],
            "type": "heatmap"
           }
          ],
          "histogram": [
           {
            "marker": {
             "pattern": {
              "fillmode": "overlay",
              "size": 10,
              "solidity": 0.2
             }
            },
            "type": "histogram"
           }
          ],
          "histogram2d": [
           {
            "colorbar": {
             "outlinewidth": 0,
             "ticks": ""
            },
            "colorscale": [
             [
              0,
              "#0d0887"
             ],
             [
              0.1111111111111111,
              "#46039f"
             ],
             [
              0.2222222222222222,
              "#7201a8"
             ],
             [
              0.3333333333333333,
              "#9c179e"
             ],
             [
              0.4444444444444444,
              "#bd3786"
             ],
             [
              0.5555555555555556,
              "#d8576b"
             ],
             [
              0.6666666666666666,
              "#ed7953"
             ],
             [
              0.7777777777777778,
              "#fb9f3a"
             ],
             [
              0.8888888888888888,
              "#fdca26"
             ],
             [
              1,
              "#f0f921"
             ]
            ],
            "type": "histogram2d"
           }
          ],
          "histogram2dcontour": [
           {
            "colorbar": {
             "outlinewidth": 0,
             "ticks": ""
            },
            "colorscale": [
             [
              0,
              "#0d0887"
             ],
             [
              0.1111111111111111,
              "#46039f"
             ],
             [
              0.2222222222222222,
              "#7201a8"
             ],
             [
              0.3333333333333333,
              "#9c179e"
             ],
             [
              0.4444444444444444,
              "#bd3786"
             ],
             [
              0.5555555555555556,
              "#d8576b"
             ],
             [
              0.6666666666666666,
              "#ed7953"
             ],
             [
              0.7777777777777778,
              "#fb9f3a"
             ],
             [
              0.8888888888888888,
              "#fdca26"
             ],
             [
              1,
              "#f0f921"
             ]
            ],
            "type": "histogram2dcontour"
           }
          ],
          "mesh3d": [
           {
            "colorbar": {
             "outlinewidth": 0,
             "ticks": ""
            },
            "type": "mesh3d"
           }
          ],
          "parcoords": [
           {
            "line": {
             "colorbar": {
              "outlinewidth": 0,
              "ticks": ""
             }
            },
            "type": "parcoords"
           }
          ],
          "pie": [
           {
            "automargin": true,
            "type": "pie"
           }
          ],
          "scatter": [
           {
            "fillpattern": {
             "fillmode": "overlay",
             "size": 10,
             "solidity": 0.2
            },
            "type": "scatter"
           }
          ],
          "scatter3d": [
           {
            "line": {
             "colorbar": {
              "outlinewidth": 0,
              "ticks": ""
             }
            },
            "marker": {
             "colorbar": {
              "outlinewidth": 0,
              "ticks": ""
             }
            },
            "type": "scatter3d"
           }
          ],
          "scattercarpet": [
           {
            "marker": {
             "colorbar": {
              "outlinewidth": 0,
              "ticks": ""
             }
            },
            "type": "scattercarpet"
           }
          ],
          "scattergeo": [
           {
            "marker": {
             "colorbar": {
              "outlinewidth": 0,
              "ticks": ""
             }
            },
            "type": "scattergeo"
           }
          ],
          "scattergl": [
           {
            "marker": {
             "colorbar": {
              "outlinewidth": 0,
              "ticks": ""
             }
            },
            "type": "scattergl"
           }
          ],
          "scattermap": [
           {
            "marker": {
             "colorbar": {
              "outlinewidth": 0,
              "ticks": ""
             }
            },
            "type": "scattermap"
           }
          ],
          "scattermapbox": [
           {
            "marker": {
             "colorbar": {
              "outlinewidth": 0,
              "ticks": ""
             }
            },
            "type": "scattermapbox"
           }
          ],
          "scatterpolar": [
           {
            "marker": {
             "colorbar": {
              "outlinewidth": 0,
              "ticks": ""
             }
            },
            "type": "scatterpolar"
           }
          ],
          "scatterpolargl": [
           {
            "marker": {
             "colorbar": {
              "outlinewidth": 0,
              "ticks": ""
             }
            },
            "type": "scatterpolargl"
           }
          ],
          "scatterternary": [
           {
            "marker": {
             "colorbar": {
              "outlinewidth": 0,
              "ticks": ""
             }
            },
            "type": "scatterternary"
           }
          ],
          "surface": [
           {
            "colorbar": {
             "outlinewidth": 0,
             "ticks": ""
            },
            "colorscale": [
             [
              0,
              "#0d0887"
             ],
             [
              0.1111111111111111,
              "#46039f"
             ],
             [
              0.2222222222222222,
              "#7201a8"
             ],
             [
              0.3333333333333333,
              "#9c179e"
             ],
             [
              0.4444444444444444,
              "#bd3786"
             ],
             [
              0.5555555555555556,
              "#d8576b"
             ],
             [
              0.6666666666666666,
              "#ed7953"
             ],
             [
              0.7777777777777778,
              "#fb9f3a"
             ],
             [
              0.8888888888888888,
              "#fdca26"
             ],
             [
              1,
              "#f0f921"
             ]
            ],
            "type": "surface"
           }
          ],
          "table": [
           {
            "cells": {
             "fill": {
              "color": "#EBF0F8"
             },
             "line": {
              "color": "white"
             }
            },
            "header": {
             "fill": {
              "color": "#C8D4E3"
             },
             "line": {
              "color": "white"
             }
            },
            "type": "table"
           }
          ]
         },
         "layout": {
          "annotationdefaults": {
           "arrowcolor": "#2a3f5f",
           "arrowhead": 0,
           "arrowwidth": 1
          },
          "autotypenumbers": "strict",
          "coloraxis": {
           "colorbar": {
            "outlinewidth": 0,
            "ticks": ""
           }
          },
          "colorscale": {
           "diverging": [
            [
             0,
             "#8e0152"
            ],
            [
             0.1,
             "#c51b7d"
            ],
            [
             0.2,
             "#de77ae"
            ],
            [
             0.3,
             "#f1b6da"
            ],
            [
             0.4,
             "#fde0ef"
            ],
            [
             0.5,
             "#f7f7f7"
            ],
            [
             0.6,
             "#e6f5d0"
            ],
            [
             0.7,
             "#b8e186"
            ],
            [
             0.8,
             "#7fbc41"
            ],
            [
             0.9,
             "#4d9221"
            ],
            [
             1,
             "#276419"
            ]
           ],
           "sequential": [
            [
             0,
             "#0d0887"
            ],
            [
             0.1111111111111111,
             "#46039f"
            ],
            [
             0.2222222222222222,
             "#7201a8"
            ],
            [
             0.3333333333333333,
             "#9c179e"
            ],
            [
             0.4444444444444444,
             "#bd3786"
            ],
            [
             0.5555555555555556,
             "#d8576b"
            ],
            [
             0.6666666666666666,
             "#ed7953"
            ],
            [
             0.7777777777777778,
             "#fb9f3a"
            ],
            [
             0.8888888888888888,
             "#fdca26"
            ],
            [
             1,
             "#f0f921"
            ]
           ],
           "sequentialminus": [
            [
             0,
             "#0d0887"
            ],
            [
             0.1111111111111111,
             "#46039f"
            ],
            [
             0.2222222222222222,
             "#7201a8"
            ],
            [
             0.3333333333333333,
             "#9c179e"
            ],
            [
             0.4444444444444444,
             "#bd3786"
            ],
            [
             0.5555555555555556,
             "#d8576b"
            ],
            [
             0.6666666666666666,
             "#ed7953"
            ],
            [
             0.7777777777777778,
             "#fb9f3a"
            ],
            [
             0.8888888888888888,
             "#fdca26"
            ],
            [
             1,
             "#f0f921"
            ]
           ]
          },
          "colorway": [
           "#636efa",
           "#EF553B",
           "#00cc96",
           "#ab63fa",
           "#FFA15A",
           "#19d3f3",
           "#FF6692",
           "#B6E880",
           "#FF97FF",
           "#FECB52"
          ],
          "font": {
           "color": "#2a3f5f"
          },
          "geo": {
           "bgcolor": "white",
           "lakecolor": "white",
           "landcolor": "#E5ECF6",
           "showlakes": true,
           "showland": true,
           "subunitcolor": "white"
          },
          "hoverlabel": {
           "align": "left"
          },
          "hovermode": "closest",
          "mapbox": {
           "style": "light"
          },
          "paper_bgcolor": "white",
          "plot_bgcolor": "#E5ECF6",
          "polar": {
           "angularaxis": {
            "gridcolor": "white",
            "linecolor": "white",
            "ticks": ""
           },
           "bgcolor": "#E5ECF6",
           "radialaxis": {
            "gridcolor": "white",
            "linecolor": "white",
            "ticks": ""
           }
          },
          "scene": {
           "xaxis": {
            "backgroundcolor": "#E5ECF6",
            "gridcolor": "white",
            "gridwidth": 2,
            "linecolor": "white",
            "showbackground": true,
            "ticks": "",
            "zerolinecolor": "white"
           },
           "yaxis": {
            "backgroundcolor": "#E5ECF6",
            "gridcolor": "white",
            "gridwidth": 2,
            "linecolor": "white",
            "showbackground": true,
            "ticks": "",
            "zerolinecolor": "white"
           },
           "zaxis": {
            "backgroundcolor": "#E5ECF6",
            "gridcolor": "white",
            "gridwidth": 2,
            "linecolor": "white",
            "showbackground": true,
            "ticks": "",
            "zerolinecolor": "white"
           }
          },
          "shapedefaults": {
           "line": {
            "color": "#2a3f5f"
           }
          },
          "ternary": {
           "aaxis": {
            "gridcolor": "white",
            "linecolor": "white",
            "ticks": ""
           },
           "baxis": {
            "gridcolor": "white",
            "linecolor": "white",
            "ticks": ""
           },
           "bgcolor": "#E5ECF6",
           "caxis": {
            "gridcolor": "white",
            "linecolor": "white",
            "ticks": ""
           }
          },
          "title": {
           "x": 0.05
          },
          "xaxis": {
           "automargin": true,
           "gridcolor": "white",
           "linecolor": "white",
           "ticks": "",
           "title": {
            "standoff": 15
           },
           "zerolinecolor": "white",
           "zerolinewidth": 2
          },
          "yaxis": {
           "automargin": true,
           "gridcolor": "white",
           "linecolor": "white",
           "ticks": "",
           "title": {
            "standoff": 15
           },
           "zerolinecolor": "white",
           "zerolinewidth": 2
          }
         }
        },
        "title": {
         "text": "Content Rating"
        }
       }
      }
     },
     "metadata": {},
     "output_type": "display_data"
    }
   ],
   "source": [
    "fig = px.pie(labels=ratings.index, values=ratings.values, names= ratings.index, hole=0.5, title='Content Rating')\n",
    "fig.update_traces(textposition='outside', textinfo='percent+label')\n",
    "fig.show()"
   ]
  },
  {
   "cell_type": "markdown",
   "metadata": {
    "id": "RoPpW37xdiUm"
   },
   "source": [
    "# Numeric Type Conversion: Examine the Number of Installs\n",
    "\n",
    "**Challenge**: How many apps had over 1 billion (that's right - BILLION) installations? How many apps just had a single install? \n",
    "\n",
    "Check the datatype of the Installs column.\n",
    "\n",
    "Count the number of apps at each level of installations. \n",
    "\n",
    "Convert the number of installations (the Installs column) to a numeric data type. Hint: this is a 2-step process. You'll have make sure you remove non-numeric characters first. "
   ]
  },
  {
   "cell_type": "code",
   "execution_count": 485,
   "metadata": {
    "id": "uTNyWsPboJLq"
   },
   "outputs": [
    {
     "data": {
      "text/plain": [
       "count          8199\n",
       "unique           19\n",
       "top       1,000,000\n",
       "freq           1417\n",
       "Name: Installs, dtype: object"
      ]
     },
     "execution_count": 485,
     "metadata": {},
     "output_type": "execute_result"
    }
   ],
   "source": [
    "df_apps_clean.Installs.describe()"
   ]
  },
  {
   "cell_type": "code",
   "execution_count": 486,
   "metadata": {
    "id": "yzR49fYcoJRI"
   },
   "outputs": [
    {
     "name": "stdout",
     "output_type": "stream",
     "text": [
      "<class 'pandas.core.frame.DataFrame'>\n",
      "Index: 8199 entries, 21 to 10835\n",
      "Data columns (total 10 columns):\n",
      " #   Column          Non-Null Count  Dtype  \n",
      "---  ------          --------------  -----  \n",
      " 0   App             8199 non-null   object \n",
      " 1   Category        8199 non-null   object \n",
      " 2   Rating          8199 non-null   float64\n",
      " 3   Reviews         8199 non-null   int64  \n",
      " 4   Size_MBs        8199 non-null   float64\n",
      " 5   Installs        8199 non-null   object \n",
      " 6   Type            8199 non-null   object \n",
      " 7   Price           8199 non-null   object \n",
      " 8   Content_Rating  8199 non-null   object \n",
      " 9   Genres          8199 non-null   object \n",
      "dtypes: float64(2), int64(1), object(7)\n",
      "memory usage: 704.6+ KB\n"
     ]
    }
   ],
   "source": [
    "df_apps_clean.info()"
   ]
  },
  {
   "cell_type": "code",
   "execution_count": 487,
   "metadata": {
    "id": "cFjptR-JoJOE"
   },
   "outputs": [
    {
     "data": {
      "text/html": [
       "<div>\n",
       "<style scoped>\n",
       "    .dataframe tbody tr th:only-of-type {\n",
       "        vertical-align: middle;\n",
       "    }\n",
       "\n",
       "    .dataframe tbody tr th {\n",
       "        vertical-align: top;\n",
       "    }\n",
       "\n",
       "    .dataframe thead th {\n",
       "        text-align: right;\n",
       "    }\n",
       "</style>\n",
       "<table border=\"1\" class=\"dataframe\">\n",
       "  <thead>\n",
       "    <tr style=\"text-align: right;\">\n",
       "      <th></th>\n",
       "      <th>App</th>\n",
       "    </tr>\n",
       "    <tr>\n",
       "      <th>Installs</th>\n",
       "      <th></th>\n",
       "    </tr>\n",
       "  </thead>\n",
       "  <tbody>\n",
       "    <tr>\n",
       "      <th>1</th>\n",
       "      <td>3</td>\n",
       "    </tr>\n",
       "    <tr>\n",
       "      <th>1,000</th>\n",
       "      <td>698</td>\n",
       "    </tr>\n",
       "    <tr>\n",
       "      <th>1,000,000</th>\n",
       "      <td>1417</td>\n",
       "    </tr>\n",
       "    <tr>\n",
       "      <th>1,000,000,000</th>\n",
       "      <td>20</td>\n",
       "    </tr>\n",
       "    <tr>\n",
       "      <th>10</th>\n",
       "      <td>69</td>\n",
       "    </tr>\n",
       "    <tr>\n",
       "      <th>10,000</th>\n",
       "      <td>988</td>\n",
       "    </tr>\n",
       "    <tr>\n",
       "      <th>10,000,000</th>\n",
       "      <td>933</td>\n",
       "    </tr>\n",
       "    <tr>\n",
       "      <th>100</th>\n",
       "      <td>303</td>\n",
       "    </tr>\n",
       "    <tr>\n",
       "      <th>100,000</th>\n",
       "      <td>1096</td>\n",
       "    </tr>\n",
       "    <tr>\n",
       "      <th>100,000,000</th>\n",
       "      <td>189</td>\n",
       "    </tr>\n",
       "    <tr>\n",
       "      <th>5</th>\n",
       "      <td>9</td>\n",
       "    </tr>\n",
       "    <tr>\n",
       "      <th>5,000</th>\n",
       "      <td>425</td>\n",
       "    </tr>\n",
       "    <tr>\n",
       "      <th>5,000,000</th>\n",
       "      <td>607</td>\n",
       "    </tr>\n",
       "    <tr>\n",
       "      <th>50</th>\n",
       "      <td>56</td>\n",
       "    </tr>\n",
       "    <tr>\n",
       "      <th>50,000</th>\n",
       "      <td>457</td>\n",
       "    </tr>\n",
       "    <tr>\n",
       "      <th>50,000,000</th>\n",
       "      <td>202</td>\n",
       "    </tr>\n",
       "    <tr>\n",
       "      <th>500</th>\n",
       "      <td>199</td>\n",
       "    </tr>\n",
       "    <tr>\n",
       "      <th>500,000</th>\n",
       "      <td>504</td>\n",
       "    </tr>\n",
       "    <tr>\n",
       "      <th>500,000,000</th>\n",
       "      <td>24</td>\n",
       "    </tr>\n",
       "  </tbody>\n",
       "</table>\n",
       "</div>"
      ],
      "text/plain": [
       "                App\n",
       "Installs           \n",
       "1                 3\n",
       "1,000           698\n",
       "1,000,000      1417\n",
       "1,000,000,000    20\n",
       "10               69\n",
       "10,000          988\n",
       "10,000,000      933\n",
       "100             303\n",
       "100,000        1096\n",
       "100,000,000     189\n",
       "5                 9\n",
       "5,000           425\n",
       "5,000,000       607\n",
       "50               56\n",
       "50,000          457\n",
       "50,000,000      202\n",
       "500             199\n",
       "500,000         504\n",
       "500,000,000      24"
      ]
     },
     "execution_count": 487,
     "metadata": {},
     "output_type": "execute_result"
    }
   ],
   "source": [
    "df_apps_clean[['Installs','App']].groupby('Installs').count()\n"
   ]
  },
  {
   "cell_type": "code",
   "execution_count": 488,
   "metadata": {
    "id": "8AMmxKHgoJGT"
   },
   "outputs": [
    {
     "data": {
      "text/html": [
       "<div>\n",
       "<style scoped>\n",
       "    .dataframe tbody tr th:only-of-type {\n",
       "        vertical-align: middle;\n",
       "    }\n",
       "\n",
       "    .dataframe tbody tr th {\n",
       "        vertical-align: top;\n",
       "    }\n",
       "\n",
       "    .dataframe thead th {\n",
       "        text-align: right;\n",
       "    }\n",
       "</style>\n",
       "<table border=\"1\" class=\"dataframe\">\n",
       "  <thead>\n",
       "    <tr style=\"text-align: right;\">\n",
       "      <th></th>\n",
       "      <th>App</th>\n",
       "    </tr>\n",
       "    <tr>\n",
       "      <th>Installs</th>\n",
       "      <th></th>\n",
       "    </tr>\n",
       "  </thead>\n",
       "  <tbody>\n",
       "    <tr>\n",
       "      <th>1</th>\n",
       "      <td>3</td>\n",
       "    </tr>\n",
       "    <tr>\n",
       "      <th>5</th>\n",
       "      <td>9</td>\n",
       "    </tr>\n",
       "    <tr>\n",
       "      <th>10</th>\n",
       "      <td>69</td>\n",
       "    </tr>\n",
       "    <tr>\n",
       "      <th>50</th>\n",
       "      <td>56</td>\n",
       "    </tr>\n",
       "    <tr>\n",
       "      <th>100</th>\n",
       "      <td>303</td>\n",
       "    </tr>\n",
       "    <tr>\n",
       "      <th>500</th>\n",
       "      <td>199</td>\n",
       "    </tr>\n",
       "    <tr>\n",
       "      <th>1000</th>\n",
       "      <td>698</td>\n",
       "    </tr>\n",
       "    <tr>\n",
       "      <th>5000</th>\n",
       "      <td>425</td>\n",
       "    </tr>\n",
       "    <tr>\n",
       "      <th>10000</th>\n",
       "      <td>988</td>\n",
       "    </tr>\n",
       "    <tr>\n",
       "      <th>50000</th>\n",
       "      <td>457</td>\n",
       "    </tr>\n",
       "    <tr>\n",
       "      <th>100000</th>\n",
       "      <td>1096</td>\n",
       "    </tr>\n",
       "    <tr>\n",
       "      <th>500000</th>\n",
       "      <td>504</td>\n",
       "    </tr>\n",
       "    <tr>\n",
       "      <th>1000000</th>\n",
       "      <td>1417</td>\n",
       "    </tr>\n",
       "    <tr>\n",
       "      <th>5000000</th>\n",
       "      <td>607</td>\n",
       "    </tr>\n",
       "    <tr>\n",
       "      <th>10000000</th>\n",
       "      <td>933</td>\n",
       "    </tr>\n",
       "    <tr>\n",
       "      <th>50000000</th>\n",
       "      <td>202</td>\n",
       "    </tr>\n",
       "    <tr>\n",
       "      <th>100000000</th>\n",
       "      <td>189</td>\n",
       "    </tr>\n",
       "    <tr>\n",
       "      <th>500000000</th>\n",
       "      <td>24</td>\n",
       "    </tr>\n",
       "    <tr>\n",
       "      <th>1000000000</th>\n",
       "      <td>20</td>\n",
       "    </tr>\n",
       "  </tbody>\n",
       "</table>\n",
       "</div>"
      ],
      "text/plain": [
       "             App\n",
       "Installs        \n",
       "1              3\n",
       "5              9\n",
       "10            69\n",
       "50            56\n",
       "100          303\n",
       "500          199\n",
       "1000         698\n",
       "5000         425\n",
       "10000        988\n",
       "50000        457\n",
       "100000      1096\n",
       "500000       504\n",
       "1000000     1417\n",
       "5000000      607\n",
       "10000000     933\n",
       "50000000     202\n",
       "100000000    189\n",
       "500000000     24\n",
       "1000000000    20"
      ]
     },
     "execution_count": 488,
     "metadata": {},
     "output_type": "execute_result"
    }
   ],
   "source": [
    "df_apps_clean.Installs= df_apps_clean.Installs.astype(str).str.replace(\",\",\"\")\n",
    "df_apps_clean.Installs = pd.to_numeric(df_apps_clean.Installs)\n",
    "df_apps_clean[['Installs','App']].groupby('Installs').count()"
   ]
  },
  {
   "cell_type": "markdown",
   "metadata": {
    "id": "7T4sfNpFdiUv"
   },
   "source": [
    "# Find the Most Expensive Apps, Filter out the Junk, and Calculate a (ballpark) Sales Revenue Estimate\n",
    "\n",
    "Let's examine the Price column more closely.\n",
    "\n",
    "**Challenge**: Convert the price column to numeric data. Then investigate the top 20 most expensive apps in the dataset.\n",
    "\n",
    "Remove all apps that cost more than $250 from the `df_apps_clean` DataFrame.\n",
    "\n",
    "Add a column called 'Revenue_Estimate' to the DataFrame. This column should hold the price of the app times the number of installs. What are the top 10 highest grossing paid apps according to this estimate? Out of the top 10 highest grossing paid apps, how many are games?\n"
   ]
  },
  {
   "cell_type": "code",
   "execution_count": 489,
   "metadata": {
    "id": "CqhX2WCJoQEp"
   },
   "outputs": [
    {
     "data": {
      "text/plain": [
       "numpy.float64"
      ]
     },
     "execution_count": 489,
     "metadata": {},
     "output_type": "execute_result"
    }
   ],
   "source": [
    "type(df_apps_clean.Price[21])\n",
    "df_apps_clean.Price= df_apps_clean.Price.astype(str).str.replace('$',\"\")\n",
    "df_apps_clean.Price = pd.to_numeric(df_apps_clean.Price)\n",
    "type(df_apps_clean.Price[21])"
   ]
  },
  {
   "cell_type": "markdown",
   "metadata": {
    "id": "Rgposh-CdiU4"
   },
   "source": [
    "### The most expensive apps sub $250"
   ]
  },
  {
   "cell_type": "code",
   "execution_count": 490,
   "metadata": {
    "id": "c8_n8z8XoUML"
   },
   "outputs": [
    {
     "data": {
      "text/plain": [
       "np.float64(79.99)"
      ]
     },
     "execution_count": 490,
     "metadata": {},
     "output_type": "execute_result"
    }
   ],
   "source": [
    "df_apps_clean = df_apps_clean[df_apps_clean.Price <= 250]\n",
    "df_apps_clean.Price.max()\n"
   ]
  },
  {
   "cell_type": "markdown",
   "metadata": {
    "id": "VGu85CLb4OOH"
   },
   "source": [
    "### Highest Grossing Paid Apps (ballpark estimate)"
   ]
  },
  {
   "cell_type": "code",
   "execution_count": 491,
   "metadata": {
    "id": "3mDi45iIoVzE"
   },
   "outputs": [
    {
     "data": {
      "text/html": [
       "<div>\n",
       "<style scoped>\n",
       "    .dataframe tbody tr th:only-of-type {\n",
       "        vertical-align: middle;\n",
       "    }\n",
       "\n",
       "    .dataframe tbody tr th {\n",
       "        vertical-align: top;\n",
       "    }\n",
       "\n",
       "    .dataframe thead th {\n",
       "        text-align: right;\n",
       "    }\n",
       "</style>\n",
       "<table border=\"1\" class=\"dataframe\">\n",
       "  <thead>\n",
       "    <tr style=\"text-align: right;\">\n",
       "      <th></th>\n",
       "      <th>App</th>\n",
       "      <th>Category</th>\n",
       "      <th>Rating</th>\n",
       "      <th>Reviews</th>\n",
       "      <th>Size_MBs</th>\n",
       "      <th>Installs</th>\n",
       "      <th>Type</th>\n",
       "      <th>Price</th>\n",
       "      <th>Content_Rating</th>\n",
       "      <th>Genres</th>\n",
       "      <th>Revenue_Estimate</th>\n",
       "    </tr>\n",
       "  </thead>\n",
       "  <tbody>\n",
       "    <tr>\n",
       "      <th>9220</th>\n",
       "      <td>Minecraft</td>\n",
       "      <td>FAMILY</td>\n",
       "      <td>4.50</td>\n",
       "      <td>2376564</td>\n",
       "      <td>19.00</td>\n",
       "      <td>10000000</td>\n",
       "      <td>Paid</td>\n",
       "      <td>6.99</td>\n",
       "      <td>Everyone 10+</td>\n",
       "      <td>Arcade;Action &amp; Adventure</td>\n",
       "      <td>69,900,000.00</td>\n",
       "    </tr>\n",
       "    <tr>\n",
       "      <th>8825</th>\n",
       "      <td>Hitman Sniper</td>\n",
       "      <td>GAME</td>\n",
       "      <td>4.60</td>\n",
       "      <td>408292</td>\n",
       "      <td>29.00</td>\n",
       "      <td>10000000</td>\n",
       "      <td>Paid</td>\n",
       "      <td>0.99</td>\n",
       "      <td>Mature 17+</td>\n",
       "      <td>Action</td>\n",
       "      <td>9,900,000.00</td>\n",
       "    </tr>\n",
       "    <tr>\n",
       "      <th>7151</th>\n",
       "      <td>Grand Theft Auto: San Andreas</td>\n",
       "      <td>GAME</td>\n",
       "      <td>4.40</td>\n",
       "      <td>348962</td>\n",
       "      <td>26.00</td>\n",
       "      <td>1000000</td>\n",
       "      <td>Paid</td>\n",
       "      <td>6.99</td>\n",
       "      <td>Mature 17+</td>\n",
       "      <td>Action</td>\n",
       "      <td>6,990,000.00</td>\n",
       "    </tr>\n",
       "    <tr>\n",
       "      <th>7477</th>\n",
       "      <td>Facetune - For Free</td>\n",
       "      <td>PHOTOGRAPHY</td>\n",
       "      <td>4.40</td>\n",
       "      <td>49553</td>\n",
       "      <td>48.00</td>\n",
       "      <td>1000000</td>\n",
       "      <td>Paid</td>\n",
       "      <td>5.99</td>\n",
       "      <td>Everyone</td>\n",
       "      <td>Photography</td>\n",
       "      <td>5,990,000.00</td>\n",
       "    </tr>\n",
       "    <tr>\n",
       "      <th>7977</th>\n",
       "      <td>Sleep as Android Unlock</td>\n",
       "      <td>LIFESTYLE</td>\n",
       "      <td>4.50</td>\n",
       "      <td>23966</td>\n",
       "      <td>0.85</td>\n",
       "      <td>1000000</td>\n",
       "      <td>Paid</td>\n",
       "      <td>5.99</td>\n",
       "      <td>Everyone</td>\n",
       "      <td>Lifestyle</td>\n",
       "      <td>5,990,000.00</td>\n",
       "    </tr>\n",
       "    <tr>\n",
       "      <th>...</th>\n",
       "      <td>...</td>\n",
       "      <td>...</td>\n",
       "      <td>...</td>\n",
       "      <td>...</td>\n",
       "      <td>...</td>\n",
       "      <td>...</td>\n",
       "      <td>...</td>\n",
       "      <td>...</td>\n",
       "      <td>...</td>\n",
       "      <td>...</td>\n",
       "      <td>...</td>\n",
       "    </tr>\n",
       "    <tr>\n",
       "      <th>4508</th>\n",
       "      <td>myAir™ for Air10™ by ResMed</td>\n",
       "      <td>MEDICAL</td>\n",
       "      <td>3.70</td>\n",
       "      <td>236</td>\n",
       "      <td>18.00</td>\n",
       "      <td>50000</td>\n",
       "      <td>Free</td>\n",
       "      <td>0.00</td>\n",
       "      <td>Everyone</td>\n",
       "      <td>Medical</td>\n",
       "      <td>0.00</td>\n",
       "    </tr>\n",
       "    <tr>\n",
       "      <th>4507</th>\n",
       "      <td>AK Math Coach</td>\n",
       "      <td>FAMILY</td>\n",
       "      <td>3.60</td>\n",
       "      <td>283</td>\n",
       "      <td>18.00</td>\n",
       "      <td>50000</td>\n",
       "      <td>Free</td>\n",
       "      <td>0.00</td>\n",
       "      <td>Everyone</td>\n",
       "      <td>Education</td>\n",
       "      <td>0.00</td>\n",
       "    </tr>\n",
       "    <tr>\n",
       "      <th>4506</th>\n",
       "      <td>Forgotten Hill: Fall</td>\n",
       "      <td>GAME</td>\n",
       "      <td>4.40</td>\n",
       "      <td>1063</td>\n",
       "      <td>18.00</td>\n",
       "      <td>50000</td>\n",
       "      <td>Free</td>\n",
       "      <td>0.00</td>\n",
       "      <td>Teen</td>\n",
       "      <td>Adventure</td>\n",
       "      <td>0.00</td>\n",
       "    </tr>\n",
       "    <tr>\n",
       "      <th>4505</th>\n",
       "      <td>AE Video Poker</td>\n",
       "      <td>GAME</td>\n",
       "      <td>4.00</td>\n",
       "      <td>721</td>\n",
       "      <td>18.00</td>\n",
       "      <td>50000</td>\n",
       "      <td>Free</td>\n",
       "      <td>0.00</td>\n",
       "      <td>Teen</td>\n",
       "      <td>Casino</td>\n",
       "      <td>0.00</td>\n",
       "    </tr>\n",
       "    <tr>\n",
       "      <th>10835</th>\n",
       "      <td>Subway Surfers</td>\n",
       "      <td>GAME</td>\n",
       "      <td>4.50</td>\n",
       "      <td>27722264</td>\n",
       "      <td>76.00</td>\n",
       "      <td>1000000000</td>\n",
       "      <td>Free</td>\n",
       "      <td>0.00</td>\n",
       "      <td>Everyone 10+</td>\n",
       "      <td>Arcade</td>\n",
       "      <td>0.00</td>\n",
       "    </tr>\n",
       "  </tbody>\n",
       "</table>\n",
       "<p>8184 rows × 11 columns</p>\n",
       "</div>"
      ],
      "text/plain": [
       "                                 App     Category  Rating   Reviews  Size_MBs  \\\n",
       "9220                       Minecraft       FAMILY    4.50   2376564     19.00   \n",
       "8825                   Hitman Sniper         GAME    4.60    408292     29.00   \n",
       "7151   Grand Theft Auto: San Andreas         GAME    4.40    348962     26.00   \n",
       "7477             Facetune - For Free  PHOTOGRAPHY    4.40     49553     48.00   \n",
       "7977         Sleep as Android Unlock    LIFESTYLE    4.50     23966      0.85   \n",
       "...                              ...          ...     ...       ...       ...   \n",
       "4508     myAir™ for Air10™ by ResMed      MEDICAL    3.70       236     18.00   \n",
       "4507                   AK Math Coach       FAMILY    3.60       283     18.00   \n",
       "4506            Forgotten Hill: Fall         GAME    4.40      1063     18.00   \n",
       "4505                  AE Video Poker         GAME    4.00       721     18.00   \n",
       "10835                 Subway Surfers         GAME    4.50  27722264     76.00   \n",
       "\n",
       "         Installs  Type  Price Content_Rating                     Genres  \\\n",
       "9220     10000000  Paid   6.99   Everyone 10+  Arcade;Action & Adventure   \n",
       "8825     10000000  Paid   0.99     Mature 17+                     Action   \n",
       "7151      1000000  Paid   6.99     Mature 17+                     Action   \n",
       "7477      1000000  Paid   5.99       Everyone                Photography   \n",
       "7977      1000000  Paid   5.99       Everyone                  Lifestyle   \n",
       "...           ...   ...    ...            ...                        ...   \n",
       "4508        50000  Free   0.00       Everyone                    Medical   \n",
       "4507        50000  Free   0.00       Everyone                  Education   \n",
       "4506        50000  Free   0.00           Teen                  Adventure   \n",
       "4505        50000  Free   0.00           Teen                     Casino   \n",
       "10835  1000000000  Free   0.00   Everyone 10+                     Arcade   \n",
       "\n",
       "       Revenue_Estimate  \n",
       "9220      69,900,000.00  \n",
       "8825       9,900,000.00  \n",
       "7151       6,990,000.00  \n",
       "7477       5,990,000.00  \n",
       "7977       5,990,000.00  \n",
       "...                 ...  \n",
       "4508               0.00  \n",
       "4507               0.00  \n",
       "4506               0.00  \n",
       "4505               0.00  \n",
       "10835              0.00  \n",
       "\n",
       "[8184 rows x 11 columns]"
      ]
     },
     "execution_count": 491,
     "metadata": {},
     "output_type": "execute_result"
    }
   ],
   "source": [
    "df_apps_clean[\"Revenue_Estimate\"] = df_apps_clean['Price'].mul(df_apps_clean.Installs)\n",
    "df_apps_clean.sort_values('Revenue_Estimate',ascending=False)\n"
   ]
  },
  {
   "cell_type": "markdown",
   "metadata": {
    "dc": {
     "key": "18"
    },
    "id": "lvpM2MyTdiU6",
    "run_control": {
     "frozen": true
    },
    "tags": [
     "context"
    ]
   },
   "source": [
    "# Plotly Bar Charts & Scatter Plots: Analysing App Categories"
   ]
  },
  {
   "cell_type": "code",
   "execution_count": 492,
   "metadata": {
    "id": "3L6hK0aLoYxY"
   },
   "outputs": [
    {
     "data": {
      "text/plain": [
       "App                 8182\n",
       "Category              33\n",
       "Rating                39\n",
       "Reviews             5318\n",
       "Size_MBs             423\n",
       "Installs              19\n",
       "Type                   2\n",
       "Price                 68\n",
       "Content_Rating         6\n",
       "Genres               114\n",
       "Revenue_Estimate     182\n",
       "dtype: int64"
      ]
     },
     "execution_count": 492,
     "metadata": {},
     "output_type": "execute_result"
    }
   ],
   "source": [
    "df_apps_clean.nunique()"
   ]
  },
  {
   "cell_type": "code",
   "execution_count": 493,
   "metadata": {
    "id": "mg50Ts9joYz1"
   },
   "outputs": [
    {
     "data": {
      "text/plain": [
       "Category\n",
       "FAMILY             1606\n",
       "GAME                910\n",
       "TOOLS               719\n",
       "PRODUCTIVITY        301\n",
       "PERSONALIZATION     298\n",
       "LIFESTYLE           297\n",
       "FINANCE             296\n",
       "MEDICAL             292\n",
       "PHOTOGRAPHY         263\n",
       "BUSINESS            262\n",
       "Name: count, dtype: int64"
      ]
     },
     "execution_count": 493,
     "metadata": {},
     "output_type": "execute_result"
    }
   ],
   "source": [
    "top10_category = df_apps_clean.Category.value_counts()[:10]\n",
    "top10_category"
   ]
  },
  {
   "cell_type": "markdown",
   "metadata": {
    "id": "0tTurR7qdiU9"
   },
   "source": [
    "### Vertical Bar Chart - Highest Competition (Number of Apps)"
   ]
  },
  {
   "cell_type": "code",
   "execution_count": 494,
   "metadata": {
    "id": "SFSMH00AoaMB"
   },
   "outputs": [
    {
     "data": {
      "application/vnd.plotly.v1+json": {
       "config": {
        "plotlyServerURL": "https://plot.ly"
       },
       "data": [
        {
         "hovertemplate": "x=%{x}<br>y=%{y}<extra></extra>",
         "legendgroup": "",
         "marker": {
          "color": "#636efa",
          "pattern": {
           "shape": ""
          }
         },
         "name": "",
         "orientation": "v",
         "showlegend": false,
         "textposition": "auto",
         "type": "bar",
         "x": [
          "FAMILY",
          "GAME",
          "TOOLS",
          "PRODUCTIVITY",
          "PERSONALIZATION",
          "LIFESTYLE",
          "FINANCE",
          "MEDICAL",
          "PHOTOGRAPHY",
          "BUSINESS"
         ],
         "xaxis": "x",
         "y": {
          "bdata": "RgaOA88CLQEqASkBKAEkAQcBBgE=",
          "dtype": "i2"
         },
         "yaxis": "y"
        }
       ],
       "layout": {
        "barmode": "relative",
        "legend": {
         "tracegroupgap": 0
        },
        "template": {
         "data": {
          "bar": [
           {
            "error_x": {
             "color": "#2a3f5f"
            },
            "error_y": {
             "color": "#2a3f5f"
            },
            "marker": {
             "line": {
              "color": "#E5ECF6",
              "width": 0.5
             },
             "pattern": {
              "fillmode": "overlay",
              "size": 10,
              "solidity": 0.2
             }
            },
            "type": "bar"
           }
          ],
          "barpolar": [
           {
            "marker": {
             "line": {
              "color": "#E5ECF6",
              "width": 0.5
             },
             "pattern": {
              "fillmode": "overlay",
              "size": 10,
              "solidity": 0.2
             }
            },
            "type": "barpolar"
           }
          ],
          "carpet": [
           {
            "aaxis": {
             "endlinecolor": "#2a3f5f",
             "gridcolor": "white",
             "linecolor": "white",
             "minorgridcolor": "white",
             "startlinecolor": "#2a3f5f"
            },
            "baxis": {
             "endlinecolor": "#2a3f5f",
             "gridcolor": "white",
             "linecolor": "white",
             "minorgridcolor": "white",
             "startlinecolor": "#2a3f5f"
            },
            "type": "carpet"
           }
          ],
          "choropleth": [
           {
            "colorbar": {
             "outlinewidth": 0,
             "ticks": ""
            },
            "type": "choropleth"
           }
          ],
          "contour": [
           {
            "colorbar": {
             "outlinewidth": 0,
             "ticks": ""
            },
            "colorscale": [
             [
              0,
              "#0d0887"
             ],
             [
              0.1111111111111111,
              "#46039f"
             ],
             [
              0.2222222222222222,
              "#7201a8"
             ],
             [
              0.3333333333333333,
              "#9c179e"
             ],
             [
              0.4444444444444444,
              "#bd3786"
             ],
             [
              0.5555555555555556,
              "#d8576b"
             ],
             [
              0.6666666666666666,
              "#ed7953"
             ],
             [
              0.7777777777777778,
              "#fb9f3a"
             ],
             [
              0.8888888888888888,
              "#fdca26"
             ],
             [
              1,
              "#f0f921"
             ]
            ],
            "type": "contour"
           }
          ],
          "contourcarpet": [
           {
            "colorbar": {
             "outlinewidth": 0,
             "ticks": ""
            },
            "type": "contourcarpet"
           }
          ],
          "heatmap": [
           {
            "colorbar": {
             "outlinewidth": 0,
             "ticks": ""
            },
            "colorscale": [
             [
              0,
              "#0d0887"
             ],
             [
              0.1111111111111111,
              "#46039f"
             ],
             [
              0.2222222222222222,
              "#7201a8"
             ],
             [
              0.3333333333333333,
              "#9c179e"
             ],
             [
              0.4444444444444444,
              "#bd3786"
             ],
             [
              0.5555555555555556,
              "#d8576b"
             ],
             [
              0.6666666666666666,
              "#ed7953"
             ],
             [
              0.7777777777777778,
              "#fb9f3a"
             ],
             [
              0.8888888888888888,
              "#fdca26"
             ],
             [
              1,
              "#f0f921"
             ]
            ],
            "type": "heatmap"
           }
          ],
          "histogram": [
           {
            "marker": {
             "pattern": {
              "fillmode": "overlay",
              "size": 10,
              "solidity": 0.2
             }
            },
            "type": "histogram"
           }
          ],
          "histogram2d": [
           {
            "colorbar": {
             "outlinewidth": 0,
             "ticks": ""
            },
            "colorscale": [
             [
              0,
              "#0d0887"
             ],
             [
              0.1111111111111111,
              "#46039f"
             ],
             [
              0.2222222222222222,
              "#7201a8"
             ],
             [
              0.3333333333333333,
              "#9c179e"
             ],
             [
              0.4444444444444444,
              "#bd3786"
             ],
             [
              0.5555555555555556,
              "#d8576b"
             ],
             [
              0.6666666666666666,
              "#ed7953"
             ],
             [
              0.7777777777777778,
              "#fb9f3a"
             ],
             [
              0.8888888888888888,
              "#fdca26"
             ],
             [
              1,
              "#f0f921"
             ]
            ],
            "type": "histogram2d"
           }
          ],
          "histogram2dcontour": [
           {
            "colorbar": {
             "outlinewidth": 0,
             "ticks": ""
            },
            "colorscale": [
             [
              0,
              "#0d0887"
             ],
             [
              0.1111111111111111,
              "#46039f"
             ],
             [
              0.2222222222222222,
              "#7201a8"
             ],
             [
              0.3333333333333333,
              "#9c179e"
             ],
             [
              0.4444444444444444,
              "#bd3786"
             ],
             [
              0.5555555555555556,
              "#d8576b"
             ],
             [
              0.6666666666666666,
              "#ed7953"
             ],
             [
              0.7777777777777778,
              "#fb9f3a"
             ],
             [
              0.8888888888888888,
              "#fdca26"
             ],
             [
              1,
              "#f0f921"
             ]
            ],
            "type": "histogram2dcontour"
           }
          ],
          "mesh3d": [
           {
            "colorbar": {
             "outlinewidth": 0,
             "ticks": ""
            },
            "type": "mesh3d"
           }
          ],
          "parcoords": [
           {
            "line": {
             "colorbar": {
              "outlinewidth": 0,
              "ticks": ""
             }
            },
            "type": "parcoords"
           }
          ],
          "pie": [
           {
            "automargin": true,
            "type": "pie"
           }
          ],
          "scatter": [
           {
            "fillpattern": {
             "fillmode": "overlay",
             "size": 10,
             "solidity": 0.2
            },
            "type": "scatter"
           }
          ],
          "scatter3d": [
           {
            "line": {
             "colorbar": {
              "outlinewidth": 0,
              "ticks": ""
             }
            },
            "marker": {
             "colorbar": {
              "outlinewidth": 0,
              "ticks": ""
             }
            },
            "type": "scatter3d"
           }
          ],
          "scattercarpet": [
           {
            "marker": {
             "colorbar": {
              "outlinewidth": 0,
              "ticks": ""
             }
            },
            "type": "scattercarpet"
           }
          ],
          "scattergeo": [
           {
            "marker": {
             "colorbar": {
              "outlinewidth": 0,
              "ticks": ""
             }
            },
            "type": "scattergeo"
           }
          ],
          "scattergl": [
           {
            "marker": {
             "colorbar": {
              "outlinewidth": 0,
              "ticks": ""
             }
            },
            "type": "scattergl"
           }
          ],
          "scattermap": [
           {
            "marker": {
             "colorbar": {
              "outlinewidth": 0,
              "ticks": ""
             }
            },
            "type": "scattermap"
           }
          ],
          "scattermapbox": [
           {
            "marker": {
             "colorbar": {
              "outlinewidth": 0,
              "ticks": ""
             }
            },
            "type": "scattermapbox"
           }
          ],
          "scatterpolar": [
           {
            "marker": {
             "colorbar": {
              "outlinewidth": 0,
              "ticks": ""
             }
            },
            "type": "scatterpolar"
           }
          ],
          "scatterpolargl": [
           {
            "marker": {
             "colorbar": {
              "outlinewidth": 0,
              "ticks": ""
             }
            },
            "type": "scatterpolargl"
           }
          ],
          "scatterternary": [
           {
            "marker": {
             "colorbar": {
              "outlinewidth": 0,
              "ticks": ""
             }
            },
            "type": "scatterternary"
           }
          ],
          "surface": [
           {
            "colorbar": {
             "outlinewidth": 0,
             "ticks": ""
            },
            "colorscale": [
             [
              0,
              "#0d0887"
             ],
             [
              0.1111111111111111,
              "#46039f"
             ],
             [
              0.2222222222222222,
              "#7201a8"
             ],
             [
              0.3333333333333333,
              "#9c179e"
             ],
             [
              0.4444444444444444,
              "#bd3786"
             ],
             [
              0.5555555555555556,
              "#d8576b"
             ],
             [
              0.6666666666666666,
              "#ed7953"
             ],
             [
              0.7777777777777778,
              "#fb9f3a"
             ],
             [
              0.8888888888888888,
              "#fdca26"
             ],
             [
              1,
              "#f0f921"
             ]
            ],
            "type": "surface"
           }
          ],
          "table": [
           {
            "cells": {
             "fill": {
              "color": "#EBF0F8"
             },
             "line": {
              "color": "white"
             }
            },
            "header": {
             "fill": {
              "color": "#C8D4E3"
             },
             "line": {
              "color": "white"
             }
            },
            "type": "table"
           }
          ]
         },
         "layout": {
          "annotationdefaults": {
           "arrowcolor": "#2a3f5f",
           "arrowhead": 0,
           "arrowwidth": 1
          },
          "autotypenumbers": "strict",
          "coloraxis": {
           "colorbar": {
            "outlinewidth": 0,
            "ticks": ""
           }
          },
          "colorscale": {
           "diverging": [
            [
             0,
             "#8e0152"
            ],
            [
             0.1,
             "#c51b7d"
            ],
            [
             0.2,
             "#de77ae"
            ],
            [
             0.3,
             "#f1b6da"
            ],
            [
             0.4,
             "#fde0ef"
            ],
            [
             0.5,
             "#f7f7f7"
            ],
            [
             0.6,
             "#e6f5d0"
            ],
            [
             0.7,
             "#b8e186"
            ],
            [
             0.8,
             "#7fbc41"
            ],
            [
             0.9,
             "#4d9221"
            ],
            [
             1,
             "#276419"
            ]
           ],
           "sequential": [
            [
             0,
             "#0d0887"
            ],
            [
             0.1111111111111111,
             "#46039f"
            ],
            [
             0.2222222222222222,
             "#7201a8"
            ],
            [
             0.3333333333333333,
             "#9c179e"
            ],
            [
             0.4444444444444444,
             "#bd3786"
            ],
            [
             0.5555555555555556,
             "#d8576b"
            ],
            [
             0.6666666666666666,
             "#ed7953"
            ],
            [
             0.7777777777777778,
             "#fb9f3a"
            ],
            [
             0.8888888888888888,
             "#fdca26"
            ],
            [
             1,
             "#f0f921"
            ]
           ],
           "sequentialminus": [
            [
             0,
             "#0d0887"
            ],
            [
             0.1111111111111111,
             "#46039f"
            ],
            [
             0.2222222222222222,
             "#7201a8"
            ],
            [
             0.3333333333333333,
             "#9c179e"
            ],
            [
             0.4444444444444444,
             "#bd3786"
            ],
            [
             0.5555555555555556,
             "#d8576b"
            ],
            [
             0.6666666666666666,
             "#ed7953"
            ],
            [
             0.7777777777777778,
             "#fb9f3a"
            ],
            [
             0.8888888888888888,
             "#fdca26"
            ],
            [
             1,
             "#f0f921"
            ]
           ]
          },
          "colorway": [
           "#636efa",
           "#EF553B",
           "#00cc96",
           "#ab63fa",
           "#FFA15A",
           "#19d3f3",
           "#FF6692",
           "#B6E880",
           "#FF97FF",
           "#FECB52"
          ],
          "font": {
           "color": "#2a3f5f"
          },
          "geo": {
           "bgcolor": "white",
           "lakecolor": "white",
           "landcolor": "#E5ECF6",
           "showlakes": true,
           "showland": true,
           "subunitcolor": "white"
          },
          "hoverlabel": {
           "align": "left"
          },
          "hovermode": "closest",
          "mapbox": {
           "style": "light"
          },
          "paper_bgcolor": "white",
          "plot_bgcolor": "#E5ECF6",
          "polar": {
           "angularaxis": {
            "gridcolor": "white",
            "linecolor": "white",
            "ticks": ""
           },
           "bgcolor": "#E5ECF6",
           "radialaxis": {
            "gridcolor": "white",
            "linecolor": "white",
            "ticks": ""
           }
          },
          "scene": {
           "xaxis": {
            "backgroundcolor": "#E5ECF6",
            "gridcolor": "white",
            "gridwidth": 2,
            "linecolor": "white",
            "showbackground": true,
            "ticks": "",
            "zerolinecolor": "white"
           },
           "yaxis": {
            "backgroundcolor": "#E5ECF6",
            "gridcolor": "white",
            "gridwidth": 2,
            "linecolor": "white",
            "showbackground": true,
            "ticks": "",
            "zerolinecolor": "white"
           },
           "zaxis": {
            "backgroundcolor": "#E5ECF6",
            "gridcolor": "white",
            "gridwidth": 2,
            "linecolor": "white",
            "showbackground": true,
            "ticks": "",
            "zerolinecolor": "white"
           }
          },
          "shapedefaults": {
           "line": {
            "color": "#2a3f5f"
           }
          },
          "ternary": {
           "aaxis": {
            "gridcolor": "white",
            "linecolor": "white",
            "ticks": ""
           },
           "baxis": {
            "gridcolor": "white",
            "linecolor": "white",
            "ticks": ""
           },
           "bgcolor": "#E5ECF6",
           "caxis": {
            "gridcolor": "white",
            "linecolor": "white",
            "ticks": ""
           }
          },
          "title": {
           "x": 0.05
          },
          "xaxis": {
           "automargin": true,
           "gridcolor": "white",
           "linecolor": "white",
           "ticks": "",
           "title": {
            "standoff": 15
           },
           "zerolinecolor": "white",
           "zerolinewidth": 2
          },
          "yaxis": {
           "automargin": true,
           "gridcolor": "white",
           "linecolor": "white",
           "ticks": "",
           "title": {
            "standoff": 15
           },
           "zerolinecolor": "white",
           "zerolinewidth": 2
          }
         }
        },
        "title": {
         "text": "Top 10 Categories"
        },
        "xaxis": {
         "anchor": "y",
         "domain": [
          0,
          1
         ],
         "title": {
          "text": "x"
         }
        },
        "yaxis": {
         "anchor": "x",
         "domain": [
          0,
          1
         ],
         "title": {
          "text": "y"
         }
        }
       }
      }
     },
     "metadata": {},
     "output_type": "display_data"
    }
   ],
   "source": [
    "bar = px.bar(x= top10_category.index, y= top10_category.values, title='Top 10 Categories')\n",
    "bar.update_traces()\n",
    "bar.show()\n"
   ]
  },
  {
   "cell_type": "markdown",
   "metadata": {
    "id": "57mowetLdiU_"
   },
   "source": [
    "### Horizontal Bar Chart - Most Popular Categories (Highest Downloads)"
   ]
  },
  {
   "cell_type": "code",
   "execution_count": 495,
   "metadata": {
    "id": "zHO7eTJmocLm"
   },
   "outputs": [
    {
     "data": {
      "application/vnd.plotly.v1+json": {
       "config": {
        "plotlyServerURL": "https://plot.ly"
       },
       "data": [
        {
         "hovertemplate": "x=%{x}<br>y=%{y}<extra></extra>",
         "legendgroup": "",
         "marker": {
          "color": "#636efa",
          "pattern": {
           "shape": ""
          }
         },
         "name": "",
         "orientation": "h",
         "showlegend": false,
         "textposition": "auto",
         "type": "bar",
         "x": [
          15949410,
          26916200,
          31116110,
          39162676,
          44931100,
          52083000,
          53129800,
          97082000,
          114233100,
          140912410,
          211677750,
          352852000,
          361096500,
          455249400,
          503267560,
          503611120,
          692018120,
          1096431465,
          1134006220,
          1400331540,
          1532352930,
          1665791655,
          2113660000,
          2369110650,
          2894859300,
          3916897200,
          4437554490,
          4649143130,
          5487841475,
          5788070180,
          8099724500,
          11039241530,
          13858762717
         ],
         "xaxis": "x",
         "y": [
          "EVENTS",
          "BEAUTY",
          "PARENTING",
          "MEDICAL",
          "COMICS",
          "LIBRARIES_AND_DEMO",
          "AUTO_AND_VEHICLES",
          "HOUSE_AND_HOME",
          "ART_AND_DESIGN",
          "DATING",
          "FOOD_AND_DRINK",
          "EDUCATION",
          "WEATHER",
          "FINANCE",
          "MAPS_AND_NAVIGATION",
          "LIFESTYLE",
          "BUSINESS",
          "SPORTS",
          "HEALTH_AND_FITNESS",
          "SHOPPING",
          "PERSONALIZATION",
          "BOOKS_AND_REFERENCE",
          "ENTERTAINMENT",
          "NEWS_AND_MAGAZINES",
          "TRAVEL_AND_LOCAL",
          "VIDEO_PLAYERS",
          "FAMILY",
          "PHOTOGRAPHY",
          "SOCIAL",
          "PRODUCTIVITY",
          "TOOLS",
          "COMMUNICATION",
          "GAME"
         ],
         "yaxis": "y"
        }
       ],
       "layout": {
        "barmode": "relative",
        "legend": {
         "tracegroupgap": 0
        },
        "margin": {
         "t": 60
        },
        "template": {
         "data": {
          "bar": [
           {
            "error_x": {
             "color": "#2a3f5f"
            },
            "error_y": {
             "color": "#2a3f5f"
            },
            "marker": {
             "line": {
              "color": "#E5ECF6",
              "width": 0.5
             },
             "pattern": {
              "fillmode": "overlay",
              "size": 10,
              "solidity": 0.2
             }
            },
            "type": "bar"
           }
          ],
          "barpolar": [
           {
            "marker": {
             "line": {
              "color": "#E5ECF6",
              "width": 0.5
             },
             "pattern": {
              "fillmode": "overlay",
              "size": 10,
              "solidity": 0.2
             }
            },
            "type": "barpolar"
           }
          ],
          "carpet": [
           {
            "aaxis": {
             "endlinecolor": "#2a3f5f",
             "gridcolor": "white",
             "linecolor": "white",
             "minorgridcolor": "white",
             "startlinecolor": "#2a3f5f"
            },
            "baxis": {
             "endlinecolor": "#2a3f5f",
             "gridcolor": "white",
             "linecolor": "white",
             "minorgridcolor": "white",
             "startlinecolor": "#2a3f5f"
            },
            "type": "carpet"
           }
          ],
          "choropleth": [
           {
            "colorbar": {
             "outlinewidth": 0,
             "ticks": ""
            },
            "type": "choropleth"
           }
          ],
          "contour": [
           {
            "colorbar": {
             "outlinewidth": 0,
             "ticks": ""
            },
            "colorscale": [
             [
              0,
              "#0d0887"
             ],
             [
              0.1111111111111111,
              "#46039f"
             ],
             [
              0.2222222222222222,
              "#7201a8"
             ],
             [
              0.3333333333333333,
              "#9c179e"
             ],
             [
              0.4444444444444444,
              "#bd3786"
             ],
             [
              0.5555555555555556,
              "#d8576b"
             ],
             [
              0.6666666666666666,
              "#ed7953"
             ],
             [
              0.7777777777777778,
              "#fb9f3a"
             ],
             [
              0.8888888888888888,
              "#fdca26"
             ],
             [
              1,
              "#f0f921"
             ]
            ],
            "type": "contour"
           }
          ],
          "contourcarpet": [
           {
            "colorbar": {
             "outlinewidth": 0,
             "ticks": ""
            },
            "type": "contourcarpet"
           }
          ],
          "heatmap": [
           {
            "colorbar": {
             "outlinewidth": 0,
             "ticks": ""
            },
            "colorscale": [
             [
              0,
              "#0d0887"
             ],
             [
              0.1111111111111111,
              "#46039f"
             ],
             [
              0.2222222222222222,
              "#7201a8"
             ],
             [
              0.3333333333333333,
              "#9c179e"
             ],
             [
              0.4444444444444444,
              "#bd3786"
             ],
             [
              0.5555555555555556,
              "#d8576b"
             ],
             [
              0.6666666666666666,
              "#ed7953"
             ],
             [
              0.7777777777777778,
              "#fb9f3a"
             ],
             [
              0.8888888888888888,
              "#fdca26"
             ],
             [
              1,
              "#f0f921"
             ]
            ],
            "type": "heatmap"
           }
          ],
          "histogram": [
           {
            "marker": {
             "pattern": {
              "fillmode": "overlay",
              "size": 10,
              "solidity": 0.2
             }
            },
            "type": "histogram"
           }
          ],
          "histogram2d": [
           {
            "colorbar": {
             "outlinewidth": 0,
             "ticks": ""
            },
            "colorscale": [
             [
              0,
              "#0d0887"
             ],
             [
              0.1111111111111111,
              "#46039f"
             ],
             [
              0.2222222222222222,
              "#7201a8"
             ],
             [
              0.3333333333333333,
              "#9c179e"
             ],
             [
              0.4444444444444444,
              "#bd3786"
             ],
             [
              0.5555555555555556,
              "#d8576b"
             ],
             [
              0.6666666666666666,
              "#ed7953"
             ],
             [
              0.7777777777777778,
              "#fb9f3a"
             ],
             [
              0.8888888888888888,
              "#fdca26"
             ],
             [
              1,
              "#f0f921"
             ]
            ],
            "type": "histogram2d"
           }
          ],
          "histogram2dcontour": [
           {
            "colorbar": {
             "outlinewidth": 0,
             "ticks": ""
            },
            "colorscale": [
             [
              0,
              "#0d0887"
             ],
             [
              0.1111111111111111,
              "#46039f"
             ],
             [
              0.2222222222222222,
              "#7201a8"
             ],
             [
              0.3333333333333333,
              "#9c179e"
             ],
             [
              0.4444444444444444,
              "#bd3786"
             ],
             [
              0.5555555555555556,
              "#d8576b"
             ],
             [
              0.6666666666666666,
              "#ed7953"
             ],
             [
              0.7777777777777778,
              "#fb9f3a"
             ],
             [
              0.8888888888888888,
              "#fdca26"
             ],
             [
              1,
              "#f0f921"
             ]
            ],
            "type": "histogram2dcontour"
           }
          ],
          "mesh3d": [
           {
            "colorbar": {
             "outlinewidth": 0,
             "ticks": ""
            },
            "type": "mesh3d"
           }
          ],
          "parcoords": [
           {
            "line": {
             "colorbar": {
              "outlinewidth": 0,
              "ticks": ""
             }
            },
            "type": "parcoords"
           }
          ],
          "pie": [
           {
            "automargin": true,
            "type": "pie"
           }
          ],
          "scatter": [
           {
            "fillpattern": {
             "fillmode": "overlay",
             "size": 10,
             "solidity": 0.2
            },
            "type": "scatter"
           }
          ],
          "scatter3d": [
           {
            "line": {
             "colorbar": {
              "outlinewidth": 0,
              "ticks": ""
             }
            },
            "marker": {
             "colorbar": {
              "outlinewidth": 0,
              "ticks": ""
             }
            },
            "type": "scatter3d"
           }
          ],
          "scattercarpet": [
           {
            "marker": {
             "colorbar": {
              "outlinewidth": 0,
              "ticks": ""
             }
            },
            "type": "scattercarpet"
           }
          ],
          "scattergeo": [
           {
            "marker": {
             "colorbar": {
              "outlinewidth": 0,
              "ticks": ""
             }
            },
            "type": "scattergeo"
           }
          ],
          "scattergl": [
           {
            "marker": {
             "colorbar": {
              "outlinewidth": 0,
              "ticks": ""
             }
            },
            "type": "scattergl"
           }
          ],
          "scattermap": [
           {
            "marker": {
             "colorbar": {
              "outlinewidth": 0,
              "ticks": ""
             }
            },
            "type": "scattermap"
           }
          ],
          "scattermapbox": [
           {
            "marker": {
             "colorbar": {
              "outlinewidth": 0,
              "ticks": ""
             }
            },
            "type": "scattermapbox"
           }
          ],
          "scatterpolar": [
           {
            "marker": {
             "colorbar": {
              "outlinewidth": 0,
              "ticks": ""
             }
            },
            "type": "scatterpolar"
           }
          ],
          "scatterpolargl": [
           {
            "marker": {
             "colorbar": {
              "outlinewidth": 0,
              "ticks": ""
             }
            },
            "type": "scatterpolargl"
           }
          ],
          "scatterternary": [
           {
            "marker": {
             "colorbar": {
              "outlinewidth": 0,
              "ticks": ""
             }
            },
            "type": "scatterternary"
           }
          ],
          "surface": [
           {
            "colorbar": {
             "outlinewidth": 0,
             "ticks": ""
            },
            "colorscale": [
             [
              0,
              "#0d0887"
             ],
             [
              0.1111111111111111,
              "#46039f"
             ],
             [
              0.2222222222222222,
              "#7201a8"
             ],
             [
              0.3333333333333333,
              "#9c179e"
             ],
             [
              0.4444444444444444,
              "#bd3786"
             ],
             [
              0.5555555555555556,
              "#d8576b"
             ],
             [
              0.6666666666666666,
              "#ed7953"
             ],
             [
              0.7777777777777778,
              "#fb9f3a"
             ],
             [
              0.8888888888888888,
              "#fdca26"
             ],
             [
              1,
              "#f0f921"
             ]
            ],
            "type": "surface"
           }
          ],
          "table": [
           {
            "cells": {
             "fill": {
              "color": "#EBF0F8"
             },
             "line": {
              "color": "white"
             }
            },
            "header": {
             "fill": {
              "color": "#C8D4E3"
             },
             "line": {
              "color": "white"
             }
            },
            "type": "table"
           }
          ]
         },
         "layout": {
          "annotationdefaults": {
           "arrowcolor": "#2a3f5f",
           "arrowhead": 0,
           "arrowwidth": 1
          },
          "autotypenumbers": "strict",
          "coloraxis": {
           "colorbar": {
            "outlinewidth": 0,
            "ticks": ""
           }
          },
          "colorscale": {
           "diverging": [
            [
             0,
             "#8e0152"
            ],
            [
             0.1,
             "#c51b7d"
            ],
            [
             0.2,
             "#de77ae"
            ],
            [
             0.3,
             "#f1b6da"
            ],
            [
             0.4,
             "#fde0ef"
            ],
            [
             0.5,
             "#f7f7f7"
            ],
            [
             0.6,
             "#e6f5d0"
            ],
            [
             0.7,
             "#b8e186"
            ],
            [
             0.8,
             "#7fbc41"
            ],
            [
             0.9,
             "#4d9221"
            ],
            [
             1,
             "#276419"
            ]
           ],
           "sequential": [
            [
             0,
             "#0d0887"
            ],
            [
             0.1111111111111111,
             "#46039f"
            ],
            [
             0.2222222222222222,
             "#7201a8"
            ],
            [
             0.3333333333333333,
             "#9c179e"
            ],
            [
             0.4444444444444444,
             "#bd3786"
            ],
            [
             0.5555555555555556,
             "#d8576b"
            ],
            [
             0.6666666666666666,
             "#ed7953"
            ],
            [
             0.7777777777777778,
             "#fb9f3a"
            ],
            [
             0.8888888888888888,
             "#fdca26"
            ],
            [
             1,
             "#f0f921"
            ]
           ],
           "sequentialminus": [
            [
             0,
             "#0d0887"
            ],
            [
             0.1111111111111111,
             "#46039f"
            ],
            [
             0.2222222222222222,
             "#7201a8"
            ],
            [
             0.3333333333333333,
             "#9c179e"
            ],
            [
             0.4444444444444444,
             "#bd3786"
            ],
            [
             0.5555555555555556,
             "#d8576b"
            ],
            [
             0.6666666666666666,
             "#ed7953"
            ],
            [
             0.7777777777777778,
             "#fb9f3a"
            ],
            [
             0.8888888888888888,
             "#fdca26"
            ],
            [
             1,
             "#f0f921"
            ]
           ]
          },
          "colorway": [
           "#636efa",
           "#EF553B",
           "#00cc96",
           "#ab63fa",
           "#FFA15A",
           "#19d3f3",
           "#FF6692",
           "#B6E880",
           "#FF97FF",
           "#FECB52"
          ],
          "font": {
           "color": "#2a3f5f"
          },
          "geo": {
           "bgcolor": "white",
           "lakecolor": "white",
           "landcolor": "#E5ECF6",
           "showlakes": true,
           "showland": true,
           "subunitcolor": "white"
          },
          "hoverlabel": {
           "align": "left"
          },
          "hovermode": "closest",
          "mapbox": {
           "style": "light"
          },
          "paper_bgcolor": "white",
          "plot_bgcolor": "#E5ECF6",
          "polar": {
           "angularaxis": {
            "gridcolor": "white",
            "linecolor": "white",
            "ticks": ""
           },
           "bgcolor": "#E5ECF6",
           "radialaxis": {
            "gridcolor": "white",
            "linecolor": "white",
            "ticks": ""
           }
          },
          "scene": {
           "xaxis": {
            "backgroundcolor": "#E5ECF6",
            "gridcolor": "white",
            "gridwidth": 2,
            "linecolor": "white",
            "showbackground": true,
            "ticks": "",
            "zerolinecolor": "white"
           },
           "yaxis": {
            "backgroundcolor": "#E5ECF6",
            "gridcolor": "white",
            "gridwidth": 2,
            "linecolor": "white",
            "showbackground": true,
            "ticks": "",
            "zerolinecolor": "white"
           },
           "zaxis": {
            "backgroundcolor": "#E5ECF6",
            "gridcolor": "white",
            "gridwidth": 2,
            "linecolor": "white",
            "showbackground": true,
            "ticks": "",
            "zerolinecolor": "white"
           }
          },
          "shapedefaults": {
           "line": {
            "color": "#2a3f5f"
           }
          },
          "ternary": {
           "aaxis": {
            "gridcolor": "white",
            "linecolor": "white",
            "ticks": ""
           },
           "baxis": {
            "gridcolor": "white",
            "linecolor": "white",
            "ticks": ""
           },
           "bgcolor": "#E5ECF6",
           "caxis": {
            "gridcolor": "white",
            "linecolor": "white",
            "ticks": ""
           }
          },
          "title": {
           "x": 0.05
          },
          "xaxis": {
           "automargin": true,
           "gridcolor": "white",
           "linecolor": "white",
           "ticks": "",
           "title": {
            "standoff": 15
           },
           "zerolinecolor": "white",
           "zerolinewidth": 2
          },
          "yaxis": {
           "automargin": true,
           "gridcolor": "white",
           "linecolor": "white",
           "ticks": "",
           "title": {
            "standoff": 15
           },
           "zerolinecolor": "white",
           "zerolinewidth": 2
          }
         }
        },
        "xaxis": {
         "anchor": "y",
         "domain": [
          0,
          1
         ],
         "title": {
          "text": "Downloads"
         }
        },
        "yaxis": {
         "anchor": "x",
         "domain": [
          0,
          1
         ],
         "title": {
          "text": "Category"
         }
        }
       }
      }
     },
     "metadata": {},
     "output_type": "display_data"
    }
   ],
   "source": [
    "category_installs = df_apps_clean.groupby('Category').agg({'Installs':pd.Series.sum})\n",
    "category_installs.sort_values('Installs',ascending=True,inplace=True)\n",
    "\n",
    "h_bar = px.bar(x=category_installs.Installs, y=category_installs.index, orientation='h')\n",
    "h_bar.update_layout(xaxis_title= 'Downloads', yaxis_title='Category')\n",
    "h_bar.show()"
   ]
  },
  {
   "cell_type": "markdown",
   "metadata": {
    "id": "Uxk24qMk8vrz"
   },
   "source": [
    "### Category Concentration - Downloads vs. Competition\n",
    "\n",
    "**Challenge**: \n",
    "* First, create a DataFrame that has the number of apps in one column and the number of installs in another:\n",
    "\n",
    "<img src=https://imgur.com/uQRSlXi.png width=\"350\">\n",
    "\n",
    "* Then use the [plotly express examples from the documentation](https://plotly.com/python/line-and-scatter/) alongside the [.scatter() API reference](https://plotly.com/python-api-reference/generated/plotly.express.scatter.html)to create scatter plot that looks like this. \n",
    "\n",
    "<img src=https://imgur.com/cHsqh6a.png>\n",
    "\n",
    "*Hint*: Use the size, hover_name and color parameters in .scatter(). To scale the yaxis, call .update_layout() and specify that the yaxis should be on a log-scale like so: yaxis=dict(type='log') "
   ]
  },
  {
   "cell_type": "code",
   "execution_count": 496,
   "metadata": {
    "id": "tVvGPDY7oe5A"
   },
   "outputs": [
    {
     "data": {
      "application/vnd.plotly.v1+json": {
       "config": {
        "plotlyServerURL": "https://plot.ly"
       },
       "data": [
        {
         "hovertemplate": "<b>%{hovertext}</b><br><br>App=%{marker.size}<br>Installs=%{marker.color}<extra></extra>",
         "hovertext": [
          "ART_AND_DESIGN",
          "AUTO_AND_VEHICLES",
          "BEAUTY",
          "BOOKS_AND_REFERENCE",
          "BUSINESS",
          "COMICS",
          "COMMUNICATION",
          "DATING",
          "EDUCATION",
          "ENTERTAINMENT",
          "EVENTS",
          "FAMILY",
          "FINANCE",
          "FOOD_AND_DRINK",
          "GAME",
          "HEALTH_AND_FITNESS",
          "HOUSE_AND_HOME",
          "LIBRARIES_AND_DEMO",
          "LIFESTYLE",
          "MAPS_AND_NAVIGATION",
          "MEDICAL",
          "NEWS_AND_MAGAZINES",
          "PARENTING",
          "PERSONALIZATION",
          "PHOTOGRAPHY",
          "PRODUCTIVITY",
          "SHOPPING",
          "SOCIAL",
          "SPORTS",
          "TOOLS",
          "TRAVEL_AND_LOCAL",
          "VIDEO_PLAYERS",
          "WEATHER"
         ],
         "legendgroup": "",
         "marker": {
          "color": [
           114233100,
           53129800,
           26916200,
           1665791655,
           692018120,
           44931100,
           11039241530,
           140912410,
           352852000,
           2113660000,
           15949410,
           4437554490,
           455249400,
           211677750,
           13858762717,
           1134006220,
           97082000,
           52083000,
           503611120,
           503267560,
           39162676,
           2369110650,
           31116110,
           1532352930,
           4649143130,
           5788070180,
           1400331540,
           5487841475,
           1096431465,
           8099724500,
           2894859300,
           3916897200,
           361096500
          ],
          "coloraxis": "coloraxis",
          "size": {
           "bdata": "PQBJACoAqQAGATYAAQGGAHYAZgAtAEYGKAFeAI4D8wA+AEAAKQF2ACQBzAAyACoBBwEtAbQAywAEAc8CuwCUAEgA",
           "dtype": "i2"
          },
          "sizemode": "area",
          "sizeref": 4.015,
          "symbol": "circle"
         },
         "mode": "markers",
         "name": "",
         "orientation": "v",
         "showlegend": false,
         "type": "scatter",
         "x": {
          "bdata": "PQBJACoAqQAGATYAAQGGAHYAZgAtAEYGKAFeAI4D8wA+AEAAKQF2ACQBzAAyACoBBwEtAbQAywAEAc8CuwCUAEgA",
          "dtype": "i2"
         },
         "xaxis": "x",
         "y": [
          114233100,
          53129800,
          26916200,
          1665791655,
          692018120,
          44931100,
          11039241530,
          140912410,
          352852000,
          2113660000,
          15949410,
          4437554490,
          455249400,
          211677750,
          13858762717,
          1134006220,
          97082000,
          52083000,
          503611120,
          503267560,
          39162676,
          2369110650,
          31116110,
          1532352930,
          4649143130,
          5788070180,
          1400331540,
          5487841475,
          1096431465,
          8099724500,
          2894859300,
          3916897200,
          361096500
         ],
         "yaxis": "y"
        }
       ],
       "layout": {
        "coloraxis": {
         "colorbar": {
          "title": {
           "text": "Installs"
          }
         },
         "colorscale": [
          [
           0,
           "#0d0887"
          ],
          [
           0.1111111111111111,
           "#46039f"
          ],
          [
           0.2222222222222222,
           "#7201a8"
          ],
          [
           0.3333333333333333,
           "#9c179e"
          ],
          [
           0.4444444444444444,
           "#bd3786"
          ],
          [
           0.5555555555555556,
           "#d8576b"
          ],
          [
           0.6666666666666666,
           "#ed7953"
          ],
          [
           0.7777777777777778,
           "#fb9f3a"
          ],
          [
           0.8888888888888888,
           "#fdca26"
          ],
          [
           1,
           "#f0f921"
          ]
         ]
        },
        "legend": {
         "itemsizing": "constant",
         "tracegroupgap": 0
        },
        "template": {
         "data": {
          "bar": [
           {
            "error_x": {
             "color": "#2a3f5f"
            },
            "error_y": {
             "color": "#2a3f5f"
            },
            "marker": {
             "line": {
              "color": "#E5ECF6",
              "width": 0.5
             },
             "pattern": {
              "fillmode": "overlay",
              "size": 10,
              "solidity": 0.2
             }
            },
            "type": "bar"
           }
          ],
          "barpolar": [
           {
            "marker": {
             "line": {
              "color": "#E5ECF6",
              "width": 0.5
             },
             "pattern": {
              "fillmode": "overlay",
              "size": 10,
              "solidity": 0.2
             }
            },
            "type": "barpolar"
           }
          ],
          "carpet": [
           {
            "aaxis": {
             "endlinecolor": "#2a3f5f",
             "gridcolor": "white",
             "linecolor": "white",
             "minorgridcolor": "white",
             "startlinecolor": "#2a3f5f"
            },
            "baxis": {
             "endlinecolor": "#2a3f5f",
             "gridcolor": "white",
             "linecolor": "white",
             "minorgridcolor": "white",
             "startlinecolor": "#2a3f5f"
            },
            "type": "carpet"
           }
          ],
          "choropleth": [
           {
            "colorbar": {
             "outlinewidth": 0,
             "ticks": ""
            },
            "type": "choropleth"
           }
          ],
          "contour": [
           {
            "colorbar": {
             "outlinewidth": 0,
             "ticks": ""
            },
            "colorscale": [
             [
              0,
              "#0d0887"
             ],
             [
              0.1111111111111111,
              "#46039f"
             ],
             [
              0.2222222222222222,
              "#7201a8"
             ],
             [
              0.3333333333333333,
              "#9c179e"
             ],
             [
              0.4444444444444444,
              "#bd3786"
             ],
             [
              0.5555555555555556,
              "#d8576b"
             ],
             [
              0.6666666666666666,
              "#ed7953"
             ],
             [
              0.7777777777777778,
              "#fb9f3a"
             ],
             [
              0.8888888888888888,
              "#fdca26"
             ],
             [
              1,
              "#f0f921"
             ]
            ],
            "type": "contour"
           }
          ],
          "contourcarpet": [
           {
            "colorbar": {
             "outlinewidth": 0,
             "ticks": ""
            },
            "type": "contourcarpet"
           }
          ],
          "heatmap": [
           {
            "colorbar": {
             "outlinewidth": 0,
             "ticks": ""
            },
            "colorscale": [
             [
              0,
              "#0d0887"
             ],
             [
              0.1111111111111111,
              "#46039f"
             ],
             [
              0.2222222222222222,
              "#7201a8"
             ],
             [
              0.3333333333333333,
              "#9c179e"
             ],
             [
              0.4444444444444444,
              "#bd3786"
             ],
             [
              0.5555555555555556,
              "#d8576b"
             ],
             [
              0.6666666666666666,
              "#ed7953"
             ],
             [
              0.7777777777777778,
              "#fb9f3a"
             ],
             [
              0.8888888888888888,
              "#fdca26"
             ],
             [
              1,
              "#f0f921"
             ]
            ],
            "type": "heatmap"
           }
          ],
          "histogram": [
           {
            "marker": {
             "pattern": {
              "fillmode": "overlay",
              "size": 10,
              "solidity": 0.2
             }
            },
            "type": "histogram"
           }
          ],
          "histogram2d": [
           {
            "colorbar": {
             "outlinewidth": 0,
             "ticks": ""
            },
            "colorscale": [
             [
              0,
              "#0d0887"
             ],
             [
              0.1111111111111111,
              "#46039f"
             ],
             [
              0.2222222222222222,
              "#7201a8"
             ],
             [
              0.3333333333333333,
              "#9c179e"
             ],
             [
              0.4444444444444444,
              "#bd3786"
             ],
             [
              0.5555555555555556,
              "#d8576b"
             ],
             [
              0.6666666666666666,
              "#ed7953"
             ],
             [
              0.7777777777777778,
              "#fb9f3a"
             ],
             [
              0.8888888888888888,
              "#fdca26"
             ],
             [
              1,
              "#f0f921"
             ]
            ],
            "type": "histogram2d"
           }
          ],
          "histogram2dcontour": [
           {
            "colorbar": {
             "outlinewidth": 0,
             "ticks": ""
            },
            "colorscale": [
             [
              0,
              "#0d0887"
             ],
             [
              0.1111111111111111,
              "#46039f"
             ],
             [
              0.2222222222222222,
              "#7201a8"
             ],
             [
              0.3333333333333333,
              "#9c179e"
             ],
             [
              0.4444444444444444,
              "#bd3786"
             ],
             [
              0.5555555555555556,
              "#d8576b"
             ],
             [
              0.6666666666666666,
              "#ed7953"
             ],
             [
              0.7777777777777778,
              "#fb9f3a"
             ],
             [
              0.8888888888888888,
              "#fdca26"
             ],
             [
              1,
              "#f0f921"
             ]
            ],
            "type": "histogram2dcontour"
           }
          ],
          "mesh3d": [
           {
            "colorbar": {
             "outlinewidth": 0,
             "ticks": ""
            },
            "type": "mesh3d"
           }
          ],
          "parcoords": [
           {
            "line": {
             "colorbar": {
              "outlinewidth": 0,
              "ticks": ""
             }
            },
            "type": "parcoords"
           }
          ],
          "pie": [
           {
            "automargin": true,
            "type": "pie"
           }
          ],
          "scatter": [
           {
            "fillpattern": {
             "fillmode": "overlay",
             "size": 10,
             "solidity": 0.2
            },
            "type": "scatter"
           }
          ],
          "scatter3d": [
           {
            "line": {
             "colorbar": {
              "outlinewidth": 0,
              "ticks": ""
             }
            },
            "marker": {
             "colorbar": {
              "outlinewidth": 0,
              "ticks": ""
             }
            },
            "type": "scatter3d"
           }
          ],
          "scattercarpet": [
           {
            "marker": {
             "colorbar": {
              "outlinewidth": 0,
              "ticks": ""
             }
            },
            "type": "scattercarpet"
           }
          ],
          "scattergeo": [
           {
            "marker": {
             "colorbar": {
              "outlinewidth": 0,
              "ticks": ""
             }
            },
            "type": "scattergeo"
           }
          ],
          "scattergl": [
           {
            "marker": {
             "colorbar": {
              "outlinewidth": 0,
              "ticks": ""
             }
            },
            "type": "scattergl"
           }
          ],
          "scattermap": [
           {
            "marker": {
             "colorbar": {
              "outlinewidth": 0,
              "ticks": ""
             }
            },
            "type": "scattermap"
           }
          ],
          "scattermapbox": [
           {
            "marker": {
             "colorbar": {
              "outlinewidth": 0,
              "ticks": ""
             }
            },
            "type": "scattermapbox"
           }
          ],
          "scatterpolar": [
           {
            "marker": {
             "colorbar": {
              "outlinewidth": 0,
              "ticks": ""
             }
            },
            "type": "scatterpolar"
           }
          ],
          "scatterpolargl": [
           {
            "marker": {
             "colorbar": {
              "outlinewidth": 0,
              "ticks": ""
             }
            },
            "type": "scatterpolargl"
           }
          ],
          "scatterternary": [
           {
            "marker": {
             "colorbar": {
              "outlinewidth": 0,
              "ticks": ""
             }
            },
            "type": "scatterternary"
           }
          ],
          "surface": [
           {
            "colorbar": {
             "outlinewidth": 0,
             "ticks": ""
            },
            "colorscale": [
             [
              0,
              "#0d0887"
             ],
             [
              0.1111111111111111,
              "#46039f"
             ],
             [
              0.2222222222222222,
              "#7201a8"
             ],
             [
              0.3333333333333333,
              "#9c179e"
             ],
             [
              0.4444444444444444,
              "#bd3786"
             ],
             [
              0.5555555555555556,
              "#d8576b"
             ],
             [
              0.6666666666666666,
              "#ed7953"
             ],
             [
              0.7777777777777778,
              "#fb9f3a"
             ],
             [
              0.8888888888888888,
              "#fdca26"
             ],
             [
              1,
              "#f0f921"
             ]
            ],
            "type": "surface"
           }
          ],
          "table": [
           {
            "cells": {
             "fill": {
              "color": "#EBF0F8"
             },
             "line": {
              "color": "white"
             }
            },
            "header": {
             "fill": {
              "color": "#C8D4E3"
             },
             "line": {
              "color": "white"
             }
            },
            "type": "table"
           }
          ]
         },
         "layout": {
          "annotationdefaults": {
           "arrowcolor": "#2a3f5f",
           "arrowhead": 0,
           "arrowwidth": 1
          },
          "autotypenumbers": "strict",
          "coloraxis": {
           "colorbar": {
            "outlinewidth": 0,
            "ticks": ""
           }
          },
          "colorscale": {
           "diverging": [
            [
             0,
             "#8e0152"
            ],
            [
             0.1,
             "#c51b7d"
            ],
            [
             0.2,
             "#de77ae"
            ],
            [
             0.3,
             "#f1b6da"
            ],
            [
             0.4,
             "#fde0ef"
            ],
            [
             0.5,
             "#f7f7f7"
            ],
            [
             0.6,
             "#e6f5d0"
            ],
            [
             0.7,
             "#b8e186"
            ],
            [
             0.8,
             "#7fbc41"
            ],
            [
             0.9,
             "#4d9221"
            ],
            [
             1,
             "#276419"
            ]
           ],
           "sequential": [
            [
             0,
             "#0d0887"
            ],
            [
             0.1111111111111111,
             "#46039f"
            ],
            [
             0.2222222222222222,
             "#7201a8"
            ],
            [
             0.3333333333333333,
             "#9c179e"
            ],
            [
             0.4444444444444444,
             "#bd3786"
            ],
            [
             0.5555555555555556,
             "#d8576b"
            ],
            [
             0.6666666666666666,
             "#ed7953"
            ],
            [
             0.7777777777777778,
             "#fb9f3a"
            ],
            [
             0.8888888888888888,
             "#fdca26"
            ],
            [
             1,
             "#f0f921"
            ]
           ],
           "sequentialminus": [
            [
             0,
             "#0d0887"
            ],
            [
             0.1111111111111111,
             "#46039f"
            ],
            [
             0.2222222222222222,
             "#7201a8"
            ],
            [
             0.3333333333333333,
             "#9c179e"
            ],
            [
             0.4444444444444444,
             "#bd3786"
            ],
            [
             0.5555555555555556,
             "#d8576b"
            ],
            [
             0.6666666666666666,
             "#ed7953"
            ],
            [
             0.7777777777777778,
             "#fb9f3a"
            ],
            [
             0.8888888888888888,
             "#fdca26"
            ],
            [
             1,
             "#f0f921"
            ]
           ]
          },
          "colorway": [
           "#636efa",
           "#EF553B",
           "#00cc96",
           "#ab63fa",
           "#FFA15A",
           "#19d3f3",
           "#FF6692",
           "#B6E880",
           "#FF97FF",
           "#FECB52"
          ],
          "font": {
           "color": "#2a3f5f"
          },
          "geo": {
           "bgcolor": "white",
           "lakecolor": "white",
           "landcolor": "#E5ECF6",
           "showlakes": true,
           "showland": true,
           "subunitcolor": "white"
          },
          "hoverlabel": {
           "align": "left"
          },
          "hovermode": "closest",
          "mapbox": {
           "style": "light"
          },
          "paper_bgcolor": "white",
          "plot_bgcolor": "#E5ECF6",
          "polar": {
           "angularaxis": {
            "gridcolor": "white",
            "linecolor": "white",
            "ticks": ""
           },
           "bgcolor": "#E5ECF6",
           "radialaxis": {
            "gridcolor": "white",
            "linecolor": "white",
            "ticks": ""
           }
          },
          "scene": {
           "xaxis": {
            "backgroundcolor": "#E5ECF6",
            "gridcolor": "white",
            "gridwidth": 2,
            "linecolor": "white",
            "showbackground": true,
            "ticks": "",
            "zerolinecolor": "white"
           },
           "yaxis": {
            "backgroundcolor": "#E5ECF6",
            "gridcolor": "white",
            "gridwidth": 2,
            "linecolor": "white",
            "showbackground": true,
            "ticks": "",
            "zerolinecolor": "white"
           },
           "zaxis": {
            "backgroundcolor": "#E5ECF6",
            "gridcolor": "white",
            "gridwidth": 2,
            "linecolor": "white",
            "showbackground": true,
            "ticks": "",
            "zerolinecolor": "white"
           }
          },
          "shapedefaults": {
           "line": {
            "color": "#2a3f5f"
           }
          },
          "ternary": {
           "aaxis": {
            "gridcolor": "white",
            "linecolor": "white",
            "ticks": ""
           },
           "baxis": {
            "gridcolor": "white",
            "linecolor": "white",
            "ticks": ""
           },
           "bgcolor": "#E5ECF6",
           "caxis": {
            "gridcolor": "white",
            "linecolor": "white",
            "ticks": ""
           }
          },
          "title": {
           "x": 0.05
          },
          "xaxis": {
           "automargin": true,
           "gridcolor": "white",
           "linecolor": "white",
           "ticks": "",
           "title": {
            "standoff": 15
           },
           "zerolinecolor": "white",
           "zerolinewidth": 2
          },
          "yaxis": {
           "automargin": true,
           "gridcolor": "white",
           "linecolor": "white",
           "ticks": "",
           "title": {
            "standoff": 15
           },
           "zerolinecolor": "white",
           "zerolinewidth": 2
          }
         }
        },
        "title": {
         "text": "Category Concentration"
        },
        "xaxis": {
         "anchor": "y",
         "domain": [
          0,
          1
         ],
         "title": {
          "text": "App"
         }
        },
        "yaxis": {
         "anchor": "x",
         "domain": [
          0,
          1
         ],
         "title": {
          "text": "Installs"
         },
         "type": "log"
        }
       }
      }
     },
     "metadata": {},
     "output_type": "display_data"
    }
   ],
   "source": [
    "cat_num = df_apps_clean.groupby(\"Category\").agg({'App':pd.Series.count})\n",
    "cat_merged = pd.merge(cat_num,category_installs, on='Category')\n",
    "cat_merged.sort_values('Installs',ascending=False)\n",
    "\n",
    "scatter = px.scatter(cat_merged, x='App',y='Installs',title='Category Concentration',hover_name=cat_merged.index, color='Installs',size='App')\n",
    "scatter.update_layout(yaxis =dict(type='log'))\n",
    "scatter.show()"
   ]
  },
  {
   "cell_type": "markdown",
   "metadata": {
    "id": "dmXDF75WdiVC"
   },
   "source": [
    "# Extracting Nested Data from a Column\n",
    "\n",
    "**Challenge**: How many different types of genres are there? Can an app belong to more than one genre? Check what happens when you use .value_counts() on a column with nested values? See if you can work around this problem by using the .split() function and the DataFrame's [.stack() method](https://pandas.pydata.org/pandas-docs/stable/reference/api/pandas.DataFrame.stack.html). \n"
   ]
  },
  {
   "cell_type": "code",
   "execution_count": 497,
   "metadata": {
    "id": "3Lo69kS6ogdm"
   },
   "outputs": [
    {
     "name": "stdout",
     "output_type": "stream",
     "text": [
      "Number of Genres: 53\n"
     ]
    },
    {
     "data": {
      "text/plain": [
       "Tools                      719\n",
       "Education                  587\n",
       "Entertainment              498\n",
       "Action                     304\n",
       "Productivity               301\n",
       "Personalization            298\n",
       "Lifestyle                  298\n",
       "Finance                    296\n",
       "Medical                    292\n",
       "Sports                     270\n",
       "Photography                263\n",
       "Business                   262\n",
       "Communication              258\n",
       "Health & Fitness           245\n",
       "Casual                     216\n",
       "News & Magazines           204\n",
       "Social                     203\n",
       "Simulation                 200\n",
       "Travel & Local             187\n",
       "Arcade                     185\n",
       "Shopping                   180\n",
       "Books & Reference          171\n",
       "Video Players & Editors    150\n",
       "Dating                     134\n",
       "Puzzle                     124\n",
       "Maps & Navigation          118\n",
       "Role Playing               111\n",
       "Racing                     103\n",
       "Action & Adventure          96\n",
       "Strategy                    95\n",
       "Food & Drink                94\n",
       "Educational                 93\n",
       "Adventure                   78\n",
       "Auto & Vehicles             73\n",
       "Weather                     72\n",
       "Pretend Play                68\n",
       "Brain Games                 65\n",
       "Libraries & Demo            64\n",
       "Art & Design                62\n",
       "House & Home                62\n",
       "Board                       57\n",
       "Comics                      54\n",
       "Parenting                   50\n",
       "Card                        46\n",
       "Events                      45\n",
       "Beauty                      42\n",
       "Casino                      37\n",
       "Music & Video               31\n",
       "Creativity                  31\n",
       "Trivia                      28\n",
       "Word                        22\n",
       "Music                       21\n",
       "Music & Audio                1\n",
       "Name: count, dtype: int64"
      ]
     },
     "execution_count": 497,
     "metadata": {},
     "output_type": "execute_result"
    }
   ],
   "source": [
    "df_apps_clean.Genres.value_counts().tail()\n",
    "stack = df_apps_clean.Genres.str.split(\";\",expand=True).stack()\n",
    "num_genres = stack.value_counts()\n",
    "print(f'Number of Genres: {len(num_genres)}')\n",
    "num_genres"
   ]
  },
  {
   "cell_type": "markdown",
   "metadata": {
    "id": "F3zaKvfydiVI"
   },
   "source": [
    "# Colour Scales in Plotly Charts - Competition in Genres"
   ]
  },
  {
   "cell_type": "markdown",
   "metadata": {
    "id": "Ucw6RT59diVK"
   },
   "source": [
    "**Challenge**: Can you create this chart with the Series containing the genre data? \n",
    "\n",
    "<img src=https://imgur.com/DbcoQli.png width=400>\n",
    "\n",
    "Try experimenting with the built in colour scales in Plotly. You can find a full list [here](https://plotly.com/python/builtin-colorscales/). \n",
    "\n",
    "* Find a way to set the colour scale using the color_continuous_scale parameter. \n",
    "* Find a way to make the color axis disappear by using coloraxis_showscale. "
   ]
  },
  {
   "cell_type": "code",
   "execution_count": 498,
   "metadata": {
    "id": "c5xbfMgxojoA"
   },
   "outputs": [
    {
     "data": {
      "application/vnd.plotly.v1+json": {
       "config": {
        "plotlyServerURL": "https://plot.ly"
       },
       "data": [
        {
         "hovertemplate": "<b>%{hovertext}</b><br><br>x=%{x}<br>y=%{y}<br>color=%{marker.color}<extra></extra>",
         "hovertext": [
          "Tools",
          "Education",
          "Entertainment",
          "Action",
          "Productivity",
          "Personalization",
          "Lifestyle",
          "Finance",
          "Medical",
          "Sports",
          "Photography",
          "Business",
          "Communication",
          "Health & Fitness",
          "Casual"
         ],
         "legendgroup": "",
         "marker": {
          "color": {
           "bdata": "zwJLAvIBMAEtASoBKgEoASQBDgEHAQYBAgH1ANgA",
           "dtype": "i2"
          },
          "coloraxis": "coloraxis",
          "pattern": {
           "shape": ""
          }
         },
         "name": "",
         "orientation": "v",
         "showlegend": false,
         "textposition": "auto",
         "type": "bar",
         "x": [
          "Tools",
          "Education",
          "Entertainment",
          "Action",
          "Productivity",
          "Personalization",
          "Lifestyle",
          "Finance",
          "Medical",
          "Sports",
          "Photography",
          "Business",
          "Communication",
          "Health & Fitness",
          "Casual"
         ],
         "xaxis": "x",
         "y": {
          "bdata": "zwJLAvIBMAEtASoBKgEoASQBDgEHAQYBAgH1ANgA",
          "dtype": "i2"
         },
         "yaxis": "y"
        }
       ],
       "layout": {
        "barmode": "relative",
        "coloraxis": {
         "colorbar": {
          "title": {
           "text": "color"
          }
         },
         "colorscale": [
          [
           0,
           "rgb(75, 41, 145)"
          ],
          [
           0.16666666666666666,
           "rgb(135, 44, 162)"
          ],
          [
           0.3333333333333333,
           "rgb(192, 54, 157)"
          ],
          [
           0.5,
           "rgb(234, 79, 136)"
          ],
          [
           0.6666666666666666,
           "rgb(250, 120, 118)"
          ],
          [
           0.8333333333333334,
           "rgb(246, 169, 122)"
          ],
          [
           1,
           "rgb(237, 217, 163)"
          ]
         ],
         "showscale": false
        },
        "legend": {
         "tracegroupgap": 0
        },
        "template": {
         "data": {
          "bar": [
           {
            "error_x": {
             "color": "#2a3f5f"
            },
            "error_y": {
             "color": "#2a3f5f"
            },
            "marker": {
             "line": {
              "color": "#E5ECF6",
              "width": 0.5
             },
             "pattern": {
              "fillmode": "overlay",
              "size": 10,
              "solidity": 0.2
             }
            },
            "type": "bar"
           }
          ],
          "barpolar": [
           {
            "marker": {
             "line": {
              "color": "#E5ECF6",
              "width": 0.5
             },
             "pattern": {
              "fillmode": "overlay",
              "size": 10,
              "solidity": 0.2
             }
            },
            "type": "barpolar"
           }
          ],
          "carpet": [
           {
            "aaxis": {
             "endlinecolor": "#2a3f5f",
             "gridcolor": "white",
             "linecolor": "white",
             "minorgridcolor": "white",
             "startlinecolor": "#2a3f5f"
            },
            "baxis": {
             "endlinecolor": "#2a3f5f",
             "gridcolor": "white",
             "linecolor": "white",
             "minorgridcolor": "white",
             "startlinecolor": "#2a3f5f"
            },
            "type": "carpet"
           }
          ],
          "choropleth": [
           {
            "colorbar": {
             "outlinewidth": 0,
             "ticks": ""
            },
            "type": "choropleth"
           }
          ],
          "contour": [
           {
            "colorbar": {
             "outlinewidth": 0,
             "ticks": ""
            },
            "colorscale": [
             [
              0,
              "#0d0887"
             ],
             [
              0.1111111111111111,
              "#46039f"
             ],
             [
              0.2222222222222222,
              "#7201a8"
             ],
             [
              0.3333333333333333,
              "#9c179e"
             ],
             [
              0.4444444444444444,
              "#bd3786"
             ],
             [
              0.5555555555555556,
              "#d8576b"
             ],
             [
              0.6666666666666666,
              "#ed7953"
             ],
             [
              0.7777777777777778,
              "#fb9f3a"
             ],
             [
              0.8888888888888888,
              "#fdca26"
             ],
             [
              1,
              "#f0f921"
             ]
            ],
            "type": "contour"
           }
          ],
          "contourcarpet": [
           {
            "colorbar": {
             "outlinewidth": 0,
             "ticks": ""
            },
            "type": "contourcarpet"
           }
          ],
          "heatmap": [
           {
            "colorbar": {
             "outlinewidth": 0,
             "ticks": ""
            },
            "colorscale": [
             [
              0,
              "#0d0887"
             ],
             [
              0.1111111111111111,
              "#46039f"
             ],
             [
              0.2222222222222222,
              "#7201a8"
             ],
             [
              0.3333333333333333,
              "#9c179e"
             ],
             [
              0.4444444444444444,
              "#bd3786"
             ],
             [
              0.5555555555555556,
              "#d8576b"
             ],
             [
              0.6666666666666666,
              "#ed7953"
             ],
             [
              0.7777777777777778,
              "#fb9f3a"
             ],
             [
              0.8888888888888888,
              "#fdca26"
             ],
             [
              1,
              "#f0f921"
             ]
            ],
            "type": "heatmap"
           }
          ],
          "histogram": [
           {
            "marker": {
             "pattern": {
              "fillmode": "overlay",
              "size": 10,
              "solidity": 0.2
             }
            },
            "type": "histogram"
           }
          ],
          "histogram2d": [
           {
            "colorbar": {
             "outlinewidth": 0,
             "ticks": ""
            },
            "colorscale": [
             [
              0,
              "#0d0887"
             ],
             [
              0.1111111111111111,
              "#46039f"
             ],
             [
              0.2222222222222222,
              "#7201a8"
             ],
             [
              0.3333333333333333,
              "#9c179e"
             ],
             [
              0.4444444444444444,
              "#bd3786"
             ],
             [
              0.5555555555555556,
              "#d8576b"
             ],
             [
              0.6666666666666666,
              "#ed7953"
             ],
             [
              0.7777777777777778,
              "#fb9f3a"
             ],
             [
              0.8888888888888888,
              "#fdca26"
             ],
             [
              1,
              "#f0f921"
             ]
            ],
            "type": "histogram2d"
           }
          ],
          "histogram2dcontour": [
           {
            "colorbar": {
             "outlinewidth": 0,
             "ticks": ""
            },
            "colorscale": [
             [
              0,
              "#0d0887"
             ],
             [
              0.1111111111111111,
              "#46039f"
             ],
             [
              0.2222222222222222,
              "#7201a8"
             ],
             [
              0.3333333333333333,
              "#9c179e"
             ],
             [
              0.4444444444444444,
              "#bd3786"
             ],
             [
              0.5555555555555556,
              "#d8576b"
             ],
             [
              0.6666666666666666,
              "#ed7953"
             ],
             [
              0.7777777777777778,
              "#fb9f3a"
             ],
             [
              0.8888888888888888,
              "#fdca26"
             ],
             [
              1,
              "#f0f921"
             ]
            ],
            "type": "histogram2dcontour"
           }
          ],
          "mesh3d": [
           {
            "colorbar": {
             "outlinewidth": 0,
             "ticks": ""
            },
            "type": "mesh3d"
           }
          ],
          "parcoords": [
           {
            "line": {
             "colorbar": {
              "outlinewidth": 0,
              "ticks": ""
             }
            },
            "type": "parcoords"
           }
          ],
          "pie": [
           {
            "automargin": true,
            "type": "pie"
           }
          ],
          "scatter": [
           {
            "fillpattern": {
             "fillmode": "overlay",
             "size": 10,
             "solidity": 0.2
            },
            "type": "scatter"
           }
          ],
          "scatter3d": [
           {
            "line": {
             "colorbar": {
              "outlinewidth": 0,
              "ticks": ""
             }
            },
            "marker": {
             "colorbar": {
              "outlinewidth": 0,
              "ticks": ""
             }
            },
            "type": "scatter3d"
           }
          ],
          "scattercarpet": [
           {
            "marker": {
             "colorbar": {
              "outlinewidth": 0,
              "ticks": ""
             }
            },
            "type": "scattercarpet"
           }
          ],
          "scattergeo": [
           {
            "marker": {
             "colorbar": {
              "outlinewidth": 0,
              "ticks": ""
             }
            },
            "type": "scattergeo"
           }
          ],
          "scattergl": [
           {
            "marker": {
             "colorbar": {
              "outlinewidth": 0,
              "ticks": ""
             }
            },
            "type": "scattergl"
           }
          ],
          "scattermap": [
           {
            "marker": {
             "colorbar": {
              "outlinewidth": 0,
              "ticks": ""
             }
            },
            "type": "scattermap"
           }
          ],
          "scattermapbox": [
           {
            "marker": {
             "colorbar": {
              "outlinewidth": 0,
              "ticks": ""
             }
            },
            "type": "scattermapbox"
           }
          ],
          "scatterpolar": [
           {
            "marker": {
             "colorbar": {
              "outlinewidth": 0,
              "ticks": ""
             }
            },
            "type": "scatterpolar"
           }
          ],
          "scatterpolargl": [
           {
            "marker": {
             "colorbar": {
              "outlinewidth": 0,
              "ticks": ""
             }
            },
            "type": "scatterpolargl"
           }
          ],
          "scatterternary": [
           {
            "marker": {
             "colorbar": {
              "outlinewidth": 0,
              "ticks": ""
             }
            },
            "type": "scatterternary"
           }
          ],
          "surface": [
           {
            "colorbar": {
             "outlinewidth": 0,
             "ticks": ""
            },
            "colorscale": [
             [
              0,
              "#0d0887"
             ],
             [
              0.1111111111111111,
              "#46039f"
             ],
             [
              0.2222222222222222,
              "#7201a8"
             ],
             [
              0.3333333333333333,
              "#9c179e"
             ],
             [
              0.4444444444444444,
              "#bd3786"
             ],
             [
              0.5555555555555556,
              "#d8576b"
             ],
             [
              0.6666666666666666,
              "#ed7953"
             ],
             [
              0.7777777777777778,
              "#fb9f3a"
             ],
             [
              0.8888888888888888,
              "#fdca26"
             ],
             [
              1,
              "#f0f921"
             ]
            ],
            "type": "surface"
           }
          ],
          "table": [
           {
            "cells": {
             "fill": {
              "color": "#EBF0F8"
             },
             "line": {
              "color": "white"
             }
            },
            "header": {
             "fill": {
              "color": "#C8D4E3"
             },
             "line": {
              "color": "white"
             }
            },
            "type": "table"
           }
          ]
         },
         "layout": {
          "annotationdefaults": {
           "arrowcolor": "#2a3f5f",
           "arrowhead": 0,
           "arrowwidth": 1
          },
          "autotypenumbers": "strict",
          "coloraxis": {
           "colorbar": {
            "outlinewidth": 0,
            "ticks": ""
           }
          },
          "colorscale": {
           "diverging": [
            [
             0,
             "#8e0152"
            ],
            [
             0.1,
             "#c51b7d"
            ],
            [
             0.2,
             "#de77ae"
            ],
            [
             0.3,
             "#f1b6da"
            ],
            [
             0.4,
             "#fde0ef"
            ],
            [
             0.5,
             "#f7f7f7"
            ],
            [
             0.6,
             "#e6f5d0"
            ],
            [
             0.7,
             "#b8e186"
            ],
            [
             0.8,
             "#7fbc41"
            ],
            [
             0.9,
             "#4d9221"
            ],
            [
             1,
             "#276419"
            ]
           ],
           "sequential": [
            [
             0,
             "#0d0887"
            ],
            [
             0.1111111111111111,
             "#46039f"
            ],
            [
             0.2222222222222222,
             "#7201a8"
            ],
            [
             0.3333333333333333,
             "#9c179e"
            ],
            [
             0.4444444444444444,
             "#bd3786"
            ],
            [
             0.5555555555555556,
             "#d8576b"
            ],
            [
             0.6666666666666666,
             "#ed7953"
            ],
            [
             0.7777777777777778,
             "#fb9f3a"
            ],
            [
             0.8888888888888888,
             "#fdca26"
            ],
            [
             1,
             "#f0f921"
            ]
           ],
           "sequentialminus": [
            [
             0,
             "#0d0887"
            ],
            [
             0.1111111111111111,
             "#46039f"
            ],
            [
             0.2222222222222222,
             "#7201a8"
            ],
            [
             0.3333333333333333,
             "#9c179e"
            ],
            [
             0.4444444444444444,
             "#bd3786"
            ],
            [
             0.5555555555555556,
             "#d8576b"
            ],
            [
             0.6666666666666666,
             "#ed7953"
            ],
            [
             0.7777777777777778,
             "#fb9f3a"
            ],
            [
             0.8888888888888888,
             "#fdca26"
            ],
            [
             1,
             "#f0f921"
            ]
           ]
          },
          "colorway": [
           "#636efa",
           "#EF553B",
           "#00cc96",
           "#ab63fa",
           "#FFA15A",
           "#19d3f3",
           "#FF6692",
           "#B6E880",
           "#FF97FF",
           "#FECB52"
          ],
          "font": {
           "color": "#2a3f5f"
          },
          "geo": {
           "bgcolor": "white",
           "lakecolor": "white",
           "landcolor": "#E5ECF6",
           "showlakes": true,
           "showland": true,
           "subunitcolor": "white"
          },
          "hoverlabel": {
           "align": "left"
          },
          "hovermode": "closest",
          "mapbox": {
           "style": "light"
          },
          "paper_bgcolor": "white",
          "plot_bgcolor": "#E5ECF6",
          "polar": {
           "angularaxis": {
            "gridcolor": "white",
            "linecolor": "white",
            "ticks": ""
           },
           "bgcolor": "#E5ECF6",
           "radialaxis": {
            "gridcolor": "white",
            "linecolor": "white",
            "ticks": ""
           }
          },
          "scene": {
           "xaxis": {
            "backgroundcolor": "#E5ECF6",
            "gridcolor": "white",
            "gridwidth": 2,
            "linecolor": "white",
            "showbackground": true,
            "ticks": "",
            "zerolinecolor": "white"
           },
           "yaxis": {
            "backgroundcolor": "#E5ECF6",
            "gridcolor": "white",
            "gridwidth": 2,
            "linecolor": "white",
            "showbackground": true,
            "ticks": "",
            "zerolinecolor": "white"
           },
           "zaxis": {
            "backgroundcolor": "#E5ECF6",
            "gridcolor": "white",
            "gridwidth": 2,
            "linecolor": "white",
            "showbackground": true,
            "ticks": "",
            "zerolinecolor": "white"
           }
          },
          "shapedefaults": {
           "line": {
            "color": "#2a3f5f"
           }
          },
          "ternary": {
           "aaxis": {
            "gridcolor": "white",
            "linecolor": "white",
            "ticks": ""
           },
           "baxis": {
            "gridcolor": "white",
            "linecolor": "white",
            "ticks": ""
           },
           "bgcolor": "#E5ECF6",
           "caxis": {
            "gridcolor": "white",
            "linecolor": "white",
            "ticks": ""
           }
          },
          "title": {
           "x": 0.05
          },
          "xaxis": {
           "automargin": true,
           "gridcolor": "white",
           "linecolor": "white",
           "ticks": "",
           "title": {
            "standoff": 15
           },
           "zerolinecolor": "white",
           "zerolinewidth": 2
          },
          "yaxis": {
           "automargin": true,
           "gridcolor": "white",
           "linecolor": "white",
           "ticks": "",
           "title": {
            "standoff": 15
           },
           "zerolinecolor": "white",
           "zerolinewidth": 2
          }
         }
        },
        "title": {
         "text": "Top Genres"
        },
        "xaxis": {
         "anchor": "y",
         "domain": [
          0,
          1
         ],
         "title": {
          "text": "Genres"
         }
        },
        "yaxis": {
         "anchor": "x",
         "domain": [
          0,
          1
         ],
         "title": {
          "text": "Number of Apps"
         }
        }
       }
      }
     },
     "metadata": {},
     "output_type": "display_data"
    }
   ],
   "source": [
    "genre_bar = px.bar(x=num_genres.index[:15],\n",
    "                   y=num_genres.values[:15],\n",
    "                   color=num_genres.values[:15],\n",
    "                   hover_name=num_genres.index[:15],\n",
    "                   title= 'Top Genres',\n",
    "                   color_continuous_scale='Agsunset')\n",
    "genre_bar.update_layout(xaxis_title= \"Genres\", yaxis_title= 'Number of Apps',coloraxis_showscale=False)\n",
    "genre_bar.show()"
   ]
  },
  {
   "cell_type": "markdown",
   "metadata": {
    "id": "BIWG_10PyIzL"
   },
   "source": [
    "# Grouped Bar Charts: Free vs. Paid Apps per Category"
   ]
  },
  {
   "cell_type": "code",
   "execution_count": 501,
   "metadata": {
    "id": "ANMs7xywolDH"
   },
   "outputs": [
    {
     "data": {
      "text/html": [
       "<div>\n",
       "<style scoped>\n",
       "    .dataframe tbody tr th:only-of-type {\n",
       "        vertical-align: middle;\n",
       "    }\n",
       "\n",
       "    .dataframe tbody tr th {\n",
       "        vertical-align: top;\n",
       "    }\n",
       "\n",
       "    .dataframe thead th {\n",
       "        text-align: right;\n",
       "    }\n",
       "</style>\n",
       "<table border=\"1\" class=\"dataframe\">\n",
       "  <thead>\n",
       "    <tr style=\"text-align: right;\">\n",
       "      <th></th>\n",
       "      <th>Category</th>\n",
       "      <th>Type</th>\n",
       "      <th>App</th>\n",
       "    </tr>\n",
       "  </thead>\n",
       "  <tbody>\n",
       "    <tr>\n",
       "      <th>0</th>\n",
       "      <td>ART_AND_DESIGN</td>\n",
       "      <td>Free</td>\n",
       "      <td>58</td>\n",
       "    </tr>\n",
       "    <tr>\n",
       "      <th>1</th>\n",
       "      <td>ART_AND_DESIGN</td>\n",
       "      <td>Paid</td>\n",
       "      <td>3</td>\n",
       "    </tr>\n",
       "    <tr>\n",
       "      <th>2</th>\n",
       "      <td>AUTO_AND_VEHICLES</td>\n",
       "      <td>Free</td>\n",
       "      <td>72</td>\n",
       "    </tr>\n",
       "    <tr>\n",
       "      <th>3</th>\n",
       "      <td>AUTO_AND_VEHICLES</td>\n",
       "      <td>Paid</td>\n",
       "      <td>1</td>\n",
       "    </tr>\n",
       "    <tr>\n",
       "      <th>4</th>\n",
       "      <td>BEAUTY</td>\n",
       "      <td>Free</td>\n",
       "      <td>42</td>\n",
       "    </tr>\n",
       "  </tbody>\n",
       "</table>\n",
       "</div>"
      ],
      "text/plain": [
       "            Category  Type  App\n",
       "0     ART_AND_DESIGN  Free   58\n",
       "1     ART_AND_DESIGN  Paid    3\n",
       "2  AUTO_AND_VEHICLES  Free   72\n",
       "3  AUTO_AND_VEHICLES  Paid    1\n",
       "4             BEAUTY  Free   42"
      ]
     },
     "execution_count": 501,
     "metadata": {},
     "output_type": "execute_result"
    }
   ],
   "source": [
    "df_free_vs_clean = df_apps_clean.groupby([\"Category\",\"Type\"],as_index=False).agg({'App':pd.Series.count})\n",
    "df_free_vs_clean.head()"
   ]
  },
  {
   "cell_type": "markdown",
   "metadata": {
    "id": "wmRXm0TW1e_Z"
   },
   "source": [
    "**Challenge**: Use the plotly express bar [chart examples](https://plotly.com/python/bar-charts/#bar-chart-with-sorted-or-ordered-categories) and the [.bar() API reference](https://plotly.com/python-api-reference/generated/plotly.express.bar.html#plotly.express.bar) to create this bar chart: \n",
    "\n",
    "<img src=https://imgur.com/LE0XCxA.png>\n",
    "\n",
    "You'll want to use the `df_free_vs_paid` DataFrame that you created above that has the total number of free and paid apps per category. \n",
    "\n",
    "See if you can figure out how to get the look above by changing the `categoryorder` to 'total descending' as outlined in the documentation here [here](https://plotly.com/python/categorical-axes/#automatically-sorting-categories-by-name-or-total-value). "
   ]
  },
  {
   "cell_type": "code",
   "execution_count": 503,
   "metadata": {
    "id": "tqOntrS7onGt"
   },
   "outputs": [
    {
     "data": {
      "application/vnd.plotly.v1+json": {
       "config": {
        "plotlyServerURL": "https://plot.ly"
       },
       "data": [
        {
         "alignmentgroup": "True",
         "hovertemplate": "Type=Free<br>Category=%{x}<br>App=%{y}<extra></extra>",
         "legendgroup": "Free",
         "marker": {
          "color": "#636efa",
          "pattern": {
           "shape": ""
          }
         },
         "name": "Free",
         "offsetgroup": "Free",
         "orientation": "v",
         "showlegend": true,
         "textposition": "auto",
         "type": "bar",
         "x": [
          "ART_AND_DESIGN",
          "AUTO_AND_VEHICLES",
          "BEAUTY",
          "BOOKS_AND_REFERENCE",
          "BUSINESS",
          "COMICS",
          "COMMUNICATION",
          "DATING",
          "EDUCATION",
          "ENTERTAINMENT",
          "EVENTS",
          "FAMILY",
          "FINANCE",
          "FOOD_AND_DRINK",
          "GAME",
          "HEALTH_AND_FITNESS",
          "HOUSE_AND_HOME",
          "LIBRARIES_AND_DEMO",
          "LIFESTYLE",
          "MAPS_AND_NAVIGATION",
          "MEDICAL",
          "NEWS_AND_MAGAZINES",
          "PARENTING",
          "PERSONALIZATION",
          "PHOTOGRAPHY",
          "PRODUCTIVITY",
          "SHOPPING",
          "SOCIAL",
          "SPORTS",
          "TOOLS",
          "TRAVEL_AND_LOCAL",
          "VIDEO_PLAYERS",
          "WEATHER"
         ],
         "xaxis": "x",
         "y": {
          "bdata": "OgBIACoAoQD9ADYA6wCDAHIAZAAtALAFIQFcAEID6AA+AEAAHAFxAOUAygAwAOkA+AAbAbIAyQDuAJACswCQAEEA",
          "dtype": "i2"
         },
         "yaxis": "y"
        },
        {
         "alignmentgroup": "True",
         "hovertemplate": "Type=Paid<br>Category=%{x}<br>App=%{y}<extra></extra>",
         "legendgroup": "Paid",
         "marker": {
          "color": "#EF553B",
          "pattern": {
           "shape": ""
          }
         },
         "name": "Paid",
         "offsetgroup": "Paid",
         "orientation": "v",
         "showlegend": true,
         "textposition": "auto",
         "type": "bar",
         "x": [
          "ART_AND_DESIGN",
          "AUTO_AND_VEHICLES",
          "BOOKS_AND_REFERENCE",
          "BUSINESS",
          "COMMUNICATION",
          "DATING",
          "EDUCATION",
          "ENTERTAINMENT",
          "FAMILY",
          "FINANCE",
          "FOOD_AND_DRINK",
          "GAME",
          "HEALTH_AND_FITNESS",
          "LIFESTYLE",
          "MAPS_AND_NAVIGATION",
          "MEDICAL",
          "NEWS_AND_MAGAZINES",
          "PARENTING",
          "PERSONALIZATION",
          "PHOTOGRAPHY",
          "PRODUCTIVITY",
          "SHOPPING",
          "SOCIAL",
          "SPORTS",
          "TOOLS",
          "TRAVEL_AND_LOCAL",
          "VIDEO_PLAYERS",
          "WEATHER"
         ],
         "xaxis": "x",
         "y": {
          "bdata": "AwABAAgACQAWAAMABAACAJYABwACAEwACwANAAUAPwACAAIAQQAPABIAAgACABYAPwAIAAQABwA=",
          "dtype": "i2"
         },
         "yaxis": "y"
        }
       ],
       "layout": {
        "barmode": "group",
        "legend": {
         "title": {
          "text": "Type"
         },
         "tracegroupgap": 0
        },
        "margin": {
         "t": 60
        },
        "template": {
         "data": {
          "bar": [
           {
            "error_x": {
             "color": "#2a3f5f"
            },
            "error_y": {
             "color": "#2a3f5f"
            },
            "marker": {
             "line": {
              "color": "#E5ECF6",
              "width": 0.5
             },
             "pattern": {
              "fillmode": "overlay",
              "size": 10,
              "solidity": 0.2
             }
            },
            "type": "bar"
           }
          ],
          "barpolar": [
           {
            "marker": {
             "line": {
              "color": "#E5ECF6",
              "width": 0.5
             },
             "pattern": {
              "fillmode": "overlay",
              "size": 10,
              "solidity": 0.2
             }
            },
            "type": "barpolar"
           }
          ],
          "carpet": [
           {
            "aaxis": {
             "endlinecolor": "#2a3f5f",
             "gridcolor": "white",
             "linecolor": "white",
             "minorgridcolor": "white",
             "startlinecolor": "#2a3f5f"
            },
            "baxis": {
             "endlinecolor": "#2a3f5f",
             "gridcolor": "white",
             "linecolor": "white",
             "minorgridcolor": "white",
             "startlinecolor": "#2a3f5f"
            },
            "type": "carpet"
           }
          ],
          "choropleth": [
           {
            "colorbar": {
             "outlinewidth": 0,
             "ticks": ""
            },
            "type": "choropleth"
           }
          ],
          "contour": [
           {
            "colorbar": {
             "outlinewidth": 0,
             "ticks": ""
            },
            "colorscale": [
             [
              0,
              "#0d0887"
             ],
             [
              0.1111111111111111,
              "#46039f"
             ],
             [
              0.2222222222222222,
              "#7201a8"
             ],
             [
              0.3333333333333333,
              "#9c179e"
             ],
             [
              0.4444444444444444,
              "#bd3786"
             ],
             [
              0.5555555555555556,
              "#d8576b"
             ],
             [
              0.6666666666666666,
              "#ed7953"
             ],
             [
              0.7777777777777778,
              "#fb9f3a"
             ],
             [
              0.8888888888888888,
              "#fdca26"
             ],
             [
              1,
              "#f0f921"
             ]
            ],
            "type": "contour"
           }
          ],
          "contourcarpet": [
           {
            "colorbar": {
             "outlinewidth": 0,
             "ticks": ""
            },
            "type": "contourcarpet"
           }
          ],
          "heatmap": [
           {
            "colorbar": {
             "outlinewidth": 0,
             "ticks": ""
            },
            "colorscale": [
             [
              0,
              "#0d0887"
             ],
             [
              0.1111111111111111,
              "#46039f"
             ],
             [
              0.2222222222222222,
              "#7201a8"
             ],
             [
              0.3333333333333333,
              "#9c179e"
             ],
             [
              0.4444444444444444,
              "#bd3786"
             ],
             [
              0.5555555555555556,
              "#d8576b"
             ],
             [
              0.6666666666666666,
              "#ed7953"
             ],
             [
              0.7777777777777778,
              "#fb9f3a"
             ],
             [
              0.8888888888888888,
              "#fdca26"
             ],
             [
              1,
              "#f0f921"
             ]
            ],
            "type": "heatmap"
           }
          ],
          "histogram": [
           {
            "marker": {
             "pattern": {
              "fillmode": "overlay",
              "size": 10,
              "solidity": 0.2
             }
            },
            "type": "histogram"
           }
          ],
          "histogram2d": [
           {
            "colorbar": {
             "outlinewidth": 0,
             "ticks": ""
            },
            "colorscale": [
             [
              0,
              "#0d0887"
             ],
             [
              0.1111111111111111,
              "#46039f"
             ],
             [
              0.2222222222222222,
              "#7201a8"
             ],
             [
              0.3333333333333333,
              "#9c179e"
             ],
             [
              0.4444444444444444,
              "#bd3786"
             ],
             [
              0.5555555555555556,
              "#d8576b"
             ],
             [
              0.6666666666666666,
              "#ed7953"
             ],
             [
              0.7777777777777778,
              "#fb9f3a"
             ],
             [
              0.8888888888888888,
              "#fdca26"
             ],
             [
              1,
              "#f0f921"
             ]
            ],
            "type": "histogram2d"
           }
          ],
          "histogram2dcontour": [
           {
            "colorbar": {
             "outlinewidth": 0,
             "ticks": ""
            },
            "colorscale": [
             [
              0,
              "#0d0887"
             ],
             [
              0.1111111111111111,
              "#46039f"
             ],
             [
              0.2222222222222222,
              "#7201a8"
             ],
             [
              0.3333333333333333,
              "#9c179e"
             ],
             [
              0.4444444444444444,
              "#bd3786"
             ],
             [
              0.5555555555555556,
              "#d8576b"
             ],
             [
              0.6666666666666666,
              "#ed7953"
             ],
             [
              0.7777777777777778,
              "#fb9f3a"
             ],
             [
              0.8888888888888888,
              "#fdca26"
             ],
             [
              1,
              "#f0f921"
             ]
            ],
            "type": "histogram2dcontour"
           }
          ],
          "mesh3d": [
           {
            "colorbar": {
             "outlinewidth": 0,
             "ticks": ""
            },
            "type": "mesh3d"
           }
          ],
          "parcoords": [
           {
            "line": {
             "colorbar": {
              "outlinewidth": 0,
              "ticks": ""
             }
            },
            "type": "parcoords"
           }
          ],
          "pie": [
           {
            "automargin": true,
            "type": "pie"
           }
          ],
          "scatter": [
           {
            "fillpattern": {
             "fillmode": "overlay",
             "size": 10,
             "solidity": 0.2
            },
            "type": "scatter"
           }
          ],
          "scatter3d": [
           {
            "line": {
             "colorbar": {
              "outlinewidth": 0,
              "ticks": ""
             }
            },
            "marker": {
             "colorbar": {
              "outlinewidth": 0,
              "ticks": ""
             }
            },
            "type": "scatter3d"
           }
          ],
          "scattercarpet": [
           {
            "marker": {
             "colorbar": {
              "outlinewidth": 0,
              "ticks": ""
             }
            },
            "type": "scattercarpet"
           }
          ],
          "scattergeo": [
           {
            "marker": {
             "colorbar": {
              "outlinewidth": 0,
              "ticks": ""
             }
            },
            "type": "scattergeo"
           }
          ],
          "scattergl": [
           {
            "marker": {
             "colorbar": {
              "outlinewidth": 0,
              "ticks": ""
             }
            },
            "type": "scattergl"
           }
          ],
          "scattermap": [
           {
            "marker": {
             "colorbar": {
              "outlinewidth": 0,
              "ticks": ""
             }
            },
            "type": "scattermap"
           }
          ],
          "scattermapbox": [
           {
            "marker": {
             "colorbar": {
              "outlinewidth": 0,
              "ticks": ""
             }
            },
            "type": "scattermapbox"
           }
          ],
          "scatterpolar": [
           {
            "marker": {
             "colorbar": {
              "outlinewidth": 0,
              "ticks": ""
             }
            },
            "type": "scatterpolar"
           }
          ],
          "scatterpolargl": [
           {
            "marker": {
             "colorbar": {
              "outlinewidth": 0,
              "ticks": ""
             }
            },
            "type": "scatterpolargl"
           }
          ],
          "scatterternary": [
           {
            "marker": {
             "colorbar": {
              "outlinewidth": 0,
              "ticks": ""
             }
            },
            "type": "scatterternary"
           }
          ],
          "surface": [
           {
            "colorbar": {
             "outlinewidth": 0,
             "ticks": ""
            },
            "colorscale": [
             [
              0,
              "#0d0887"
             ],
             [
              0.1111111111111111,
              "#46039f"
             ],
             [
              0.2222222222222222,
              "#7201a8"
             ],
             [
              0.3333333333333333,
              "#9c179e"
             ],
             [
              0.4444444444444444,
              "#bd3786"
             ],
             [
              0.5555555555555556,
              "#d8576b"
             ],
             [
              0.6666666666666666,
              "#ed7953"
             ],
             [
              0.7777777777777778,
              "#fb9f3a"
             ],
             [
              0.8888888888888888,
              "#fdca26"
             ],
             [
              1,
              "#f0f921"
             ]
            ],
            "type": "surface"
           }
          ],
          "table": [
           {
            "cells": {
             "fill": {
              "color": "#EBF0F8"
             },
             "line": {
              "color": "white"
             }
            },
            "header": {
             "fill": {
              "color": "#C8D4E3"
             },
             "line": {
              "color": "white"
             }
            },
            "type": "table"
           }
          ]
         },
         "layout": {
          "annotationdefaults": {
           "arrowcolor": "#2a3f5f",
           "arrowhead": 0,
           "arrowwidth": 1
          },
          "autotypenumbers": "strict",
          "coloraxis": {
           "colorbar": {
            "outlinewidth": 0,
            "ticks": ""
           }
          },
          "colorscale": {
           "diverging": [
            [
             0,
             "#8e0152"
            ],
            [
             0.1,
             "#c51b7d"
            ],
            [
             0.2,
             "#de77ae"
            ],
            [
             0.3,
             "#f1b6da"
            ],
            [
             0.4,
             "#fde0ef"
            ],
            [
             0.5,
             "#f7f7f7"
            ],
            [
             0.6,
             "#e6f5d0"
            ],
            [
             0.7,
             "#b8e186"
            ],
            [
             0.8,
             "#7fbc41"
            ],
            [
             0.9,
             "#4d9221"
            ],
            [
             1,
             "#276419"
            ]
           ],
           "sequential": [
            [
             0,
             "#0d0887"
            ],
            [
             0.1111111111111111,
             "#46039f"
            ],
            [
             0.2222222222222222,
             "#7201a8"
            ],
            [
             0.3333333333333333,
             "#9c179e"
            ],
            [
             0.4444444444444444,
             "#bd3786"
            ],
            [
             0.5555555555555556,
             "#d8576b"
            ],
            [
             0.6666666666666666,
             "#ed7953"
            ],
            [
             0.7777777777777778,
             "#fb9f3a"
            ],
            [
             0.8888888888888888,
             "#fdca26"
            ],
            [
             1,
             "#f0f921"
            ]
           ],
           "sequentialminus": [
            [
             0,
             "#0d0887"
            ],
            [
             0.1111111111111111,
             "#46039f"
            ],
            [
             0.2222222222222222,
             "#7201a8"
            ],
            [
             0.3333333333333333,
             "#9c179e"
            ],
            [
             0.4444444444444444,
             "#bd3786"
            ],
            [
             0.5555555555555556,
             "#d8576b"
            ],
            [
             0.6666666666666666,
             "#ed7953"
            ],
            [
             0.7777777777777778,
             "#fb9f3a"
            ],
            [
             0.8888888888888888,
             "#fdca26"
            ],
            [
             1,
             "#f0f921"
            ]
           ]
          },
          "colorway": [
           "#636efa",
           "#EF553B",
           "#00cc96",
           "#ab63fa",
           "#FFA15A",
           "#19d3f3",
           "#FF6692",
           "#B6E880",
           "#FF97FF",
           "#FECB52"
          ],
          "font": {
           "color": "#2a3f5f"
          },
          "geo": {
           "bgcolor": "white",
           "lakecolor": "white",
           "landcolor": "#E5ECF6",
           "showlakes": true,
           "showland": true,
           "subunitcolor": "white"
          },
          "hoverlabel": {
           "align": "left"
          },
          "hovermode": "closest",
          "mapbox": {
           "style": "light"
          },
          "paper_bgcolor": "white",
          "plot_bgcolor": "#E5ECF6",
          "polar": {
           "angularaxis": {
            "gridcolor": "white",
            "linecolor": "white",
            "ticks": ""
           },
           "bgcolor": "#E5ECF6",
           "radialaxis": {
            "gridcolor": "white",
            "linecolor": "white",
            "ticks": ""
           }
          },
          "scene": {
           "xaxis": {
            "backgroundcolor": "#E5ECF6",
            "gridcolor": "white",
            "gridwidth": 2,
            "linecolor": "white",
            "showbackground": true,
            "ticks": "",
            "zerolinecolor": "white"
           },
           "yaxis": {
            "backgroundcolor": "#E5ECF6",
            "gridcolor": "white",
            "gridwidth": 2,
            "linecolor": "white",
            "showbackground": true,
            "ticks": "",
            "zerolinecolor": "white"
           },
           "zaxis": {
            "backgroundcolor": "#E5ECF6",
            "gridcolor": "white",
            "gridwidth": 2,
            "linecolor": "white",
            "showbackground": true,
            "ticks": "",
            "zerolinecolor": "white"
           }
          },
          "shapedefaults": {
           "line": {
            "color": "#2a3f5f"
           }
          },
          "ternary": {
           "aaxis": {
            "gridcolor": "white",
            "linecolor": "white",
            "ticks": ""
           },
           "baxis": {
            "gridcolor": "white",
            "linecolor": "white",
            "ticks": ""
           },
           "bgcolor": "#E5ECF6",
           "caxis": {
            "gridcolor": "white",
            "linecolor": "white",
            "ticks": ""
           }
          },
          "title": {
           "x": 0.05
          },
          "xaxis": {
           "automargin": true,
           "gridcolor": "white",
           "linecolor": "white",
           "ticks": "",
           "title": {
            "standoff": 15
           },
           "zerolinecolor": "white",
           "zerolinewidth": 2
          },
          "yaxis": {
           "automargin": true,
           "gridcolor": "white",
           "linecolor": "white",
           "ticks": "",
           "title": {
            "standoff": 15
           },
           "zerolinecolor": "white",
           "zerolinewidth": 2
          }
         }
        },
        "xaxis": {
         "anchor": "y",
         "categoryorder": "total descending",
         "domain": [
          0,
          1
         ],
         "title": {
          "text": "Category"
         }
        },
        "yaxis": {
         "anchor": "x",
         "domain": [
          0,
          1
         ],
         "title": {
          "text": "Number of Apps"
         },
         "type": "log"
        }
       }
      }
     },
     "metadata": {},
     "output_type": "display_data"
    }
   ],
   "source": [
    "bar = px.bar(df_free_vs_clean,x='Category',y='App',color='Type',barmode='group')\n",
    "bar.update_layout(xaxis_title='Category',yaxis_title='Number of Apps', xaxis={'categoryorder':'total descending'},yaxis=dict(type='log') )\n",
    "bar.show()"
   ]
  },
  {
   "cell_type": "markdown",
   "metadata": {
    "id": "nbYh2tU-VZ-i"
   },
   "source": [
    "# Plotly Box Plots: Lost Downloads for Paid Apps\n",
    "\n",
    "**Challenge**: Create a box plot that shows the number of Installs for free versus paid apps. How does the median number of installations compare? Is the difference large or small?\n",
    "\n",
    "Use the [Box Plots Guide](https://plotly.com/python/box-plots/) and the [.box API reference](https://plotly.com/python-api-reference/generated/plotly.express.box.html) to create the following chart. \n",
    "\n",
    "<img src=https://imgur.com/uVsECT3.png>\n"
   ]
  },
  {
   "cell_type": "code",
   "execution_count": 520,
   "metadata": {
    "id": "Jip3hMZ7oqLS"
   },
   "outputs": [
    {
     "data": {
      "application/vnd.plotly.v1+json": {
       "config": {
        "plotlyServerURL": "https://plot.ly"
       },
       "data": [
        {
         "alignmentgroup": "True",
         "boxpoints": "all",
         "hovertemplate": "Type=%{x}<br>Installs=%{y}<extra></extra>",
         "legendgroup": "Free",
         "marker": {
          "color": "#636efa"
         },
         "name": "Free",
         "notched": true,
         "offsetgroup": "Free",
         "orientation": "v",
         "showlegend": true,
         "type": "box",
         "x": [
          "Free",
          "Free",
          "Free",
          "Free",
          "Free",
          "Free",
          "Free",
          "Free",
          "Free",
          "Free",
          "Free",
          "Free",
          "Free",
          "Free",
          "Free",
          "Free",
          "Free",
          "Free",
          "Free",
          "Free",
          "Free",
          "Free",
          "Free",
          "Free",
          "Free",
          "Free",
          "Free",
          "Free",
          "Free",
          "Free",
          "Free",
          "Free",
          "Free",
          "Free",
          "Free",
          "Free",
          "Free",
          "Free",
          "Free",
          "Free",
          "Free",
          "Free",
          "Free",
          "Free",
          "Free",
          "Free",
          "Free",
          "Free",
          "Free",
          "Free",
          "Free",
          "Free",
          "Free",
          "Free",
          "Free",
          "Free",
          "Free",
          "Free",
          "Free",
          "Free",
          "Free",
          "Free",
          "Free",
          "Free",
          "Free",
          "Free",
          "Free",
          "Free",
          "Free",
          "Free",
          "Free",
          "Free",
          "Free",
          "Free",
          "Free",
          "Free",
          "Free",
          "Free",
          "Free",
          "Free",
          "Free",
          "Free",
          "Free",
          "Free",
          "Free",
          "Free",
          "Free",
          "Free",
          "Free",
          "Free",
          "Free",
          "Free",
          "Free",
          "Free",
          "Free",
          "Free",
          "Free",
          "Free",
          "Free",
          "Free",
          "Free",
          "Free",
          "Free",
          "Free",
          "Free",
          "Free",
          "Free",
          "Free",
          "Free",
          "Free",
          "Free",
          "Free",
          "Free",
          "Free",
          "Free",
          "Free",
          "Free",
          "Free",
          "Free",
          "Free",
          "Free",
          "Free",
          "Free",
          "Free",
          "Free",
          "Free",
          "Free",
          "Free",
          "Free",
          "Free",
          "Free",
          "Free",
          "Free",
          "Free",
          "Free",
          "Free",
          "Free",
          "Free",
          "Free",
          "Free",
          "Free",
          "Free",
          "Free",
          "Free",
          "Free",
          "Free",
          "Free",
          "Free",
          "Free",
          "Free",
          "Free",
          "Free",
          "Free",
          "Free",
          "Free",
          "Free",
          "Free",
          "Free",
          "Free",
          "Free",
          "Free",
          "Free",
          "Free",
          "Free",
          "Free",
          "Free",
          "Free",
          "Free",
          "Free",
          "Free",
          "Free",
          "Free",
          "Free",
          "Free",
          "Free",
          "Free",
          "Free",
          "Free",
          "Free",
          "Free",
          "Free",
          "Free",
          "Free",
          "Free",
          "Free",
          "Free",
          "Free",
          "Free",
          "Free",
          "Free",
          "Free",
          "Free",
          "Free",
          "Free",
          "Free",
          "Free",
          "Free",
          "Free",
          "Free",
          "Free",
          "Free",
          "Free",
          "Free",
          "Free",
          "Free",
          "Free",
          "Free",
          "Free",
          "Free",
          "Free",
          "Free",
          "Free",
          "Free",
          "Free",
          "Free",
          "Free",
          "Free",
          "Free",
          "Free",
          "Free",
          "Free",
          "Free",
          "Free",
          "Free",
          "Free",
          "Free",
          "Free",
          "Free",
          "Free",
          "Free",
          "Free",
          "Free",
          "Free",
          "Free",
          "Free",
          "Free",
          "Free",
          "Free",
          "Free",
          "Free",
          "Free",
          "Free",
          "Free",
          "Free",
          "Free",
          "Free",
          "Free",
          "Free",
          "Free",
          "Free",
          "Free",
          "Free",
          "Free",
          "Free",
          "Free",
          "Free",
          "Free",
          "Free",
          "Free",
          "Free",
          "Free",
          "Free",
          "Free",
          "Free",
          "Free",
          "Free",
          "Free",
          "Free",
          "Free",
          "Free",
          "Free",
          "Free",
          "Free",
          "Free",
          "Free",
          "Free",
          "Free",
          "Free",
          "Free",
          "Free",
          "Free",
          "Free",
          "Free",
          "Free",
          "Free",
          "Free",
          "Free",
          "Free",
          "Free",
          "Free",
          "Free",
          "Free",
          "Free",
          "Free",
          "Free",
          "Free",
          "Free",
          "Free",
          "Free",
          "Free",
          "Free",
          "Free",
          "Free",
          "Free",
          "Free",
          "Free",
          "Free",
          "Free",
          "Free",
          "Free",
          "Free",
          "Free",
          "Free",
          "Free",
          "Free",
          "Free",
          "Free",
          "Free",
          "Free",
          "Free",
          "Free",
          "Free",
          "Free",
          "Free",
          "Free",
          "Free",
          "Free",
          "Free",
          "Free",
          "Free",
          "Free",
          "Free",
          "Free",
          "Free",
          "Free",
          "Free",
          "Free",
          "Free",
          "Free",
          "Free",
          "Free",
          "Free",
          "Free",
          "Free",
          "Free",
          "Free",
          "Free",
          "Free",
          "Free",
          "Free",
          "Free",
          "Free",
          "Free",
          "Free",
          "Free",
          "Free",
          "Free",
          "Free",
          "Free",
          "Free",
          "Free",
          "Free",
          "Free",
          "Free",
          "Free",
          "Free",
          "Free",
          "Free",
          "Free",
          "Free",
          "Free",
          "Free",
          "Free",
          "Free",
          "Free",
          "Free",
          "Free",
          "Free",
          "Free",
          "Free",
          "Free",
          "Free",
          "Free",
          "Free",
          "Free",
          "Free",
          "Free",
          "Free",
          "Free",
          "Free",
          "Free",
          "Free",
          "Free",
          "Free",
          "Free",
          "Free",
          "Free",
          "Free",
          "Free",
          "Free",
          "Free",
          "Free",
          "Free",
          "Free",
          "Free",
          "Free",
          "Free",
          "Free",
          "Free",
          "Free",
          "Free",
          "Free",
          "Free",
          "Free",
          "Free",
          "Free",
          "Free",
          "Free",
          "Free",
          "Free",
          "Free",
          "Free",
          "Free",
          "Free",
          "Free",
          "Free",
          "Free",
          "Free",
          "Free",
          "Free",
          "Free",
          "Free",
          "Free",
          "Free",
          "Free",
          "Free",
          "Free",
          "Free",
          "Free",
          "Free",
          "Free",
          "Free",
          "Free",
          "Free",
          "Free",
          "Free",
          "Free",
          "Free",
          "Free",
          "Free",
          "Free",
          "Free",
          "Free",
          "Free",
          "Free",
          "Free",
          "Free",
          "Free",
          "Free",
          "Free",
          "Free",
          "Free",
          "Free",
          "Free",
          "Free",
          "Free",
          "Free",
          "Free",
          "Free",
          "Free",
          "Free",
          "Free",
          "Free",
          "Free",
          "Free",
          "Free",
          "Free",
          "Free",
          "Free",
          "Free",
          "Free",
          "Free",
          "Free",
          "Free",
          "Free",
          "Free",
          "Free",
          "Free",
          "Free",
          "Free",
          "Free",
          "Free",
          "Free",
          "Free",
          "Free",
          "Free",
          "Free",
          "Free",
          "Free",
          "Free",
          "Free",
          "Free",
          "Free",
          "Free",
          "Free",
          "Free",
          "Free",
          "Free",
          "Free",
          "Free",
          "Free",
          "Free",
          "Free",
          "Free",
          "Free",
          "Free",
          "Free",
          "Free",
          "Free",
          "Free",
          "Free",
          "Free",
          "Free",
          "Free",
          "Free",
          "Free",
          "Free",
          "Free",
          "Free",
          "Free",
          "Free",
          "Free",
          "Free",
          "Free",
          "Free",
          "Free",
          "Free",
          "Free",
          "Free",
          "Free",
          "Free",
          "Free",
          "Free",
          "Free",
          "Free",
          "Free",
          "Free",
          "Free",
          "Free",
          "Free",
          "Free",
          "Free",
          "Free",
          "Free",
          "Free",
          "Free",
          "Free",
          "Free",
          "Free",
          "Free",
          "Free",
          "Free",
          "Free",
          "Free",
          "Free",
          "Free",
          "Free",
          "Free",
          "Free",
          "Free",
          "Free",
          "Free",
          "Free",
          "Free",
          "Free",
          "Free",
          "Free",
          "Free",
          "Free",
          "Free",
          "Free",
          "Free",
          "Free",
          "Free",
          "Free",
          "Free",
          "Free",
          "Free",
          "Free",
          "Free",
          "Free",
          "Free",
          "Free",
          "Free",
          "Free",
          "Free",
          "Free",
          "Free",
          "Free",
          "Free",
          "Free",
          "Free",
          "Free",
          "Free",
          "Free",
          "Free",
          "Free",
          "Free",
          "Free",
          "Free",
          "Free",
          "Free",
          "Free",
          "Free",
          "Free",
          "Free",
          "Free",
          "Free",
          "Free",
          "Free",
          "Free",
          "Free",
          "Free",
          "Free",
          "Free",
          "Free",
          "Free",
          "Free",
          "Free",
          "Free",
          "Free",
          "Free",
          "Free",
          "Free",
          "Free",
          "Free",
          "Free",
          "Free",
          "Free",
          "Free",
          "Free",
          "Free",
          "Free",
          "Free",
          "Free",
          "Free",
          "Free",
          "Free",
          "Free",
          "Free",
          "Free",
          "Free",
          "Free",
          "Free",
          "Free",
          "Free",
          "Free",
          "Free",
          "Free",
          "Free",
          "Free",
          "Free",
          "Free",
          "Free",
          "Free",
          "Free",
          "Free",
          "Free",
          "Free",
          "Free",
          "Free",
          "Free",
          "Free",
          "Free",
          "Free",
          "Free",
          "Free",
          "Free",
          "Free",
          "Free",
          "Free",
          "Free",
          "Free",
          "Free",
          "Free",
          "Free",
          "Free",
          "Free",
          "Free",
          "Free",
          "Free",
          "Free",
          "Free",
          "Free",
          "Free",
          "Free",
          "Free",
          "Free",
          "Free",
          "Free",
          "Free",
          "Free",
          "Free",
          "Free",
          "Free",
          "Free",
          "Free",
          "Free",
          "Free",
          "Free",
          "Free",
          "Free",
          "Free",
          "Free",
          "Free",
          "Free",
          "Free",
          "Free",
          "Free",
          "Free",
          "Free",
          "Free",
          "Free",
          "Free",
          "Free",
          "Free",
          "Free",
          "Free",
          "Free",
          "Free",
          "Free",
          "Free",
          "Free",
          "Free",
          "Free",
          "Free",
          "Free",
          "Free",
          "Free",
          "Free",
          "Free",
          "Free",
          "Free",
          "Free",
          "Free",
          "Free",
          "Free",
          "Free",
          "Free",
          "Free",
          "Free",
          "Free",
          "Free",
          "Free",
          "Free",
          "Free",
          "Free",
          "Free",
          "Free",
          "Free",
          "Free",
          "Free",
          "Free",
          "Free",
          "Free",
          "Free",
          "Free",
          "Free",
          "Free",
          "Free",
          "Free",
          "Free",
          "Free",
          "Free",
          "Free",
          "Free",
          "Free",
          "Free",
          "Free",
          "Free",
          "Free",
          "Free",
          "Free",
          "Free",
          "Free",
          "Free",
          "Free",
          "Free",
          "Free",
          "Free",
          "Free",
          "Free",
          "Free",
          "Free",
          "Free",
          "Free",
          "Free",
          "Free",
          "Free",
          "Free",
          "Free",
          "Free",
          "Free",
          "Free",
          "Free",
          "Free",
          "Free",
          "Free",
          "Free",
          "Free",
          "Free",
          "Free",
          "Free",
          "Free",
          "Free",
          "Free",
          "Free",
          "Free",
          "Free",
          "Free",
          "Free",
          "Free",
          "Free",
          "Free",
          "Free",
          "Free",
          "Free",
          "Free",
          "Free",
          "Free",
          "Free",
          "Free",
          "Free",
          "Free",
          "Free",
          "Free",
          "Free",
          "Free",
          "Free",
          "Free",
          "Free",
          "Free",
          "Free",
          "Free",
          "Free",
          "Free",
          "Free",
          "Free",
          "Free",
          "Free",
          "Free",
          "Free",
          "Free",
          "Free",
          "Free",
          "Free",
          "Free",
          "Free",
          "Free",
          "Free",
          "Free",
          "Free",
          "Free",
          "Free",
          "Free",
          "Free",
          "Free",
          "Free",
          "Free",
          "Free",
          "Free",
          "Free",
          "Free",
          "Free",
          "Free",
          "Free",
          "Free",
          "Free",
          "Free",
          "Free",
          "Free",
          "Free",
          "Free",
          "Free",
          "Free",
          "Free",
          "Free",
          "Free",
          "Free",
          "Free",
          "Free",
          "Free",
          "Free",
          "Free",
          "Free",
          "Free",
          "Free",
          "Free",
          "Free",
          "Free",
          "Free",
          "Free",
          "Free",
          "Free",
          "Free",
          "Free",
          "Free",
          "Free",
          "Free",
          "Free",
          "Free",
          "Free",
          "Free",
          "Free",
          "Free",
          "Free",
          "Free",
          "Free",
          "Free",
          "Free",
          "Free",
          "Free",
          "Free",
          "Free",
          "Free",
          "Free",
          "Free",
          "Free",
          "Free",
          "Free",
          "Free",
          "Free",
          "Free",
          "Free",
          "Free",
          "Free",
          "Free",
          "Free",
          "Free",
          "Free",
          "Free",
          "Free",
          "Free",
          "Free",
          "Free",
          "Free",
          "Free",
          "Free",
          "Free",
          "Free",
          "Free",
          "Free",
          "Free",
          "Free",
          "Free",
          "Free",
          "Free",
          "Free",
          "Free",
          "Free",
          "Free",
          "Free",
          "Free",
          "Free",
          "Free",
          "Free",
          "Free",
          "Free",
          "Free",
          "Free",
          "Free",
          "Free",
          "Free",
          "Free",
          "Free",
          "Free",
          "Free",
          "Free",
          "Free",
          "Free",
          "Free",
          "Free",
          "Free",
          "Free",
          "Free",
          "Free",
          "Free",
          "Free",
          "Free",
          "Free",
          "Free",
          "Free",
          "Free",
          "Free",
          "Free",
          "Free",
          "Free",
          "Free",
          "Free",
          "Free",
          "Free",
          "Free",
          "Free",
          "Free",
          "Free",
          "Free",
          "Free",
          "Free",
          "Free",
          "Free",
          "Free",
          "Free",
          "Free",
          "Free",
          "Free",
          "Free",
          "Free",
          "Free",
          "Free",
          "Free",
          "Free",
          "Free",
          "Free",
          "Free",
          "Free",
          "Free",
          "Free",
          "Free",
          "Free",
          "Free",
          "Free",
          "Free",
          "Free",
          "Free",
          "Free",
          "Free",
          "Free",
          "Free",
          "Free",
          "Free",
          "Free",
          "Free",
          "Free",
          "Free",
          "Free",
          "Free",
          "Free",
          "Free",
          "Free",
          "Free",
          "Free",
          "Free",
          "Free",
          "Free",
          "Free",
          "Free",
          "Free",
          "Free",
          "Free",
          "Free",
          "Free",
          "Free",
          "Free",
          "Free",
          "Free",
          "Free",
          "Free",
          "Free",
          "Free",
          "Free",
          "Free",
          "Free",
          "Free",
          "Free",
          "Free",
          "Free",
          "Free",
          "Free",
          "Free",
          "Free",
          "Free",
          "Free",
          "Free",
          "Free",
          "Free",
          "Free",
          "Free",
          "Free",
          "Free",
          "Free",
          "Free",
          "Free",
          "Free",
          "Free",
          "Free",
          "Free",
          "Free",
          "Free",
          "Free",
          "Free",
          "Free",
          "Free",
          "Free",
          "Free",
          "Free",
          "Free",
          "Free",
          "Free",
          "Free",
          "Free",
          "Free",
          "Free",
          "Free",
          "Free",
          "Free",
          "Free",
          "Free",
          "Free",
          "Free",
          "Free",
          "Free",
          "Free",
          "Free",
          "Free",
          "Free",
          "Free",
          "Free",
          "Free",
          "Free",
          "Free",
          "Free",
          "Free",
          "Free",
          "Free",
          "Free",
          "Free",
          "Free",
          "Free",
          "Free",
          "Free",
          "Free",
          "Free",
          "Free",
          "Free",
          "Free",
          "Free",
          "Free",
          "Free",
          "Free",
          "Free",
          "Free",
          "Free",
          "Free",
          "Free",
          "Free",
          "Free",
          "Free",
          "Free",
          "Free",
          "Free",
          "Free",
          "Free",
          "Free",
          "Free",
          "Free",
          "Free",
          "Free",
          "Free",
          "Free",
          "Free",
          "Free",
          "Free",
          "Free",
          "Free",
          "Free",
          "Free",
          "Free",
          "Free",
          "Free",
          "Free",
          "Free",
          "Free",
          "Free",
          "Free",
          "Free",
          "Free",
          "Free",
          "Free",
          "Free",
          "Free",
          "Free",
          "Free",
          "Free",
          "Free",
          "Free",
          "Free",
          "Free",
          "Free",
          "Free",
          "Free",
          "Free",
          "Free",
          "Free",
          "Free",
          "Free",
          "Free",
          "Free",
          "Free",
          "Free",
          "Free",
          "Free",
          "Free",
          "Free",
          "Free",
          "Free",
          "Free",
          "Free",
          "Free",
          "Free",
          "Free",
          "Free",
          "Free",
          "Free",
          "Free",
          "Free",
          "Free",
          "Free",
          "Free",
          "Free",
          "Free",
          "Free",
          "Free",
          "Free",
          "Free",
          "Free",
          "Free",
          "Free",
          "Free",
          "Free",
          "Free",
          "Free",
          "Free",
          "Free",
          "Free",
          "Free",
          "Free",
          "Free",
          "Free",
          "Free",
          "Free",
          "Free",
          "Free",
          "Free",
          "Free",
          "Free",
          "Free",
          "Free",
          "Free",
          "Free",
          "Free",
          "Free",
          "Free",
          "Free",
          "Free",
          "Free",
          "Free",
          "Free",
          "Free",
          "Free",
          "Free",
          "Free",
          "Free",
          "Free",
          "Free",
          "Free",
          "Free",
          "Free",
          "Free",
          "Free",
          "Free",
          "Free",
          "Free",
          "Free",
          "Free",
          "Free",
          "Free",
          "Free",
          "Free",
          "Free",
          "Free",
          "Free",
          "Free",
          "Free",
          "Free",
          "Free",
          "Free",
          "Free",
          "Free",
          "Free",
          "Free",
          "Free",
          "Free",
          "Free",
          "Free",
          "Free",
          "Free",
          "Free",
          "Free",
          "Free",
          "Free",
          "Free",
          "Free",
          "Free",
          "Free",
          "Free",
          "Free",
          "Free",
          "Free",
          "Free",
          "Free",
          "Free",
          "Free",
          "Free",
          "Free",
          "Free",
          "Free",
          "Free",
          "Free",
          "Free",
          "Free",
          "Free",
          "Free",
          "Free",
          "Free",
          "Free",
          "Free",
          "Free",
          "Free",
          "Free",
          "Free",
          "Free",
          "Free",
          "Free",
          "Free",
          "Free",
          "Free",
          "Free",
          "Free",
          "Free",
          "Free",
          "Free",
          "Free",
          "Free",
          "Free",
          "Free",
          "Free",
          "Free",
          "Free",
          "Free",
          "Free",
          "Free",
          "Free",
          "Free",
          "Free",
          "Free",
          "Free",
          "Free",
          "Free",
          "Free",
          "Free",
          "Free",
          "Free",
          "Free",
          "Free",
          "Free",
          "Free",
          "Free",
          "Free",
          "Free",
          "Free",
          "Free",
          "Free",
          "Free",
          "Free",
          "Free",
          "Free",
          "Free",
          "Free",
          "Free",
          "Free",
          "Free",
          "Free",
          "Free",
          "Free",
          "Free",
          "Free",
          "Free",
          "Free",
          "Free",
          "Free",
          "Free",
          "Free",
          "Free",
          "Free",
          "Free",
          "Free",
          "Free",
          "Free",
          "Free",
          "Free",
          "Free",
          "Free",
          "Free",
          "Free",
          "Free",
          "Free",
          "Free",
          "Free",
          "Free",
          "Free",
          "Free",
          "Free",
          "Free",
          "Free",
          "Free",
          "Free",
          "Free",
          "Free",
          "Free",
          "Free",
          "Free",
          "Free",
          "Free",
          "Free",
          "Free",
          "Free",
          "Free",
          "Free",
          "Free",
          "Free",
          "Free",
          "Free",
          "Free",
          "Free",
          "Free",
          "Free",
          "Free",
          "Free",
          "Free",
          "Free",
          "Free",
          "Free",
          "Free",
          "Free",
          "Free",
          "Free",
          "Free",
          "Free",
          "Free",
          "Free",
          "Free",
          "Free",
          "Free",
          "Free",
          "Free",
          "Free",
          "Free",
          "Free",
          "Free",
          "Free",
          "Free",
          "Free",
          "Free",
          "Free",
          "Free",
          "Free",
          "Free",
          "Free",
          "Free",
          "Free",
          "Free",
          "Free",
          "Free",
          "Free",
          "Free",
          "Free",
          "Free",
          "Free",
          "Free",
          "Free",
          "Free",
          "Free",
          "Free",
          "Free",
          "Free",
          "Free",
          "Free",
          "Free",
          "Free",
          "Free",
          "Free",
          "Free",
          "Free",
          "Free",
          "Free",
          "Free",
          "Free",
          "Free",
          "Free",
          "Free",
          "Free",
          "Free",
          "Free",
          "Free",
          "Free",
          "Free",
          "Free",
          "Free",
          "Free",
          "Free",
          "Free",
          "Free",
          "Free",
          "Free",
          "Free",
          "Free",
          "Free",
          "Free",
          "Free",
          "Free",
          "Free",
          "Free",
          "Free",
          "Free",
          "Free",
          "Free",
          "Free",
          "Free",
          "Free",
          "Free",
          "Free",
          "Free",
          "Free",
          "Free",
          "Free",
          "Free",
          "Free",
          "Free",
          "Free",
          "Free",
          "Free",
          "Free",
          "Free",
          "Free",
          "Free",
          "Free",
          "Free",
          "Free",
          "Free",
          "Free",
          "Free",
          "Free",
          "Free",
          "Free",
          "Free",
          "Free",
          "Free",
          "Free",
          "Free",
          "Free",
          "Free",
          "Free",
          "Free",
          "Free",
          "Free",
          "Free",
          "Free",
          "Free",
          "Free",
          "Free",
          "Free",
          "Free",
          "Free",
          "Free",
          "Free",
          "Free",
          "Free",
          "Free",
          "Free",
          "Free",
          "Free",
          "Free",
          "Free",
          "Free",
          "Free",
          "Free",
          "Free",
          "Free",
          "Free",
          "Free",
          "Free",
          "Free",
          "Free",
          "Free",
          "Free",
          "Free",
          "Free",
          "Free",
          "Free",
          "Free",
          "Free",
          "Free",
          "Free",
          "Free",
          "Free",
          "Free",
          "Free",
          "Free",
          "Free",
          "Free",
          "Free",
          "Free",
          "Free",
          "Free",
          "Free",
          "Free",
          "Free",
          "Free",
          "Free",
          "Free",
          "Free",
          "Free",
          "Free",
          "Free",
          "Free",
          "Free",
          "Free",
          "Free",
          "Free",
          "Free",
          "Free",
          "Free",
          "Free",
          "Free",
          "Free",
          "Free",
          "Free",
          "Free",
          "Free",
          "Free",
          "Free",
          "Free",
          "Free",
          "Free",
          "Free",
          "Free",
          "Free",
          "Free",
          "Free",
          "Free",
          "Free",
          "Free",
          "Free",
          "Free",
          "Free",
          "Free",
          "Free",
          "Free",
          "Free",
          "Free",
          "Free",
          "Free",
          "Free",
          "Free",
          "Free",
          "Free",
          "Free",
          "Free",
          "Free",
          "Free",
          "Free",
          "Free",
          "Free",
          "Free",
          "Free",
          "Free",
          "Free",
          "Free",
          "Free",
          "Free",
          "Free",
          "Free",
          "Free",
          "Free",
          "Free",
          "Free",
          "Free",
          "Free",
          "Free",
          "Free",
          "Free",
          "Free",
          "Free",
          "Free",
          "Free",
          "Free",
          "Free",
          "Free",
          "Free",
          "Free",
          "Free",
          "Free",
          "Free",
          "Free",
          "Free",
          "Free",
          "Free",
          "Free",
          "Free",
          "Free",
          "Free",
          "Free",
          "Free",
          "Free",
          "Free",
          "Free",
          "Free",
          "Free",
          "Free",
          "Free",
          "Free",
          "Free",
          "Free",
          "Free",
          "Free",
          "Free",
          "Free",
          "Free",
          "Free",
          "Free",
          "Free",
          "Free",
          "Free",
          "Free",
          "Free",
          "Free",
          "Free",
          "Free",
          "Free",
          "Free",
          "Free",
          "Free",
          "Free",
          "Free",
          "Free",
          "Free",
          "Free",
          "Free",
          "Free",
          "Free",
          "Free",
          "Free",
          "Free",
          "Free",
          "Free",
          "Free",
          "Free",
          "Free",
          "Free",
          "Free",
          "Free",
          "Free",
          "Free",
          "Free",
          "Free",
          "Free",
          "Free",
          "Free",
          "Free",
          "Free",
          "Free",
          "Free",
          "Free",
          "Free",
          "Free",
          "Free",
          "Free",
          "Free",
          "Free",
          "Free",
          "Free",
          "Free",
          "Free",
          "Free",
          "Free",
          "Free",
          "Free",
          "Free",
          "Free",
          "Free",
          "Free",
          "Free",
          "Free",
          "Free",
          "Free",
          "Free",
          "Free",
          "Free",
          "Free",
          "Free",
          "Free",
          "Free",
          "Free",
          "Free",
          "Free",
          "Free",
          "Free",
          "Free",
          "Free",
          "Free",
          "Free",
          "Free",
          "Free",
          "Free",
          "Free",
          "Free",
          "Free",
          "Free",
          "Free",
          "Free",
          "Free",
          "Free",
          "Free",
          "Free",
          "Free",
          "Free",
          "Free",
          "Free",
          "Free",
          "Free",
          "Free",
          "Free",
          "Free",
          "Free",
          "Free",
          "Free",
          "Free",
          "Free",
          "Free",
          "Free",
          "Free",
          "Free",
          "Free",
          "Free",
          "Free",
          "Free",
          "Free",
          "Free",
          "Free",
          "Free",
          "Free",
          "Free",
          "Free",
          "Free",
          "Free",
          "Free",
          "Free",
          "Free",
          "Free",
          "Free",
          "Free",
          "Free",
          "Free",
          "Free",
          "Free",
          "Free",
          "Free",
          "Free",
          "Free",
          "Free",
          "Free",
          "Free",
          "Free",
          "Free",
          "Free",
          "Free",
          "Free",
          "Free",
          "Free",
          "Free",
          "Free",
          "Free",
          "Free",
          "Free",
          "Free",
          "Free",
          "Free",
          "Free",
          "Free",
          "Free",
          "Free",
          "Free",
          "Free",
          "Free",
          "Free",
          "Free",
          "Free",
          "Free",
          "Free",
          "Free",
          "Free",
          "Free",
          "Free",
          "Free",
          "Free",
          "Free",
          "Free",
          "Free",
          "Free",
          "Free",
          "Free",
          "Free",
          "Free",
          "Free",
          "Free",
          "Free",
          "Free",
          "Free",
          "Free",
          "Free",
          "Free",
          "Free",
          "Free",
          "Free",
          "Free",
          "Free",
          "Free",
          "Free",
          "Free",
          "Free",
          "Free",
          "Free",
          "Free",
          "Free",
          "Free",
          "Free",
          "Free",
          "Free",
          "Free",
          "Free",
          "Free",
          "Free",
          "Free",
          "Free",
          "Free",
          "Free",
          "Free",
          "Free",
          "Free",
          "Free",
          "Free",
          "Free",
          "Free",
          "Free",
          "Free",
          "Free",
          "Free",
          "Free",
          "Free",
          "Free",
          "Free",
          "Free",
          "Free",
          "Free",
          "Free",
          "Free",
          "Free",
          "Free",
          "Free",
          "Free",
          "Free",
          "Free",
          "Free",
          "Free",
          "Free",
          "Free",
          "Free",
          "Free",
          "Free",
          "Free",
          "Free",
          "Free",
          "Free",
          "Free",
          "Free",
          "Free",
          "Free",
          "Free",
          "Free",
          "Free",
          "Free",
          "Free",
          "Free",
          "Free",
          "Free",
          "Free",
          "Free",
          "Free",
          "Free",
          "Free",
          "Free",
          "Free",
          "Free",
          "Free",
          "Free",
          "Free",
          "Free",
          "Free",
          "Free",
          "Free",
          "Free",
          "Free",
          "Free",
          "Free",
          "Free",
          "Free",
          "Free",
          "Free",
          "Free",
          "Free",
          "Free",
          "Free",
          "Free",
          "Free",
          "Free",
          "Free",
          "Free",
          "Free",
          "Free",
          "Free",
          "Free",
          "Free",
          "Free",
          "Free",
          "Free",
          "Free",
          "Free",
          "Free",
          "Free",
          "Free",
          "Free",
          "Free",
          "Free",
          "Free",
          "Free",
          "Free",
          "Free",
          "Free",
          "Free",
          "Free",
          "Free",
          "Free",
          "Free",
          "Free",
          "Free",
          "Free",
          "Free",
          "Free",
          "Free",
          "Free",
          "Free",
          "Free",
          "Free",
          "Free",
          "Free",
          "Free",
          "Free",
          "Free",
          "Free",
          "Free",
          "Free",
          "Free",
          "Free",
          "Free",
          "Free",
          "Free",
          "Free",
          "Free",
          "Free",
          "Free",
          "Free",
          "Free",
          "Free",
          "Free",
          "Free",
          "Free",
          "Free",
          "Free",
          "Free",
          "Free",
          "Free",
          "Free",
          "Free",
          "Free",
          "Free",
          "Free",
          "Free",
          "Free",
          "Free",
          "Free",
          "Free",
          "Free",
          "Free",
          "Free",
          "Free",
          "Free",
          "Free",
          "Free",
          "Free",
          "Free",
          "Free",
          "Free",
          "Free",
          "Free",
          "Free",
          "Free",
          "Free",
          "Free",
          "Free",
          "Free",
          "Free",
          "Free",
          "Free",
          "Free",
          "Free",
          "Free",
          "Free",
          "Free",
          "Free",
          "Free",
          "Free",
          "Free",
          "Free",
          "Free",
          "Free",
          "Free",
          "Free",
          "Free",
          "Free",
          "Free",
          "Free",
          "Free",
          "Free",
          "Free",
          "Free",
          "Free",
          "Free",
          "Free",
          "Free",
          "Free",
          "Free",
          "Free",
          "Free",
          "Free",
          "Free",
          "Free",
          "Free",
          "Free",
          "Free",
          "Free",
          "Free",
          "Free",
          "Free",
          "Free",
          "Free",
          "Free",
          "Free",
          "Free",
          "Free",
          "Free",
          "Free",
          "Free",
          "Free",
          "Free",
          "Free",
          "Free",
          "Free",
          "Free",
          "Free",
          "Free",
          "Free",
          "Free",
          "Free",
          "Free",
          "Free",
          "Free",
          "Free",
          "Free",
          "Free",
          "Free",
          "Free",
          "Free",
          "Free",
          "Free",
          "Free",
          "Free",
          "Free",
          "Free",
          "Free",
          "Free",
          "Free",
          "Free",
          "Free",
          "Free",
          "Free",
          "Free",
          "Free",
          "Free",
          "Free",
          "Free",
          "Free",
          "Free",
          "Free",
          "Free",
          "Free",
          "Free",
          "Free",
          "Free",
          "Free",
          "Free",
          "Free",
          "Free",
          "Free",
          "Free",
          "Free",
          "Free",
          "Free",
          "Free",
          "Free",
          "Free",
          "Free",
          "Free",
          "Free",
          "Free",
          "Free",
          "Free",
          "Free",
          "Free",
          "Free",
          "Free",
          "Free",
          "Free",
          "Free",
          "Free",
          "Free",
          "Free",
          "Free",
          "Free",
          "Free",
          "Free",
          "Free",
          "Free",
          "Free",
          "Free",
          "Free",
          "Free",
          "Free",
          "Free",
          "Free",
          "Free",
          "Free",
          "Free",
          "Free",
          "Free",
          "Free",
          "Free",
          "Free",
          "Free",
          "Free",
          "Free",
          "Free",
          "Free",
          "Free",
          "Free",
          "Free",
          "Free",
          "Free",
          "Free",
          "Free",
          "Free",
          "Free",
          "Free",
          "Free",
          "Free",
          "Free",
          "Free",
          "Free",
          "Free",
          "Free",
          "Free",
          "Free",
          "Free",
          "Free",
          "Free",
          "Free",
          "Free",
          "Free",
          "Free",
          "Free",
          "Free",
          "Free",
          "Free",
          "Free",
          "Free",
          "Free",
          "Free",
          "Free",
          "Free",
          "Free",
          "Free",
          "Free",
          "Free",
          "Free",
          "Free",
          "Free",
          "Free",
          "Free",
          "Free",
          "Free",
          "Free",
          "Free",
          "Free",
          "Free",
          "Free",
          "Free",
          "Free",
          "Free",
          "Free",
          "Free",
          "Free",
          "Free",
          "Free",
          "Free",
          "Free",
          "Free",
          "Free",
          "Free",
          "Free",
          "Free",
          "Free",
          "Free",
          "Free",
          "Free",
          "Free",
          "Free",
          "Free",
          "Free",
          "Free",
          "Free",
          "Free",
          "Free",
          "Free",
          "Free",
          "Free",
          "Free",
          "Free",
          "Free",
          "Free",
          "Free",
          "Free",
          "Free",
          "Free",
          "Free",
          "Free",
          "Free",
          "Free",
          "Free",
          "Free",
          "Free",
          "Free",
          "Free",
          "Free",
          "Free",
          "Free",
          "Free",
          "Free",
          "Free",
          "Free",
          "Free",
          "Free",
          "Free",
          "Free",
          "Free",
          "Free",
          "Free",
          "Free",
          "Free",
          "Free",
          "Free",
          "Free",
          "Free",
          "Free",
          "Free",
          "Free",
          "Free",
          "Free",
          "Free",
          "Free",
          "Free",
          "Free",
          "Free",
          "Free",
          "Free",
          "Free",
          "Free",
          "Free",
          "Free",
          "Free",
          "Free",
          "Free",
          "Free",
          "Free",
          "Free",
          "Free",
          "Free",
          "Free",
          "Free",
          "Free",
          "Free",
          "Free",
          "Free",
          "Free",
          "Free",
          "Free",
          "Free",
          "Free",
          "Free",
          "Free",
          "Free",
          "Free",
          "Free",
          "Free",
          "Free",
          "Free",
          "Free",
          "Free",
          "Free",
          "Free",
          "Free",
          "Free",
          "Free",
          "Free",
          "Free",
          "Free",
          "Free",
          "Free",
          "Free",
          "Free",
          "Free",
          "Free",
          "Free",
          "Free",
          "Free",
          "Free",
          "Free",
          "Free",
          "Free",
          "Free",
          "Free",
          "Free",
          "Free",
          "Free",
          "Free",
          "Free",
          "Free",
          "Free",
          "Free",
          "Free",
          "Free",
          "Free",
          "Free",
          "Free",
          "Free",
          "Free",
          "Free",
          "Free",
          "Free",
          "Free",
          "Free",
          "Free",
          "Free",
          "Free",
          "Free",
          "Free",
          "Free",
          "Free",
          "Free",
          "Free",
          "Free",
          "Free",
          "Free",
          "Free",
          "Free",
          "Free",
          "Free",
          "Free",
          "Free",
          "Free",
          "Free",
          "Free",
          "Free",
          "Free",
          "Free",
          "Free",
          "Free",
          "Free",
          "Free",
          "Free",
          "Free",
          "Free",
          "Free",
          "Free",
          "Free",
          "Free",
          "Free",
          "Free",
          "Free",
          "Free",
          "Free",
          "Free",
          "Free",
          "Free",
          "Free",
          "Free",
          "Free",
          "Free",
          "Free",
          "Free",
          "Free",
          "Free",
          "Free",
          "Free",
          "Free",
          "Free",
          "Free",
          "Free",
          "Free",
          "Free",
          "Free",
          "Free",
          "Free",
          "Free",
          "Free",
          "Free",
          "Free",
          "Free",
          "Free",
          "Free",
          "Free",
          "Free",
          "Free",
          "Free",
          "Free",
          "Free",
          "Free",
          "Free",
          "Free",
          "Free",
          "Free",
          "Free",
          "Free",
          "Free",
          "Free",
          "Free",
          "Free",
          "Free",
          "Free",
          "Free",
          "Free",
          "Free",
          "Free",
          "Free",
          "Free",
          "Free",
          "Free",
          "Free",
          "Free",
          "Free",
          "Free",
          "Free",
          "Free",
          "Free",
          "Free",
          "Free",
          "Free",
          "Free",
          "Free",
          "Free",
          "Free",
          "Free",
          "Free",
          "Free",
          "Free",
          "Free",
          "Free",
          "Free",
          "Free",
          "Free",
          "Free",
          "Free",
          "Free",
          "Free",
          "Free",
          "Free",
          "Free",
          "Free",
          "Free",
          "Free",
          "Free",
          "Free",
          "Free",
          "Free",
          "Free",
          "Free",
          "Free",
          "Free",
          "Free",
          "Free",
          "Free",
          "Free",
          "Free",
          "Free",
          "Free",
          "Free",
          "Free",
          "Free",
          "Free",
          "Free",
          "Free",
          "Free",
          "Free",
          "Free",
          "Free",
          "Free",
          "Free",
          "Free",
          "Free",
          "Free",
          "Free",
          "Free",
          "Free",
          "Free",
          "Free",
          "Free",
          "Free",
          "Free",
          "Free",
          "Free",
          "Free",
          "Free",
          "Free",
          "Free",
          "Free",
          "Free",
          "Free",
          "Free",
          "Free",
          "Free",
          "Free",
          "Free",
          "Free",
          "Free",
          "Free",
          "Free",
          "Free",
          "Free",
          "Free",
          "Free",
          "Free",
          "Free",
          "Free",
          "Free",
          "Free",
          "Free",
          "Free",
          "Free",
          "Free",
          "Free",
          "Free",
          "Free",
          "Free",
          "Free",
          "Free",
          "Free",
          "Free",
          "Free",
          "Free",
          "Free",
          "Free",
          "Free",
          "Free",
          "Free",
          "Free",
          "Free",
          "Free",
          "Free",
          "Free",
          "Free",
          "Free",
          "Free",
          "Free",
          "Free",
          "Free",
          "Free",
          "Free",
          "Free",
          "Free",
          "Free",
          "Free",
          "Free",
          "Free",
          "Free",
          "Free",
          "Free",
          "Free",
          "Free",
          "Free",
          "Free",
          "Free",
          "Free",
          "Free",
          "Free",
          "Free",
          "Free",
          "Free",
          "Free",
          "Free",
          "Free",
          "Free",
          "Free",
          "Free",
          "Free",
          "Free",
          "Free",
          "Free",
          "Free",
          "Free",
          "Free",
          "Free",
          "Free",
          "Free",
          "Free",
          "Free",
          "Free",
          "Free",
          "Free",
          "Free",
          "Free",
          "Free",
          "Free",
          "Free",
          "Free",
          "Free",
          "Free",
          "Free",
          "Free",
          "Free",
          "Free",
          "Free",
          "Free",
          "Free",
          "Free",
          "Free",
          "Free",
          "Free",
          "Free",
          "Free",
          "Free",
          "Free",
          "Free",
          "Free",
          "Free",
          "Free",
          "Free",
          "Free",
          "Free",
          "Free",
          "Free",
          "Free",
          "Free",
          "Free",
          "Free",
          "Free",
          "Free",
          "Free",
          "Free",
          "Free",
          "Free",
          "Free",
          "Free",
          "Free",
          "Free",
          "Free",
          "Free",
          "Free",
          "Free",
          "Free",
          "Free",
          "Free",
          "Free",
          "Free",
          "Free",
          "Free",
          "Free",
          "Free",
          "Free",
          "Free",
          "Free",
          "Free",
          "Free",
          "Free",
          "Free",
          "Free",
          "Free",
          "Free",
          "Free",
          "Free",
          "Free",
          "Free",
          "Free",
          "Free",
          "Free",
          "Free",
          "Free",
          "Free",
          "Free",
          "Free",
          "Free",
          "Free",
          "Free",
          "Free",
          "Free",
          "Free",
          "Free",
          "Free",
          "Free",
          "Free",
          "Free",
          "Free",
          "Free",
          "Free",
          "Free",
          "Free",
          "Free",
          "Free",
          "Free",
          "Free",
          "Free",
          "Free",
          "Free",
          "Free",
          "Free",
          "Free",
          "Free",
          "Free",
          "Free",
          "Free",
          "Free",
          "Free",
          "Free",
          "Free",
          "Free",
          "Free",
          "Free",
          "Free",
          "Free",
          "Free",
          "Free",
          "Free",
          "Free",
          "Free",
          "Free",
          "Free",
          "Free",
          "Free",
          "Free",
          "Free",
          "Free",
          "Free",
          "Free",
          "Free",
          "Free",
          "Free",
          "Free",
          "Free",
          "Free",
          "Free",
          "Free",
          "Free",
          "Free",
          "Free",
          "Free",
          "Free",
          "Free",
          "Free",
          "Free",
          "Free",
          "Free",
          "Free",
          "Free",
          "Free",
          "Free",
          "Free",
          "Free",
          "Free",
          "Free",
          "Free",
          "Free",
          "Free",
          "Free",
          "Free",
          "Free",
          "Free",
          "Free",
          "Free",
          "Free",
          "Free",
          "Free",
          "Free",
          "Free",
          "Free",
          "Free",
          "Free",
          "Free",
          "Free",
          "Free",
          "Free",
          "Free",
          "Free",
          "Free",
          "Free",
          "Free",
          "Free",
          "Free",
          "Free",
          "Free",
          "Free",
          "Free",
          "Free",
          "Free",
          "Free",
          "Free",
          "Free",
          "Free",
          "Free",
          "Free",
          "Free",
          "Free",
          "Free",
          "Free",
          "Free",
          "Free",
          "Free",
          "Free",
          "Free",
          "Free",
          "Free",
          "Free",
          "Free",
          "Free",
          "Free",
          "Free",
          "Free",
          "Free",
          "Free",
          "Free",
          "Free",
          "Free",
          "Free",
          "Free",
          "Free",
          "Free",
          "Free",
          "Free",
          "Free",
          "Free",
          "Free",
          "Free",
          "Free",
          "Free",
          "Free",
          "Free",
          "Free",
          "Free",
          "Free",
          "Free",
          "Free",
          "Free",
          "Free",
          "Free",
          "Free",
          "Free",
          "Free",
          "Free",
          "Free",
          "Free",
          "Free",
          "Free",
          "Free",
          "Free",
          "Free",
          "Free",
          "Free",
          "Free",
          "Free",
          "Free",
          "Free",
          "Free",
          "Free",
          "Free",
          "Free",
          "Free",
          "Free",
          "Free",
          "Free",
          "Free",
          "Free",
          "Free",
          "Free",
          "Free",
          "Free",
          "Free",
          "Free",
          "Free",
          "Free",
          "Free",
          "Free",
          "Free",
          "Free",
          "Free",
          "Free",
          "Free",
          "Free",
          "Free",
          "Free",
          "Free",
          "Free",
          "Free",
          "Free",
          "Free",
          "Free",
          "Free",
          "Free",
          "Free",
          "Free",
          "Free",
          "Free",
          "Free",
          "Free",
          "Free",
          "Free",
          "Free",
          "Free",
          "Free",
          "Free",
          "Free",
          "Free",
          "Free",
          "Free",
          "Free",
          "Free",
          "Free",
          "Free",
          "Free",
          "Free",
          "Free",
          "Free",
          "Free",
          "Free",
          "Free",
          "Free",
          "Free",
          "Free",
          "Free",
          "Free",
          "Free",
          "Free",
          "Free",
          "Free",
          "Free",
          "Free",
          "Free",
          "Free",
          "Free",
          "Free",
          "Free",
          "Free",
          "Free",
          "Free",
          "Free",
          "Free",
          "Free",
          "Free",
          "Free",
          "Free",
          "Free",
          "Free",
          "Free",
          "Free",
          "Free",
          "Free",
          "Free",
          "Free",
          "Free",
          "Free",
          "Free",
          "Free",
          "Free",
          "Free",
          "Free",
          "Free",
          "Free",
          "Free",
          "Free",
          "Free",
          "Free",
          "Free",
          "Free",
          "Free",
          "Free",
          "Free",
          "Free",
          "Free",
          "Free",
          "Free",
          "Free",
          "Free",
          "Free",
          "Free",
          "Free",
          "Free",
          "Free",
          "Free",
          "Free",
          "Free",
          "Free",
          "Free",
          "Free",
          "Free",
          "Free",
          "Free",
          "Free",
          "Free",
          "Free",
          "Free",
          "Free",
          "Free",
          "Free",
          "Free",
          "Free",
          "Free",
          "Free",
          "Free",
          "Free",
          "Free",
          "Free",
          "Free",
          "Free",
          "Free",
          "Free",
          "Free",
          "Free",
          "Free",
          "Free",
          "Free",
          "Free",
          "Free",
          "Free",
          "Free",
          "Free",
          "Free",
          "Free",
          "Free",
          "Free",
          "Free",
          "Free",
          "Free",
          "Free",
          "Free",
          "Free",
          "Free",
          "Free",
          "Free",
          "Free",
          "Free",
          "Free",
          "Free",
          "Free",
          "Free",
          "Free",
          "Free",
          "Free",
          "Free",
          "Free",
          "Free",
          "Free",
          "Free",
          "Free",
          "Free",
          "Free",
          "Free",
          "Free",
          "Free",
          "Free",
          "Free",
          "Free",
          "Free",
          "Free",
          "Free",
          "Free",
          "Free",
          "Free",
          "Free",
          "Free",
          "Free",
          "Free",
          "Free",
          "Free",
          "Free",
          "Free",
          "Free",
          "Free",
          "Free",
          "Free",
          "Free",
          "Free",
          "Free",
          "Free",
          "Free",
          "Free",
          "Free",
          "Free",
          "Free",
          "Free",
          "Free",
          "Free",
          "Free",
          "Free",
          "Free",
          "Free",
          "Free",
          "Free",
          "Free",
          "Free",
          "Free",
          "Free",
          "Free",
          "Free",
          "Free",
          "Free",
          "Free",
          "Free",
          "Free",
          "Free",
          "Free",
          "Free",
          "Free",
          "Free",
          "Free",
          "Free",
          "Free",
          "Free",
          "Free",
          "Free",
          "Free",
          "Free",
          "Free",
          "Free",
          "Free",
          "Free",
          "Free",
          "Free",
          "Free",
          "Free",
          "Free",
          "Free",
          "Free",
          "Free",
          "Free",
          "Free",
          "Free",
          "Free",
          "Free",
          "Free",
          "Free",
          "Free",
          "Free",
          "Free",
          "Free",
          "Free",
          "Free",
          "Free",
          "Free",
          "Free",
          "Free",
          "Free",
          "Free",
          "Free",
          "Free",
          "Free",
          "Free",
          "Free",
          "Free",
          "Free",
          "Free",
          "Free",
          "Free",
          "Free",
          "Free",
          "Free",
          "Free",
          "Free",
          "Free",
          "Free",
          "Free",
          "Free",
          "Free",
          "Free",
          "Free",
          "Free",
          "Free",
          "Free",
          "Free",
          "Free",
          "Free",
          "Free",
          "Free",
          "Free",
          "Free",
          "Free",
          "Free",
          "Free",
          "Free",
          "Free",
          "Free",
          "Free",
          "Free",
          "Free",
          "Free",
          "Free",
          "Free",
          "Free",
          "Free",
          "Free",
          "Free",
          "Free",
          "Free",
          "Free",
          "Free",
          "Free",
          "Free",
          "Free",
          "Free",
          "Free",
          "Free",
          "Free",
          "Free",
          "Free",
          "Free",
          "Free",
          "Free",
          "Free",
          "Free",
          "Free",
          "Free",
          "Free",
          "Free",
          "Free",
          "Free",
          "Free",
          "Free",
          "Free",
          "Free",
          "Free",
          "Free",
          "Free",
          "Free",
          "Free",
          "Free",
          "Free",
          "Free",
          "Free",
          "Free",
          "Free",
          "Free",
          "Free",
          "Free",
          "Free",
          "Free",
          "Free",
          "Free",
          "Free",
          "Free",
          "Free",
          "Free",
          "Free",
          "Free",
          "Free",
          "Free",
          "Free",
          "Free",
          "Free",
          "Free",
          "Free",
          "Free",
          "Free",
          "Free",
          "Free",
          "Free",
          "Free",
          "Free",
          "Free",
          "Free",
          "Free",
          "Free",
          "Free",
          "Free",
          "Free",
          "Free",
          "Free",
          "Free",
          "Free",
          "Free",
          "Free",
          "Free",
          "Free",
          "Free",
          "Free",
          "Free",
          "Free",
          "Free",
          "Free",
          "Free",
          "Free",
          "Free",
          "Free",
          "Free",
          "Free",
          "Free",
          "Free",
          "Free",
          "Free",
          "Free",
          "Free",
          "Free",
          "Free",
          "Free",
          "Free",
          "Free",
          "Free",
          "Free",
          "Free",
          "Free",
          "Free",
          "Free",
          "Free",
          "Free",
          "Free",
          "Free",
          "Free",
          "Free",
          "Free",
          "Free",
          "Free",
          "Free",
          "Free",
          "Free",
          "Free",
          "Free",
          "Free",
          "Free",
          "Free",
          "Free",
          "Free",
          "Free",
          "Free",
          "Free",
          "Free",
          "Free",
          "Free",
          "Free",
          "Free",
          "Free",
          "Free",
          "Free",
          "Free",
          "Free",
          "Free",
          "Free",
          "Free",
          "Free",
          "Free",
          "Free",
          "Free",
          "Free",
          "Free",
          "Free",
          "Free",
          "Free",
          "Free",
          "Free",
          "Free",
          "Free",
          "Free",
          "Free",
          "Free",
          "Free",
          "Free",
          "Free",
          "Free",
          "Free",
          "Free",
          "Free",
          "Free",
          "Free",
          "Free",
          "Free",
          "Free",
          "Free",
          "Free",
          "Free",
          "Free",
          "Free",
          "Free",
          "Free",
          "Free",
          "Free",
          "Free",
          "Free",
          "Free",
          "Free",
          "Free",
          "Free",
          "Free",
          "Free",
          "Free",
          "Free",
          "Free",
          "Free",
          "Free",
          "Free",
          "Free",
          "Free",
          "Free",
          "Free",
          "Free",
          "Free",
          "Free",
          "Free",
          "Free",
          "Free",
          "Free",
          "Free",
          "Free",
          "Free",
          "Free",
          "Free",
          "Free",
          "Free",
          "Free",
          "Free",
          "Free",
          "Free",
          "Free",
          "Free",
          "Free",
          "Free",
          "Free",
          "Free",
          "Free",
          "Free",
          "Free",
          "Free",
          "Free",
          "Free",
          "Free",
          "Free",
          "Free",
          "Free",
          "Free",
          "Free",
          "Free",
          "Free",
          "Free",
          "Free",
          "Free",
          "Free",
          "Free",
          "Free",
          "Free",
          "Free",
          "Free",
          "Free",
          "Free",
          "Free",
          "Free",
          "Free",
          "Free",
          "Free",
          "Free",
          "Free",
          "Free",
          "Free",
          "Free",
          "Free",
          "Free",
          "Free",
          "Free",
          "Free",
          "Free",
          "Free",
          "Free",
          "Free",
          "Free",
          "Free",
          "Free",
          "Free",
          "Free",
          "Free",
          "Free",
          "Free",
          "Free",
          "Free",
          "Free",
          "Free",
          "Free",
          "Free",
          "Free",
          "Free",
          "Free",
          "Free",
          "Free",
          "Free",
          "Free",
          "Free",
          "Free",
          "Free",
          "Free",
          "Free",
          "Free",
          "Free",
          "Free",
          "Free",
          "Free",
          "Free",
          "Free",
          "Free",
          "Free",
          "Free",
          "Free",
          "Free",
          "Free",
          "Free",
          "Free",
          "Free",
          "Free",
          "Free",
          "Free",
          "Free",
          "Free",
          "Free",
          "Free",
          "Free",
          "Free",
          "Free",
          "Free",
          "Free",
          "Free",
          "Free",
          "Free",
          "Free",
          "Free",
          "Free",
          "Free",
          "Free",
          "Free",
          "Free",
          "Free",
          "Free",
          "Free",
          "Free",
          "Free",
          "Free",
          "Free",
          "Free",
          "Free",
          "Free",
          "Free",
          "Free",
          "Free",
          "Free",
          "Free",
          "Free",
          "Free",
          "Free",
          "Free",
          "Free",
          "Free",
          "Free",
          "Free",
          "Free",
          "Free",
          "Free",
          "Free",
          "Free",
          "Free",
          "Free",
          "Free",
          "Free",
          "Free",
          "Free",
          "Free",
          "Free",
          "Free",
          "Free",
          "Free",
          "Free",
          "Free",
          "Free",
          "Free",
          "Free",
          "Free",
          "Free",
          "Free",
          "Free",
          "Free",
          "Free",
          "Free",
          "Free",
          "Free",
          "Free",
          "Free",
          "Free",
          "Free",
          "Free",
          "Free",
          "Free",
          "Free",
          "Free",
          "Free",
          "Free",
          "Free",
          "Free",
          "Free",
          "Free",
          "Free",
          "Free",
          "Free",
          "Free",
          "Free",
          "Free",
          "Free",
          "Free",
          "Free",
          "Free",
          "Free",
          "Free",
          "Free",
          "Free",
          "Free",
          "Free",
          "Free",
          "Free",
          "Free",
          "Free",
          "Free",
          "Free",
          "Free",
          "Free",
          "Free",
          "Free",
          "Free",
          "Free",
          "Free",
          "Free",
          "Free",
          "Free",
          "Free",
          "Free",
          "Free",
          "Free",
          "Free",
          "Free",
          "Free",
          "Free",
          "Free",
          "Free",
          "Free",
          "Free",
          "Free",
          "Free",
          "Free",
          "Free",
          "Free",
          "Free",
          "Free",
          "Free",
          "Free",
          "Free",
          "Free",
          "Free",
          "Free",
          "Free",
          "Free",
          "Free",
          "Free",
          "Free",
          "Free",
          "Free",
          "Free",
          "Free",
          "Free",
          "Free",
          "Free",
          "Free",
          "Free",
          "Free",
          "Free",
          "Free",
          "Free",
          "Free",
          "Free",
          "Free",
          "Free",
          "Free",
          "Free",
          "Free",
          "Free",
          "Free",
          "Free",
          "Free",
          "Free",
          "Free",
          "Free",
          "Free",
          "Free",
          "Free",
          "Free",
          "Free",
          "Free",
          "Free",
          "Free",
          "Free",
          "Free",
          "Free",
          "Free",
          "Free",
          "Free",
          "Free",
          "Free",
          "Free",
          "Free",
          "Free",
          "Free",
          "Free",
          "Free",
          "Free",
          "Free",
          "Free",
          "Free",
          "Free",
          "Free",
          "Free",
          "Free",
          "Free",
          "Free",
          "Free",
          "Free",
          "Free",
          "Free",
          "Free",
          "Free",
          "Free",
          "Free",
          "Free",
          "Free",
          "Free",
          "Free",
          "Free",
          "Free",
          "Free",
          "Free",
          "Free",
          "Free",
          "Free",
          "Free",
          "Free",
          "Free",
          "Free",
          "Free",
          "Free",
          "Free",
          "Free",
          "Free",
          "Free",
          "Free",
          "Free",
          "Free",
          "Free",
          "Free",
          "Free",
          "Free",
          "Free",
          "Free",
          "Free",
          "Free",
          "Free",
          "Free",
          "Free",
          "Free",
          "Free",
          "Free",
          "Free",
          "Free",
          "Free",
          "Free",
          "Free",
          "Free",
          "Free",
          "Free",
          "Free",
          "Free",
          "Free",
          "Free",
          "Free",
          "Free",
          "Free",
          "Free",
          "Free",
          "Free",
          "Free",
          "Free",
          "Free",
          "Free",
          "Free",
          "Free",
          "Free",
          "Free",
          "Free",
          "Free",
          "Free",
          "Free",
          "Free",
          "Free",
          "Free",
          "Free",
          "Free",
          "Free",
          "Free",
          "Free",
          "Free",
          "Free",
          "Free",
          "Free",
          "Free",
          "Free",
          "Free",
          "Free",
          "Free",
          "Free",
          "Free",
          "Free",
          "Free",
          "Free",
          "Free",
          "Free",
          "Free",
          "Free",
          "Free",
          "Free",
          "Free",
          "Free",
          "Free",
          "Free",
          "Free",
          "Free",
          "Free",
          "Free",
          "Free",
          "Free",
          "Free",
          "Free",
          "Free",
          "Free",
          "Free",
          "Free",
          "Free",
          "Free",
          "Free",
          "Free",
          "Free",
          "Free",
          "Free",
          "Free",
          "Free",
          "Free",
          "Free",
          "Free",
          "Free",
          "Free",
          "Free",
          "Free",
          "Free",
          "Free",
          "Free",
          "Free",
          "Free",
          "Free",
          "Free",
          "Free",
          "Free",
          "Free",
          "Free",
          "Free",
          "Free",
          "Free",
          "Free",
          "Free",
          "Free",
          "Free",
          "Free",
          "Free",
          "Free",
          "Free",
          "Free",
          "Free",
          "Free",
          "Free",
          "Free",
          "Free",
          "Free",
          "Free",
          "Free",
          "Free",
          "Free",
          "Free",
          "Free",
          "Free",
          "Free",
          "Free",
          "Free",
          "Free",
          "Free",
          "Free",
          "Free",
          "Free",
          "Free",
          "Free",
          "Free",
          "Free",
          "Free",
          "Free",
          "Free",
          "Free",
          "Free",
          "Free",
          "Free",
          "Free",
          "Free",
          "Free",
          "Free",
          "Free",
          "Free",
          "Free",
          "Free",
          "Free",
          "Free",
          "Free",
          "Free",
          "Free",
          "Free",
          "Free",
          "Free",
          "Free",
          "Free",
          "Free",
          "Free",
          "Free",
          "Free",
          "Free",
          "Free",
          "Free",
          "Free",
          "Free",
          "Free",
          "Free",
          "Free",
          "Free",
          "Free",
          "Free",
          "Free",
          "Free",
          "Free",
          "Free",
          "Free",
          "Free",
          "Free",
          "Free",
          "Free",
          "Free",
          "Free",
          "Free",
          "Free",
          "Free",
          "Free",
          "Free",
          "Free",
          "Free",
          "Free",
          "Free",
          "Free",
          "Free",
          "Free",
          "Free",
          "Free",
          "Free",
          "Free",
          "Free",
          "Free",
          "Free",
          "Free",
          "Free",
          "Free",
          "Free",
          "Free",
          "Free",
          "Free",
          "Free",
          "Free",
          "Free",
          "Free",
          "Free",
          "Free",
          "Free",
          "Free",
          "Free",
          "Free",
          "Free",
          "Free",
          "Free",
          "Free",
          "Free",
          "Free",
          "Free",
          "Free",
          "Free",
          "Free",
          "Free",
          "Free",
          "Free",
          "Free",
          "Free",
          "Free",
          "Free",
          "Free",
          "Free",
          "Free",
          "Free",
          "Free",
          "Free",
          "Free",
          "Free",
          "Free",
          "Free",
          "Free",
          "Free",
          "Free",
          "Free",
          "Free",
          "Free",
          "Free",
          "Free",
          "Free",
          "Free",
          "Free",
          "Free",
          "Free",
          "Free",
          "Free",
          "Free",
          "Free",
          "Free",
          "Free",
          "Free",
          "Free",
          "Free",
          "Free",
          "Free",
          "Free",
          "Free",
          "Free",
          "Free",
          "Free",
          "Free",
          "Free",
          "Free",
          "Free",
          "Free",
          "Free",
          "Free",
          "Free",
          "Free",
          "Free",
          "Free",
          "Free",
          "Free",
          "Free",
          "Free",
          "Free",
          "Free",
          "Free",
          "Free",
          "Free",
          "Free",
          "Free",
          "Free",
          "Free",
          "Free",
          "Free",
          "Free",
          "Free",
          "Free",
          "Free",
          "Free",
          "Free",
          "Free",
          "Free",
          "Free",
          "Free",
          "Free",
          "Free",
          "Free",
          "Free",
          "Free",
          "Free",
          "Free",
          "Free",
          "Free",
          "Free",
          "Free",
          "Free",
          "Free",
          "Free",
          "Free",
          "Free",
          "Free",
          "Free",
          "Free",
          "Free",
          "Free",
          "Free",
          "Free",
          "Free",
          "Free",
          "Free",
          "Free",
          "Free",
          "Free",
          "Free",
          "Free",
          "Free",
          "Free",
          "Free",
          "Free",
          "Free",
          "Free",
          "Free",
          "Free",
          "Free",
          "Free",
          "Free",
          "Free",
          "Free",
          "Free",
          "Free",
          "Free",
          "Free",
          "Free",
          "Free",
          "Free",
          "Free",
          "Free",
          "Free",
          "Free",
          "Free",
          "Free",
          "Free",
          "Free",
          "Free",
          "Free",
          "Free",
          "Free",
          "Free",
          "Free",
          "Free",
          "Free",
          "Free",
          "Free",
          "Free",
          "Free",
          "Free",
          "Free",
          "Free",
          "Free",
          "Free",
          "Free",
          "Free",
          "Free",
          "Free",
          "Free",
          "Free",
          "Free",
          "Free",
          "Free",
          "Free",
          "Free",
          "Free",
          "Free",
          "Free",
          "Free",
          "Free",
          "Free",
          "Free",
          "Free",
          "Free",
          "Free",
          "Free",
          "Free",
          "Free",
          "Free",
          "Free",
          "Free",
          "Free",
          "Free",
          "Free",
          "Free",
          "Free",
          "Free",
          "Free",
          "Free",
          "Free",
          "Free",
          "Free",
          "Free",
          "Free",
          "Free",
          "Free",
          "Free",
          "Free",
          "Free",
          "Free",
          "Free",
          "Free",
          "Free",
          "Free",
          "Free",
          "Free",
          "Free",
          "Free",
          "Free",
          "Free",
          "Free",
          "Free",
          "Free",
          "Free",
          "Free",
          "Free",
          "Free",
          "Free",
          "Free",
          "Free",
          "Free",
          "Free",
          "Free",
          "Free",
          "Free",
          "Free",
          "Free",
          "Free",
          "Free",
          "Free",
          "Free",
          "Free",
          "Free",
          "Free",
          "Free",
          "Free",
          "Free",
          "Free",
          "Free",
          "Free",
          "Free",
          "Free",
          "Free",
          "Free",
          "Free",
          "Free",
          "Free",
          "Free",
          "Free",
          "Free",
          "Free",
          "Free",
          "Free",
          "Free",
          "Free",
          "Free",
          "Free",
          "Free",
          "Free",
          "Free",
          "Free",
          "Free",
          "Free",
          "Free",
          "Free",
          "Free",
          "Free",
          "Free",
          "Free",
          "Free",
          "Free",
          "Free",
          "Free",
          "Free",
          "Free",
          "Free",
          "Free",
          "Free",
          "Free",
          "Free",
          "Free",
          "Free",
          "Free",
          "Free",
          "Free",
          "Free",
          "Free",
          "Free",
          "Free",
          "Free",
          "Free",
          "Free",
          "Free",
          "Free",
          "Free",
          "Free",
          "Free",
          "Free",
          "Free",
          "Free",
          "Free",
          "Free",
          "Free",
          "Free",
          "Free",
          "Free",
          "Free",
          "Free",
          "Free",
          "Free",
          "Free",
          "Free",
          "Free",
          "Free",
          "Free",
          "Free",
          "Free",
          "Free",
          "Free",
          "Free",
          "Free",
          "Free",
          "Free",
          "Free",
          "Free",
          "Free",
          "Free",
          "Free",
          "Free",
          "Free",
          "Free",
          "Free",
          "Free",
          "Free",
          "Free",
          "Free",
          "Free",
          "Free",
          "Free",
          "Free",
          "Free",
          "Free",
          "Free",
          "Free",
          "Free",
          "Free",
          "Free",
          "Free",
          "Free",
          "Free",
          "Free",
          "Free",
          "Free",
          "Free",
          "Free",
          "Free",
          "Free",
          "Free",
          "Free",
          "Free",
          "Free",
          "Free",
          "Free",
          "Free",
          "Free",
          "Free",
          "Free",
          "Free",
          "Free",
          "Free",
          "Free",
          "Free",
          "Free",
          "Free",
          "Free",
          "Free",
          "Free",
          "Free",
          "Free",
          "Free",
          "Free",
          "Free",
          "Free",
          "Free",
          "Free",
          "Free",
          "Free",
          "Free",
          "Free",
          "Free",
          "Free",
          "Free",
          "Free",
          "Free",
          "Free",
          "Free",
          "Free",
          "Free",
          "Free",
          "Free",
          "Free",
          "Free",
          "Free",
          "Free",
          "Free",
          "Free",
          "Free",
          "Free",
          "Free",
          "Free",
          "Free",
          "Free",
          "Free",
          "Free",
          "Free",
          "Free",
          "Free",
          "Free",
          "Free",
          "Free",
          "Free",
          "Free",
          "Free",
          "Free",
          "Free",
          "Free",
          "Free",
          "Free",
          "Free",
          "Free",
          "Free",
          "Free",
          "Free",
          "Free",
          "Free",
          "Free",
          "Free",
          "Free",
          "Free",
          "Free",
          "Free",
          "Free",
          "Free",
          "Free",
          "Free",
          "Free",
          "Free",
          "Free",
          "Free",
          "Free",
          "Free",
          "Free",
          "Free",
          "Free",
          "Free",
          "Free",
          "Free",
          "Free",
          "Free",
          "Free",
          "Free",
          "Free",
          "Free",
          "Free",
          "Free",
          "Free",
          "Free",
          "Free",
          "Free",
          "Free",
          "Free",
          "Free",
          "Free",
          "Free",
          "Free",
          "Free",
          "Free",
          "Free",
          "Free",
          "Free",
          "Free",
          "Free",
          "Free",
          "Free",
          "Free",
          "Free",
          "Free",
          "Free",
          "Free",
          "Free",
          "Free",
          "Free",
          "Free",
          "Free",
          "Free",
          "Free",
          "Free",
          "Free",
          "Free",
          "Free",
          "Free",
          "Free",
          "Free",
          "Free",
          "Free",
          "Free",
          "Free",
          "Free",
          "Free",
          "Free",
          "Free",
          "Free",
          "Free",
          "Free",
          "Free",
          "Free",
          "Free",
          "Free",
          "Free",
          "Free",
          "Free",
          "Free",
          "Free",
          "Free",
          "Free",
          "Free",
          "Free",
          "Free",
          "Free",
          "Free",
          "Free",
          "Free",
          "Free",
          "Free",
          "Free",
          "Free",
          "Free",
          "Free",
          "Free",
          "Free",
          "Free",
          "Free",
          "Free",
          "Free",
          "Free",
          "Free",
          "Free",
          "Free",
          "Free",
          "Free",
          "Free",
          "Free",
          "Free",
          "Free",
          "Free",
          "Free",
          "Free",
          "Free",
          "Free",
          "Free",
          "Free",
          "Free",
          "Free",
          "Free",
          "Free",
          "Free",
          "Free",
          "Free",
          "Free",
          "Free",
          "Free",
          "Free",
          "Free",
          "Free",
          "Free",
          "Free",
          "Free",
          "Free",
          "Free",
          "Free",
          "Free",
          "Free",
          "Free",
          "Free",
          "Free",
          "Free",
          "Free",
          "Free",
          "Free",
          "Free",
          "Free",
          "Free",
          "Free",
          "Free",
          "Free",
          "Free",
          "Free",
          "Free",
          "Free",
          "Free",
          "Free",
          "Free",
          "Free",
          "Free",
          "Free",
          "Free",
          "Free",
          "Free",
          "Free",
          "Free",
          "Free",
          "Free",
          "Free",
          "Free",
          "Free",
          "Free",
          "Free",
          "Free",
          "Free",
          "Free",
          "Free",
          "Free",
          "Free",
          "Free",
          "Free",
          "Free",
          "Free",
          "Free",
          "Free",
          "Free",
          "Free",
          "Free",
          "Free",
          "Free",
          "Free",
          "Free",
          "Free",
          "Free",
          "Free",
          "Free",
          "Free",
          "Free",
          "Free",
          "Free",
          "Free",
          "Free",
          "Free",
          "Free",
          "Free",
          "Free",
          "Free",
          "Free",
          "Free",
          "Free",
          "Free",
          "Free",
          "Free",
          "Free",
          "Free",
          "Free",
          "Free",
          "Free",
          "Free",
          "Free",
          "Free",
          "Free",
          "Free",
          "Free",
          "Free",
          "Free",
          "Free",
          "Free",
          "Free",
          "Free",
          "Free",
          "Free",
          "Free",
          "Free",
          "Free",
          "Free",
          "Free",
          "Free",
          "Free",
          "Free",
          "Free",
          "Free",
          "Free",
          "Free",
          "Free",
          "Free",
          "Free",
          "Free",
          "Free",
          "Free",
          "Free",
          "Free",
          "Free",
          "Free",
          "Free",
          "Free",
          "Free",
          "Free",
          "Free",
          "Free",
          "Free",
          "Free",
          "Free",
          "Free",
          "Free",
          "Free",
          "Free",
          "Free",
          "Free",
          "Free",
          "Free",
          "Free",
          "Free",
          "Free",
          "Free",
          "Free",
          "Free",
          "Free",
          "Free",
          "Free",
          "Free",
          "Free",
          "Free",
          "Free",
          "Free",
          "Free",
          "Free",
          "Free",
          "Free",
          "Free",
          "Free",
          "Free",
          "Free",
          "Free",
          "Free",
          "Free",
          "Free",
          "Free",
          "Free",
          "Free",
          "Free",
          "Free",
          "Free",
          "Free",
          "Free",
          "Free",
          "Free",
          "Free",
          "Free",
          "Free",
          "Free",
          "Free",
          "Free",
          "Free",
          "Free",
          "Free",
          "Free",
          "Free",
          "Free",
          "Free",
          "Free",
          "Free",
          "Free",
          "Free",
          "Free",
          "Free",
          "Free",
          "Free",
          "Free",
          "Free",
          "Free",
          "Free",
          "Free",
          "Free",
          "Free",
          "Free",
          "Free",
          "Free",
          "Free",
          "Free",
          "Free",
          "Free",
          "Free",
          "Free",
          "Free",
          "Free",
          "Free",
          "Free",
          "Free",
          "Free",
          "Free",
          "Free",
          "Free",
          "Free",
          "Free",
          "Free",
          "Free",
          "Free",
          "Free",
          "Free",
          "Free",
          "Free",
          "Free",
          "Free",
          "Free",
          "Free",
          "Free",
          "Free",
          "Free",
          "Free",
          "Free",
          "Free",
          "Free",
          "Free",
          "Free",
          "Free",
          "Free",
          "Free",
          "Free",
          "Free",
          "Free",
          "Free",
          "Free",
          "Free",
          "Free",
          "Free",
          "Free",
          "Free",
          "Free",
          "Free",
          "Free",
          "Free",
          "Free",
          "Free",
          "Free",
          "Free",
          "Free",
          "Free",
          "Free",
          "Free",
          "Free",
          "Free",
          "Free",
          "Free",
          "Free",
          "Free",
          "Free",
          "Free",
          "Free",
          "Free",
          "Free",
          "Free",
          "Free",
          "Free",
          "Free",
          "Free",
          "Free",
          "Free",
          "Free",
          "Free",
          "Free",
          "Free",
          "Free",
          "Free",
          "Free",
          "Free",
          "Free",
          "Free",
          "Free",
          "Free",
          "Free",
          "Free",
          "Free",
          "Free",
          "Free",
          "Free",
          "Free",
          "Free",
          "Free",
          "Free",
          "Free",
          "Free",
          "Free",
          "Free",
          "Free",
          "Free",
          "Free",
          "Free",
          "Free",
          "Free",
          "Free",
          "Free",
          "Free",
          "Free",
          "Free",
          "Free",
          "Free",
          "Free",
          "Free",
          "Free",
          "Free",
          "Free",
          "Free",
          "Free",
          "Free",
          "Free",
          "Free",
          "Free",
          "Free",
          "Free",
          "Free",
          "Free",
          "Free",
          "Free",
          "Free",
          "Free",
          "Free",
          "Free",
          "Free",
          "Free",
          "Free",
          "Free",
          "Free",
          "Free",
          "Free",
          "Free",
          "Free",
          "Free",
          "Free",
          "Free",
          "Free",
          "Free",
          "Free",
          "Free",
          "Free",
          "Free",
          "Free",
          "Free",
          "Free",
          "Free",
          "Free",
          "Free",
          "Free",
          "Free",
          "Free",
          "Free",
          "Free",
          "Free",
          "Free",
          "Free",
          "Free",
          "Free",
          "Free",
          "Free",
          "Free",
          "Free",
          "Free",
          "Free",
          "Free",
          "Free",
          "Free",
          "Free",
          "Free",
          "Free",
          "Free",
          "Free",
          "Free",
          "Free",
          "Free",
          "Free",
          "Free",
          "Free",
          "Free",
          "Free",
          "Free",
          "Free",
          "Free",
          "Free",
          "Free",
          "Free",
          "Free",
          "Free",
          "Free",
          "Free",
          "Free",
          "Free",
          "Free",
          "Free",
          "Free",
          "Free",
          "Free",
          "Free",
          "Free",
          "Free",
          "Free",
          "Free",
          "Free",
          "Free",
          "Free",
          "Free",
          "Free",
          "Free",
          "Free",
          "Free",
          "Free",
          "Free",
          "Free",
          "Free",
          "Free",
          "Free",
          "Free",
          "Free",
          "Free",
          "Free",
          "Free",
          "Free",
          "Free",
          "Free",
          "Free",
          "Free",
          "Free",
          "Free",
          "Free",
          "Free",
          "Free",
          "Free",
          "Free",
          "Free",
          "Free",
          "Free",
          "Free",
          "Free",
          "Free",
          "Free",
          "Free",
          "Free",
          "Free",
          "Free",
          "Free",
          "Free",
          "Free",
          "Free",
          "Free",
          "Free",
          "Free",
          "Free",
          "Free",
          "Free",
          "Free",
          "Free",
          "Free",
          "Free",
          "Free",
          "Free",
          "Free",
          "Free",
          "Free",
          "Free",
          "Free",
          "Free",
          "Free",
          "Free",
          "Free",
          "Free",
          "Free",
          "Free",
          "Free",
          "Free",
          "Free",
          "Free",
          "Free",
          "Free",
          "Free",
          "Free",
          "Free",
          "Free",
          "Free",
          "Free",
          "Free",
          "Free",
          "Free",
          "Free",
          "Free",
          "Free",
          "Free",
          "Free",
          "Free",
          "Free",
          "Free",
          "Free",
          "Free",
          "Free",
          "Free",
          "Free",
          "Free",
          "Free",
          "Free",
          "Free",
          "Free",
          "Free",
          "Free",
          "Free",
          "Free",
          "Free",
          "Free",
          "Free",
          "Free",
          "Free",
          "Free",
          "Free",
          "Free",
          "Free",
          "Free",
          "Free",
          "Free",
          "Free",
          "Free",
          "Free",
          "Free",
          "Free",
          "Free",
          "Free",
          "Free",
          "Free",
          "Free",
          "Free",
          "Free",
          "Free",
          "Free",
          "Free",
          "Free",
          "Free",
          "Free",
          "Free",
          "Free",
          "Free",
          "Free",
          "Free",
          "Free",
          "Free",
          "Free",
          "Free",
          "Free",
          "Free",
          "Free",
          "Free",
          "Free",
          "Free",
          "Free",
          "Free",
          "Free",
          "Free",
          "Free",
          "Free",
          "Free",
          "Free",
          "Free",
          "Free",
          "Free",
          "Free",
          "Free",
          "Free",
          "Free",
          "Free",
          "Free",
          "Free",
          "Free",
          "Free",
          "Free",
          "Free",
          "Free",
          "Free",
          "Free",
          "Free",
          "Free",
          "Free",
          "Free",
          "Free",
          "Free",
          "Free",
          "Free",
          "Free",
          "Free",
          "Free",
          "Free",
          "Free",
          "Free",
          "Free",
          "Free",
          "Free",
          "Free",
          "Free",
          "Free",
          "Free",
          "Free",
          "Free",
          "Free",
          "Free",
          "Free",
          "Free",
          "Free",
          "Free",
          "Free",
          "Free",
          "Free",
          "Free",
          "Free",
          "Free",
          "Free",
          "Free",
          "Free",
          "Free",
          "Free",
          "Free",
          "Free",
          "Free",
          "Free",
          "Free",
          "Free",
          "Free",
          "Free",
          "Free",
          "Free",
          "Free",
          "Free",
          "Free",
          "Free",
          "Free",
          "Free",
          "Free",
          "Free",
          "Free",
          "Free",
          "Free",
          "Free",
          "Free",
          "Free",
          "Free",
          "Free",
          "Free",
          "Free",
          "Free",
          "Free",
          "Free",
          "Free",
          "Free",
          "Free",
          "Free",
          "Free",
          "Free",
          "Free",
          "Free",
          "Free",
          "Free",
          "Free",
          "Free",
          "Free",
          "Free",
          "Free",
          "Free",
          "Free",
          "Free",
          "Free",
          "Free",
          "Free",
          "Free",
          "Free",
          "Free",
          "Free",
          "Free",
          "Free",
          "Free",
          "Free",
          "Free",
          "Free",
          "Free",
          "Free",
          "Free",
          "Free",
          "Free",
          "Free",
          "Free",
          "Free",
          "Free",
          "Free",
          "Free",
          "Free",
          "Free",
          "Free",
          "Free",
          "Free",
          "Free",
          "Free",
          "Free",
          "Free",
          "Free",
          "Free",
          "Free",
          "Free",
          "Free",
          "Free",
          "Free",
          "Free",
          "Free",
          "Free",
          "Free",
          "Free",
          "Free",
          "Free",
          "Free",
          "Free",
          "Free",
          "Free",
          "Free",
          "Free",
          "Free",
          "Free",
          "Free",
          "Free",
          "Free",
          "Free",
          "Free",
          "Free",
          "Free",
          "Free",
          "Free",
          "Free",
          "Free",
          "Free",
          "Free",
          "Free",
          "Free",
          "Free",
          "Free",
          "Free",
          "Free",
          "Free",
          "Free",
          "Free",
          "Free",
          "Free",
          "Free",
          "Free",
          "Free",
          "Free",
          "Free",
          "Free",
          "Free",
          "Free",
          "Free",
          "Free",
          "Free",
          "Free",
          "Free",
          "Free",
          "Free",
          "Free",
          "Free",
          "Free",
          "Free",
          "Free",
          "Free",
          "Free",
          "Free",
          "Free",
          "Free",
          "Free",
          "Free",
          "Free",
          "Free",
          "Free",
          "Free",
          "Free",
          "Free",
          "Free",
          "Free",
          "Free",
          "Free",
          "Free",
          "Free",
          "Free",
          "Free",
          "Free",
          "Free",
          "Free",
          "Free",
          "Free",
          "Free",
          "Free",
          "Free",
          "Free",
          "Free",
          "Free",
          "Free",
          "Free",
          "Free",
          "Free",
          "Free",
          "Free",
          "Free",
          "Free",
          "Free",
          "Free",
          "Free",
          "Free",
          "Free",
          "Free",
          "Free",
          "Free",
          "Free",
          "Free",
          "Free",
          "Free",
          "Free",
          "Free",
          "Free",
          "Free",
          "Free",
          "Free",
          "Free",
          "Free",
          "Free",
          "Free",
          "Free",
          "Free",
          "Free",
          "Free",
          "Free",
          "Free",
          "Free",
          "Free",
          "Free",
          "Free",
          "Free",
          "Free",
          "Free",
          "Free",
          "Free",
          "Free",
          "Free",
          "Free",
          "Free",
          "Free",
          "Free",
          "Free",
          "Free",
          "Free",
          "Free",
          "Free",
          "Free",
          "Free",
          "Free",
          "Free",
          "Free",
          "Free",
          "Free",
          "Free",
          "Free",
          "Free",
          "Free",
          "Free",
          "Free",
          "Free",
          "Free",
          "Free",
          "Free",
          "Free",
          "Free",
          "Free",
          "Free",
          "Free",
          "Free",
          "Free",
          "Free",
          "Free",
          "Free",
          "Free",
          "Free",
          "Free",
          "Free",
          "Free",
          "Free",
          "Free",
          "Free",
          "Free",
          "Free",
          "Free",
          "Free",
          "Free",
          "Free",
          "Free",
          "Free",
          "Free",
          "Free",
          "Free",
          "Free",
          "Free",
          "Free",
          "Free",
          "Free",
          "Free",
          "Free",
          "Free",
          "Free",
          "Free",
          "Free",
          "Free",
          "Free",
          "Free",
          "Free",
          "Free",
          "Free",
          "Free",
          "Free",
          "Free",
          "Free",
          "Free",
          "Free",
          "Free",
          "Free",
          "Free",
          "Free",
          "Free",
          "Free",
          "Free",
          "Free",
          "Free",
          "Free",
          "Free",
          "Free",
          "Free",
          "Free",
          "Free",
          "Free",
          "Free",
          "Free",
          "Free",
          "Free",
          "Free",
          "Free",
          "Free",
          "Free",
          "Free",
          "Free",
          "Free",
          "Free",
          "Free",
          "Free",
          "Free",
          "Free",
          "Free",
          "Free",
          "Free",
          "Free",
          "Free",
          "Free",
          "Free",
          "Free",
          "Free",
          "Free",
          "Free",
          "Free",
          "Free",
          "Free",
          "Free",
          "Free",
          "Free",
          "Free",
          "Free",
          "Free",
          "Free",
          "Free",
          "Free",
          "Free",
          "Free",
          "Free",
          "Free",
          "Free",
          "Free",
          "Free",
          "Free",
          "Free",
          "Free",
          "Free",
          "Free",
          "Free",
          "Free",
          "Free",
          "Free",
          "Free",
          "Free",
          "Free",
          "Free",
          "Free",
          "Free",
          "Free",
          "Free",
          "Free",
          "Free",
          "Free",
          "Free",
          "Free",
          "Free",
          "Free",
          "Free",
          "Free",
          "Free",
          "Free",
          "Free",
          "Free",
          "Free",
          "Free",
          "Free",
          "Free",
          "Free",
          "Free",
          "Free",
          "Free",
          "Free",
          "Free",
          "Free",
          "Free",
          "Free",
          "Free",
          "Free",
          "Free",
          "Free",
          "Free",
          "Free",
          "Free",
          "Free",
          "Free",
          "Free",
          "Free",
          "Free",
          "Free",
          "Free",
          "Free",
          "Free",
          "Free",
          "Free",
          "Free",
          "Free",
          "Free",
          "Free",
          "Free",
          "Free",
          "Free",
          "Free",
          "Free",
          "Free",
          "Free",
          "Free",
          "Free",
          "Free",
          "Free",
          "Free",
          "Free",
          "Free",
          "Free",
          "Free",
          "Free",
          "Free",
          "Free",
          "Free",
          "Free",
          "Free",
          "Free",
          "Free",
          "Free",
          "Free",
          "Free",
          "Free",
          "Free",
          "Free",
          "Free",
          "Free",
          "Free",
          "Free",
          "Free",
          "Free",
          "Free",
          "Free",
          "Free",
          "Free",
          "Free",
          "Free",
          "Free",
          "Free",
          "Free",
          "Free",
          "Free",
          "Free",
          "Free",
          "Free",
          "Free",
          "Free",
          "Free",
          "Free",
          "Free",
          "Free",
          "Free",
          "Free",
          "Free",
          "Free",
          "Free",
          "Free",
          "Free",
          "Free",
          "Free",
          "Free",
          "Free",
          "Free",
          "Free",
          "Free",
          "Free",
          "Free",
          "Free",
          "Free",
          "Free",
          "Free",
          "Free",
          "Free",
          "Free",
          "Free",
          "Free",
          "Free",
          "Free",
          "Free",
          "Free",
          "Free",
          "Free",
          "Free",
          "Free",
          "Free",
          "Free",
          "Free",
          "Free",
          "Free",
          "Free",
          "Free",
          "Free",
          "Free",
          "Free",
          "Free",
          "Free",
          "Free",
          "Free",
          "Free",
          "Free",
          "Free",
          "Free",
          "Free",
          "Free",
          "Free",
          "Free",
          "Free",
          "Free",
          "Free",
          "Free",
          "Free",
          "Free",
          "Free",
          "Free",
          "Free",
          "Free",
          "Free",
          "Free",
          "Free",
          "Free",
          "Free",
          "Free",
          "Free",
          "Free",
          "Free",
          "Free",
          "Free",
          "Free",
          "Free",
          "Free",
          "Free",
          "Free",
          "Free",
          "Free",
          "Free",
          "Free",
          "Free",
          "Free",
          "Free",
          "Free",
          "Free",
          "Free",
          "Free",
          "Free",
          "Free",
          "Free",
          "Free",
          "Free",
          "Free",
          "Free",
          "Free",
          "Free",
          "Free",
          "Free",
          "Free",
          "Free",
          "Free",
          "Free",
          "Free",
          "Free",
          "Free",
          "Free",
          "Free",
          "Free",
          "Free",
          "Free",
          "Free",
          "Free",
          "Free",
          "Free",
          "Free",
          "Free",
          "Free",
          "Free",
          "Free",
          "Free",
          "Free",
          "Free",
          "Free",
          "Free",
          "Free",
          "Free",
          "Free",
          "Free",
          "Free",
          "Free",
          "Free",
          "Free",
          "Free",
          "Free",
          "Free",
          "Free",
          "Free",
          "Free",
          "Free",
          "Free",
          "Free",
          "Free",
          "Free",
          "Free",
          "Free",
          "Free",
          "Free",
          "Free",
          "Free",
          "Free",
          "Free",
          "Free",
          "Free",
          "Free",
          "Free",
          "Free",
          "Free",
          "Free",
          "Free",
          "Free",
          "Free",
          "Free",
          "Free",
          "Free",
          "Free",
          "Free",
          "Free",
          "Free",
          "Free",
          "Free",
          "Free",
          "Free",
          "Free",
          "Free",
          "Free",
          "Free",
          "Free",
          "Free",
          "Free",
          "Free",
          "Free",
          "Free",
          "Free",
          "Free",
          "Free",
          "Free",
          "Free",
          "Free",
          "Free",
          "Free",
          "Free",
          "Free",
          "Free",
          "Free",
          "Free",
          "Free",
          "Free",
          "Free",
          "Free",
          "Free",
          "Free",
          "Free",
          "Free",
          "Free",
          "Free",
          "Free",
          "Free",
          "Free",
          "Free",
          "Free",
          "Free",
          "Free",
          "Free",
          "Free",
          "Free",
          "Free",
          "Free",
          "Free",
          "Free",
          "Free",
          "Free",
          "Free",
          "Free",
          "Free",
          "Free",
          "Free",
          "Free",
          "Free",
          "Free",
          "Free",
          "Free",
          "Free",
          "Free",
          "Free",
          "Free",
          "Free",
          "Free",
          "Free",
          "Free",
          "Free",
          "Free",
          "Free",
          "Free",
          "Free",
          "Free",
          "Free",
          "Free",
          "Free",
          "Free",
          "Free",
          "Free",
          "Free",
          "Free",
          "Free",
          "Free",
          "Free",
          "Free",
          "Free",
          "Free",
          "Free",
          "Free",
          "Free",
          "Free",
          "Free",
          "Free",
          "Free",
          "Free",
          "Free",
          "Free",
          "Free",
          "Free",
          "Free",
          "Free",
          "Free",
          "Free",
          "Free",
          "Free",
          "Free",
          "Free",
          "Free",
          "Free",
          "Free",
          "Free",
          "Free",
          "Free",
          "Free",
          "Free",
          "Free",
          "Free",
          "Free",
          "Free",
          "Free",
          "Free",
          "Free",
          "Free",
          "Free",
          "Free",
          "Free",
          "Free",
          "Free",
          "Free",
          "Free",
          "Free",
          "Free",
          "Free",
          "Free",
          "Free",
          "Free",
          "Free",
          "Free",
          "Free",
          "Free",
          "Free",
          "Free",
          "Free",
          "Free",
          "Free",
          "Free",
          "Free",
          "Free",
          "Free",
          "Free",
          "Free",
          "Free",
          "Free",
          "Free",
          "Free",
          "Free",
          "Free",
          "Free",
          "Free",
          "Free",
          "Free",
          "Free",
          "Free",
          "Free",
          "Free",
          "Free",
          "Free",
          "Free",
          "Free",
          "Free",
          "Free",
          "Free",
          "Free",
          "Free",
          "Free",
          "Free",
          "Free",
          "Free",
          "Free",
          "Free",
          "Free",
          "Free",
          "Free",
          "Free",
          "Free",
          "Free",
          "Free",
          "Free",
          "Free",
          "Free",
          "Free",
          "Free",
          "Free",
          "Free",
          "Free",
          "Free",
          "Free",
          "Free",
          "Free",
          "Free",
          "Free",
          "Free",
          "Free",
          "Free",
          "Free",
          "Free",
          "Free",
          "Free",
          "Free",
          "Free",
          "Free",
          "Free",
          "Free",
          "Free",
          "Free",
          "Free",
          "Free",
          "Free",
          "Free",
          "Free",
          "Free",
          "Free",
          "Free",
          "Free",
          "Free",
          "Free",
          "Free",
          "Free",
          "Free",
          "Free",
          "Free",
          "Free",
          "Free",
          "Free",
          "Free",
          "Free",
          "Free",
          "Free",
          "Free",
          "Free",
          "Free",
          "Free",
          "Free",
          "Free",
          "Free",
          "Free",
          "Free",
          "Free",
          "Free",
          "Free",
          "Free",
          "Free",
          "Free",
          "Free",
          "Free",
          "Free",
          "Free",
          "Free",
          "Free",
          "Free",
          "Free",
          "Free",
          "Free",
          "Free",
          "Free",
          "Free",
          "Free",
          "Free",
          "Free",
          "Free",
          "Free",
          "Free",
          "Free",
          "Free",
          "Free",
          "Free",
          "Free",
          "Free",
          "Free",
          "Free",
          "Free",
          "Free",
          "Free",
          "Free",
          "Free",
          "Free",
          "Free",
          "Free",
          "Free",
          "Free",
          "Free",
          "Free",
          "Free",
          "Free",
          "Free",
          "Free",
          "Free",
          "Free",
          "Free",
          "Free",
          "Free",
          "Free",
          "Free",
          "Free",
          "Free",
          "Free",
          "Free",
          "Free",
          "Free",
          "Free",
          "Free",
          "Free",
          "Free",
          "Free",
          "Free",
          "Free",
          "Free",
          "Free",
          "Free",
          "Free",
          "Free",
          "Free",
          "Free",
          "Free",
          "Free",
          "Free",
          "Free",
          "Free",
          "Free",
          "Free",
          "Free",
          "Free",
          "Free",
          "Free",
          "Free",
          "Free",
          "Free",
          "Free",
          "Free",
          "Free",
          "Free",
          "Free",
          "Free",
          "Free",
          "Free",
          "Free",
          "Free",
          "Free",
          "Free",
          "Free",
          "Free",
          "Free",
          "Free",
          "Free",
          "Free",
          "Free",
          "Free",
          "Free",
          "Free",
          "Free",
          "Free",
          "Free",
          "Free",
          "Free",
          "Free",
          "Free",
          "Free",
          "Free",
          "Free",
          "Free",
          "Free",
          "Free",
          "Free",
          "Free",
          "Free",
          "Free",
          "Free",
          "Free",
          "Free",
          "Free",
          "Free",
          "Free",
          "Free",
          "Free",
          "Free",
          "Free",
          "Free",
          "Free",
          "Free",
          "Free",
          "Free",
          "Free",
          "Free",
          "Free",
          "Free",
          "Free",
          "Free",
          "Free",
          "Free",
          "Free",
          "Free",
          "Free",
          "Free",
          "Free",
          "Free",
          "Free",
          "Free",
          "Free",
          "Free",
          "Free",
          "Free",
          "Free",
          "Free",
          "Free",
          "Free",
          "Free",
          "Free",
          "Free",
          "Free",
          "Free",
          "Free",
          "Free",
          "Free",
          "Free",
          "Free",
          "Free",
          "Free",
          "Free",
          "Free",
          "Free",
          "Free",
          "Free",
          "Free",
          "Free",
          "Free",
          "Free",
          "Free",
          "Free",
          "Free",
          "Free",
          "Free",
          "Free",
          "Free",
          "Free",
          "Free",
          "Free",
          "Free",
          "Free",
          "Free",
          "Free",
          "Free",
          "Free",
          "Free",
          "Free",
          "Free",
          "Free",
          "Free",
          "Free",
          "Free",
          "Free",
          "Free",
          "Free",
          "Free",
          "Free",
          "Free",
          "Free",
          "Free",
          "Free",
          "Free",
          "Free",
          "Free",
          "Free",
          "Free",
          "Free",
          "Free",
          "Free",
          "Free",
          "Free",
          "Free",
          "Free",
          "Free",
          "Free",
          "Free",
          "Free",
          "Free",
          "Free",
          "Free",
          "Free",
          "Free",
          "Free",
          "Free",
          "Free",
          "Free",
          "Free",
          "Free",
          "Free",
          "Free",
          "Free",
          "Free",
          "Free",
          "Free",
          "Free",
          "Free",
          "Free",
          "Free",
          "Free",
          "Free",
          "Free",
          "Free",
          "Free",
          "Free",
          "Free",
          "Free",
          "Free",
          "Free",
          "Free",
          "Free",
          "Free",
          "Free",
          "Free",
          "Free",
          "Free",
          "Free",
          "Free",
          "Free",
          "Free",
          "Free",
          "Free",
          "Free",
          "Free",
          "Free",
          "Free",
          "Free",
          "Free",
          "Free",
          "Free",
          "Free",
          "Free",
          "Free",
          "Free",
          "Free",
          "Free",
          "Free",
          "Free",
          "Free",
          "Free",
          "Free",
          "Free",
          "Free",
          "Free",
          "Free",
          "Free",
          "Free",
          "Free",
          "Free",
          "Free",
          "Free",
          "Free",
          "Free",
          "Free",
          "Free",
          "Free",
          "Free",
          "Free",
          "Free",
          "Free",
          "Free",
          "Free",
          "Free",
          "Free",
          "Free",
          "Free",
          "Free",
          "Free",
          "Free",
          "Free",
          "Free",
          "Free",
          "Free",
          "Free",
          "Free",
          "Free",
          "Free",
          "Free",
          "Free",
          "Free",
          "Free",
          "Free",
          "Free",
          "Free",
          "Free",
          "Free",
          "Free",
          "Free",
          "Free",
          "Free",
          "Free",
          "Free",
          "Free",
          "Free",
          "Free",
          "Free",
          "Free",
          "Free",
          "Free",
          "Free",
          "Free",
          "Free",
          "Free",
          "Free",
          "Free",
          "Free",
          "Free",
          "Free",
          "Free",
          "Free",
          "Free",
          "Free",
          "Free",
          "Free",
          "Free",
          "Free",
          "Free",
          "Free",
          "Free",
          "Free",
          "Free",
          "Free",
          "Free",
          "Free",
          "Free",
          "Free",
          "Free",
          "Free",
          "Free",
          "Free",
          "Free",
          "Free",
          "Free",
          "Free",
          "Free",
          "Free",
          "Free",
          "Free",
          "Free",
          "Free",
          "Free",
          "Free",
          "Free",
          "Free",
          "Free",
          "Free",
          "Free",
          "Free",
          "Free",
          "Free",
          "Free",
          "Free",
          "Free",
          "Free",
          "Free",
          "Free",
          "Free",
          "Free",
          "Free",
          "Free",
          "Free",
          "Free",
          "Free",
          "Free",
          "Free",
          "Free",
          "Free",
          "Free",
          "Free",
          "Free",
          "Free",
          "Free",
          "Free",
          "Free",
          "Free",
          "Free",
          "Free",
          "Free",
          "Free",
          "Free",
          "Free",
          "Free",
          "Free",
          "Free",
          "Free",
          "Free",
          "Free",
          "Free",
          "Free",
          "Free",
          "Free",
          "Free",
          "Free",
          "Free",
          "Free",
          "Free",
          "Free",
          "Free",
          "Free",
          "Free",
          "Free",
          "Free",
          "Free",
          "Free",
          "Free",
          "Free",
          "Free",
          "Free",
          "Free",
          "Free",
          "Free",
          "Free",
          "Free",
          "Free",
          "Free",
          "Free",
          "Free",
          "Free",
          "Free",
          "Free",
          "Free",
          "Free",
          "Free",
          "Free",
          "Free",
          "Free",
          "Free",
          "Free",
          "Free",
          "Free",
          "Free",
          "Free",
          "Free",
          "Free",
          "Free",
          "Free",
          "Free",
          "Free",
          "Free",
          "Free",
          "Free",
          "Free",
          "Free",
          "Free",
          "Free",
          "Free",
          "Free",
          "Free",
          "Free",
          "Free",
          "Free",
          "Free",
          "Free",
          "Free",
          "Free",
          "Free",
          "Free",
          "Free",
          "Free",
          "Free",
          "Free",
          "Free",
          "Free",
          "Free",
          "Free",
          "Free",
          "Free",
          "Free",
          "Free",
          "Free",
          "Free",
          "Free",
          "Free",
          "Free",
          "Free",
          "Free",
          "Free",
          "Free",
          "Free",
          "Free",
          "Free",
          "Free",
          "Free",
          "Free",
          "Free",
          "Free",
          "Free",
          "Free",
          "Free",
          "Free",
          "Free",
          "Free",
          "Free",
          "Free",
          "Free",
          "Free",
          "Free",
          "Free",
          "Free",
          "Free",
          "Free",
          "Free",
          "Free",
          "Free",
          "Free",
          "Free",
          "Free",
          "Free",
          "Free",
          "Free",
          "Free",
          "Free",
          "Free",
          "Free",
          "Free",
          "Free",
          "Free",
          "Free",
          "Free",
          "Free",
          "Free",
          "Free",
          "Free",
          "Free",
          "Free",
          "Free",
          "Free",
          "Free",
          "Free",
          "Free",
          "Free",
          "Free",
          "Free",
          "Free",
          "Free",
          "Free",
          "Free",
          "Free",
          "Free",
          "Free",
          "Free",
          "Free",
          "Free",
          "Free",
          "Free",
          "Free",
          "Free",
          "Free",
          "Free",
          "Free",
          "Free",
          "Free",
          "Free",
          "Free",
          "Free",
          "Free",
          "Free",
          "Free",
          "Free",
          "Free",
          "Free",
          "Free",
          "Free",
          "Free",
          "Free",
          "Free",
          "Free",
          "Free",
          "Free",
          "Free",
          "Free",
          "Free",
          "Free",
          "Free",
          "Free",
          "Free",
          "Free",
          "Free",
          "Free",
          "Free",
          "Free",
          "Free",
          "Free",
          "Free",
          "Free",
          "Free",
          "Free",
          "Free",
          "Free",
          "Free",
          "Free",
          "Free",
          "Free",
          "Free",
          "Free",
          "Free",
          "Free",
          "Free",
          "Free",
          "Free",
          "Free",
          "Free",
          "Free",
          "Free",
          "Free",
          "Free",
          "Free",
          "Free",
          "Free",
          "Free",
          "Free",
          "Free",
          "Free",
          "Free",
          "Free",
          "Free",
          "Free",
          "Free",
          "Free",
          "Free",
          "Free",
          "Free",
          "Free",
          "Free",
          "Free",
          "Free",
          "Free",
          "Free",
          "Free",
          "Free",
          "Free",
          "Free",
          "Free",
          "Free",
          "Free",
          "Free",
          "Free",
          "Free",
          "Free",
          "Free",
          "Free",
          "Free",
          "Free",
          "Free",
          "Free",
          "Free",
          "Free",
          "Free",
          "Free",
          "Free",
          "Free",
          "Free",
          "Free",
          "Free",
          "Free",
          "Free",
          "Free",
          "Free",
          "Free",
          "Free",
          "Free",
          "Free",
          "Free",
          "Free",
          "Free",
          "Free",
          "Free",
          "Free",
          "Free",
          "Free",
          "Free",
          "Free",
          "Free",
          "Free",
          "Free",
          "Free",
          "Free",
          "Free",
          "Free",
          "Free",
          "Free",
          "Free",
          "Free",
          "Free",
          "Free",
          "Free",
          "Free",
          "Free",
          "Free",
          "Free",
          "Free",
          "Free",
          "Free",
          "Free",
          "Free",
          "Free",
          "Free",
          "Free",
          "Free",
          "Free",
          "Free",
          "Free",
          "Free",
          "Free",
          "Free",
          "Free",
          "Free",
          "Free",
          "Free",
          "Free",
          "Free",
          "Free",
          "Free",
          "Free",
          "Free",
          "Free",
          "Free",
          "Free",
          "Free",
          "Free",
          "Free",
          "Free",
          "Free",
          "Free",
          "Free",
          "Free",
          "Free",
          "Free",
          "Free",
          "Free",
          "Free",
          "Free",
          "Free",
          "Free",
          "Free",
          "Free",
          "Free",
          "Free",
          "Free",
          "Free",
          "Free",
          "Free",
          "Free",
          "Free",
          "Free",
          "Free",
          "Free",
          "Free",
          "Free",
          "Free",
          "Free",
          "Free",
          "Free",
          "Free",
          "Free",
          "Free",
          "Free",
          "Free",
          "Free",
          "Free",
          "Free",
          "Free",
          "Free",
          "Free",
          "Free",
          "Free",
          "Free",
          "Free",
          "Free",
          "Free",
          "Free",
          "Free",
          "Free",
          "Free",
          "Free",
          "Free",
          "Free",
          "Free",
          "Free",
          "Free",
          "Free",
          "Free",
          "Free",
          "Free",
          "Free",
          "Free",
          "Free",
          "Free",
          "Free",
          "Free",
          "Free",
          "Free",
          "Free",
          "Free",
          "Free",
          "Free",
          "Free",
          "Free",
          "Free",
          "Free",
          "Free",
          "Free",
          "Free",
          "Free",
          "Free",
          "Free",
          "Free",
          "Free",
          "Free",
          "Free",
          "Free",
          "Free",
          "Free",
          "Free",
          "Free",
          "Free",
          "Free",
          "Free",
          "Free",
          "Free",
          "Free",
          "Free",
          "Free",
          "Free",
          "Free",
          "Free",
          "Free",
          "Free",
          "Free",
          "Free",
          "Free",
          "Free",
          "Free",
          "Free",
          "Free",
          "Free",
          "Free",
          "Free",
          "Free",
          "Free",
          "Free",
          "Free",
          "Free",
          "Free",
          "Free",
          "Free",
          "Free",
          "Free",
          "Free",
          "Free",
          "Free",
          "Free",
          "Free",
          "Free",
          "Free",
          "Free",
          "Free",
          "Free",
          "Free",
          "Free",
          "Free",
          "Free",
          "Free",
          "Free",
          "Free",
          "Free",
          "Free",
          "Free",
          "Free",
          "Free",
          "Free",
          "Free",
          "Free",
          "Free",
          "Free",
          "Free",
          "Free",
          "Free",
          "Free",
          "Free",
          "Free",
          "Free",
          "Free",
          "Free",
          "Free",
          "Free",
          "Free",
          "Free",
          "Free",
          "Free",
          "Free",
          "Free",
          "Free",
          "Free",
          "Free",
          "Free",
          "Free",
          "Free",
          "Free",
          "Free",
          "Free",
          "Free",
          "Free",
          "Free",
          "Free",
          "Free",
          "Free",
          "Free",
          "Free",
          "Free",
          "Free",
          "Free",
          "Free",
          "Free",
          "Free",
          "Free",
          "Free",
          "Free",
          "Free",
          "Free",
          "Free",
          "Free",
          "Free",
          "Free",
          "Free",
          "Free",
          "Free",
          "Free",
          "Free",
          "Free",
          "Free",
          "Free",
          "Free",
          "Free",
          "Free",
          "Free",
          "Free",
          "Free",
          "Free",
          "Free",
          "Free",
          "Free",
          "Free",
          "Free",
          "Free",
          "Free",
          "Free",
          "Free",
          "Free",
          "Free",
          "Free",
          "Free",
          "Free",
          "Free",
          "Free",
          "Free",
          "Free",
          "Free",
          "Free",
          "Free",
          "Free",
          "Free",
          "Free",
          "Free",
          "Free",
          "Free",
          "Free",
          "Free",
          "Free",
          "Free",
          "Free",
          "Free",
          "Free",
          "Free",
          "Free",
          "Free",
          "Free",
          "Free",
          "Free",
          "Free",
          "Free",
          "Free",
          "Free",
          "Free",
          "Free",
          "Free",
          "Free",
          "Free",
          "Free",
          "Free",
          "Free",
          "Free",
          "Free",
          "Free",
          "Free",
          "Free",
          "Free",
          "Free",
          "Free",
          "Free",
          "Free",
          "Free",
          "Free",
          "Free",
          "Free",
          "Free",
          "Free",
          "Free",
          "Free",
          "Free",
          "Free",
          "Free",
          "Free",
          "Free",
          "Free",
          "Free",
          "Free",
          "Free",
          "Free",
          "Free",
          "Free",
          "Free",
          "Free",
          "Free",
          "Free",
          "Free",
          "Free",
          "Free",
          "Free",
          "Free",
          "Free",
          "Free",
          "Free",
          "Free",
          "Free",
          "Free",
          "Free",
          "Free",
          "Free",
          "Free",
          "Free",
          "Free",
          "Free",
          "Free",
          "Free",
          "Free",
          "Free",
          "Free",
          "Free",
          "Free",
          "Free",
          "Free",
          "Free",
          "Free",
          "Free",
          "Free",
          "Free",
          "Free",
          "Free",
          "Free",
          "Free",
          "Free",
          "Free",
          "Free",
          "Free",
          "Free",
          "Free",
          "Free",
          "Free",
          "Free",
          "Free",
          "Free",
          "Free",
          "Free",
          "Free",
          "Free",
          "Free",
          "Free",
          "Free",
          "Free",
          "Free",
          "Free",
          "Free",
          "Free",
          "Free",
          "Free",
          "Free",
          "Free",
          "Free",
          "Free",
          "Free",
          "Free",
          "Free",
          "Free",
          "Free",
          "Free",
          "Free",
          "Free",
          "Free",
          "Free",
          "Free",
          "Free",
          "Free",
          "Free",
          "Free",
          "Free",
          "Free",
          "Free",
          "Free",
          "Free",
          "Free",
          "Free",
          "Free",
          "Free",
          "Free",
          "Free",
          "Free",
          "Free",
          "Free",
          "Free",
          "Free",
          "Free",
          "Free",
          "Free",
          "Free",
          "Free",
          "Free",
          "Free",
          "Free",
          "Free",
          "Free",
          "Free",
          "Free",
          "Free",
          "Free",
          "Free",
          "Free",
          "Free",
          "Free",
          "Free",
          "Free",
          "Free",
          "Free",
          "Free",
          "Free",
          "Free",
          "Free",
          "Free",
          "Free",
          "Free",
          "Free",
          "Free",
          "Free",
          "Free",
          "Free",
          "Free",
          "Free",
          "Free",
          "Free",
          "Free",
          "Free",
          "Free",
          "Free",
          "Free",
          "Free",
          "Free",
          "Free",
          "Free",
          "Free",
          "Free",
          "Free",
          "Free",
          "Free",
          "Free",
          "Free",
          "Free",
          "Free",
          "Free",
          "Free",
          "Free",
          "Free",
          "Free",
          "Free",
          "Free",
          "Free",
          "Free",
          "Free",
          "Free",
          "Free",
          "Free",
          "Free",
          "Free",
          "Free",
          "Free",
          "Free",
          "Free",
          "Free",
          "Free",
          "Free",
          "Free",
          "Free",
          "Free",
          "Free",
          "Free",
          "Free",
          "Free",
          "Free",
          "Free",
          "Free",
          "Free",
          "Free",
          "Free",
          "Free",
          "Free",
          "Free",
          "Free",
          "Free",
          "Free",
          "Free",
          "Free",
          "Free",
          "Free",
          "Free",
          "Free",
          "Free",
          "Free",
          "Free",
          "Free",
          "Free",
          "Free",
          "Free",
          "Free",
          "Free",
          "Free",
          "Free",
          "Free",
          "Free",
          "Free",
          "Free",
          "Free",
          "Free",
          "Free",
          "Free",
          "Free",
          "Free",
          "Free"
         ],
         "x0": " ",
         "xaxis": "x",
         "y": {
          "bdata": "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",
          "dtype": "i4"
         },
         "y0": " ",
         "yaxis": "y"
        },
        {
         "alignmentgroup": "True",
         "boxpoints": "all",
         "hovertemplate": "Type=%{x}<br>Installs=%{y}<extra></extra>",
         "legendgroup": "Paid",
         "marker": {
          "color": "#EF553B"
         },
         "name": "Paid",
         "notched": true,
         "offsetgroup": "Paid",
         "orientation": "v",
         "showlegend": true,
         "type": "box",
         "x": [
          "Paid",
          "Paid",
          "Paid",
          "Paid",
          "Paid",
          "Paid",
          "Paid",
          "Paid",
          "Paid",
          "Paid",
          "Paid",
          "Paid",
          "Paid",
          "Paid",
          "Paid",
          "Paid",
          "Paid",
          "Paid",
          "Paid",
          "Paid",
          "Paid",
          "Paid",
          "Paid",
          "Paid",
          "Paid",
          "Paid",
          "Paid",
          "Paid",
          "Paid",
          "Paid",
          "Paid",
          "Paid",
          "Paid",
          "Paid",
          "Paid",
          "Paid",
          "Paid",
          "Paid",
          "Paid",
          "Paid",
          "Paid",
          "Paid",
          "Paid",
          "Paid",
          "Paid",
          "Paid",
          "Paid",
          "Paid",
          "Paid",
          "Paid",
          "Paid",
          "Paid",
          "Paid",
          "Paid",
          "Paid",
          "Paid",
          "Paid",
          "Paid",
          "Paid",
          "Paid",
          "Paid",
          "Paid",
          "Paid",
          "Paid",
          "Paid",
          "Paid",
          "Paid",
          "Paid",
          "Paid",
          "Paid",
          "Paid",
          "Paid",
          "Paid",
          "Paid",
          "Paid",
          "Paid",
          "Paid",
          "Paid",
          "Paid",
          "Paid",
          "Paid",
          "Paid",
          "Paid",
          "Paid",
          "Paid",
          "Paid",
          "Paid",
          "Paid",
          "Paid",
          "Paid",
          "Paid",
          "Paid",
          "Paid",
          "Paid",
          "Paid",
          "Paid",
          "Paid",
          "Paid",
          "Paid",
          "Paid",
          "Paid",
          "Paid",
          "Paid",
          "Paid",
          "Paid",
          "Paid",
          "Paid",
          "Paid",
          "Paid",
          "Paid",
          "Paid",
          "Paid",
          "Paid",
          "Paid",
          "Paid",
          "Paid",
          "Paid",
          "Paid",
          "Paid",
          "Paid",
          "Paid",
          "Paid",
          "Paid",
          "Paid",
          "Paid",
          "Paid",
          "Paid",
          "Paid",
          "Paid",
          "Paid",
          "Paid",
          "Paid",
          "Paid",
          "Paid",
          "Paid",
          "Paid",
          "Paid",
          "Paid",
          "Paid",
          "Paid",
          "Paid",
          "Paid",
          "Paid",
          "Paid",
          "Paid",
          "Paid",
          "Paid",
          "Paid",
          "Paid",
          "Paid",
          "Paid",
          "Paid",
          "Paid",
          "Paid",
          "Paid",
          "Paid",
          "Paid",
          "Paid",
          "Paid",
          "Paid",
          "Paid",
          "Paid",
          "Paid",
          "Paid",
          "Paid",
          "Paid",
          "Paid",
          "Paid",
          "Paid",
          "Paid",
          "Paid",
          "Paid",
          "Paid",
          "Paid",
          "Paid",
          "Paid",
          "Paid",
          "Paid",
          "Paid",
          "Paid",
          "Paid",
          "Paid",
          "Paid",
          "Paid",
          "Paid",
          "Paid",
          "Paid",
          "Paid",
          "Paid",
          "Paid",
          "Paid",
          "Paid",
          "Paid",
          "Paid",
          "Paid",
          "Paid",
          "Paid",
          "Paid",
          "Paid",
          "Paid",
          "Paid",
          "Paid",
          "Paid",
          "Paid",
          "Paid",
          "Paid",
          "Paid",
          "Paid",
          "Paid",
          "Paid",
          "Paid",
          "Paid",
          "Paid",
          "Paid",
          "Paid",
          "Paid",
          "Paid",
          "Paid",
          "Paid",
          "Paid",
          "Paid",
          "Paid",
          "Paid",
          "Paid",
          "Paid",
          "Paid",
          "Paid",
          "Paid",
          "Paid",
          "Paid",
          "Paid",
          "Paid",
          "Paid",
          "Paid",
          "Paid",
          "Paid",
          "Paid",
          "Paid",
          "Paid",
          "Paid",
          "Paid",
          "Paid",
          "Paid",
          "Paid",
          "Paid",
          "Paid",
          "Paid",
          "Paid",
          "Paid",
          "Paid",
          "Paid",
          "Paid",
          "Paid",
          "Paid",
          "Paid",
          "Paid",
          "Paid",
          "Paid",
          "Paid",
          "Paid",
          "Paid",
          "Paid",
          "Paid",
          "Paid",
          "Paid",
          "Paid",
          "Paid",
          "Paid",
          "Paid",
          "Paid",
          "Paid",
          "Paid",
          "Paid",
          "Paid",
          "Paid",
          "Paid",
          "Paid",
          "Paid",
          "Paid",
          "Paid",
          "Paid",
          "Paid",
          "Paid",
          "Paid",
          "Paid",
          "Paid",
          "Paid",
          "Paid",
          "Paid",
          "Paid",
          "Paid",
          "Paid",
          "Paid",
          "Paid",
          "Paid",
          "Paid",
          "Paid",
          "Paid",
          "Paid",
          "Paid",
          "Paid",
          "Paid",
          "Paid",
          "Paid",
          "Paid",
          "Paid",
          "Paid",
          "Paid",
          "Paid",
          "Paid",
          "Paid",
          "Paid",
          "Paid",
          "Paid",
          "Paid",
          "Paid",
          "Paid",
          "Paid",
          "Paid",
          "Paid",
          "Paid",
          "Paid",
          "Paid",
          "Paid",
          "Paid",
          "Paid",
          "Paid",
          "Paid",
          "Paid",
          "Paid",
          "Paid",
          "Paid",
          "Paid",
          "Paid",
          "Paid",
          "Paid",
          "Paid",
          "Paid",
          "Paid",
          "Paid",
          "Paid",
          "Paid",
          "Paid",
          "Paid",
          "Paid",
          "Paid",
          "Paid",
          "Paid",
          "Paid",
          "Paid",
          "Paid",
          "Paid",
          "Paid",
          "Paid",
          "Paid",
          "Paid",
          "Paid",
          "Paid",
          "Paid",
          "Paid",
          "Paid",
          "Paid",
          "Paid",
          "Paid",
          "Paid",
          "Paid",
          "Paid",
          "Paid",
          "Paid",
          "Paid",
          "Paid",
          "Paid",
          "Paid",
          "Paid",
          "Paid",
          "Paid",
          "Paid",
          "Paid",
          "Paid",
          "Paid",
          "Paid",
          "Paid",
          "Paid",
          "Paid",
          "Paid",
          "Paid",
          "Paid",
          "Paid",
          "Paid",
          "Paid",
          "Paid",
          "Paid",
          "Paid",
          "Paid",
          "Paid",
          "Paid",
          "Paid",
          "Paid",
          "Paid",
          "Paid",
          "Paid",
          "Paid",
          "Paid",
          "Paid",
          "Paid",
          "Paid",
          "Paid",
          "Paid",
          "Paid",
          "Paid",
          "Paid",
          "Paid",
          "Paid",
          "Paid",
          "Paid",
          "Paid",
          "Paid",
          "Paid",
          "Paid",
          "Paid",
          "Paid",
          "Paid",
          "Paid",
          "Paid",
          "Paid",
          "Paid",
          "Paid",
          "Paid",
          "Paid",
          "Paid",
          "Paid",
          "Paid",
          "Paid",
          "Paid",
          "Paid",
          "Paid",
          "Paid",
          "Paid",
          "Paid",
          "Paid",
          "Paid",
          "Paid",
          "Paid",
          "Paid",
          "Paid",
          "Paid",
          "Paid",
          "Paid",
          "Paid",
          "Paid",
          "Paid",
          "Paid",
          "Paid",
          "Paid",
          "Paid",
          "Paid",
          "Paid",
          "Paid",
          "Paid",
          "Paid",
          "Paid",
          "Paid",
          "Paid",
          "Paid",
          "Paid",
          "Paid",
          "Paid",
          "Paid",
          "Paid",
          "Paid",
          "Paid",
          "Paid",
          "Paid",
          "Paid",
          "Paid",
          "Paid",
          "Paid",
          "Paid",
          "Paid",
          "Paid",
          "Paid",
          "Paid",
          "Paid",
          "Paid",
          "Paid",
          "Paid",
          "Paid",
          "Paid",
          "Paid",
          "Paid",
          "Paid",
          "Paid",
          "Paid",
          "Paid",
          "Paid",
          "Paid",
          "Paid",
          "Paid",
          "Paid",
          "Paid",
          "Paid",
          "Paid",
          "Paid",
          "Paid",
          "Paid",
          "Paid",
          "Paid",
          "Paid",
          "Paid",
          "Paid",
          "Paid",
          "Paid",
          "Paid",
          "Paid",
          "Paid",
          "Paid",
          "Paid",
          "Paid",
          "Paid",
          "Paid",
          "Paid",
          "Paid",
          "Paid",
          "Paid",
          "Paid",
          "Paid",
          "Paid",
          "Paid",
          "Paid",
          "Paid",
          "Paid",
          "Paid",
          "Paid",
          "Paid",
          "Paid",
          "Paid",
          "Paid",
          "Paid",
          "Paid",
          "Paid",
          "Paid",
          "Paid",
          "Paid",
          "Paid",
          "Paid",
          "Paid",
          "Paid",
          "Paid",
          "Paid",
          "Paid",
          "Paid",
          "Paid",
          "Paid",
          "Paid",
          "Paid",
          "Paid",
          "Paid",
          "Paid",
          "Paid",
          "Paid",
          "Paid",
          "Paid",
          "Paid",
          "Paid",
          "Paid",
          "Paid",
          "Paid",
          "Paid",
          "Paid",
          "Paid",
          "Paid",
          "Paid",
          "Paid",
          "Paid",
          "Paid",
          "Paid",
          "Paid",
          "Paid",
          "Paid",
          "Paid",
          "Paid",
          "Paid",
          "Paid",
          "Paid",
          "Paid",
          "Paid",
          "Paid",
          "Paid",
          "Paid"
         ],
         "x0": " ",
         "xaxis": "x",
         "y": {
          "bdata": "AQAAAAEAAAAKAAAACgAAAAoAAAAKAAAACgAAAAoAAAAKAAAACgAAAAoAAAAKAAAACgAAAAoAAAAKAAAACgAAAAoAAAAKAAAACgAAAAoAAAAyAAAAMgAAADIAAAAyAAAAMgAAADIAAAAyAAAAMgAAADIAAAAyAAAAMgAAADIAAAAyAAAAMgAAAGQAAABkAAAAZAAAAGQAAABkAAAAZAAAAGQAAABkAAAAZAAAAGQAAABkAAAAZAAAAGQAAABkAAAAZAAAAGQAAABkAAAAZAAAAGQAAABkAAAAZAAAAGQAAABkAAAAZAAAAGQAAABkAAAAZAAAAGQAAABkAAAAZAAAAGQAAABkAAAAZAAAAGQAAABkAAAAZAAAAGQAAABkAAAAZAAAAGQAAABkAAAAZAAAAGQAAABkAAAAZAAAAGQAAABkAAAAZAAAAGQAAABkAAAAZAAAAGQAAABkAAAAZAAAAGQAAABkAAAAZAAAAGQAAABkAAAAZAAAAGQAAABkAAAAZAAAAGQAAABkAAAA9AEAAPQBAAD0AQAA9AEAAPQBAAD0AQAA9AEAAPQBAAD0AQAA9AEAAPQBAAD0AQAA9AEAAPQBAAD0AQAA9AEAAPQBAAD0AQAA9AEAAPQBAAD0AQAA9AEAAPQBAAD0AQAA9AEAAPQBAAD0AQAA9AEAAPQBAAD0AQAA9AEAAPQBAAD0AQAA9AEAAPQBAAD0AQAA6AMAAOgDAADoAwAA6AMAAOgDAADoAwAA6AMAAOgDAADoAwAA6AMAAOgDAADoAwAA6AMAAOgDAADoAwAA6AMAAOgDAADoAwAA6AMAAOgDAADoAwAA6AMAAOgDAADoAwAA6AMAAOgDAADoAwAA6AMAAOgDAADoAwAA6AMAAOgDAADoAwAA6AMAAOgDAADoAwAA6AMAAOgDAADoAwAA6AMAAOgDAADoAwAA6AMAAOgDAADoAwAA6AMAAOgDAADoAwAA6AMAAOgDAADoAwAA6AMAAOgDAADoAwAA6AMAAOgDAADoAwAA6AMAAOgDAADoAwAA6AMAAOgDAADoAwAA6AMAAOgDAADoAwAA6AMAAOgDAADoAwAA6AMAAOgDAADoAwAA6AMAAOgDAADoAwAA6AMAAOgDAADoAwAA6AMAAOgDAADoAwAA6AMAAOgDAADoAwAA6AMAAOgDAADoAwAA6AMAAOgDAADoAwAA6AMAAOgDAADoAwAA6AMAAOgDAADoAwAA6AMAAOgDAADoAwAA6AMAAOgDAADoAwAA6AMAAOgDAADoAwAA6AMAAOgDAADoAwAA6AMAAOgDAADoAwAA6AMAAOgDAADoAwAA6AMAAOgDAADoAwAA6AMAAOgDAADoAwAA6AMAAOgDAADoAwAA6AMAAOgDAADoAwAA6AMAAIgTAACIEwAAiBMAAIgTAACIEwAAiBMAAIgTAACIEwAAiBMAAIgTAACIEwAAiBMAAIgTAACIEwAAiBMAAIgTAACIEwAAiBMAAIgTAACIEwAAiBMAAIgTAACIEwAAiBMAAIgTAACIEwAAiBMAAIgTAACIEwAAiBMAAIgTAACIEwAAiBMAAIgTAACIEwAAiBMAAIgTAACIEwAAiBMAAIgTAACIEwAAiBMAAIgTAACIEwAAiBMAAIgTAACIEwAAiBMAAIgTAACIEwAAiBMAAIgTAACIEwAAiBMAAIgTAACIEwAAiBMAAIgTAACIEwAAiBMAAIgTAACIEwAAECcAABAnAAAQJwAAECcAABAnAAAQJwAAECcAABAnAAAQJwAAECcAABAnAAAQJwAAECcAABAnAAAQJwAAECcAABAnAAAQJwAAECcAABAnAAAQJwAAECcAABAnAAAQJwAAECcAABAnAAAQJwAAECcAABAnAAAQJwAAECcAABAnAAAQJwAAECcAABAnAAAQJwAAECcAABAnAAAQJwAAECcAABAnAAAQJwAAECcAABAnAAAQJwAAECcAABAnAAAQJwAAECcAABAnAAAQJwAAECcAABAnAAAQJwAAECcAABAnAAAQJwAAECcAABAnAAAQJwAAECcAABAnAAAQJwAAECcAABAnAAAQJwAAECcAABAnAAAQJwAAECcAABAnAAAQJwAAECcAABAnAAAQJwAAECcAABAnAAAQJwAAECcAABAnAAAQJwAAECcAABAnAAAQJwAAECcAABAnAAAQJwAAECcAABAnAAAQJwAAECcAABAnAAAQJwAAECcAABAnAAAQJwAAECcAABAnAAAQJwAAECcAABAnAAAQJwAAECcAABAnAAAQJwAAECcAABAnAAAQJwAAECcAABAnAAAQJwAAECcAAFDDAABQwwAAUMMAAFDDAABQwwAAUMMAAFDDAABQwwAAUMMAAFDDAABQwwAAUMMAAFDDAABQwwAAUMMAAFDDAABQwwAAUMMAAFDDAABQwwAAUMMAAFDDAABQwwAAUMMAAFDDAABQwwAAUMMAAFDDAABQwwAAUMMAAFDDAABQwwAAUMMAAFDDAABQwwAAUMMAAFDDAABQwwAAUMMAAKCGAQCghgEAoIYBAKCGAQCghgEAoIYBAKCGAQCghgEAoIYBAKCGAQCghgEAoIYBAKCGAQCghgEAoIYBAKCGAQCghgEAoIYBAKCGAQCghgEAoIYBAKCGAQCghgEAoIYBAKCGAQCghgEAoIYBAKCGAQCghgEAoIYBAKCGAQCghgEAoIYBAKCGAQCghgEAoIYBAKCGAQCghgEAoIYBAKCGAQCghgEAoIYBAKCGAQCghgEAoIYBAKCGAQCghgEAoIYBAKCGAQCghgEAoIYBAKCGAQCghgEAoIYBAKCGAQCghgEAoIYBAKCGAQCghgEAoIYBAKCGAQCghgEAoIYBAKCGAQCghgEAoIYBAKCGAQCghgEAoIYBAKCGAQCghgEAoIYBAKCGAQCghgEAoIYBAKCGAQCghgEAoIYBAKCGAQCghgEAoIYBACChBwAgoQcAIKEHACChBwAgoQcAIKEHACChBwAgoQcAIKEHACChBwAgoQcAQEIPAEBCDwBAQg8AQEIPAEBCDwBAQg8AQEIPAEBCDwBAQg8AQEIPAEBCDwBAQg8AQEIPAEBCDwBAQg8AQEIPAEBCDwBAQg8AQEIPAEBCDwCAlpgAgJaYAA==",
          "dtype": "i4"
         },
         "y0": " ",
         "yaxis": "y"
        }
       ],
       "layout": {
        "boxmode": "overlay",
        "legend": {
         "title": {
          "text": "Type"
         },
         "tracegroupgap": 0
        },
        "margin": {
         "t": 60
        },
        "template": {
         "data": {
          "bar": [
           {
            "error_x": {
             "color": "#2a3f5f"
            },
            "error_y": {
             "color": "#2a3f5f"
            },
            "marker": {
             "line": {
              "color": "#E5ECF6",
              "width": 0.5
             },
             "pattern": {
              "fillmode": "overlay",
              "size": 10,
              "solidity": 0.2
             }
            },
            "type": "bar"
           }
          ],
          "barpolar": [
           {
            "marker": {
             "line": {
              "color": "#E5ECF6",
              "width": 0.5
             },
             "pattern": {
              "fillmode": "overlay",
              "size": 10,
              "solidity": 0.2
             }
            },
            "type": "barpolar"
           }
          ],
          "carpet": [
           {
            "aaxis": {
             "endlinecolor": "#2a3f5f",
             "gridcolor": "white",
             "linecolor": "white",
             "minorgridcolor": "white",
             "startlinecolor": "#2a3f5f"
            },
            "baxis": {
             "endlinecolor": "#2a3f5f",
             "gridcolor": "white",
             "linecolor": "white",
             "minorgridcolor": "white",
             "startlinecolor": "#2a3f5f"
            },
            "type": "carpet"
           }
          ],
          "choropleth": [
           {
            "colorbar": {
             "outlinewidth": 0,
             "ticks": ""
            },
            "type": "choropleth"
           }
          ],
          "contour": [
           {
            "colorbar": {
             "outlinewidth": 0,
             "ticks": ""
            },
            "colorscale": [
             [
              0,
              "#0d0887"
             ],
             [
              0.1111111111111111,
              "#46039f"
             ],
             [
              0.2222222222222222,
              "#7201a8"
             ],
             [
              0.3333333333333333,
              "#9c179e"
             ],
             [
              0.4444444444444444,
              "#bd3786"
             ],
             [
              0.5555555555555556,
              "#d8576b"
             ],
             [
              0.6666666666666666,
              "#ed7953"
             ],
             [
              0.7777777777777778,
              "#fb9f3a"
             ],
             [
              0.8888888888888888,
              "#fdca26"
             ],
             [
              1,
              "#f0f921"
             ]
            ],
            "type": "contour"
           }
          ],
          "contourcarpet": [
           {
            "colorbar": {
             "outlinewidth": 0,
             "ticks": ""
            },
            "type": "contourcarpet"
           }
          ],
          "heatmap": [
           {
            "colorbar": {
             "outlinewidth": 0,
             "ticks": ""
            },
            "colorscale": [
             [
              0,
              "#0d0887"
             ],
             [
              0.1111111111111111,
              "#46039f"
             ],
             [
              0.2222222222222222,
              "#7201a8"
             ],
             [
              0.3333333333333333,
              "#9c179e"
             ],
             [
              0.4444444444444444,
              "#bd3786"
             ],
             [
              0.5555555555555556,
              "#d8576b"
             ],
             [
              0.6666666666666666,
              "#ed7953"
             ],
             [
              0.7777777777777778,
              "#fb9f3a"
             ],
             [
              0.8888888888888888,
              "#fdca26"
             ],
             [
              1,
              "#f0f921"
             ]
            ],
            "type": "heatmap"
           }
          ],
          "histogram": [
           {
            "marker": {
             "pattern": {
              "fillmode": "overlay",
              "size": 10,
              "solidity": 0.2
             }
            },
            "type": "histogram"
           }
          ],
          "histogram2d": [
           {
            "colorbar": {
             "outlinewidth": 0,
             "ticks": ""
            },
            "colorscale": [
             [
              0,
              "#0d0887"
             ],
             [
              0.1111111111111111,
              "#46039f"
             ],
             [
              0.2222222222222222,
              "#7201a8"
             ],
             [
              0.3333333333333333,
              "#9c179e"
             ],
             [
              0.4444444444444444,
              "#bd3786"
             ],
             [
              0.5555555555555556,
              "#d8576b"
             ],
             [
              0.6666666666666666,
              "#ed7953"
             ],
             [
              0.7777777777777778,
              "#fb9f3a"
             ],
             [
              0.8888888888888888,
              "#fdca26"
             ],
             [
              1,
              "#f0f921"
             ]
            ],
            "type": "histogram2d"
           }
          ],
          "histogram2dcontour": [
           {
            "colorbar": {
             "outlinewidth": 0,
             "ticks": ""
            },
            "colorscale": [
             [
              0,
              "#0d0887"
             ],
             [
              0.1111111111111111,
              "#46039f"
             ],
             [
              0.2222222222222222,
              "#7201a8"
             ],
             [
              0.3333333333333333,
              "#9c179e"
             ],
             [
              0.4444444444444444,
              "#bd3786"
             ],
             [
              0.5555555555555556,
              "#d8576b"
             ],
             [
              0.6666666666666666,
              "#ed7953"
             ],
             [
              0.7777777777777778,
              "#fb9f3a"
             ],
             [
              0.8888888888888888,
              "#fdca26"
             ],
             [
              1,
              "#f0f921"
             ]
            ],
            "type": "histogram2dcontour"
           }
          ],
          "mesh3d": [
           {
            "colorbar": {
             "outlinewidth": 0,
             "ticks": ""
            },
            "type": "mesh3d"
           }
          ],
          "parcoords": [
           {
            "line": {
             "colorbar": {
              "outlinewidth": 0,
              "ticks": ""
             }
            },
            "type": "parcoords"
           }
          ],
          "pie": [
           {
            "automargin": true,
            "type": "pie"
           }
          ],
          "scatter": [
           {
            "fillpattern": {
             "fillmode": "overlay",
             "size": 10,
             "solidity": 0.2
            },
            "type": "scatter"
           }
          ],
          "scatter3d": [
           {
            "line": {
             "colorbar": {
              "outlinewidth": 0,
              "ticks": ""
             }
            },
            "marker": {
             "colorbar": {
              "outlinewidth": 0,
              "ticks": ""
             }
            },
            "type": "scatter3d"
           }
          ],
          "scattercarpet": [
           {
            "marker": {
             "colorbar": {
              "outlinewidth": 0,
              "ticks": ""
             }
            },
            "type": "scattercarpet"
           }
          ],
          "scattergeo": [
           {
            "marker": {
             "colorbar": {
              "outlinewidth": 0,
              "ticks": ""
             }
            },
            "type": "scattergeo"
           }
          ],
          "scattergl": [
           {
            "marker": {
             "colorbar": {
              "outlinewidth": 0,
              "ticks": ""
             }
            },
            "type": "scattergl"
           }
          ],
          "scattermap": [
           {
            "marker": {
             "colorbar": {
              "outlinewidth": 0,
              "ticks": ""
             }
            },
            "type": "scattermap"
           }
          ],
          "scattermapbox": [
           {
            "marker": {
             "colorbar": {
              "outlinewidth": 0,
              "ticks": ""
             }
            },
            "type": "scattermapbox"
           }
          ],
          "scatterpolar": [
           {
            "marker": {
             "colorbar": {
              "outlinewidth": 0,
              "ticks": ""
             }
            },
            "type": "scatterpolar"
           }
          ],
          "scatterpolargl": [
           {
            "marker": {
             "colorbar": {
              "outlinewidth": 0,
              "ticks": ""
             }
            },
            "type": "scatterpolargl"
           }
          ],
          "scatterternary": [
           {
            "marker": {
             "colorbar": {
              "outlinewidth": 0,
              "ticks": ""
             }
            },
            "type": "scatterternary"
           }
          ],
          "surface": [
           {
            "colorbar": {
             "outlinewidth": 0,
             "ticks": ""
            },
            "colorscale": [
             [
              0,
              "#0d0887"
             ],
             [
              0.1111111111111111,
              "#46039f"
             ],
             [
              0.2222222222222222,
              "#7201a8"
             ],
             [
              0.3333333333333333,
              "#9c179e"
             ],
             [
              0.4444444444444444,
              "#bd3786"
             ],
             [
              0.5555555555555556,
              "#d8576b"
             ],
             [
              0.6666666666666666,
              "#ed7953"
             ],
             [
              0.7777777777777778,
              "#fb9f3a"
             ],
             [
              0.8888888888888888,
              "#fdca26"
             ],
             [
              1,
              "#f0f921"
             ]
            ],
            "type": "surface"
           }
          ],
          "table": [
           {
            "cells": {
             "fill": {
              "color": "#EBF0F8"
             },
             "line": {
              "color": "white"
             }
            },
            "header": {
             "fill": {
              "color": "#C8D4E3"
             },
             "line": {
              "color": "white"
             }
            },
            "type": "table"
           }
          ]
         },
         "layout": {
          "annotationdefaults": {
           "arrowcolor": "#2a3f5f",
           "arrowhead": 0,
           "arrowwidth": 1
          },
          "autotypenumbers": "strict",
          "coloraxis": {
           "colorbar": {
            "outlinewidth": 0,
            "ticks": ""
           }
          },
          "colorscale": {
           "diverging": [
            [
             0,
             "#8e0152"
            ],
            [
             0.1,
             "#c51b7d"
            ],
            [
             0.2,
             "#de77ae"
            ],
            [
             0.3,
             "#f1b6da"
            ],
            [
             0.4,
             "#fde0ef"
            ],
            [
             0.5,
             "#f7f7f7"
            ],
            [
             0.6,
             "#e6f5d0"
            ],
            [
             0.7,
             "#b8e186"
            ],
            [
             0.8,
             "#7fbc41"
            ],
            [
             0.9,
             "#4d9221"
            ],
            [
             1,
             "#276419"
            ]
           ],
           "sequential": [
            [
             0,
             "#0d0887"
            ],
            [
             0.1111111111111111,
             "#46039f"
            ],
            [
             0.2222222222222222,
             "#7201a8"
            ],
            [
             0.3333333333333333,
             "#9c179e"
            ],
            [
             0.4444444444444444,
             "#bd3786"
            ],
            [
             0.5555555555555556,
             "#d8576b"
            ],
            [
             0.6666666666666666,
             "#ed7953"
            ],
            [
             0.7777777777777778,
             "#fb9f3a"
            ],
            [
             0.8888888888888888,
             "#fdca26"
            ],
            [
             1,
             "#f0f921"
            ]
           ],
           "sequentialminus": [
            [
             0,
             "#0d0887"
            ],
            [
             0.1111111111111111,
             "#46039f"
            ],
            [
             0.2222222222222222,
             "#7201a8"
            ],
            [
             0.3333333333333333,
             "#9c179e"
            ],
            [
             0.4444444444444444,
             "#bd3786"
            ],
            [
             0.5555555555555556,
             "#d8576b"
            ],
            [
             0.6666666666666666,
             "#ed7953"
            ],
            [
             0.7777777777777778,
             "#fb9f3a"
            ],
            [
             0.8888888888888888,
             "#fdca26"
            ],
            [
             1,
             "#f0f921"
            ]
           ]
          },
          "colorway": [
           "#636efa",
           "#EF553B",
           "#00cc96",
           "#ab63fa",
           "#FFA15A",
           "#19d3f3",
           "#FF6692",
           "#B6E880",
           "#FF97FF",
           "#FECB52"
          ],
          "font": {
           "color": "#2a3f5f"
          },
          "geo": {
           "bgcolor": "white",
           "lakecolor": "white",
           "landcolor": "#E5ECF6",
           "showlakes": true,
           "showland": true,
           "subunitcolor": "white"
          },
          "hoverlabel": {
           "align": "left"
          },
          "hovermode": "closest",
          "mapbox": {
           "style": "light"
          },
          "paper_bgcolor": "white",
          "plot_bgcolor": "#E5ECF6",
          "polar": {
           "angularaxis": {
            "gridcolor": "white",
            "linecolor": "white",
            "ticks": ""
           },
           "bgcolor": "#E5ECF6",
           "radialaxis": {
            "gridcolor": "white",
            "linecolor": "white",
            "ticks": ""
           }
          },
          "scene": {
           "xaxis": {
            "backgroundcolor": "#E5ECF6",
            "gridcolor": "white",
            "gridwidth": 2,
            "linecolor": "white",
            "showbackground": true,
            "ticks": "",
            "zerolinecolor": "white"
           },
           "yaxis": {
            "backgroundcolor": "#E5ECF6",
            "gridcolor": "white",
            "gridwidth": 2,
            "linecolor": "white",
            "showbackground": true,
            "ticks": "",
            "zerolinecolor": "white"
           },
           "zaxis": {
            "backgroundcolor": "#E5ECF6",
            "gridcolor": "white",
            "gridwidth": 2,
            "linecolor": "white",
            "showbackground": true,
            "ticks": "",
            "zerolinecolor": "white"
           }
          },
          "shapedefaults": {
           "line": {
            "color": "#2a3f5f"
           }
          },
          "ternary": {
           "aaxis": {
            "gridcolor": "white",
            "linecolor": "white",
            "ticks": ""
           },
           "baxis": {
            "gridcolor": "white",
            "linecolor": "white",
            "ticks": ""
           },
           "bgcolor": "#E5ECF6",
           "caxis": {
            "gridcolor": "white",
            "linecolor": "white",
            "ticks": ""
           }
          },
          "title": {
           "x": 0.05
          },
          "xaxis": {
           "automargin": true,
           "gridcolor": "white",
           "linecolor": "white",
           "ticks": "",
           "title": {
            "standoff": 15
           },
           "zerolinecolor": "white",
           "zerolinewidth": 2
          },
          "yaxis": {
           "automargin": true,
           "gridcolor": "white",
           "linecolor": "white",
           "ticks": "",
           "title": {
            "standoff": 15
           },
           "zerolinecolor": "white",
           "zerolinewidth": 2
          }
         }
        },
        "xaxis": {
         "anchor": "y",
         "categoryarray": [
          "Free",
          "Paid"
         ],
         "categoryorder": "array",
         "domain": [
          0,
          1
         ],
         "title": {
          "text": "Type"
         }
        },
        "yaxis": {
         "anchor": "x",
         "domain": [
          0,
          1
         ],
         "title": {
          "text": "Installs"
         },
         "type": "log"
        }
       }
      }
     },
     "metadata": {},
     "output_type": "display_data"
    }
   ],
   "source": [
    "\n",
    "box = px.box(df_apps_clean,y='Installs',x='Type',color='Type',notched=True, points='all')\n",
    "box.update_layout(yaxis=dict(type='log'))\n",
    "box.show()"
   ]
  },
  {
   "cell_type": "markdown",
   "metadata": {
    "id": "Xi2NaEBPVNrP"
   },
   "source": [
    "# Plotly Box Plots: Revenue by App Category\n",
    "\n",
    "**Challenge**: See if you can generate the chart below: \n",
    "\n",
    "<img src=https://imgur.com/v4CiNqX.png>\n",
    "\n",
    "Looking at the hover text, how much does the median app earn in the Tools category? If developing an Android app costs $30,000 or thereabouts, does the average photography app recoup its development costs?\n",
    "\n",
    "Hint: I've used 'min ascending' to sort the categories. "
   ]
  },
  {
   "cell_type": "code",
   "execution_count": 528,
   "metadata": {
    "id": "W1iVoT8Dos7x"
   },
   "outputs": [
    {
     "data": {
      "application/vnd.plotly.v1+json": {
       "config": {
        "plotlyServerURL": "https://plot.ly"
       },
       "data": [
        {
         "alignmentgroup": "True",
         "hovertemplate": "Category=%{x}<br>Revenue_Estimate=%{y}<extra></extra>",
         "legendgroup": "",
         "marker": {
          "color": "#636efa"
         },
         "name": "",
         "notched": false,
         "offsetgroup": "",
         "orientation": "v",
         "showlegend": false,
         "type": "box",
         "x": [
          "GAME",
          "GAME",
          "FAMILY",
          "BUSINESS",
          "LIFESTYLE",
          "FAMILY",
          "PERSONALIZATION",
          "PHOTOGRAPHY",
          "FAMILY",
          "GAME",
          "PRODUCTIVITY",
          "PHOTOGRAPHY",
          "FAMILY",
          "TOOLS",
          "TOOLS",
          "PERSONALIZATION",
          "FAMILY",
          "FAMILY",
          "FAMILY",
          "FAMILY",
          "GAME",
          "TOOLS",
          "PERSONALIZATION",
          "PERSONALIZATION",
          "PERSONALIZATION",
          "TOOLS",
          "FAMILY",
          "FAMILY",
          "BUSINESS",
          "BOOKS_AND_REFERENCE",
          "FAMILY",
          "FAMILY",
          "FAMILY",
          "PERSONALIZATION",
          "PERSONALIZATION",
          "PERSONALIZATION",
          "GAME",
          "PERSONALIZATION",
          "FAMILY",
          "FINANCE",
          "SHOPPING",
          "DATING",
          "PERSONALIZATION",
          "GAME",
          "FAMILY",
          "PRODUCTIVITY",
          "FAMILY",
          "MEDICAL",
          "SPORTS",
          "MEDICAL",
          "PRODUCTIVITY",
          "BUSINESS",
          "PARENTING",
          "LIFESTYLE",
          "FAMILY",
          "TOOLS",
          "MAPS_AND_NAVIGATION",
          "COMMUNICATION",
          "PERSONALIZATION",
          "COMMUNICATION",
          "FAMILY",
          "PERSONALIZATION",
          "FAMILY",
          "FAMILY",
          "FAMILY",
          "TOOLS",
          "FAMILY",
          "SPORTS",
          "FAMILY",
          "MEDICAL",
          "FAMILY",
          "FAMILY",
          "GAME",
          "TOOLS",
          "FAMILY",
          "FAMILY",
          "PERSONALIZATION",
          "BOOKS_AND_REFERENCE",
          "GAME",
          "PERSONALIZATION",
          "GAME",
          "GAME",
          "TOOLS",
          "MEDICAL",
          "TOOLS",
          "TOOLS",
          "PERSONALIZATION",
          "GAME",
          "COMMUNICATION",
          "MEDICAL",
          "SPORTS",
          "PERSONALIZATION",
          "COMMUNICATION",
          "COMMUNICATION",
          "PERSONALIZATION",
          "TOOLS",
          "PERSONALIZATION",
          "PERSONALIZATION",
          "PRODUCTIVITY",
          "MEDICAL",
          "FAMILY",
          "TOOLS",
          "TOOLS",
          "BUSINESS",
          "COMMUNICATION",
          "FAMILY",
          "PERSONALIZATION",
          "PHOTOGRAPHY",
          "MEDICAL",
          "PERSONALIZATION",
          "MEDICAL",
          "COMMUNICATION",
          "PRODUCTIVITY",
          "BOOKS_AND_REFERENCE",
          "TOOLS",
          "WEATHER",
          "FAMILY",
          "FAMILY",
          "MEDICAL",
          "FAMILY",
          "TOOLS",
          "TOOLS",
          "SPORTS",
          "GAME",
          "MEDICAL",
          "PERSONALIZATION",
          "PERSONALIZATION",
          "NEWS_AND_MAGAZINES",
          "COMMUNICATION",
          "TOOLS",
          "MEDICAL",
          "FINANCE",
          "FAMILY",
          "PERSONALIZATION",
          "PERSONALIZATION",
          "MEDICAL",
          "FAMILY",
          "MEDICAL",
          "MEDICAL",
          "FAMILY",
          "FAMILY",
          "FAMILY",
          "GAME",
          "PERSONALIZATION",
          "TOOLS",
          "PERSONALIZATION",
          "GAME",
          "GAME",
          "GAME",
          "FAMILY",
          "FAMILY",
          "PRODUCTIVITY",
          "COMMUNICATION",
          "SPORTS",
          "SPORTS",
          "FAMILY",
          "PERSONALIZATION",
          "MEDICAL",
          "SPORTS",
          "COMMUNICATION",
          "LIFESTYLE",
          "FAMILY",
          "MEDICAL",
          "MEDICAL",
          "TOOLS",
          "PRODUCTIVITY",
          "FINANCE",
          "HEALTH_AND_FITNESS",
          "MEDICAL",
          "PHOTOGRAPHY",
          "FAMILY",
          "FAMILY",
          "PHOTOGRAPHY",
          "SPORTS",
          "ART_AND_DESIGN",
          "FAMILY",
          "PERSONALIZATION",
          "PRODUCTIVITY",
          "HEALTH_AND_FITNESS",
          "MEDICAL",
          "TOOLS",
          "PRODUCTIVITY",
          "GAME",
          "TOOLS",
          "MEDICAL",
          "LIFESTYLE",
          "GAME",
          "MEDICAL",
          "TRAVEL_AND_LOCAL",
          "BUSINESS",
          "MEDICAL",
          "COMMUNICATION",
          "PERSONALIZATION",
          "GAME",
          "TRAVEL_AND_LOCAL",
          "GAME",
          "SPORTS",
          "MEDICAL",
          "FAMILY",
          "MEDICAL",
          "TOOLS",
          "BOOKS_AND_REFERENCE",
          "FAMILY",
          "MEDICAL",
          "MEDICAL",
          "GAME",
          "BUSINESS",
          "TOOLS",
          "FAMILY",
          "MEDICAL",
          "PERSONALIZATION",
          "PHOTOGRAPHY",
          "SPORTS",
          "MAPS_AND_NAVIGATION",
          "PERSONALIZATION",
          "GAME",
          "BOOKS_AND_REFERENCE",
          "EDUCATION",
          "FAMILY",
          "FAMILY",
          "SOCIAL",
          "MEDICAL",
          "TOOLS",
          "SPORTS",
          "FAMILY",
          "FAMILY",
          "TOOLS",
          "WEATHER",
          "VIDEO_PLAYERS",
          "MEDICAL",
          "TOOLS",
          "GAME",
          "PERSONALIZATION",
          "MEDICAL",
          "LIFESTYLE",
          "MEDICAL",
          "DATING",
          "HEALTH_AND_FITNESS",
          "MEDICAL",
          "FAMILY",
          "PRODUCTIVITY",
          "EDUCATION",
          "SPORTS",
          "FAMILY",
          "PERSONALIZATION",
          "PERSONALIZATION",
          "FAMILY",
          "GAME",
          "FINANCE",
          "GAME",
          "MEDICAL",
          "FAMILY",
          "MEDICAL",
          "MEDICAL",
          "TOOLS",
          "TOOLS",
          "TOOLS",
          "TOOLS",
          "PERSONALIZATION",
          "PERSONALIZATION",
          "PERSONALIZATION",
          "PERSONALIZATION",
          "FAMILY",
          "GAME",
          "FAMILY",
          "FAMILY",
          "MEDICAL",
          "SPORTS",
          "LIFESTYLE",
          "FAMILY",
          "FAMILY",
          "TRAVEL_AND_LOCAL",
          "PERSONALIZATION",
          "BOOKS_AND_REFERENCE",
          "FAMILY",
          "MEDICAL",
          "MEDICAL",
          "MEDICAL",
          "MEDICAL",
          "PRODUCTIVITY",
          "SOCIAL",
          "SPORTS",
          "TRAVEL_AND_LOCAL",
          "TOOLS",
          "FAMILY",
          "NEWS_AND_MAGAZINES",
          "ART_AND_DESIGN",
          "GAME",
          "PERSONALIZATION",
          "LIFESTYLE",
          "PERSONALIZATION",
          "LIFESTYLE",
          "MEDICAL",
          "FAMILY",
          "FAMILY",
          "BOOKS_AND_REFERENCE",
          "LIFESTYLE",
          "MEDICAL",
          "MEDICAL",
          "TOOLS",
          "SPORTS",
          "MEDICAL",
          "PHOTOGRAPHY",
          "GAME",
          "SPORTS",
          "FAMILY",
          "SPORTS",
          "TOOLS",
          "LIFESTYLE",
          "FAMILY",
          "COMMUNICATION",
          "COMMUNICATION",
          "COMMUNICATION",
          "FAMILY",
          "FAMILY",
          "TOOLS",
          "MEDICAL",
          "TOOLS",
          "TOOLS",
          "TOOLS",
          "TOOLS",
          "TOOLS",
          "TOOLS",
          "PERSONALIZATION",
          "FAMILY",
          "MEDICAL",
          "MEDICAL",
          "MEDICAL",
          "HEALTH_AND_FITNESS",
          "GAME",
          "FAMILY",
          "FAMILY",
          "PHOTOGRAPHY",
          "PERSONALIZATION",
          "LIFESTYLE",
          "GAME",
          "FAMILY",
          "MEDICAL",
          "FAMILY",
          "BUSINESS",
          "GAME",
          "FAMILY",
          "MEDICAL",
          "FAMILY",
          "MAPS_AND_NAVIGATION",
          "BOOKS_AND_REFERENCE",
          "GAME",
          "PERSONALIZATION",
          "PERSONALIZATION",
          "COMMUNICATION",
          "DATING",
          "FOOD_AND_DRINK",
          "LIFESTYLE",
          "FAMILY",
          "FAMILY",
          "MEDICAL",
          "TRAVEL_AND_LOCAL",
          "TOOLS",
          "TOOLS",
          "TOOLS",
          "PERSONALIZATION",
          "VIDEO_PLAYERS",
          "VIDEO_PLAYERS",
          "GAME",
          "FAMILY",
          "FAMILY",
          "FAMILY",
          "FAMILY",
          "PERSONALIZATION",
          "WEATHER",
          "TOOLS",
          "PERSONALIZATION",
          "TOOLS",
          "ART_AND_DESIGN",
          "PERSONALIZATION",
          "PERSONALIZATION",
          "MEDICAL",
          "TOOLS",
          "FAMILY",
          "FINANCE",
          "TOOLS",
          "GAME",
          "FAMILY",
          "FAMILY",
          "TOOLS",
          "TOOLS",
          "GAME",
          "TOOLS",
          "HEALTH_AND_FITNESS",
          "GAME",
          "MEDICAL",
          "COMMUNICATION",
          "FAMILY",
          "GAME",
          "FAMILY",
          "MEDICAL",
          "PERSONALIZATION",
          "FAMILY",
          "SPORTS",
          "FAMILY",
          "TRAVEL_AND_LOCAL",
          "TOOLS",
          "SHOPPING",
          "TOOLS",
          "FAMILY",
          "FAMILY",
          "FAMILY",
          "FAMILY",
          "FAMILY",
          "FAMILY",
          "GAME",
          "MAPS_AND_NAVIGATION",
          "PERSONALIZATION",
          "GAME",
          "FAMILY",
          "FAMILY",
          "FINANCE",
          "TOOLS",
          "TOOLS",
          "FAMILY",
          "FAMILY",
          "MEDICAL",
          "GAME",
          "FAMILY",
          "COMMUNICATION",
          "COMMUNICATION",
          "FAMILY",
          "FAMILY",
          "MEDICAL",
          "MEDICAL",
          "MEDICAL",
          "PHOTOGRAPHY",
          "TOOLS",
          "TOOLS",
          "PERSONALIZATION",
          "PERSONALIZATION",
          "FAMILY",
          "GAME",
          "SPORTS",
          "MEDICAL",
          "GAME",
          "FAMILY",
          "AUTO_AND_VEHICLES",
          "HEALTH_AND_FITNESS",
          "FAMILY",
          "FAMILY",
          "MEDICAL",
          "PHOTOGRAPHY",
          "SPORTS",
          "TOOLS",
          "VIDEO_PLAYERS",
          "FAMILY",
          "FAMILY",
          "PRODUCTIVITY",
          "PERSONALIZATION",
          "PRODUCTIVITY",
          "PERSONALIZATION",
          "FAMILY",
          "FAMILY",
          "GAME",
          "MEDICAL",
          "FAMILY",
          "FAMILY",
          "FOOD_AND_DRINK",
          "FAMILY",
          "FAMILY",
          "FAMILY",
          "TOOLS",
          "HEALTH_AND_FITNESS",
          "PARENTING",
          "FAMILY",
          "GAME",
          "HEALTH_AND_FITNESS",
          "TRAVEL_AND_LOCAL",
          "GAME",
          "WEATHER",
          "FAMILY",
          "MEDICAL",
          "GAME",
          "GAME",
          "MEDICAL",
          "PERSONALIZATION",
          "FAMILY",
          "FAMILY",
          "FAMILY",
          "FAMILY",
          "GAME",
          "PHOTOGRAPHY",
          "FAMILY",
          "BUSINESS",
          "FAMILY",
          "GAME",
          "FAMILY",
          "FAMILY",
          "WEATHER",
          "EDUCATION",
          "COMMUNICATION",
          "ENTERTAINMENT",
          "HEALTH_AND_FITNESS",
          "HEALTH_AND_FITNESS",
          "GAME",
          "GAME",
          "FAMILY",
          "FAMILY",
          "FAMILY",
          "PHOTOGRAPHY",
          "SPORTS",
          "TRAVEL_AND_LOCAL",
          "TOOLS",
          "TOOLS",
          "PERSONALIZATION",
          "PERSONALIZATION",
          "PRODUCTIVITY",
          "PRODUCTIVITY",
          "MAPS_AND_NAVIGATION",
          "GAME",
          "GAME",
          "PRODUCTIVITY",
          "TOOLS",
          "WEATHER",
          "FAMILY",
          "GAME",
          "FAMILY",
          "GAME",
          "TOOLS",
          "GAME",
          "FAMILY",
          "FAMILY",
          "HEALTH_AND_FITNESS",
          "FAMILY",
          "GAME",
          "FAMILY",
          "PERSONALIZATION",
          "BUSINESS",
          "FINANCE",
          "FAMILY",
          "PHOTOGRAPHY",
          "GAME",
          "FAMILY",
          "FAMILY",
          "FAMILY",
          "FAMILY",
          "GAME",
          "FAMILY",
          "GAME",
          "COMMUNICATION",
          "FAMILY",
          "ENTERTAINMENT",
          "COMMUNICATION",
          "GAME",
          "GAME",
          "GAME",
          "GAME",
          "GAME",
          "GAME",
          "PERSONALIZATION",
          "FAMILY",
          "PERSONALIZATION",
          "FAMILY",
          "EDUCATION",
          "WEATHER",
          "PHOTOGRAPHY",
          "PRODUCTIVITY",
          "GAME",
          "FAMILY",
          "FAMILY",
          "PRODUCTIVITY",
          "PERSONALIZATION",
          "GAME",
          "GAME",
          "FAMILY",
          "COMMUNICATION",
          "TOOLS",
          "GAME",
          "PERSONALIZATION",
          "PHOTOGRAPHY",
          "SPORTS",
          "GAME",
          "FAMILY",
          "GAME",
          "GAME",
          "FAMILY",
          "GAME",
          "FAMILY",
          "GAME",
          "LIFESTYLE",
          "FAMILY",
          "GAME",
          "FAMILY"
         ],
         "x0": " ",
         "xaxis": "x",
         "y": {
          "bdata": "16NwPQrX9z+uR+F6FK7vP83MzMzMvGJAZ2ZmZmbmOEBmZmZmZmY+QM3MzMzMzC1AzczMzMzMI0A0MzMzM3NBQGdmZmZm5j1AzczMzMzMI0DNzMzMzMwjQDQzMzMz80hAzczMzMzMI0BnZmZmZuY9QM3MzMzMzCNAzczMzMzMI0BmZmZmZr5yQMzMzMzM/GhANDMzMzPzSEA0MzMzM/NIQAAAAAAA4FhAAAAAAACwYkAAAAAAAMBIQAAAAAAAwEhAAAAAAADASEAAAAAAAABWQAAAAAAAsGJAAAAAAACwYkAAAAAAABh8QAAAAAAA4FVAAAAAAACgUkAAAAAAAKBSQAAAAAAAwEhAAAAAAADASEAAAAAAAMBYQAAAAAAAwFhAAAAAAADAWEAAAAAAAMBYQAAAAAAATJRAAAAAAAAwf0ABAAAAACBvQAAAAAAA+IhAAAAAAADgaEAAAAAAADB/QAAAAAAAwFhAAAAAAAAwf0AAAAAAAPB4QAAAAAAAsHJAAAAAAABAeEAAAAAAALByQAAAAAAAsHJAAAAAAABMlEAAAAAAALB8QAAAAAAAwFhAAAAAAAA4j0AAAAAAAPB4QAAAAAAAOI9AAAAAAACgYkAAAAAAAKBiQAAAAAAAoGJAAAAAAACgYkAAAAAAAMBYQAAAAAAAsHJAAAAAAADgaEAAAAAAADB/QAAAAAAAoGJAAAAAAADAWEAAAAAAANB1QAAAAAAA4GhAAAAAAABMlEAAAAAAAMBYQAAAAAAAwFhAAAAAAADAWEAAAAAAAOBoQAAAAAAAMH9AAAAAAADweEAAAAAAAMBYQAAAAAAA8HhAAAAAAADglUAAAAAAAKBiQAAAAAAAEHxAAAAAAADgaEAAAAAAAMBYQAAAAAAA2IVAAAAAAAC4gkAAAAAAAPB4QAEAAAAAIG9AAAAAAADAWEAAAAAAAKBiQAAAAAAAPq9AAAAAAADgckAAAAAAAKBiQAAAAAAAoGJAAAAAAADAWEAAAAAAAMBYQAAAAAAAMH9AAAAAAACgYkAAAAAAAMBYQAAAAAAASIRAAAAAAABmp0AAAAAAAFyXQAAAAAAALJ9AAAAAAADwfkAAAAAAgJHBQAAAAAAA8H5AAAAAAAAYj0AAAAAAAEiHQAAAAAAASIdAAAAAAAAsn0AAAAAAAEiHQAAAAAAAXJdAAAAAAAB+o0AAAAAAAI+xQAAAAAAA8H5AAAAAAADwfkAAAAAAABiPQAAAAAAAdJNAAAAAAAB+o0AAAAAAAPB+QAAAAAAAGI9AAAAAAAAYj0AAAAAAAPB+QAAAAAAAXJdAAAAAAACKoUAAAAAAAESbQAAAAAAAQI9AAAAAAABIh0AAAAAAAFyXQAAAAAAALJ9AAAAAAAAsn0AAAAAAADu/QAAAAAAALJ9AAAAAAABcl0AAAAAAAEiHQAAAAAAA8H5AAAAAAACDw0AAAAAAAFynQAAAAAAAfrNAAAAAAACDw0AAAAAAAHSjQAAAAAAAd8VAAAAAAABcp0AAAAAAAPCOQAAAAAAAGJ9AAAAAAAAYn0AAAAAAAPCOQAAAAAAALK9AAAAAAAAomUAAAAAAAPCOQAAAAAAAGJ9AAAAAAAB0o0AAAAAAAMKwQAAAAAAA8I5AAAAAAAAsr0AAAAAAAPCOQAAAAAAAXKdAAAAAAABIl0AAAAAAADLOQAAAAAAAGJ9AAAAAAABcp0AAAAAAAH6zQAAAAAAAQr1AAAAAAAAsr0AAAAAAAHK1QAAAAAAAdKNAAAAAAABcp0AAAAAAABifQAAAAAAAfrNAAAAAAAB+s0AAAAAAgIXTQAAAAAAAXKdAAAAAAAAYn0AAAAAAAIPDQAAAAAAA8I5AAAAAAAAYn0AAAAAAAFynQAAAAAAAkJpAAAAAAADwjkAAAAAAADa/QAAAAACASd1AAAAAAABcp0AAAAAAADa/QAAAAAAA8I5AAAAAAABIl0AAAAAAAFynQAAAAAAAfrNAAAAAAAB0o0AAAAAAYIfzQAAAAAAAAKRAAAAAAAAsr0AAAAAAgIXTQAAAAAAAdKNAAAAAAADwjkAAAAAAAPCOQAAAAAAAlcBAAAAAAABOu0AAAAAAAFynQAAAAAAA8I5AAAAAAABcp0AAAAAAAHCXQAAAAAAAfrNAAAAAAAAYn0AAAAAAAOiyQAAAAAAAR81AAAAAAIBJ3UAAAAAAAH6zQAAAAAAAfrNAAAAAAAAsr0AAAAAAAPLSQAAAAADAmOBAAAAAAABIl0AAAAAAAFynQAAAAAAAXKdAAAAAAADwjkAAAAAAAPCOQAAAAAAAGJ9AAAAAAAAQqEAAAAAAAGa3QAAAAAAALK9AAAAAAABcp0AAAAAAAPCOQAAAAAAAGJ9AAAAAAABmt0AAAAAAAHSjQAAAAAAA8I5AAAAAAADwjkAAAAAAAPCOQAAAAAAATrtAAAAAAADwjkAAAAAAgJfQQAAAAAAA8I5AAAAAAABEq0AAAAAAAJCaQAAAAAAALK9AAAAAAMCM4kAAAAAAAIPDQAAAAAAATrtAAAAAAAAYn0AAAAAAACyvQAAAAAAAiMNAAAAAAAAolEAAAAAAACyvQAAAAAAAirFAAAAAAABcp0AAAAAAAHSjQAAAAAAA8I5AAAAAAAB+s0AAAAAAAPCOQAAAAAAALK9AAAAAAAAYn0AAAAAAAEK9QAAAAAAA8I5AAAAAAAB3xUAAAAAAAGa3QAAAAAAA8I5AAAAAAABIl0AAAAAAAEfNQAAAAAAAfrNAAAAAAAB+s0AAAAAAAPCOQAAAAAAAfrNAAAAAAAAsr0AAAAAAgF3YQAAAAAAAVrNAAAAAAIDs1UAAAAAAgD/dQAAAAACAe9NAAAAAAABvw0AAAAAAgHvTQAAAAACAXdhAAAAAAABvw0AAAAAAgHvTQAAAAAAAVrNAAQAAAAAzzUAAAAAAABq9QAEAAAAAUchAAAAAAIB700AAAAAAgHvTQAAAAACAe9NAAAAAAIB700AAAAAAAFazQAAAAAAAb8NAAQAAAAAzzUAAAAAAAFazQAEAAAAAM81AAAAAAABWs0AAAAAAAG/DQAAAAADAEOFAAAAAAABvw0AAAAAAAFazQAAAAAAAGr1AAQAAAAAzzUAAAAAAgD/dQAEAAAAAM81AAQAAAAAzzUAAAAAAAHbWQAAAAAAAb8NAAAAAAGBM8kAAAAAAAFazQAAAAAAAVrNAAAAAAABWs0ABAAAAADPNQAEAAAAAM81AAAAAAABvw0ABAAAAADPNQAAAAACAXdhAAAAAAACIs0AAAAAAYEzyQAEAAAAAUchAAAAAAABWs0AAAAAAgF3YQAAAAAAAVrNAAAAAAAAavUAAAAAAgHvTQAEAAAAAM81AAAAAAIBd2EAAAAAAgHvTQAAAAACAXdhAAAAAAIBd2EAAAAAAgF3YQAAAAACAXdhAAAAAAIBd2EAAAAAAAIizQAAAAADAEOFAAQAAAAAz3UAAAAAAwGP4QP////9fgQ5BAQAAAAAz3UAAAAAAgHvjQAAAAAAAVsNAAAAAAIB740AAAAAAgHvjQAAAAAAAb9NAAAAAAABWw0AAAAAAwIHzQAAAAACAXehAAQAAAAAz3UAAAAAAAGr4QAEAAAAAM91AAQAAAAAz3UABAAAAADPdQAAAAABgTAJBAAAAAMCB80AAAAAAwLb/QAAAAAAAVsNAAAAAAIDs5UD/////X70EQQAAAAAAVsNAAAAAAABWw0AAAAAAgF3oQAAAAACAe+NAAAAAAIAK4UABAAAAAFHYQAEAAAAAM91AAAAAAAAazUAAAAAAwBDxQAAAAAAAb9NAAAAAAABq2EAAAAAAAAvjQAAAAAAAz9xAAAAAAABWw0AAAAAAABrNQAAAAAAAb9NAAAAAAMCB80ABAAAAADPdQAEAAAAAM91AAAAAAIBd6EAAAAAAAG/TQAAAAAAAVsNAAQAAAAAz3UABAAAAADPdQAAAAAAAb9NAAAAAAAA900AAAAAAAG/TQAAAAADAY/hAAQAAAAAz3UAAAAAAgM7qQAAAAAAABOBAAAAAAABWw0ABAAAAADPdQAAAAACAXehAAQAAAAAz3UAAAAAAYEwCQQEAAAAAM91AAQAAAAAz3UABAAAAADPdQP/////f9QVBAAAAAABWw0AAAAAAwBDxQAAAAACAXehAAAAAAIB740ABAAAAADPdQAEAAAAAM91AAAAAAIBd6EAAAAAAAHDHQAEAAAAAM91AAAAAAABv00AAAAAAgF3oQAAAAACAXehAAAAAAABWw0AAAAAAgD/tQAAAAAAAS9lAAQAAAAAz3UAAAAAAAG/TQAAAAACAe+NAAAAAAIBd6EAAAAAAgHvjQAEAAAAAM91AAAAAAIBd6EABAAAAADPdQAAAAACAXehAAQAAAAAz3UAAAAAAAFbDQAAAAACAe+NAAQAAAABR2EAAAAAAAFbDQP////9fLgdBAAAAAABv00AAAAAAAG/TQAAAAAAADs9AAAAAAIB740AAAAAAwEX9QAAAAAAAb9NAAAAAAABv00ABAAAAADPdQAAAAAAAVsNAAAAAAMBj+EAAAAAAgHvjQAAAAAAAVsNAAQAAAAAz3UAAAAAAAG/TQAAAAACAXehAAAAAAABv00ABAAAAADPdQAAAAAAAVsNAAAAAAABv00AAAAAAgCvoQAAAAACAK+hAAAAAAGzhNkEAAAAA4D8CQQAAAADASvhAAAAAAOA/AkEAAAAAwEr4QAAAAADASvhAAAAAAOA/AkEAAAAA4HQOQQAAAABgWghBAAAAAMBK+EAAAAAAYFoIQQAAAADgPwJBAAAAALBHEkH/////l4AuQQAAAACwfB5BAAAAAOA/AkEBAAAAQGX+QAAAAABAMPJAAAAAAIAr6EAAAAAA4D8CQQAAAADgPwJBAAAAAMBK+EAAAAAAmEsiQQAAAADgdA5BAAAAAGBaCEEAAAAA4HQOQQAAAADgPwJBAAAAAOA/AkH/////Hx0NQQAAAADgPwJBAAAAAOA/AkEAAAAA4HQOQQAAAADgdA5BAAAAAOB0DkEAAAAAwEr4QAEAAABAZf5AAAAAAOB0DkEAAAAAYFoYQQAAAABgWhhBAAAAANwQQ0EAAAAA4HQeQQAAAACAK/hAAAAAAEB3K0EAAAAAgCv4QAAAAADgPxJBAAAAAOA/EkEAAAAA4D8SQQAAAACwfC5BAAAAAOA/EkEAAAAAQDACQQAAAAB43zZBAAAAAOB0HkEAAAAAMGIoQQAAAADASghBAAAAAIAr+EAAAAAAgCv4QAAAAACgZxtBAAAAAGBaGEEAAAAAYFoYQQAAAADgdB5BAAAAAOA/EkEAAAAA4D8SQQAAAADgPxJBAAAAAOA/EkEAAAAAYFoYQQAAAADgdB5BAAAAAOB0HkEAAAAA4BsYQQAAAABwbytBAAAAAHBvK0EBAAAAQGUOQQAAAABgWhhBAAAAAKBnG0EAAAAAwEoIQQAAAACwRyJBAAAAAOB0HkEAAAAAmEsyQQAAAADgdB5BAAAAALB8LkEAAAAAoGcbQQAAAAAgTRVBAAAAAOA/EkEAAAAA4HQeQQAAAADgdB5BAAAAAOB0HkEAAAAAwEoIQQAAAACgZxtBAAAAAGBaGEEAAAAA4D8SQQAAAADYWDVBAAAAACBNFUEAAAAAsHwuQQAAAADgdB5BAAAAAOA/EkEAAAAA4D8SQQAAAADgdB5BAAAAAOA/EkEAAAAA4D8SQQAAAADgPxJBAAAAAOA/EkEAAAAA4D8SQQAAAACwfC5BAAAAAIAr+EAAAAAAwEoIQQAAAADgPxJBAAAAAEAwAkEAAAAA8FQlQQAAAABAsxFBAAAAAOA/EkEAAAAA4D8SQQAAAABgWhhBAAAAAOA/EkEAAAAA4HQeQQAAAADgPxJBAAAAAOA/EkEAAAAAwEoIQQAAAACwRyJBAAAAAOB0HkEAAAAA2M82QQAAAABI/zJBAAAAAGA2HkEAAAAA+HA+QQAAAACc2UZBAAAAANjPNkEAAAAA2M82QQAAAABwXS5BAAAAANjPNkEAAAAADAlDQQAAAABwXS5BAAAAAEj/QkEAAAAAYDYuQQAAAAAMCVNBAAAAANjPRkEAAAAA2M9GQQAAAADYz0ZBAAAAACyqWkEAAAAAYDYuQQAAAACc2VZBAAAAAHBdPkEAAAAA2M9GQQAAAABgNi5BAAAAAGA2LkEAAAAAYDYuQQAAAABgNi5BAAAAAGA2LkEAAAAA2M9GQQAAAABgNi5BAAAAAJzZVkEAAAAAcF0+QQAAAAD84WJBAAAAgFuqkEE=",
          "dtype": "f8"
         },
         "y0": " ",
         "yaxis": "y"
        }
       ],
       "layout": {
        "boxmode": "group",
        "legend": {
         "tracegroupgap": 0
        },
        "template": {
         "data": {
          "bar": [
           {
            "error_x": {
             "color": "#2a3f5f"
            },
            "error_y": {
             "color": "#2a3f5f"
            },
            "marker": {
             "line": {
              "color": "#E5ECF6",
              "width": 0.5
             },
             "pattern": {
              "fillmode": "overlay",
              "size": 10,
              "solidity": 0.2
             }
            },
            "type": "bar"
           }
          ],
          "barpolar": [
           {
            "marker": {
             "line": {
              "color": "#E5ECF6",
              "width": 0.5
             },
             "pattern": {
              "fillmode": "overlay",
              "size": 10,
              "solidity": 0.2
             }
            },
            "type": "barpolar"
           }
          ],
          "carpet": [
           {
            "aaxis": {
             "endlinecolor": "#2a3f5f",
             "gridcolor": "white",
             "linecolor": "white",
             "minorgridcolor": "white",
             "startlinecolor": "#2a3f5f"
            },
            "baxis": {
             "endlinecolor": "#2a3f5f",
             "gridcolor": "white",
             "linecolor": "white",
             "minorgridcolor": "white",
             "startlinecolor": "#2a3f5f"
            },
            "type": "carpet"
           }
          ],
          "choropleth": [
           {
            "colorbar": {
             "outlinewidth": 0,
             "ticks": ""
            },
            "type": "choropleth"
           }
          ],
          "contour": [
           {
            "colorbar": {
             "outlinewidth": 0,
             "ticks": ""
            },
            "colorscale": [
             [
              0,
              "#0d0887"
             ],
             [
              0.1111111111111111,
              "#46039f"
             ],
             [
              0.2222222222222222,
              "#7201a8"
             ],
             [
              0.3333333333333333,
              "#9c179e"
             ],
             [
              0.4444444444444444,
              "#bd3786"
             ],
             [
              0.5555555555555556,
              "#d8576b"
             ],
             [
              0.6666666666666666,
              "#ed7953"
             ],
             [
              0.7777777777777778,
              "#fb9f3a"
             ],
             [
              0.8888888888888888,
              "#fdca26"
             ],
             [
              1,
              "#f0f921"
             ]
            ],
            "type": "contour"
           }
          ],
          "contourcarpet": [
           {
            "colorbar": {
             "outlinewidth": 0,
             "ticks": ""
            },
            "type": "contourcarpet"
           }
          ],
          "heatmap": [
           {
            "colorbar": {
             "outlinewidth": 0,
             "ticks": ""
            },
            "colorscale": [
             [
              0,
              "#0d0887"
             ],
             [
              0.1111111111111111,
              "#46039f"
             ],
             [
              0.2222222222222222,
              "#7201a8"
             ],
             [
              0.3333333333333333,
              "#9c179e"
             ],
             [
              0.4444444444444444,
              "#bd3786"
             ],
             [
              0.5555555555555556,
              "#d8576b"
             ],
             [
              0.6666666666666666,
              "#ed7953"
             ],
             [
              0.7777777777777778,
              "#fb9f3a"
             ],
             [
              0.8888888888888888,
              "#fdca26"
             ],
             [
              1,
              "#f0f921"
             ]
            ],
            "type": "heatmap"
           }
          ],
          "histogram": [
           {
            "marker": {
             "pattern": {
              "fillmode": "overlay",
              "size": 10,
              "solidity": 0.2
             }
            },
            "type": "histogram"
           }
          ],
          "histogram2d": [
           {
            "colorbar": {
             "outlinewidth": 0,
             "ticks": ""
            },
            "colorscale": [
             [
              0,
              "#0d0887"
             ],
             [
              0.1111111111111111,
              "#46039f"
             ],
             [
              0.2222222222222222,
              "#7201a8"
             ],
             [
              0.3333333333333333,
              "#9c179e"
             ],
             [
              0.4444444444444444,
              "#bd3786"
             ],
             [
              0.5555555555555556,
              "#d8576b"
             ],
             [
              0.6666666666666666,
              "#ed7953"
             ],
             [
              0.7777777777777778,
              "#fb9f3a"
             ],
             [
              0.8888888888888888,
              "#fdca26"
             ],
             [
              1,
              "#f0f921"
             ]
            ],
            "type": "histogram2d"
           }
          ],
          "histogram2dcontour": [
           {
            "colorbar": {
             "outlinewidth": 0,
             "ticks": ""
            },
            "colorscale": [
             [
              0,
              "#0d0887"
             ],
             [
              0.1111111111111111,
              "#46039f"
             ],
             [
              0.2222222222222222,
              "#7201a8"
             ],
             [
              0.3333333333333333,
              "#9c179e"
             ],
             [
              0.4444444444444444,
              "#bd3786"
             ],
             [
              0.5555555555555556,
              "#d8576b"
             ],
             [
              0.6666666666666666,
              "#ed7953"
             ],
             [
              0.7777777777777778,
              "#fb9f3a"
             ],
             [
              0.8888888888888888,
              "#fdca26"
             ],
             [
              1,
              "#f0f921"
             ]
            ],
            "type": "histogram2dcontour"
           }
          ],
          "mesh3d": [
           {
            "colorbar": {
             "outlinewidth": 0,
             "ticks": ""
            },
            "type": "mesh3d"
           }
          ],
          "parcoords": [
           {
            "line": {
             "colorbar": {
              "outlinewidth": 0,
              "ticks": ""
             }
            },
            "type": "parcoords"
           }
          ],
          "pie": [
           {
            "automargin": true,
            "type": "pie"
           }
          ],
          "scatter": [
           {
            "fillpattern": {
             "fillmode": "overlay",
             "size": 10,
             "solidity": 0.2
            },
            "type": "scatter"
           }
          ],
          "scatter3d": [
           {
            "line": {
             "colorbar": {
              "outlinewidth": 0,
              "ticks": ""
             }
            },
            "marker": {
             "colorbar": {
              "outlinewidth": 0,
              "ticks": ""
             }
            },
            "type": "scatter3d"
           }
          ],
          "scattercarpet": [
           {
            "marker": {
             "colorbar": {
              "outlinewidth": 0,
              "ticks": ""
             }
            },
            "type": "scattercarpet"
           }
          ],
          "scattergeo": [
           {
            "marker": {
             "colorbar": {
              "outlinewidth": 0,
              "ticks": ""
             }
            },
            "type": "scattergeo"
           }
          ],
          "scattergl": [
           {
            "marker": {
             "colorbar": {
              "outlinewidth": 0,
              "ticks": ""
             }
            },
            "type": "scattergl"
           }
          ],
          "scattermap": [
           {
            "marker": {
             "colorbar": {
              "outlinewidth": 0,
              "ticks": ""
             }
            },
            "type": "scattermap"
           }
          ],
          "scattermapbox": [
           {
            "marker": {
             "colorbar": {
              "outlinewidth": 0,
              "ticks": ""
             }
            },
            "type": "scattermapbox"
           }
          ],
          "scatterpolar": [
           {
            "marker": {
             "colorbar": {
              "outlinewidth": 0,
              "ticks": ""
             }
            },
            "type": "scatterpolar"
           }
          ],
          "scatterpolargl": [
           {
            "marker": {
             "colorbar": {
              "outlinewidth": 0,
              "ticks": ""
             }
            },
            "type": "scatterpolargl"
           }
          ],
          "scatterternary": [
           {
            "marker": {
             "colorbar": {
              "outlinewidth": 0,
              "ticks": ""
             }
            },
            "type": "scatterternary"
           }
          ],
          "surface": [
           {
            "colorbar": {
             "outlinewidth": 0,
             "ticks": ""
            },
            "colorscale": [
             [
              0,
              "#0d0887"
             ],
             [
              0.1111111111111111,
              "#46039f"
             ],
             [
              0.2222222222222222,
              "#7201a8"
             ],
             [
              0.3333333333333333,
              "#9c179e"
             ],
             [
              0.4444444444444444,
              "#bd3786"
             ],
             [
              0.5555555555555556,
              "#d8576b"
             ],
             [
              0.6666666666666666,
              "#ed7953"
             ],
             [
              0.7777777777777778,
              "#fb9f3a"
             ],
             [
              0.8888888888888888,
              "#fdca26"
             ],
             [
              1,
              "#f0f921"
             ]
            ],
            "type": "surface"
           }
          ],
          "table": [
           {
            "cells": {
             "fill": {
              "color": "#EBF0F8"
             },
             "line": {
              "color": "white"
             }
            },
            "header": {
             "fill": {
              "color": "#C8D4E3"
             },
             "line": {
              "color": "white"
             }
            },
            "type": "table"
           }
          ]
         },
         "layout": {
          "annotationdefaults": {
           "arrowcolor": "#2a3f5f",
           "arrowhead": 0,
           "arrowwidth": 1
          },
          "autotypenumbers": "strict",
          "coloraxis": {
           "colorbar": {
            "outlinewidth": 0,
            "ticks": ""
           }
          },
          "colorscale": {
           "diverging": [
            [
             0,
             "#8e0152"
            ],
            [
             0.1,
             "#c51b7d"
            ],
            [
             0.2,
             "#de77ae"
            ],
            [
             0.3,
             "#f1b6da"
            ],
            [
             0.4,
             "#fde0ef"
            ],
            [
             0.5,
             "#f7f7f7"
            ],
            [
             0.6,
             "#e6f5d0"
            ],
            [
             0.7,
             "#b8e186"
            ],
            [
             0.8,
             "#7fbc41"
            ],
            [
             0.9,
             "#4d9221"
            ],
            [
             1,
             "#276419"
            ]
           ],
           "sequential": [
            [
             0,
             "#0d0887"
            ],
            [
             0.1111111111111111,
             "#46039f"
            ],
            [
             0.2222222222222222,
             "#7201a8"
            ],
            [
             0.3333333333333333,
             "#9c179e"
            ],
            [
             0.4444444444444444,
             "#bd3786"
            ],
            [
             0.5555555555555556,
             "#d8576b"
            ],
            [
             0.6666666666666666,
             "#ed7953"
            ],
            [
             0.7777777777777778,
             "#fb9f3a"
            ],
            [
             0.8888888888888888,
             "#fdca26"
            ],
            [
             1,
             "#f0f921"
            ]
           ],
           "sequentialminus": [
            [
             0,
             "#0d0887"
            ],
            [
             0.1111111111111111,
             "#46039f"
            ],
            [
             0.2222222222222222,
             "#7201a8"
            ],
            [
             0.3333333333333333,
             "#9c179e"
            ],
            [
             0.4444444444444444,
             "#bd3786"
            ],
            [
             0.5555555555555556,
             "#d8576b"
            ],
            [
             0.6666666666666666,
             "#ed7953"
            ],
            [
             0.7777777777777778,
             "#fb9f3a"
            ],
            [
             0.8888888888888888,
             "#fdca26"
            ],
            [
             1,
             "#f0f921"
            ]
           ]
          },
          "colorway": [
           "#636efa",
           "#EF553B",
           "#00cc96",
           "#ab63fa",
           "#FFA15A",
           "#19d3f3",
           "#FF6692",
           "#B6E880",
           "#FF97FF",
           "#FECB52"
          ],
          "font": {
           "color": "#2a3f5f"
          },
          "geo": {
           "bgcolor": "white",
           "lakecolor": "white",
           "landcolor": "#E5ECF6",
           "showlakes": true,
           "showland": true,
           "subunitcolor": "white"
          },
          "hoverlabel": {
           "align": "left"
          },
          "hovermode": "closest",
          "mapbox": {
           "style": "light"
          },
          "paper_bgcolor": "white",
          "plot_bgcolor": "#E5ECF6",
          "polar": {
           "angularaxis": {
            "gridcolor": "white",
            "linecolor": "white",
            "ticks": ""
           },
           "bgcolor": "#E5ECF6",
           "radialaxis": {
            "gridcolor": "white",
            "linecolor": "white",
            "ticks": ""
           }
          },
          "scene": {
           "xaxis": {
            "backgroundcolor": "#E5ECF6",
            "gridcolor": "white",
            "gridwidth": 2,
            "linecolor": "white",
            "showbackground": true,
            "ticks": "",
            "zerolinecolor": "white"
           },
           "yaxis": {
            "backgroundcolor": "#E5ECF6",
            "gridcolor": "white",
            "gridwidth": 2,
            "linecolor": "white",
            "showbackground": true,
            "ticks": "",
            "zerolinecolor": "white"
           },
           "zaxis": {
            "backgroundcolor": "#E5ECF6",
            "gridcolor": "white",
            "gridwidth": 2,
            "linecolor": "white",
            "showbackground": true,
            "ticks": "",
            "zerolinecolor": "white"
           }
          },
          "shapedefaults": {
           "line": {
            "color": "#2a3f5f"
           }
          },
          "ternary": {
           "aaxis": {
            "gridcolor": "white",
            "linecolor": "white",
            "ticks": ""
           },
           "baxis": {
            "gridcolor": "white",
            "linecolor": "white",
            "ticks": ""
           },
           "bgcolor": "#E5ECF6",
           "caxis": {
            "gridcolor": "white",
            "linecolor": "white",
            "ticks": ""
           }
          },
          "title": {
           "x": 0.05
          },
          "xaxis": {
           "automargin": true,
           "gridcolor": "white",
           "linecolor": "white",
           "ticks": "",
           "title": {
            "standoff": 15
           },
           "zerolinecolor": "white",
           "zerolinewidth": 2
          },
          "yaxis": {
           "automargin": true,
           "gridcolor": "white",
           "linecolor": "white",
           "ticks": "",
           "title": {
            "standoff": 15
           },
           "zerolinecolor": "white",
           "zerolinewidth": 2
          }
         }
        },
        "title": {
         "text": "How Much Can Paid Apps Earn"
        },
        "xaxis": {
         "anchor": "y",
         "categoryorder": "min ascending",
         "domain": [
          0,
          1
         ],
         "title": {
          "text": "Category"
         }
        },
        "yaxis": {
         "anchor": "x",
         "domain": [
          0,
          1
         ],
         "title": {
          "text": "Paid App Ballpark Revenue"
         },
         "type": "log"
        }
       }
      }
     },
     "metadata": {},
     "output_type": "display_data"
    }
   ],
   "source": [
    "df_paid = df_apps_clean[df_apps_clean['Type']== 'Paid']\n",
    "\n",
    "box = px.box(df_paid, x='Category',y='Revenue_Estimate',title=\"How Much Can Paid Apps Earn\")\n",
    "box.update_layout(yaxis_title= \"Paid App Ballpark Revenue\", xaxis_title='Category', xaxis={'categoryorder':'min ascending'},yaxis=dict(type='log'))\n",
    "box.show()"
   ]
  },
  {
   "cell_type": "markdown",
   "metadata": {
    "id": "uT32ylj4WS9B"
   },
   "source": [
    "# How Much Can You Charge? Examine Paid App Pricing Strategies by Category\n",
    "\n",
    "**Challenge**: What is the median price price for a paid app? Then compare pricing by category by creating another box plot. But this time examine the prices (instead of the revenue estimates) of the paid apps. I recommend using `{categoryorder':'max descending'}` to sort the categories."
   ]
  },
  {
   "cell_type": "code",
   "execution_count": 532,
   "metadata": {
    "id": "AdBr0TUhouqs"
   },
   "outputs": [
    {
     "data": {
      "text/plain": [
       "np.float64(2.99)"
      ]
     },
     "execution_count": 532,
     "metadata": {},
     "output_type": "execute_result"
    }
   ],
   "source": [
    "df_paid.Price.median()"
   ]
  },
  {
   "cell_type": "code",
   "execution_count": 537,
   "metadata": {
    "id": "bJnABRw3ovwr"
   },
   "outputs": [
    {
     "data": {
      "application/vnd.plotly.v1+json": {
       "config": {
        "plotlyServerURL": "https://plot.ly"
       },
       "data": [
        {
         "alignmentgroup": "True",
         "hovertemplate": "Category=%{x}<br>Price=%{y}<extra></extra>",
         "legendgroup": "",
         "marker": {
          "color": "#636efa"
         },
         "name": "",
         "notched": false,
         "offsetgroup": "",
         "orientation": "v",
         "showlegend": false,
         "type": "box",
         "x": [
          "GAME",
          "GAME",
          "FAMILY",
          "BUSINESS",
          "LIFESTYLE",
          "FAMILY",
          "PERSONALIZATION",
          "PHOTOGRAPHY",
          "FAMILY",
          "GAME",
          "PRODUCTIVITY",
          "PHOTOGRAPHY",
          "FAMILY",
          "TOOLS",
          "TOOLS",
          "PERSONALIZATION",
          "FAMILY",
          "FAMILY",
          "FAMILY",
          "FAMILY",
          "GAME",
          "TOOLS",
          "PERSONALIZATION",
          "PERSONALIZATION",
          "PERSONALIZATION",
          "TOOLS",
          "FAMILY",
          "FAMILY",
          "BUSINESS",
          "BOOKS_AND_REFERENCE",
          "FAMILY",
          "FAMILY",
          "FAMILY",
          "PERSONALIZATION",
          "PERSONALIZATION",
          "PERSONALIZATION",
          "GAME",
          "PERSONALIZATION",
          "FAMILY",
          "FINANCE",
          "SHOPPING",
          "DATING",
          "PERSONALIZATION",
          "GAME",
          "FAMILY",
          "PRODUCTIVITY",
          "FAMILY",
          "MEDICAL",
          "SPORTS",
          "MEDICAL",
          "PRODUCTIVITY",
          "BUSINESS",
          "PARENTING",
          "LIFESTYLE",
          "FAMILY",
          "TOOLS",
          "MAPS_AND_NAVIGATION",
          "COMMUNICATION",
          "PERSONALIZATION",
          "COMMUNICATION",
          "FAMILY",
          "PERSONALIZATION",
          "FAMILY",
          "FAMILY",
          "FAMILY",
          "TOOLS",
          "FAMILY",
          "SPORTS",
          "FAMILY",
          "MEDICAL",
          "FAMILY",
          "FAMILY",
          "GAME",
          "TOOLS",
          "FAMILY",
          "FAMILY",
          "PERSONALIZATION",
          "BOOKS_AND_REFERENCE",
          "GAME",
          "PERSONALIZATION",
          "GAME",
          "GAME",
          "TOOLS",
          "MEDICAL",
          "TOOLS",
          "TOOLS",
          "PERSONALIZATION",
          "GAME",
          "COMMUNICATION",
          "MEDICAL",
          "SPORTS",
          "PERSONALIZATION",
          "COMMUNICATION",
          "COMMUNICATION",
          "PERSONALIZATION",
          "TOOLS",
          "PERSONALIZATION",
          "PERSONALIZATION",
          "PRODUCTIVITY",
          "MEDICAL",
          "FAMILY",
          "TOOLS",
          "TOOLS",
          "BUSINESS",
          "COMMUNICATION",
          "FAMILY",
          "PERSONALIZATION",
          "PHOTOGRAPHY",
          "MEDICAL",
          "PERSONALIZATION",
          "MEDICAL",
          "COMMUNICATION",
          "PRODUCTIVITY",
          "BOOKS_AND_REFERENCE",
          "TOOLS",
          "WEATHER",
          "FAMILY",
          "FAMILY",
          "MEDICAL",
          "FAMILY",
          "TOOLS",
          "TOOLS",
          "SPORTS",
          "GAME",
          "MEDICAL",
          "PERSONALIZATION",
          "PERSONALIZATION",
          "NEWS_AND_MAGAZINES",
          "COMMUNICATION",
          "TOOLS",
          "MEDICAL",
          "FINANCE",
          "FAMILY",
          "PERSONALIZATION",
          "PERSONALIZATION",
          "MEDICAL",
          "FAMILY",
          "MEDICAL",
          "MEDICAL",
          "FAMILY",
          "FAMILY",
          "FAMILY",
          "GAME",
          "PERSONALIZATION",
          "TOOLS",
          "PERSONALIZATION",
          "GAME",
          "GAME",
          "GAME",
          "FAMILY",
          "FAMILY",
          "PRODUCTIVITY",
          "COMMUNICATION",
          "SPORTS",
          "SPORTS",
          "FAMILY",
          "PERSONALIZATION",
          "MEDICAL",
          "SPORTS",
          "COMMUNICATION",
          "LIFESTYLE",
          "FAMILY",
          "MEDICAL",
          "MEDICAL",
          "TOOLS",
          "PRODUCTIVITY",
          "FINANCE",
          "HEALTH_AND_FITNESS",
          "MEDICAL",
          "PHOTOGRAPHY",
          "FAMILY",
          "FAMILY",
          "PHOTOGRAPHY",
          "SPORTS",
          "ART_AND_DESIGN",
          "FAMILY",
          "PERSONALIZATION",
          "PRODUCTIVITY",
          "HEALTH_AND_FITNESS",
          "MEDICAL",
          "TOOLS",
          "PRODUCTIVITY",
          "GAME",
          "TOOLS",
          "MEDICAL",
          "LIFESTYLE",
          "GAME",
          "MEDICAL",
          "TRAVEL_AND_LOCAL",
          "BUSINESS",
          "MEDICAL",
          "COMMUNICATION",
          "PERSONALIZATION",
          "GAME",
          "TRAVEL_AND_LOCAL",
          "GAME",
          "SPORTS",
          "MEDICAL",
          "FAMILY",
          "MEDICAL",
          "TOOLS",
          "BOOKS_AND_REFERENCE",
          "FAMILY",
          "MEDICAL",
          "MEDICAL",
          "GAME",
          "BUSINESS",
          "TOOLS",
          "FAMILY",
          "MEDICAL",
          "PERSONALIZATION",
          "PHOTOGRAPHY",
          "SPORTS",
          "MAPS_AND_NAVIGATION",
          "PERSONALIZATION",
          "GAME",
          "BOOKS_AND_REFERENCE",
          "EDUCATION",
          "FAMILY",
          "FAMILY",
          "SOCIAL",
          "MEDICAL",
          "TOOLS",
          "SPORTS",
          "FAMILY",
          "FAMILY",
          "TOOLS",
          "WEATHER",
          "VIDEO_PLAYERS",
          "MEDICAL",
          "TOOLS",
          "GAME",
          "PERSONALIZATION",
          "MEDICAL",
          "LIFESTYLE",
          "MEDICAL",
          "DATING",
          "HEALTH_AND_FITNESS",
          "MEDICAL",
          "FAMILY",
          "PRODUCTIVITY",
          "EDUCATION",
          "SPORTS",
          "FAMILY",
          "PERSONALIZATION",
          "PERSONALIZATION",
          "FAMILY",
          "GAME",
          "FINANCE",
          "GAME",
          "MEDICAL",
          "FAMILY",
          "MEDICAL",
          "MEDICAL",
          "TOOLS",
          "TOOLS",
          "TOOLS",
          "TOOLS",
          "PERSONALIZATION",
          "PERSONALIZATION",
          "PERSONALIZATION",
          "PERSONALIZATION",
          "FAMILY",
          "GAME",
          "FAMILY",
          "FAMILY",
          "MEDICAL",
          "SPORTS",
          "LIFESTYLE",
          "FAMILY",
          "FAMILY",
          "TRAVEL_AND_LOCAL",
          "PERSONALIZATION",
          "BOOKS_AND_REFERENCE",
          "FAMILY",
          "MEDICAL",
          "MEDICAL",
          "MEDICAL",
          "MEDICAL",
          "PRODUCTIVITY",
          "SOCIAL",
          "SPORTS",
          "TRAVEL_AND_LOCAL",
          "TOOLS",
          "FAMILY",
          "NEWS_AND_MAGAZINES",
          "ART_AND_DESIGN",
          "GAME",
          "PERSONALIZATION",
          "LIFESTYLE",
          "PERSONALIZATION",
          "LIFESTYLE",
          "MEDICAL",
          "FAMILY",
          "FAMILY",
          "BOOKS_AND_REFERENCE",
          "LIFESTYLE",
          "MEDICAL",
          "MEDICAL",
          "TOOLS",
          "SPORTS",
          "MEDICAL",
          "PHOTOGRAPHY",
          "GAME",
          "SPORTS",
          "FAMILY",
          "SPORTS",
          "TOOLS",
          "LIFESTYLE",
          "FAMILY",
          "COMMUNICATION",
          "COMMUNICATION",
          "COMMUNICATION",
          "FAMILY",
          "FAMILY",
          "TOOLS",
          "MEDICAL",
          "TOOLS",
          "TOOLS",
          "TOOLS",
          "TOOLS",
          "TOOLS",
          "TOOLS",
          "PERSONALIZATION",
          "FAMILY",
          "MEDICAL",
          "MEDICAL",
          "MEDICAL",
          "HEALTH_AND_FITNESS",
          "GAME",
          "FAMILY",
          "FAMILY",
          "PHOTOGRAPHY",
          "PERSONALIZATION",
          "LIFESTYLE",
          "GAME",
          "FAMILY",
          "MEDICAL",
          "FAMILY",
          "BUSINESS",
          "GAME",
          "FAMILY",
          "MEDICAL",
          "FAMILY",
          "MAPS_AND_NAVIGATION",
          "BOOKS_AND_REFERENCE",
          "GAME",
          "PERSONALIZATION",
          "PERSONALIZATION",
          "COMMUNICATION",
          "DATING",
          "FOOD_AND_DRINK",
          "LIFESTYLE",
          "FAMILY",
          "FAMILY",
          "MEDICAL",
          "TRAVEL_AND_LOCAL",
          "TOOLS",
          "TOOLS",
          "TOOLS",
          "PERSONALIZATION",
          "VIDEO_PLAYERS",
          "VIDEO_PLAYERS",
          "GAME",
          "FAMILY",
          "FAMILY",
          "FAMILY",
          "FAMILY",
          "PERSONALIZATION",
          "WEATHER",
          "TOOLS",
          "PERSONALIZATION",
          "TOOLS",
          "ART_AND_DESIGN",
          "PERSONALIZATION",
          "PERSONALIZATION",
          "MEDICAL",
          "TOOLS",
          "FAMILY",
          "FINANCE",
          "TOOLS",
          "GAME",
          "FAMILY",
          "FAMILY",
          "TOOLS",
          "TOOLS",
          "GAME",
          "TOOLS",
          "HEALTH_AND_FITNESS",
          "GAME",
          "MEDICAL",
          "COMMUNICATION",
          "FAMILY",
          "GAME",
          "FAMILY",
          "MEDICAL",
          "PERSONALIZATION",
          "FAMILY",
          "SPORTS",
          "FAMILY",
          "TRAVEL_AND_LOCAL",
          "TOOLS",
          "SHOPPING",
          "TOOLS",
          "FAMILY",
          "FAMILY",
          "FAMILY",
          "FAMILY",
          "FAMILY",
          "FAMILY",
          "GAME",
          "MAPS_AND_NAVIGATION",
          "PERSONALIZATION",
          "GAME",
          "FAMILY",
          "FAMILY",
          "FINANCE",
          "TOOLS",
          "TOOLS",
          "FAMILY",
          "FAMILY",
          "MEDICAL",
          "GAME",
          "FAMILY",
          "COMMUNICATION",
          "COMMUNICATION",
          "FAMILY",
          "FAMILY",
          "MEDICAL",
          "MEDICAL",
          "MEDICAL",
          "PHOTOGRAPHY",
          "TOOLS",
          "TOOLS",
          "PERSONALIZATION",
          "PERSONALIZATION",
          "FAMILY",
          "GAME",
          "SPORTS",
          "MEDICAL",
          "GAME",
          "FAMILY",
          "AUTO_AND_VEHICLES",
          "HEALTH_AND_FITNESS",
          "FAMILY",
          "FAMILY",
          "MEDICAL",
          "PHOTOGRAPHY",
          "SPORTS",
          "TOOLS",
          "VIDEO_PLAYERS",
          "FAMILY",
          "FAMILY",
          "PRODUCTIVITY",
          "PERSONALIZATION",
          "PRODUCTIVITY",
          "PERSONALIZATION",
          "FAMILY",
          "FAMILY",
          "GAME",
          "MEDICAL",
          "FAMILY",
          "FAMILY",
          "FOOD_AND_DRINK",
          "FAMILY",
          "FAMILY",
          "FAMILY",
          "TOOLS",
          "HEALTH_AND_FITNESS",
          "PARENTING",
          "FAMILY",
          "GAME",
          "HEALTH_AND_FITNESS",
          "TRAVEL_AND_LOCAL",
          "GAME",
          "WEATHER",
          "FAMILY",
          "MEDICAL",
          "GAME",
          "GAME",
          "MEDICAL",
          "PERSONALIZATION",
          "FAMILY",
          "FAMILY",
          "FAMILY",
          "FAMILY",
          "GAME",
          "PHOTOGRAPHY",
          "FAMILY",
          "BUSINESS",
          "FAMILY",
          "GAME",
          "FAMILY",
          "FAMILY",
          "WEATHER",
          "EDUCATION",
          "COMMUNICATION",
          "ENTERTAINMENT",
          "HEALTH_AND_FITNESS",
          "HEALTH_AND_FITNESS",
          "GAME",
          "GAME",
          "FAMILY",
          "FAMILY",
          "FAMILY",
          "PHOTOGRAPHY",
          "SPORTS",
          "TRAVEL_AND_LOCAL",
          "TOOLS",
          "TOOLS",
          "PERSONALIZATION",
          "PERSONALIZATION",
          "PRODUCTIVITY",
          "PRODUCTIVITY",
          "MAPS_AND_NAVIGATION",
          "GAME",
          "GAME",
          "PRODUCTIVITY",
          "TOOLS",
          "WEATHER",
          "FAMILY",
          "GAME",
          "FAMILY",
          "GAME",
          "TOOLS",
          "GAME",
          "FAMILY",
          "FAMILY",
          "HEALTH_AND_FITNESS",
          "FAMILY",
          "GAME",
          "FAMILY",
          "PERSONALIZATION",
          "BUSINESS",
          "FINANCE",
          "FAMILY",
          "PHOTOGRAPHY",
          "GAME",
          "FAMILY",
          "FAMILY",
          "FAMILY",
          "FAMILY",
          "GAME",
          "FAMILY",
          "GAME",
          "COMMUNICATION",
          "FAMILY",
          "ENTERTAINMENT",
          "COMMUNICATION",
          "GAME",
          "GAME",
          "GAME",
          "GAME",
          "GAME",
          "GAME",
          "PERSONALIZATION",
          "FAMILY",
          "PERSONALIZATION",
          "FAMILY",
          "EDUCATION",
          "WEATHER",
          "PHOTOGRAPHY",
          "PRODUCTIVITY",
          "GAME",
          "FAMILY",
          "FAMILY",
          "PRODUCTIVITY",
          "PERSONALIZATION",
          "GAME",
          "GAME",
          "FAMILY",
          "COMMUNICATION",
          "TOOLS",
          "GAME",
          "PERSONALIZATION",
          "PHOTOGRAPHY",
          "SPORTS",
          "GAME",
          "FAMILY",
          "GAME",
          "GAME",
          "FAMILY",
          "GAME",
          "FAMILY",
          "GAME",
          "LIFESTYLE",
          "FAMILY",
          "GAME",
          "FAMILY"
         ],
         "x0": " ",
         "xaxis": "x",
         "y": {
          "bdata": "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",
          "dtype": "f8"
         },
         "y0": " ",
         "yaxis": "y"
        }
       ],
       "layout": {
        "boxmode": "group",
        "legend": {
         "tracegroupgap": 0
        },
        "template": {
         "data": {
          "bar": [
           {
            "error_x": {
             "color": "#2a3f5f"
            },
            "error_y": {
             "color": "#2a3f5f"
            },
            "marker": {
             "line": {
              "color": "#E5ECF6",
              "width": 0.5
             },
             "pattern": {
              "fillmode": "overlay",
              "size": 10,
              "solidity": 0.2
             }
            },
            "type": "bar"
           }
          ],
          "barpolar": [
           {
            "marker": {
             "line": {
              "color": "#E5ECF6",
              "width": 0.5
             },
             "pattern": {
              "fillmode": "overlay",
              "size": 10,
              "solidity": 0.2
             }
            },
            "type": "barpolar"
           }
          ],
          "carpet": [
           {
            "aaxis": {
             "endlinecolor": "#2a3f5f",
             "gridcolor": "white",
             "linecolor": "white",
             "minorgridcolor": "white",
             "startlinecolor": "#2a3f5f"
            },
            "baxis": {
             "endlinecolor": "#2a3f5f",
             "gridcolor": "white",
             "linecolor": "white",
             "minorgridcolor": "white",
             "startlinecolor": "#2a3f5f"
            },
            "type": "carpet"
           }
          ],
          "choropleth": [
           {
            "colorbar": {
             "outlinewidth": 0,
             "ticks": ""
            },
            "type": "choropleth"
           }
          ],
          "contour": [
           {
            "colorbar": {
             "outlinewidth": 0,
             "ticks": ""
            },
            "colorscale": [
             [
              0,
              "#0d0887"
             ],
             [
              0.1111111111111111,
              "#46039f"
             ],
             [
              0.2222222222222222,
              "#7201a8"
             ],
             [
              0.3333333333333333,
              "#9c179e"
             ],
             [
              0.4444444444444444,
              "#bd3786"
             ],
             [
              0.5555555555555556,
              "#d8576b"
             ],
             [
              0.6666666666666666,
              "#ed7953"
             ],
             [
              0.7777777777777778,
              "#fb9f3a"
             ],
             [
              0.8888888888888888,
              "#fdca26"
             ],
             [
              1,
              "#f0f921"
             ]
            ],
            "type": "contour"
           }
          ],
          "contourcarpet": [
           {
            "colorbar": {
             "outlinewidth": 0,
             "ticks": ""
            },
            "type": "contourcarpet"
           }
          ],
          "heatmap": [
           {
            "colorbar": {
             "outlinewidth": 0,
             "ticks": ""
            },
            "colorscale": [
             [
              0,
              "#0d0887"
             ],
             [
              0.1111111111111111,
              "#46039f"
             ],
             [
              0.2222222222222222,
              "#7201a8"
             ],
             [
              0.3333333333333333,
              "#9c179e"
             ],
             [
              0.4444444444444444,
              "#bd3786"
             ],
             [
              0.5555555555555556,
              "#d8576b"
             ],
             [
              0.6666666666666666,
              "#ed7953"
             ],
             [
              0.7777777777777778,
              "#fb9f3a"
             ],
             [
              0.8888888888888888,
              "#fdca26"
             ],
             [
              1,
              "#f0f921"
             ]
            ],
            "type": "heatmap"
           }
          ],
          "histogram": [
           {
            "marker": {
             "pattern": {
              "fillmode": "overlay",
              "size": 10,
              "solidity": 0.2
             }
            },
            "type": "histogram"
           }
          ],
          "histogram2d": [
           {
            "colorbar": {
             "outlinewidth": 0,
             "ticks": ""
            },
            "colorscale": [
             [
              0,
              "#0d0887"
             ],
             [
              0.1111111111111111,
              "#46039f"
             ],
             [
              0.2222222222222222,
              "#7201a8"
             ],
             [
              0.3333333333333333,
              "#9c179e"
             ],
             [
              0.4444444444444444,
              "#bd3786"
             ],
             [
              0.5555555555555556,
              "#d8576b"
             ],
             [
              0.6666666666666666,
              "#ed7953"
             ],
             [
              0.7777777777777778,
              "#fb9f3a"
             ],
             [
              0.8888888888888888,
              "#fdca26"
             ],
             [
              1,
              "#f0f921"
             ]
            ],
            "type": "histogram2d"
           }
          ],
          "histogram2dcontour": [
           {
            "colorbar": {
             "outlinewidth": 0,
             "ticks": ""
            },
            "colorscale": [
             [
              0,
              "#0d0887"
             ],
             [
              0.1111111111111111,
              "#46039f"
             ],
             [
              0.2222222222222222,
              "#7201a8"
             ],
             [
              0.3333333333333333,
              "#9c179e"
             ],
             [
              0.4444444444444444,
              "#bd3786"
             ],
             [
              0.5555555555555556,
              "#d8576b"
             ],
             [
              0.6666666666666666,
              "#ed7953"
             ],
             [
              0.7777777777777778,
              "#fb9f3a"
             ],
             [
              0.8888888888888888,
              "#fdca26"
             ],
             [
              1,
              "#f0f921"
             ]
            ],
            "type": "histogram2dcontour"
           }
          ],
          "mesh3d": [
           {
            "colorbar": {
             "outlinewidth": 0,
             "ticks": ""
            },
            "type": "mesh3d"
           }
          ],
          "parcoords": [
           {
            "line": {
             "colorbar": {
              "outlinewidth": 0,
              "ticks": ""
             }
            },
            "type": "parcoords"
           }
          ],
          "pie": [
           {
            "automargin": true,
            "type": "pie"
           }
          ],
          "scatter": [
           {
            "fillpattern": {
             "fillmode": "overlay",
             "size": 10,
             "solidity": 0.2
            },
            "type": "scatter"
           }
          ],
          "scatter3d": [
           {
            "line": {
             "colorbar": {
              "outlinewidth": 0,
              "ticks": ""
             }
            },
            "marker": {
             "colorbar": {
              "outlinewidth": 0,
              "ticks": ""
             }
            },
            "type": "scatter3d"
           }
          ],
          "scattercarpet": [
           {
            "marker": {
             "colorbar": {
              "outlinewidth": 0,
              "ticks": ""
             }
            },
            "type": "scattercarpet"
           }
          ],
          "scattergeo": [
           {
            "marker": {
             "colorbar": {
              "outlinewidth": 0,
              "ticks": ""
             }
            },
            "type": "scattergeo"
           }
          ],
          "scattergl": [
           {
            "marker": {
             "colorbar": {
              "outlinewidth": 0,
              "ticks": ""
             }
            },
            "type": "scattergl"
           }
          ],
          "scattermap": [
           {
            "marker": {
             "colorbar": {
              "outlinewidth": 0,
              "ticks": ""
             }
            },
            "type": "scattermap"
           }
          ],
          "scattermapbox": [
           {
            "marker": {
             "colorbar": {
              "outlinewidth": 0,
              "ticks": ""
             }
            },
            "type": "scattermapbox"
           }
          ],
          "scatterpolar": [
           {
            "marker": {
             "colorbar": {
              "outlinewidth": 0,
              "ticks": ""
             }
            },
            "type": "scatterpolar"
           }
          ],
          "scatterpolargl": [
           {
            "marker": {
             "colorbar": {
              "outlinewidth": 0,
              "ticks": ""
             }
            },
            "type": "scatterpolargl"
           }
          ],
          "scatterternary": [
           {
            "marker": {
             "colorbar": {
              "outlinewidth": 0,
              "ticks": ""
             }
            },
            "type": "scatterternary"
           }
          ],
          "surface": [
           {
            "colorbar": {
             "outlinewidth": 0,
             "ticks": ""
            },
            "colorscale": [
             [
              0,
              "#0d0887"
             ],
             [
              0.1111111111111111,
              "#46039f"
             ],
             [
              0.2222222222222222,
              "#7201a8"
             ],
             [
              0.3333333333333333,
              "#9c179e"
             ],
             [
              0.4444444444444444,
              "#bd3786"
             ],
             [
              0.5555555555555556,
              "#d8576b"
             ],
             [
              0.6666666666666666,
              "#ed7953"
             ],
             [
              0.7777777777777778,
              "#fb9f3a"
             ],
             [
              0.8888888888888888,
              "#fdca26"
             ],
             [
              1,
              "#f0f921"
             ]
            ],
            "type": "surface"
           }
          ],
          "table": [
           {
            "cells": {
             "fill": {
              "color": "#EBF0F8"
             },
             "line": {
              "color": "white"
             }
            },
            "header": {
             "fill": {
              "color": "#C8D4E3"
             },
             "line": {
              "color": "white"
             }
            },
            "type": "table"
           }
          ]
         },
         "layout": {
          "annotationdefaults": {
           "arrowcolor": "#2a3f5f",
           "arrowhead": 0,
           "arrowwidth": 1
          },
          "autotypenumbers": "strict",
          "coloraxis": {
           "colorbar": {
            "outlinewidth": 0,
            "ticks": ""
           }
          },
          "colorscale": {
           "diverging": [
            [
             0,
             "#8e0152"
            ],
            [
             0.1,
             "#c51b7d"
            ],
            [
             0.2,
             "#de77ae"
            ],
            [
             0.3,
             "#f1b6da"
            ],
            [
             0.4,
             "#fde0ef"
            ],
            [
             0.5,
             "#f7f7f7"
            ],
            [
             0.6,
             "#e6f5d0"
            ],
            [
             0.7,
             "#b8e186"
            ],
            [
             0.8,
             "#7fbc41"
            ],
            [
             0.9,
             "#4d9221"
            ],
            [
             1,
             "#276419"
            ]
           ],
           "sequential": [
            [
             0,
             "#0d0887"
            ],
            [
             0.1111111111111111,
             "#46039f"
            ],
            [
             0.2222222222222222,
             "#7201a8"
            ],
            [
             0.3333333333333333,
             "#9c179e"
            ],
            [
             0.4444444444444444,
             "#bd3786"
            ],
            [
             0.5555555555555556,
             "#d8576b"
            ],
            [
             0.6666666666666666,
             "#ed7953"
            ],
            [
             0.7777777777777778,
             "#fb9f3a"
            ],
            [
             0.8888888888888888,
             "#fdca26"
            ],
            [
             1,
             "#f0f921"
            ]
           ],
           "sequentialminus": [
            [
             0,
             "#0d0887"
            ],
            [
             0.1111111111111111,
             "#46039f"
            ],
            [
             0.2222222222222222,
             "#7201a8"
            ],
            [
             0.3333333333333333,
             "#9c179e"
            ],
            [
             0.4444444444444444,
             "#bd3786"
            ],
            [
             0.5555555555555556,
             "#d8576b"
            ],
            [
             0.6666666666666666,
             "#ed7953"
            ],
            [
             0.7777777777777778,
             "#fb9f3a"
            ],
            [
             0.8888888888888888,
             "#fdca26"
            ],
            [
             1,
             "#f0f921"
            ]
           ]
          },
          "colorway": [
           "#636efa",
           "#EF553B",
           "#00cc96",
           "#ab63fa",
           "#FFA15A",
           "#19d3f3",
           "#FF6692",
           "#B6E880",
           "#FF97FF",
           "#FECB52"
          ],
          "font": {
           "color": "#2a3f5f"
          },
          "geo": {
           "bgcolor": "white",
           "lakecolor": "white",
           "landcolor": "#E5ECF6",
           "showlakes": true,
           "showland": true,
           "subunitcolor": "white"
          },
          "hoverlabel": {
           "align": "left"
          },
          "hovermode": "closest",
          "mapbox": {
           "style": "light"
          },
          "paper_bgcolor": "white",
          "plot_bgcolor": "#E5ECF6",
          "polar": {
           "angularaxis": {
            "gridcolor": "white",
            "linecolor": "white",
            "ticks": ""
           },
           "bgcolor": "#E5ECF6",
           "radialaxis": {
            "gridcolor": "white",
            "linecolor": "white",
            "ticks": ""
           }
          },
          "scene": {
           "xaxis": {
            "backgroundcolor": "#E5ECF6",
            "gridcolor": "white",
            "gridwidth": 2,
            "linecolor": "white",
            "showbackground": true,
            "ticks": "",
            "zerolinecolor": "white"
           },
           "yaxis": {
            "backgroundcolor": "#E5ECF6",
            "gridcolor": "white",
            "gridwidth": 2,
            "linecolor": "white",
            "showbackground": true,
            "ticks": "",
            "zerolinecolor": "white"
           },
           "zaxis": {
            "backgroundcolor": "#E5ECF6",
            "gridcolor": "white",
            "gridwidth": 2,
            "linecolor": "white",
            "showbackground": true,
            "ticks": "",
            "zerolinecolor": "white"
           }
          },
          "shapedefaults": {
           "line": {
            "color": "#2a3f5f"
           }
          },
          "ternary": {
           "aaxis": {
            "gridcolor": "white",
            "linecolor": "white",
            "ticks": ""
           },
           "baxis": {
            "gridcolor": "white",
            "linecolor": "white",
            "ticks": ""
           },
           "bgcolor": "#E5ECF6",
           "caxis": {
            "gridcolor": "white",
            "linecolor": "white",
            "ticks": ""
           }
          },
          "title": {
           "x": 0.05
          },
          "xaxis": {
           "automargin": true,
           "gridcolor": "white",
           "linecolor": "white",
           "ticks": "",
           "title": {
            "standoff": 15
           },
           "zerolinecolor": "white",
           "zerolinewidth": 2
          },
          "yaxis": {
           "automargin": true,
           "gridcolor": "white",
           "linecolor": "white",
           "ticks": "",
           "title": {
            "standoff": 15
           },
           "zerolinecolor": "white",
           "zerolinewidth": 2
          }
         }
        },
        "title": {
         "text": "Price Per Category"
        },
        "xaxis": {
         "anchor": "y",
         "categoryorder": "max descending",
         "domain": [
          0,
          1
         ],
         "title": {
          "text": "Category"
         }
        },
        "yaxis": {
         "anchor": "x",
         "domain": [
          0,
          1
         ],
         "title": {
          "text": "App Paid Price"
         },
         "type": "log"
        }
       }
      }
     },
     "metadata": {},
     "output_type": "display_data"
    }
   ],
   "source": [
    "box = px.box(df_paid,x='Category',y='Price',title='Price Per Category')\n",
    "box.update_layout(xaxis_title= 'Category', yaxis_title='App Paid Price',xaxis={'categoryorder':'max descending'}, yaxis=dict(type='log') )\n",
    "box.show()"
   ]
  }
 ],
 "metadata": {
  "colab": {
   "name": "Google Play Store App Analytics (start).ipynb",
   "provenance": [],
   "toc_visible": true
  },
  "kernelspec": {
   "display_name": "venv",
   "language": "python",
   "name": "python3"
  },
  "language_info": {
   "codemirror_mode": {
    "name": "ipython",
    "version": 3
   },
   "file_extension": ".py",
   "mimetype": "text/x-python",
   "name": "python",
   "nbconvert_exporter": "python",
   "pygments_lexer": "ipython3",
   "version": "3.10.7"
  }
 },
 "nbformat": 4,
 "nbformat_minor": 0
}
